{
 "cells": [
  {
   "cell_type": "markdown",
   "metadata": {},
   "source": [
    "# Skeleton Analysis\n",
    " - This notebook can only be used after MK_Analysis has concluded.\n",
    " \n",
    "- This notebook models the nodes and lengths of proplatelet skeletons (refer to BranchPointImages) produced from the Mouse_MK CP pipeline. Using networkx, the edges & vertices are graphed to visualize and measure protrusions.\n",
    "\n"
   ]
  },
  {
   "cell_type": "code",
   "execution_count": 896,
   "metadata": {
    "collapsed": true
   },
   "outputs": [],
   "source": [
    "%matplotlib inline\n",
    "import os\n",
    "import os.path\n",
    "import pandas as pd\n",
    "import matplotlib.pyplot as plt\n",
    "import networkx as nx\n",
    "import numpy as np\n",
    "# from tkinter.filedialog import askdirectory"
   ]
  },
  {
   "cell_type": "markdown",
   "metadata": {},
   "source": []
  },
  {
   "cell_type": "code",
   "execution_count": null,
   "metadata": {
    "collapsed": true
   },
   "outputs": [],
   "source": [
    "# image_directory = C:\\Users\\Prakrith\\Desktop\\skt"
   ]
  },
  {
   "cell_type": "code",
   "execution_count": null,
   "metadata": {
    "collapsed": true
   },
   "outputs": [],
   "source": [
    "# path_to_cellprofiler = r\"C:\\Program Files (x86)\\CellProfiler\\CellProfiler.exe\"\n",
    "# path_to_cp_pipeline = r\"C:\\Users\\Prakrith\\Documents\\GitHub\\Test\\pipelines\\180311_MouseMK_Skel.cppipe\""
   ]
  },
  {
   "cell_type": "code",
   "execution_count": null,
   "metadata": {
    "collapsed": true
   },
   "outputs": [],
   "source": [
    "# imdir_single = os.path.join(image_directory,\"single_images\")\n",
    "# single_list = glob.glob(os.path.join(imdir_single,\"*.tif\"))\n",
    "# imdir_ilastik = os.path.join(image_directory,\"ilastik\")\n",
    "# ilastik_list = glob.glob(os.path.join(imdir_ilastik,\"*.png\"))\n",
    "# output_directory = os.path.join(image_directory,\"output\") #label folder is nested in output\n",
    "# imdir_label = os.path.join(output_directory,\"labels\")\n",
    "# label_list = glob.glob(os.path.join(imdir_label,\"*.tif\"))"
   ]
  },
  {
   "cell_type": "code",
   "execution_count": null,
   "metadata": {
    "collapsed": true
   },
   "outputs": [],
   "source": [
    "# big_list = single_list + ilastik_list + label_list\n",
    "# with open(os.path.join(image_directory,\"filelist2.txt\"), 'w') as f:\n",
    "#     for item in big_list:\n",
    "#         f.write(\"{}\\n\".format(item))"
   ]
  },
  {
   "cell_type": "code",
   "execution_count": null,
   "metadata": {
    "collapsed": true
   },
   "outputs": [],
   "source": [
    "# os.makedirs(os.path.join(image_directory, \"skeleton\")), exist_ok=True)\n",
    "# skeleton_directory = os.path.join(image_directory,\"skeleton\")"
   ]
  },
  {
   "cell_type": "code",
   "execution_count": null,
   "metadata": {
    "collapsed": true
   },
   "outputs": [],
   "source": [
    "# process = subprocess.Popen([path_to_cellprofiler,\n",
    "#                   \"--run-headless\",\n",
    "#                   \"--pipeline={}\".format(path_to_cp_pipeline),\n",
    "#                   \"--file-list={}\".format(os.path.join(image_directory,\"filelist2.txt\")),\n",
    "#                   \"--image-directory={}\".format(image_directory),\n",
    "#                   \"--output-directory={}\".format(skeleton_directory)\n",
    "#                  ], stdout=subprocess.PIPE, stderr=subprocess.PIPE, shell=True)\n",
    "\n",
    "# out, err = process.communicate()"
   ]
  },
  {
   "cell_type": "code",
   "execution_count": 1188,
   "metadata": {},
   "outputs": [],
   "source": [
    "vertices_csv = open(os.path.join(skeleton_directory,r'vertices.csv'));\n",
    "df = pd.read_csv(vertices_csv);\n",
    "df.columns = ['image_number', 'vertex_number','y','x','labels','kind'];\n",
    "cols = ['image_number', 'vertex_number', 'x','y','labels', 'kind']\n",
    "df = df[cols]\n",
    "df.to_csv(os.path.join(skeleton_directory,r'vert.csv'));\n",
    "vert_csv = open(os.path.join(skeleton_directory,r'vert.csv'));\n",
    "header = [\"vertex_number\",\"x\",\"y\",\"image_number\",'labels']; \n",
    "v_df = pd.read_csv(vert_csv,usecols=header);"
   ]
  },
  {
   "cell_type": "code",
   "execution_count": 1167,
   "metadata": {},
   "outputs": [],
   "source": [
    "# def node_find(vert,i):\n",
    "#     slc = vert[vert['image_number'] == i];\n",
    "#     slc = slc.drop(columns=['image_number']);\n",
    "#     nodes = slc.set_index('vertex_number').T.to_dict('list');\n",
    "#     return nodes; #takes all nodes from vert and converts to dict of lists"
   ]
  },
  {
   "cell_type": "code",
   "execution_count": 1182,
   "metadata": {
    "collapsed": true
   },
   "outputs": [],
   "source": [
    "nodes = node_find(v_df,i)"
   ]
  },
  {
   "cell_type": "code",
   "execution_count": 1190,
   "metadata": {},
   "outputs": [],
   "source": [
    "nodes = node_find2(v_df,i,l)"
   ]
  },
  {
   "cell_type": "code",
   "execution_count": 1192,
   "metadata": {},
   "outputs": [
    {
     "data": {
      "text/plain": [
       "{1: [1004, 312], 2: [1001, 315], 3: [999, 317], 5: [995, 321]}"
      ]
     },
     "execution_count": 1192,
     "metadata": {},
     "output_type": "execute_result"
    }
   ],
   "source": []
  },
  {
   "cell_type": "code",
   "execution_count": null,
   "metadata": {
    "collapsed": true
   },
   "outputs": [],
   "source": [
    "# G = DiGraph()\n",
    "# nodes = csv.DictReader(open(nodeFile, 'rU'), ['index', 'label', 'type'])\n",
    "# for row in nodes:\n",
    "#     G.add_node(row['index'], {'index':row['index'], 'label':row['label'], 'type':row['type']})\n",
    "# edges = csv.DictReader(open(edgeFile, 'rU'), ['v1', 'v2', 'weight'])\n",
    "# for row in edges:\n",
    "#     G.add_edge(row['v1'], row['v2'], row[weight'])"
   ]
  },
  {
   "cell_type": "code",
   "execution_count": 1187,
   "metadata": {},
   "outputs": [],
   "source": [
    "def node_find2(vert,i,l):\n",
    "    slc = vert[vert['image_number'] == i]\n",
    "    slc2 = slc[slc['labels'] == l];\n",
    "    slc2 = slc2.drop(columns=['image_number','labels']);\n",
    "    nodes = slc2.set_index('vertex_number').T.to_dict('list');\n",
    "    return nodes; #takes nodes from specific proplatelet struct within specific img, return as dict of list"
   ]
  },
  {
   "cell_type": "code",
   "execution_count": 1161,
   "metadata": {
    "collapsed": true
   },
   "outputs": [],
   "source": [
    "G = nx.Graph();"
   ]
  },
  {
   "cell_type": "code",
   "execution_count": null,
   "metadata": {
    "collapsed": true
   },
   "outputs": [],
   "source": []
  },
  {
   "cell_type": "code",
   "execution_count": null,
   "metadata": {
    "collapsed": true
   },
   "outputs": [],
   "source": []
  },
  {
   "cell_type": "code",
   "execution_count": null,
   "metadata": {
    "collapsed": true
   },
   "outputs": [],
   "source": []
  },
  {
   "cell_type": "code",
   "execution_count": 1191,
   "metadata": {},
   "outputs": [
    {
     "data": {
      "image/png": "[encoded data removed]",
      "text/plain": [
       "<Figure size 432x288 with 1 Axes>"
      ]
     },
     "metadata": {},
     "output_type": "display_data"
    }
   ],
   "source": [
    "H = nx.path_graph(nodes)\n",
    "nx.draw(H)\n",
    "plt.show()"
   ]
  },
  {
   "cell_type": "code",
   "execution_count": null,
   "metadata": {
    "collapsed": true
   },
   "outputs": [],
   "source": [
    "edges_csv = open(os.path.join(skeleton_directory,r'edges.csv'));\n",
    "e_df = pd.read_csv(edge_csv)"
   ]
  },
  {
   "cell_type": "code",
   "execution_count": null,
   "metadata": {
    "collapsed": true
   },
   "outputs": [],
   "source": [
    "def edge_find(edge,i):\n",
    "    slc = edge[edge['image_number'] == i];\n",
    "    slc = slc.drop(columns=['image_number','total_intensity']);\n",
    "#     edges = slc.set_index('vertex_number').T.to_dict('list');\n",
    "    return edges;"
   ]
  },
  {
   "cell_type": "code",
   "execution_count": 1145,
   "metadata": {
    "collapsed": true
   },
   "outputs": [],
   "source": [
    "my_dpi=120"
   ]
  },
  {
   "cell_type": "code",
   "execution_count": 1160,
   "metadata": {},
   "outputs": [
    {
     "data": {
      "text/plain": [
       "<Figure size 1280x1024 with 0 Axes>"
      ]
     },
     "metadata": {},
     "output_type": "display_data"
    }
   ],
   "source": [
    "fig = plt.figure(frameon=False)\n",
    "fig.set_size_inches(17.77777,14.2222)"
   ]
  },
  {
   "cell_type": "code",
   "execution_count": 1149,
   "metadata": {},
   "outputs": [
    {
     "data": {
      "text/plain": [
       "<Figure size 1280x1024 with 0 Axes>"
      ]
     },
     "execution_count": 1149,
     "metadata": {},
     "output_type": "execute_result"
    }
   ],
   "source": [
    "o"
   ]
  },
  {
   "cell_type": "code",
   "execution_count": 1144,
   "metadata": {},
   "outputs": [
    {
     "data": {
      "text/html": [
       "<div>\n",
       "<style scoped>\n",
       "    .dataframe tbody tr th:only-of-type {\n",
       "        vertical-align: middle;\n",
       "    }\n",
       "\n",
       "    .dataframe tbody tr th {\n",
       "        vertical-align: top;\n",
       "    }\n",
       "\n",
       "    .dataframe thead th {\n",
       "        text-align: right;\n",
       "    }\n",
       "</style>\n",
       "<table border=\"1\" class=\"dataframe\">\n",
       "  <thead>\n",
       "    <tr style=\"text-align: right;\">\n",
       "      <th></th>\n",
       "      <th>image_number</th>\n",
       "      <th>v1</th>\n",
       "      <th>v2</th>\n",
       "      <th>length</th>\n",
       "      <th>total_intensity</th>\n",
       "    </tr>\n",
       "  </thead>\n",
       "  <tbody>\n",
       "    <tr>\n",
       "      <th>0</th>\n",
       "      <td>1</td>\n",
       "      <td>1</td>\n",
       "      <td>2</td>\n",
       "      <td>4</td>\n",
       "      <td>2.79</td>\n",
       "    </tr>\n",
       "    <tr>\n",
       "      <th>1</th>\n",
       "      <td>1</td>\n",
       "      <td>3</td>\n",
       "      <td>5</td>\n",
       "      <td>6</td>\n",
       "      <td>3.35</td>\n",
       "    </tr>\n",
       "    <tr>\n",
       "      <th>2</th>\n",
       "      <td>1</td>\n",
       "      <td>6</td>\n",
       "      <td>7</td>\n",
       "      <td>5</td>\n",
       "      <td>1.94</td>\n",
       "    </tr>\n",
       "    <tr>\n",
       "      <th>3</th>\n",
       "      <td>1</td>\n",
       "      <td>4</td>\n",
       "      <td>8</td>\n",
       "      <td>5</td>\n",
       "      <td>2.43</td>\n",
       "    </tr>\n",
       "    <tr>\n",
       "      <th>4</th>\n",
       "      <td>1</td>\n",
       "      <td>7</td>\n",
       "      <td>8</td>\n",
       "      <td>3</td>\n",
       "      <td>1.10</td>\n",
       "    </tr>\n",
       "    <tr>\n",
       "      <th>5</th>\n",
       "      <td>1</td>\n",
       "      <td>8</td>\n",
       "      <td>10</td>\n",
       "      <td>8</td>\n",
       "      <td>4.94</td>\n",
       "    </tr>\n",
       "    <tr>\n",
       "      <th>6</th>\n",
       "      <td>1</td>\n",
       "      <td>6</td>\n",
       "      <td>11</td>\n",
       "      <td>12</td>\n",
       "      <td>4.61</td>\n",
       "    </tr>\n",
       "    <tr>\n",
       "      <th>7</th>\n",
       "      <td>1</td>\n",
       "      <td>11</td>\n",
       "      <td>12</td>\n",
       "      <td>3</td>\n",
       "      <td>0.92</td>\n",
       "    </tr>\n",
       "    <tr>\n",
       "      <th>8</th>\n",
       "      <td>1</td>\n",
       "      <td>10</td>\n",
       "      <td>13</td>\n",
       "      <td>6</td>\n",
       "      <td>2.64</td>\n",
       "    </tr>\n",
       "    <tr>\n",
       "      <th>9</th>\n",
       "      <td>1</td>\n",
       "      <td>9</td>\n",
       "      <td>14</td>\n",
       "      <td>10</td>\n",
       "      <td>4.31</td>\n",
       "    </tr>\n",
       "    <tr>\n",
       "      <th>10</th>\n",
       "      <td>1</td>\n",
       "      <td>10</td>\n",
       "      <td>14</td>\n",
       "      <td>16</td>\n",
       "      <td>6.89</td>\n",
       "    </tr>\n",
       "    <tr>\n",
       "      <th>11</th>\n",
       "      <td>1</td>\n",
       "      <td>14</td>\n",
       "      <td>15</td>\n",
       "      <td>4</td>\n",
       "      <td>1.82</td>\n",
       "    </tr>\n",
       "    <tr>\n",
       "      <th>12</th>\n",
       "      <td>1</td>\n",
       "      <td>11</td>\n",
       "      <td>17</td>\n",
       "      <td>14</td>\n",
       "      <td>7.58</td>\n",
       "    </tr>\n",
       "    <tr>\n",
       "      <th>13</th>\n",
       "      <td>1</td>\n",
       "      <td>16</td>\n",
       "      <td>17</td>\n",
       "      <td>18</td>\n",
       "      <td>7.38</td>\n",
       "    </tr>\n",
       "    <tr>\n",
       "      <th>14</th>\n",
       "      <td>1</td>\n",
       "      <td>17</td>\n",
       "      <td>18</td>\n",
       "      <td>3</td>\n",
       "      <td>0.56</td>\n",
       "    </tr>\n",
       "    <tr>\n",
       "      <th>15</th>\n",
       "      <td>1</td>\n",
       "      <td>18</td>\n",
       "      <td>19</td>\n",
       "      <td>6</td>\n",
       "      <td>3.13</td>\n",
       "    </tr>\n",
       "    <tr>\n",
       "      <th>16</th>\n",
       "      <td>1</td>\n",
       "      <td>18</td>\n",
       "      <td>20</td>\n",
       "      <td>5</td>\n",
       "      <td>2.04</td>\n",
       "    </tr>\n",
       "    <tr>\n",
       "      <th>17</th>\n",
       "      <td>1</td>\n",
       "      <td>21</td>\n",
       "      <td>23</td>\n",
       "      <td>8</td>\n",
       "      <td>3.60</td>\n",
       "    </tr>\n",
       "    <tr>\n",
       "      <th>18</th>\n",
       "      <td>1</td>\n",
       "      <td>22</td>\n",
       "      <td>24</td>\n",
       "      <td>11</td>\n",
       "      <td>7.20</td>\n",
       "    </tr>\n",
       "    <tr>\n",
       "      <th>19</th>\n",
       "      <td>1</td>\n",
       "      <td>24</td>\n",
       "      <td>25</td>\n",
       "      <td>4</td>\n",
       "      <td>0.90</td>\n",
       "    </tr>\n",
       "    <tr>\n",
       "      <th>20</th>\n",
       "      <td>1</td>\n",
       "      <td>23</td>\n",
       "      <td>26</td>\n",
       "      <td>5</td>\n",
       "      <td>1.45</td>\n",
       "    </tr>\n",
       "    <tr>\n",
       "      <th>21</th>\n",
       "      <td>1</td>\n",
       "      <td>23</td>\n",
       "      <td>29</td>\n",
       "      <td>9</td>\n",
       "      <td>3.67</td>\n",
       "    </tr>\n",
       "    <tr>\n",
       "      <th>22</th>\n",
       "      <td>1</td>\n",
       "      <td>27</td>\n",
       "      <td>29</td>\n",
       "      <td>8</td>\n",
       "      <td>4.12</td>\n",
       "    </tr>\n",
       "    <tr>\n",
       "      <th>23</th>\n",
       "      <td>1</td>\n",
       "      <td>25</td>\n",
       "      <td>30</td>\n",
       "      <td>9</td>\n",
       "      <td>3.16</td>\n",
       "    </tr>\n",
       "    <tr>\n",
       "      <th>24</th>\n",
       "      <td>1</td>\n",
       "      <td>28</td>\n",
       "      <td>30</td>\n",
       "      <td>2</td>\n",
       "      <td>0.46</td>\n",
       "    </tr>\n",
       "    <tr>\n",
       "      <th>25</th>\n",
       "      <td>1</td>\n",
       "      <td>29</td>\n",
       "      <td>32</td>\n",
       "      <td>3</td>\n",
       "      <td>0.99</td>\n",
       "    </tr>\n",
       "    <tr>\n",
       "      <th>26</th>\n",
       "      <td>1</td>\n",
       "      <td>30</td>\n",
       "      <td>33</td>\n",
       "      <td>4</td>\n",
       "      <td>0.78</td>\n",
       "    </tr>\n",
       "    <tr>\n",
       "      <th>27</th>\n",
       "      <td>1</td>\n",
       "      <td>32</td>\n",
       "      <td>34</td>\n",
       "      <td>3</td>\n",
       "      <td>1.38</td>\n",
       "    </tr>\n",
       "    <tr>\n",
       "      <th>28</th>\n",
       "      <td>1</td>\n",
       "      <td>31</td>\n",
       "      <td>35</td>\n",
       "      <td>5</td>\n",
       "      <td>1.65</td>\n",
       "    </tr>\n",
       "    <tr>\n",
       "      <th>29</th>\n",
       "      <td>1</td>\n",
       "      <td>35</td>\n",
       "      <td>37</td>\n",
       "      <td>3</td>\n",
       "      <td>0.71</td>\n",
       "    </tr>\n",
       "    <tr>\n",
       "      <th>...</th>\n",
       "      <td>...</td>\n",
       "      <td>...</td>\n",
       "      <td>...</td>\n",
       "      <td>...</td>\n",
       "      <td>...</td>\n",
       "    </tr>\n",
       "    <tr>\n",
       "      <th>20049</th>\n",
       "      <td>25</td>\n",
       "      <td>1083</td>\n",
       "      <td>1087</td>\n",
       "      <td>2</td>\n",
       "      <td>0.98</td>\n",
       "    </tr>\n",
       "    <tr>\n",
       "      <th>20050</th>\n",
       "      <td>25</td>\n",
       "      <td>1068</td>\n",
       "      <td>1088</td>\n",
       "      <td>18</td>\n",
       "      <td>9.43</td>\n",
       "    </tr>\n",
       "    <tr>\n",
       "      <th>20051</th>\n",
       "      <td>25</td>\n",
       "      <td>1087</td>\n",
       "      <td>1092</td>\n",
       "      <td>3</td>\n",
       "      <td>1.37</td>\n",
       "    </tr>\n",
       "    <tr>\n",
       "      <th>20052</th>\n",
       "      <td>25</td>\n",
       "      <td>1071</td>\n",
       "      <td>1093</td>\n",
       "      <td>10</td>\n",
       "      <td>7.21</td>\n",
       "    </tr>\n",
       "    <tr>\n",
       "      <th>20053</th>\n",
       "      <td>25</td>\n",
       "      <td>1094</td>\n",
       "      <td>1095</td>\n",
       "      <td>3</td>\n",
       "      <td>2.32</td>\n",
       "    </tr>\n",
       "    <tr>\n",
       "      <th>20054</th>\n",
       "      <td>25</td>\n",
       "      <td>1090</td>\n",
       "      <td>1096</td>\n",
       "      <td>3</td>\n",
       "      <td>2.04</td>\n",
       "    </tr>\n",
       "    <tr>\n",
       "      <th>20055</th>\n",
       "      <td>25</td>\n",
       "      <td>1095</td>\n",
       "      <td>1096</td>\n",
       "      <td>3</td>\n",
       "      <td>1.94</td>\n",
       "    </tr>\n",
       "    <tr>\n",
       "      <th>20056</th>\n",
       "      <td>25</td>\n",
       "      <td>1091</td>\n",
       "      <td>1099</td>\n",
       "      <td>4</td>\n",
       "      <td>1.33</td>\n",
       "    </tr>\n",
       "    <tr>\n",
       "      <th>20057</th>\n",
       "      <td>25</td>\n",
       "      <td>1097</td>\n",
       "      <td>1100</td>\n",
       "      <td>7</td>\n",
       "      <td>1.62</td>\n",
       "    </tr>\n",
       "    <tr>\n",
       "      <th>20058</th>\n",
       "      <td>25</td>\n",
       "      <td>1078</td>\n",
       "      <td>1101</td>\n",
       "      <td>10</td>\n",
       "      <td>6.27</td>\n",
       "    </tr>\n",
       "    <tr>\n",
       "      <th>20059</th>\n",
       "      <td>25</td>\n",
       "      <td>1098</td>\n",
       "      <td>1102</td>\n",
       "      <td>2</td>\n",
       "      <td>1.22</td>\n",
       "    </tr>\n",
       "    <tr>\n",
       "      <th>20060</th>\n",
       "      <td>25</td>\n",
       "      <td>1089</td>\n",
       "      <td>1103</td>\n",
       "      <td>5</td>\n",
       "      <td>3.73</td>\n",
       "    </tr>\n",
       "    <tr>\n",
       "      <th>20061</th>\n",
       "      <td>25</td>\n",
       "      <td>1100</td>\n",
       "      <td>1104</td>\n",
       "      <td>2</td>\n",
       "      <td>0.69</td>\n",
       "    </tr>\n",
       "    <tr>\n",
       "      <th>20062</th>\n",
       "      <td>25</td>\n",
       "      <td>1092</td>\n",
       "      <td>1105</td>\n",
       "      <td>6</td>\n",
       "      <td>3.58</td>\n",
       "    </tr>\n",
       "    <tr>\n",
       "      <th>20063</th>\n",
       "      <td>25</td>\n",
       "      <td>1102</td>\n",
       "      <td>1106</td>\n",
       "      <td>2</td>\n",
       "      <td>0.94</td>\n",
       "    </tr>\n",
       "    <tr>\n",
       "      <th>20064</th>\n",
       "      <td>25</td>\n",
       "      <td>1099</td>\n",
       "      <td>1109</td>\n",
       "      <td>4</td>\n",
       "      <td>1.75</td>\n",
       "    </tr>\n",
       "    <tr>\n",
       "      <th>20065</th>\n",
       "      <td>25</td>\n",
       "      <td>1108</td>\n",
       "      <td>1109</td>\n",
       "      <td>5</td>\n",
       "      <td>2.68</td>\n",
       "    </tr>\n",
       "    <tr>\n",
       "      <th>20066</th>\n",
       "      <td>25</td>\n",
       "      <td>1101</td>\n",
       "      <td>1110</td>\n",
       "      <td>13</td>\n",
       "      <td>7.71</td>\n",
       "    </tr>\n",
       "    <tr>\n",
       "      <th>20067</th>\n",
       "      <td>25</td>\n",
       "      <td>1106</td>\n",
       "      <td>1111</td>\n",
       "      <td>2</td>\n",
       "      <td>1.45</td>\n",
       "    </tr>\n",
       "    <tr>\n",
       "      <th>20068</th>\n",
       "      <td>25</td>\n",
       "      <td>1103</td>\n",
       "      <td>1112</td>\n",
       "      <td>3</td>\n",
       "      <td>2.42</td>\n",
       "    </tr>\n",
       "    <tr>\n",
       "      <th>20069</th>\n",
       "      <td>25</td>\n",
       "      <td>1104</td>\n",
       "      <td>1113</td>\n",
       "      <td>5</td>\n",
       "      <td>0.97</td>\n",
       "    </tr>\n",
       "    <tr>\n",
       "      <th>20070</th>\n",
       "      <td>25</td>\n",
       "      <td>1107</td>\n",
       "      <td>1115</td>\n",
       "      <td>7</td>\n",
       "      <td>3.27</td>\n",
       "    </tr>\n",
       "    <tr>\n",
       "      <th>20071</th>\n",
       "      <td>25</td>\n",
       "      <td>1114</td>\n",
       "      <td>1115</td>\n",
       "      <td>4</td>\n",
       "      <td>2.00</td>\n",
       "    </tr>\n",
       "    <tr>\n",
       "      <th>20072</th>\n",
       "      <td>25</td>\n",
       "      <td>1099</td>\n",
       "      <td>1116</td>\n",
       "      <td>11</td>\n",
       "      <td>3.17</td>\n",
       "    </tr>\n",
       "    <tr>\n",
       "      <th>20073</th>\n",
       "      <td>25</td>\n",
       "      <td>1112</td>\n",
       "      <td>1118</td>\n",
       "      <td>7</td>\n",
       "      <td>5.45</td>\n",
       "    </tr>\n",
       "    <tr>\n",
       "      <th>20074</th>\n",
       "      <td>25</td>\n",
       "      <td>1109</td>\n",
       "      <td>1120</td>\n",
       "      <td>7</td>\n",
       "      <td>2.14</td>\n",
       "    </tr>\n",
       "    <tr>\n",
       "      <th>20075</th>\n",
       "      <td>25</td>\n",
       "      <td>1117</td>\n",
       "      <td>1121</td>\n",
       "      <td>3</td>\n",
       "      <td>0.59</td>\n",
       "    </tr>\n",
       "    <tr>\n",
       "      <th>20076</th>\n",
       "      <td>25</td>\n",
       "      <td>1101</td>\n",
       "      <td>1122</td>\n",
       "      <td>8</td>\n",
       "      <td>3.18</td>\n",
       "    </tr>\n",
       "    <tr>\n",
       "      <th>20077</th>\n",
       "      <td>25</td>\n",
       "      <td>1114</td>\n",
       "      <td>1123</td>\n",
       "      <td>9</td>\n",
       "      <td>4.12</td>\n",
       "    </tr>\n",
       "    <tr>\n",
       "      <th>20078</th>\n",
       "      <td>25</td>\n",
       "      <td>1119</td>\n",
       "      <td>1124</td>\n",
       "      <td>4</td>\n",
       "      <td>1.27</td>\n",
       "    </tr>\n",
       "  </tbody>\n",
       "</table>\n",
       "<p>20079 rows × 5 columns</p>\n",
       "</div>"
      ],
      "text/plain": [
       "       image_number    v1    v2  length  total_intensity\n",
       "0                 1     1     2       4             2.79\n",
       "1                 1     3     5       6             3.35\n",
       "2                 1     6     7       5             1.94\n",
       "3                 1     4     8       5             2.43\n",
       "4                 1     7     8       3             1.10\n",
       "5                 1     8    10       8             4.94\n",
       "6                 1     6    11      12             4.61\n",
       "7                 1    11    12       3             0.92\n",
       "8                 1    10    13       6             2.64\n",
       "9                 1     9    14      10             4.31\n",
       "10                1    10    14      16             6.89\n",
       "11                1    14    15       4             1.82\n",
       "12                1    11    17      14             7.58\n",
       "13                1    16    17      18             7.38\n",
       "14                1    17    18       3             0.56\n",
       "15                1    18    19       6             3.13\n",
       "16                1    18    20       5             2.04\n",
       "17                1    21    23       8             3.60\n",
       "18                1    22    24      11             7.20\n",
       "19                1    24    25       4             0.90\n",
       "20                1    23    26       5             1.45\n",
       "21                1    23    29       9             3.67\n",
       "22                1    27    29       8             4.12\n",
       "23                1    25    30       9             3.16\n",
       "24                1    28    30       2             0.46\n",
       "25                1    29    32       3             0.99\n",
       "26                1    30    33       4             0.78\n",
       "27                1    32    34       3             1.38\n",
       "28                1    31    35       5             1.65\n",
       "29                1    35    37       3             0.71\n",
       "...             ...   ...   ...     ...              ...\n",
       "20049            25  1083  1087       2             0.98\n",
       "20050            25  1068  1088      18             9.43\n",
       "20051            25  1087  1092       3             1.37\n",
       "20052            25  1071  1093      10             7.21\n",
       "20053            25  1094  1095       3             2.32\n",
       "20054            25  1090  1096       3             2.04\n",
       "20055            25  1095  1096       3             1.94\n",
       "20056            25  1091  1099       4             1.33\n",
       "20057            25  1097  1100       7             1.62\n",
       "20058            25  1078  1101      10             6.27\n",
       "20059            25  1098  1102       2             1.22\n",
       "20060            25  1089  1103       5             3.73\n",
       "20061            25  1100  1104       2             0.69\n",
       "20062            25  1092  1105       6             3.58\n",
       "20063            25  1102  1106       2             0.94\n",
       "20064            25  1099  1109       4             1.75\n",
       "20065            25  1108  1109       5             2.68\n",
       "20066            25  1101  1110      13             7.71\n",
       "20067            25  1106  1111       2             1.45\n",
       "20068            25  1103  1112       3             2.42\n",
       "20069            25  1104  1113       5             0.97\n",
       "20070            25  1107  1115       7             3.27\n",
       "20071            25  1114  1115       4             2.00\n",
       "20072            25  1099  1116      11             3.17\n",
       "20073            25  1112  1118       7             5.45\n",
       "20074            25  1109  1120       7             2.14\n",
       "20075            25  1117  1121       3             0.59\n",
       "20076            25  1101  1122       8             3.18\n",
       "20077            25  1114  1123       9             4.12\n",
       "20078            25  1119  1124       4             1.27\n",
       "\n",
       "[20079 rows x 5 columns]"
      ]
     },
     "execution_count": 1144,
     "metadata": {},
     "output_type": "execute_result"
    }
   ],
   "source": [
    "e_df"
   ]
  },
  {
   "cell_type": "code",
   "execution_count": 1164,
   "metadata": {
    "collapsed": true
   },
   "outputs": [],
   "source": [
    "vertices_csv = r'C:\\Users\\Prakrith\\Desktop\\skt\\sk\\vertices.csv'"
   ]
  },
  {
   "cell_type": "code",
   "execution_count": 1165,
   "metadata": {
    "collapsed": true
   },
   "outputs": [],
   "source": [
    "skeleton_directory = r\"C:\\Users\\Prakrith\\Desktop\\skt\\sk\"\n",
    "vert_csv = r\"C:\\Users\\Prakrith\\Desktop\\skt\\sk\\vert.csv\"\n",
    "edge_csv = r\"C:\\Users\\Prakrith\\Desktop\\skt\\sk\\edge.csv\""
   ]
  },
  {
   "cell_type": "code",
   "execution_count": 1118,
   "metadata": {},
   "outputs": [
    {
     "ename": "ValueError",
     "evalue": "The truth value of a Series is ambiguous. Use a.empty, a.bool(), a.item(), a.any() or a.all().",
     "output_type": "error",
     "traceback": [
      "\u001b[1;31m---------------------------------------------------------------------------\u001b[0m",
      "\u001b[1;31mValueError\u001b[0m                                Traceback (most recent call last)",
      "\u001b[1;32m<ipython-input-1118-09fe5a691e08>\u001b[0m in \u001b[0;36m<module>\u001b[1;34m()\u001b[0m\n\u001b[1;32m----> 1\u001b[1;33m \u001b[0mslc\u001b[0m \u001b[1;33m=\u001b[0m \u001b[0mv_df\u001b[0m\u001b[1;33m[\u001b[0m\u001b[0mv_df\u001b[0m\u001b[1;33m[\u001b[0m\u001b[1;34m'image_number'\u001b[0m\u001b[1;33m]\u001b[0m \u001b[1;33m==\u001b[0m \u001b[0mi\u001b[0m \u001b[1;33m&\u001b[0m \u001b[0mv_df\u001b[0m\u001b[1;33m[\u001b[0m\u001b[1;34m'labels'\u001b[0m\u001b[1;33m]\u001b[0m \u001b[1;33m==\u001b[0m \u001b[0ml\u001b[0m\u001b[1;33m]\u001b[0m\u001b[1;33m.\u001b[0m\u001b[0mall\u001b[0m\u001b[1;33m(\u001b[0m\u001b[1;33m)\u001b[0m\u001b[1;33m\u001b[0m\u001b[0m\n\u001b[0m",
      "\u001b[1;32m~\\AppData\\Local\\conda\\conda\\envs\\bioimg\\lib\\site-packages\\pandas\\core\\generic.py\u001b[0m in \u001b[0;36m__nonzero__\u001b[1;34m(self)\u001b[0m\n\u001b[0;32m   1119\u001b[0m         raise ValueError(\"The truth value of a {0} is ambiguous. \"\n\u001b[0;32m   1120\u001b[0m                          \u001b[1;34m\"Use a.empty, a.bool(), a.item(), a.any() or a.all().\"\u001b[0m\u001b[1;33m\u001b[0m\u001b[0m\n\u001b[1;32m-> 1121\u001b[1;33m                          .format(self.__class__.__name__))\n\u001b[0m\u001b[0;32m   1122\u001b[0m \u001b[1;33m\u001b[0m\u001b[0m\n\u001b[0;32m   1123\u001b[0m     \u001b[0m__bool__\u001b[0m \u001b[1;33m=\u001b[0m \u001b[0m__nonzero__\u001b[0m\u001b[1;33m\u001b[0m\u001b[0m\n",
      "\u001b[1;31mValueError\u001b[0m: The truth value of a Series is ambiguous. Use a.empty, a.bool(), a.item(), a.any() or a.all()."
     ]
    }
   ],
   "source": [
    "slc = v_df[v_df['image_number'] == i] & v_df[v_df['labels'] == l]"
   ]
  },
  {
   "cell_type": "code",
   "execution_count": 1137,
   "metadata": {},
   "outputs": [],
   "source": [
    "slc2 = slc[slc['labels'] == l]"
   ]
  },
  {
   "cell_type": "code",
   "execution_count": 1130,
   "metadata": {},
   "outputs": [
    {
     "name": "stdout",
     "output_type": "stream",
     "text": [
      "Which image?:1\n"
     ]
    }
   ],
   "source": [
    "i = int(input(\"Which image?:\")) #set like dirs"
   ]
  },
  {
   "cell_type": "code",
   "execution_count": 1131,
   "metadata": {},
   "outputs": [
    {
     "name": "stdout",
     "output_type": "stream",
     "text": [
      "Which Proplatelet Structure?:2\n"
     ]
    }
   ],
   "source": [
    "l = int(input(\"Which Proplatelet Structure?:\")) #set like dirs"
   ]
  },
  {
   "cell_type": "code",
   "execution_count": 1138,
   "metadata": {},
   "outputs": [
    {
     "data": {
      "text/html": [
       "<div>\n",
       "<style scoped>\n",
       "    .dataframe tbody tr th:only-of-type {\n",
       "        vertical-align: middle;\n",
       "    }\n",
       "\n",
       "    .dataframe tbody tr th {\n",
       "        vertical-align: top;\n",
       "    }\n",
       "\n",
       "    .dataframe thead th {\n",
       "        text-align: right;\n",
       "    }\n",
       "</style>\n",
       "<table border=\"1\" class=\"dataframe\">\n",
       "  <thead>\n",
       "    <tr style=\"text-align: right;\">\n",
       "      <th></th>\n",
       "      <th>image_number</th>\n",
       "      <th>vertex_number</th>\n",
       "      <th>x</th>\n",
       "      <th>y</th>\n",
       "      <th>labels</th>\n",
       "    </tr>\n",
       "  </thead>\n",
       "  <tbody>\n",
       "    <tr>\n",
       "      <th>0</th>\n",
       "      <td>1</td>\n",
       "      <td>1</td>\n",
       "      <td>1004</td>\n",
       "      <td>312</td>\n",
       "      <td>2</td>\n",
       "    </tr>\n",
       "    <tr>\n",
       "      <th>1</th>\n",
       "      <td>1</td>\n",
       "      <td>2</td>\n",
       "      <td>1001</td>\n",
       "      <td>315</td>\n",
       "      <td>2</td>\n",
       "    </tr>\n",
       "    <tr>\n",
       "      <th>2</th>\n",
       "      <td>1</td>\n",
       "      <td>3</td>\n",
       "      <td>999</td>\n",
       "      <td>317</td>\n",
       "      <td>2</td>\n",
       "    </tr>\n",
       "    <tr>\n",
       "      <th>4</th>\n",
       "      <td>1</td>\n",
       "      <td>5</td>\n",
       "      <td>995</td>\n",
       "      <td>321</td>\n",
       "      <td>2</td>\n",
       "    </tr>\n",
       "  </tbody>\n",
       "</table>\n",
       "</div>"
      ],
      "text/plain": [
       "   image_number  vertex_number     x    y  labels\n",
       "0             1              1  1004  312       2\n",
       "1             1              2  1001  315       2\n",
       "2             1              3   999  317       2\n",
       "4             1              5   995  321       2"
      ]
     },
     "execution_count": 1138,
     "metadata": {},
     "output_type": "execute_result"
    }
   ],
   "source": [
    "slc2"
   ]
  },
  {
   "cell_type": "code",
   "execution_count": 1140,
   "metadata": {},
   "outputs": [
    {
     "data": {
      "text/html": [
       "<div>\n",
       "<style scoped>\n",
       "    .dataframe tbody tr th:only-of-type {\n",
       "        vertical-align: middle;\n",
       "    }\n",
       "\n",
       "    .dataframe tbody tr th {\n",
       "        vertical-align: top;\n",
       "    }\n",
       "\n",
       "    .dataframe thead th {\n",
       "        text-align: right;\n",
       "    }\n",
       "</style>\n",
       "<table border=\"1\" class=\"dataframe\">\n",
       "  <thead>\n",
       "    <tr style=\"text-align: right;\">\n",
       "      <th></th>\n",
       "      <th>image_number</th>\n",
       "      <th>vertex_number</th>\n",
       "      <th>x</th>\n",
       "      <th>y</th>\n",
       "      <th>labels</th>\n",
       "    </tr>\n",
       "  </thead>\n",
       "  <tbody>\n",
       "    <tr>\n",
       "      <th>0</th>\n",
       "      <td>1</td>\n",
       "      <td>1</td>\n",
       "      <td>1004</td>\n",
       "      <td>312</td>\n",
       "      <td>2</td>\n",
       "    </tr>\n",
       "    <tr>\n",
       "      <th>1</th>\n",
       "      <td>1</td>\n",
       "      <td>2</td>\n",
       "      <td>1001</td>\n",
       "      <td>315</td>\n",
       "      <td>2</td>\n",
       "    </tr>\n",
       "    <tr>\n",
       "      <th>2</th>\n",
       "      <td>1</td>\n",
       "      <td>3</td>\n",
       "      <td>999</td>\n",
       "      <td>317</td>\n",
       "      <td>2</td>\n",
       "    </tr>\n",
       "    <tr>\n",
       "      <th>4</th>\n",
       "      <td>1</td>\n",
       "      <td>5</td>\n",
       "      <td>995</td>\n",
       "      <td>321</td>\n",
       "      <td>2</td>\n",
       "    </tr>\n",
       "  </tbody>\n",
       "</table>\n",
       "</div>"
      ],
      "text/plain": [
       "   image_number  vertex_number     x    y  labels\n",
       "0             1              1  1004  312       2\n",
       "1             1              2  1001  315       2\n",
       "2             1              3   999  317       2\n",
       "4             1              5   995  321       2"
      ]
     },
     "execution_count": 1140,
     "metadata": {},
     "output_type": "execute_result"
    }
   ],
   "source": [
    "slc2"
   ]
  },
  {
   "cell_type": "code",
   "execution_count": 1084,
   "metadata": {},
   "outputs": [],
   "source": [
    "nodes = node_find(v_df,i)"
   ]
  },
  {
   "cell_type": "code",
   "execution_count": 1090,
   "metadata": {},
   "outputs": [],
   "source": [
    "nodes = [1,2]"
   ]
  },
  {
   "cell_type": "code",
   "execution_count": 1091,
   "metadata": {},
   "outputs": [
    {
     "data": {
      "image/png": "[encoded data removed]",
      "text/plain": [
       "<Figure size 432x288 with 1 Axes>"
      ]
     },
     "metadata": {},
     "output_type": "display_data"
    }
   ],
   "source": [
    "nx.draw(G,nodes)"
   ]
  }
 ],
 "metadata": {
  "kernelspec": {
   "display_name": "Python [conda env:bioimg]",
   "language": "python",
   "name": "conda-env-bioimg-py"
  },
  "language_info": {
   "codemirror_mode": {
    "name": "ipython",
    "version": 3
   },
   "file_extension": ".py",
   "mimetype": "text/x-python",
   "name": "python",
   "nbconvert_exporter": "python",
   "pygments_lexer": "ipython3",
   "version": "3.6.4"
  }
 },
 "nbformat": 4,
 "nbformat_minor": 2
}
