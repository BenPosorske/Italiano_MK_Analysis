{
 "cells": [
  {
   "cell_type": "markdown",
   "metadata": {},
   "source": [
    "# ilastikProcessing\n",
    "To effectively use ilastik some formating must be done before and after ilastik processes the images. The input is assumed to be a time-series of images stored in a multi-page TIFF."
   ]
  },
  {
   "cell_type": "code",
   "execution_count": 2,
   "metadata": {},
   "outputs": [],
   "source": [
    "%matplotlib inline\n",
    "import glob\n",
    "import h5py\n",
    "import matplotlib\n",
    "import numpy\n",
    "import os\n",
    "import os.path\n",
    "import pandas\n",
    "import re\n",
    "import skimage\n",
    "import skimage.exposure\n",
    "import skimage.io\n",
    "import subprocess\n",
    "from tqdm._tqdm_notebook import tqdm_notebook"
   ]
  },
  {
   "cell_type": "markdown",
   "metadata": {},
   "source": [
    "# Unpack (or separate) input images into single files.\n",
    "\n",
    "## Update input image variables\n",
    "Update the variable *image_directory* with the path to a folder that contains the input images. Update the *regex_image* variable to process only the images that match the regular expression. If the *regex_image* variable is equal to `(.*)\\.tif`, then any *.tif* in the folder will be processed.\n",
    "\n",
    "If a filename matches the *regex_single* regular expression, then it is assumed that this image has already been unpacked. An unpacked single image will have timepoint appended to the end of the file following the pattern `\\-\\d{4}\\.tif`\n",
    "\n",
    "*path_to_ilastik* is a string with the path to the ilastik software for [running headless](http://ilastik.org/documentation/basics/headless.html)."
   ]
  },
  {
   "cell_type": "code",
   "execution_count": 6,
   "metadata": {},
   "outputs": [],
   "source": [
    "image_directory = r\"C:\\Users\\karhohs\\Documents\\GitHub\\2017_06_20_Machlus_megakarocyte_differentiation\\strategy_ilastik\\images\"\n",
    "path_to_ilastik = r\"C:\\Program Files\\ilastik-1.2.2rc4\\run-ilastik.bat\"\n",
    "path_to_project = r\"C:\\Users\\karhohs\\Documents\\GitHub\\2017_06_20_Machlus_megakarocyte_differentiation\\strategy_ilastik\\ilastik\\Mouse_MK_training_Dec_2017.ilp\"\n",
    "path_to_cellprofiler = r\"C:\\Program Files (x86)\\CellProfiler_3_0_0\\CellProfiler.exe\"\n",
    "path_to_cp_pipeline = r\"C:\\Users\\karhohs\\Documents\\GitHub\\2017_06_20_Machlus_megakarocyte_differentiation\\strategy_ilastik\\pipelines\\quantify_ilastik_no_model_cp3.cppipe\"\n",
    "regex_image = \"(.*)\\.tif\"\n",
    "regex_single = \".*\\-\\d{4}\\.tif\"\n",
    "re_image = re.compile(regex_image)\n",
    "re_single = re.compile(regex_single)"
   ]
  },
  {
   "cell_type": "code",
   "execution_count": 7,
   "metadata": {},
   "outputs": [],
   "source": [
    "os.makedirs(os.path.join(image_directory, \"single_images\"), exist_ok=True)\n",
    "imdir_single = os.path.join(image_directory,\"single_images\")\n",
    "os.makedirs(os.path.join(image_directory, \"ilastik\"), exist_ok=True)\n",
    "imdir_ilastik = os.path.join(image_directory,\"ilastik\")\n",
    "os.makedirs(os.path.join(image_directory, \"output\"), exist_ok=True)\n",
    "output_directory = os.path.join(image_directory,\"output\")"
   ]
  },
  {
   "cell_type": "markdown",
   "metadata": {},
   "source": [
    "## Methods to import image metadata\n",
    "* *is_my_file* will use the regular expression to filter image files to be processed.\n",
    "* *make_dict* parses a file to be processed and places metadata into a dictionary.\n",
    "\n",
    "Parse the files to be processed and then place the metadata into a Pandas dataframe."
   ]
  },
  {
   "cell_type": "code",
   "execution_count": 8,
   "metadata": {},
   "outputs": [],
   "source": [
    "def is_my_file(filename, re_image, re_single):\n",
    "    \n",
    "    mybool = False\n",
    "    \n",
    "    if (    re_image.match(filename) != None \n",
    "        and re_single.match(filename) == None\n",
    "       ):\n",
    "        \n",
    "        mybool = True\n",
    "        \n",
    "    return mybool\n",
    "\n",
    "\n",
    "def make_dict(filename, path, re_obj):\n",
    "    \n",
    "    my_dict = re_obj.match(filename).groupdict()\n",
    "    \n",
    "    my_dict[\"filename\"] = filename\n",
    "    \n",
    "    my_dict[\"path\"] = path\n",
    "    \n",
    "    return my_dict"
   ]
  },
  {
   "cell_type": "code",
   "execution_count": 9,
   "metadata": {},
   "outputs": [],
   "source": [
    "image_files_dict = [make_dict(f, image_directory, re_image) for f in os.listdir(image_directory) if is_my_file(f, re_image, re_single)]\n",
    "image_df = pandas.DataFrame(image_files_dict)"
   ]
  },
  {
   "cell_type": "markdown",
   "metadata": {},
   "source": [
    "## Unpack the multi-page TIFF images\n",
    "For every image, create a single image file for each timepoint. The input images are assumed to be RGB, which has 3 dimensions (length, width, color). The multipage TIFF of RGB images will have 4 dimensions (timepoints, length, width, color). \n",
    "\n",
    "*If the upstream workflow changes and the input image format is altered, then the conditional logic below will need to be updated, specifically the logic based on the shape of the input images.*\n",
    "\n",
    "### Are the images across experiments similar enough to treat equally\n",
    "One concern is that overfitting from training a classification model either through ilastik or CellProfiler analyst. The training set needs to be representative of the possibility space. This is accomplished by choosing a large enough image set that includes images of all states of interest including undifferentiated and fully differentiated megakaryocytes.\n",
    "\n",
    "We also want to eliminate noise from known sources of variablity that could potentially weaken the classifier. The primary sources of noise in the images will be non-uniform illumination and differences in exposure. Non-uniform illumination is difficult to correct, because the background is actually in the middle of the intensity range and the signal occupies both high and low intensities.\n",
    "\n"
   ]
  },
  {
   "cell_type": "code",
   "execution_count": 10,
   "metadata": {},
   "outputs": [],
   "source": [
    "#filelist = glob.glob(\"D:\\Prakrith\\MK_Differentiation_Kyle\\images\\single_images\\*.tif\")\n",
    "\n",
    "#for f in filelist:\n",
    "    \n",
    "#    im = skimage.io.imread(f)\n",
    "    \n",
    "#    im2 = skimage.color.rgb2gray(im)\n",
    "        \n",
    "#    im2 = skimage.img_as_ubyte(im2)\n",
    "\n",
    "#    skimage.io.imsave(f, im2)"
   ]
  },
  {
   "cell_type": "code",
   "execution_count": 11,
   "metadata": {},
   "outputs": [],
   "source": [
    "def df_stack_image(p):\n",
    "    \n",
    "    im = skimage.io.imread(os.path.join(p[\"path\"], p[\"filename\"]))\n",
    "    \n",
    "    if len(im.shape) < 4:\n",
    "        \n",
    "        retest = re_image.match(p[\"filename\"])\n",
    "\n",
    "        retest.group(1)\n",
    "\n",
    "        fname = \"{0}-{1:04d}.tif\".format(retest.group(1), 0)\n",
    "        \n",
    "        im2 = skimage.color.rgb2gray(im)\n",
    "        \n",
    "        im2 = skimage.img_as_ubyte(im2)\n",
    "\n",
    "        skimage.io.imsave(os.path.join(p[\"path\"], fname), im2)\n",
    "        \n",
    "    else:\n",
    "    \n",
    "        number_of_timepoints = im.shape[0]\n",
    "\n",
    "        for i in range(number_of_timepoints):\n",
    "\n",
    "            retest = re_image.match(p[\"filename\"])\n",
    "\n",
    "            retest.group(1)\n",
    "\n",
    "            fname = \"{0}-{1:04d}.tif\".format(retest.group(1), i)\n",
    "            \n",
    "            im2 = skimage.color.rgb2gray(im[i,:,:,:])\n",
    "        \n",
    "            im2 = skimage.img_as_ubyte(im2)\n",
    "\n",
    "            skimage.io.imsave(os.path.join(p[\"path\"], \"single_images\", fname), im2)"
   ]
  },
  {
   "cell_type": "code",
   "execution_count": 12,
   "metadata": {
    "scrolled": true
   },
   "outputs": [
    {
     "name": "stdout",
     "output_type": "stream",
     "text": [
      "no images to unpack\n"
     ]
    }
   ],
   "source": [
    "if image_df.empty is False:\n",
    "    \n",
    "    # Note that this can fail if the input images aren't in the expected format\n",
    "    # If you receive an error, double check the format of the input images, e.g. are they RGB?\n",
    "    tqdm_notebook.pandas(desc=\"unpack\")\n",
    "    _ = image_df.progress_apply(df_stack_image, axis=1)\n",
    "\n",
    "else:\n",
    "    \n",
    "    print(\"no images to unpack\")"
   ]
  },
  {
   "cell_type": "markdown",
   "metadata": {
    "collapsed": true
   },
   "source": [
    "# Run ilastik\n",
    "\n",
    "Using the single images created earlier, process the images using ilastik. First, create another dataframe with the single image metadata. Note, this has been written for running on Windows.\n",
    "\n",
    "## Process ilastik output for CellProfiler\n",
    "ilastik will output and HDF5 file that must be parsed for use as input to CellProfiler. This workflow assumes the default export settings are being used in ilastik. We have observed performance costs when changing the exporting settings to formats beyond the standard ilastik HDF5 file. For example, exporting TIFF images changes the shape of the exported data from yxc (the default) to cyx. This rearrangement will cause downstream errors, because the code as written expects the channel to be the third dimension.\n",
    "\n",
    "### ilastik stage-2 labels\n",
    "The project file *Mouse_MK.ilp* has the following labels that are stored in the same order within the HDF5 output.\n",
    "1. background\n",
    "1. border_white\n",
    "1. cell\n",
    "1. protrusion\n",
    "1. background_border\n",
    "1. not_cell"
   ]
  },
  {
   "cell_type": "code",
   "execution_count": 13,
   "metadata": {},
   "outputs": [],
   "source": [
    "def is_my_file(filename, re_obj):\n",
    "    \n",
    "    mybool = False\n",
    "    \n",
    "    if re_obj.match(filename) != None:\n",
    "        \n",
    "        mybool = True\n",
    "        \n",
    "    return mybool\n",
    "\n",
    "\n",
    "def make_dict(filename, path, re_obj):\n",
    "    \n",
    "    my_dict = re_obj.match(filename).groupdict()\n",
    "    \n",
    "    my_dict[\"filename\"] = filename\n",
    "    \n",
    "    my_dict[\"path\"] = path\n",
    "    \n",
    "    return my_dict"
   ]
  },
  {
   "cell_type": "code",
   "execution_count": 15,
   "metadata": {},
   "outputs": [],
   "source": [
    "image_files_dict = [make_dict(f, imdir_single, re_single) for f in os.listdir(imdir_single) if is_my_file(f, re_single)]\n",
    "image_df = pandas.DataFrame(image_files_dict)"
   ]
  },
  {
   "cell_type": "code",
   "execution_count": 16,
   "metadata": {},
   "outputs": [],
   "source": [
    "def df_ilastik(p):\n",
    "    \n",
    "    filename = os.path.join(p[\"path\"], p[\"filename\"])\n",
    "    \n",
    "    filename_noext = os.path.splitext(p[\"filename\"])[0]\n",
    "    \n",
    "    filename_h5 = \"{}_Probabilities Stage 2.h5\".format(filename_noext)\n",
    "    \n",
    "    # Run ilastik using subprocess\n",
    "    \n",
    "    process = subprocess.Popen([path_to_ilastik, \n",
    "                  \"--headless\",\n",
    "                  \"--export_source=probabilities stage 2\",\n",
    "                  \"--output_format=hdf5\",\n",
    "                  r\"--project={}\".format(path_to_project),\n",
    "                  filename\n",
    "                 ], stdout=subprocess.PIPE)\n",
    "    \n",
    "    out, err = process.communicate()\n",
    "    \n",
    "    # unpack the HDF5 file\n",
    "    \n",
    "    label_list = [\"background\", \"protrusion\", \"cell_boundary\", \"cell\"]\n",
    "    \n",
    "    path_h5 = os.path.join(p[\"path\"], filename_h5)\n",
    "    \n",
    "    with h5py.File(path_h5, \"r\") as ilastik_hdf5:\n",
    "    \n",
    "        ilastik_probabilities = ilastik_hdf5[\"exported_data\"].value\n",
    "    \n",
    "        for i in range(ilastik_probabilities.shape[2]):\n",
    "            im = skimage.img_as_uint(ilastik_probabilities[:, :, i])\n",
    "        \n",
    "            filename_slice = \"{}_{}_prbstg2_{}.png\".format(filename_noext, label_list[i], i)\n",
    "        \n",
    "            skimage.io.imsave(os.path.join(p[\"path\"], \"..\", \"ilastik\", filename_slice), im)\n",
    "    \n",
    "    os.remove(path_h5)"
   ]
  },
  {
   "cell_type": "code",
   "execution_count": 17,
   "metadata": {
    "scrolled": true
   },
   "outputs": [
    {
     "data": {
      "application/vnd.jupyter.widget-view+json": {
       "model_id": "72e697cc3cf44c1b9aeb2fb29fadbc66",
       "version_major": 2,
       "version_minor": 0
      },
      "text/html": [
       "<p>Failed to display Jupyter Widget of type <code>HBox</code>.</p>\n",
       "<p>\n",
       "  If you're reading this message in Jupyter Notebook or JupyterLab, it may mean\n",
       "  that the widgets JavaScript is still loading. If this message persists, it\n",
       "  likely means that the widgets JavaScript library is either not installed or\n",
       "  not enabled. See the <a href=\"https://ipywidgets.readthedocs.io/en/stable/user_install.html\">Jupyter\n",
       "  Widgets Documentation</a> for setup instructions.\n",
       "</p>\n",
       "<p>\n",
       "  If you're reading this message in another notebook frontend (for example, a static\n",
       "  rendering on GitHub or <a href=\"https://nbviewer.jupyter.org/\">NBViewer</a>),\n",
       "  it may mean that your frontend doesn't currently support widgets.\n",
       "</p>\n"
      ],
      "text/plain": [
       "HBox(children=(IntProgress(value=0, description='run ilastik', max=10), HTML(value='')))"
      ]
     },
     "metadata": {},
     "output_type": "display_data"
    },
    {
     "name": "stderr",
     "output_type": "stream",
     "text": [
      "C:\\Users\\karhohs\\AppData\\Local\\Continuum\\Miniconda3\\envs\\bioimg\\lib\\site-packages\\skimage\\util\\dtype.py:122: UserWarning: Possible precision loss when converting from float32 to uint16\n",
      "  .format(dtypeobj_in, dtypeobj_out))\n"
     ]
    },
    {
     "name": "stdout",
     "output_type": "stream",
     "text": [
      "\n"
     ]
    }
   ],
   "source": [
    "tqdm_notebook.pandas(desc=\"run ilastik\")\n",
    "_ = image_df.progress_apply(df_ilastik, axis=1)"
   ]
  },
  {
   "cell_type": "markdown",
   "metadata": {},
   "source": [
    "# Run CellProfiler\n",
    "\n",
    "## Make a filelist\n",
    "Add the paths to each file that will be processed by CellProfiler into a text file.\n",
    "\n",
    "## Run CellProfiler\n",
    "Use subprocess again to run CellProfiler on the images to be processed.\n",
    "\n",
    "Note, that a model that filters protrusions was trained in CellProfiler Analyst outside of this workflow. The model has to be in the input folder to be found by CellProfiler."
   ]
  },
  {
   "cell_type": "code",
   "execution_count": 18,
   "metadata": {},
   "outputs": [],
   "source": [
    "single_list = glob.glob(os.path.join(imdir_single,\"*.tif\"))\n",
    "ilastik_list = glob.glob(os.path.join(imdir_ilastik,\"*.png\"))\n",
    "big_list = single_list + ilastik_list\n",
    "with open(os.path.join(image_directory,\"filelist.txt\"), 'w') as f:\n",
    "    for item in big_list:\n",
    "        f.write(\"{}\\n\".format(item))"
   ]
  },
  {
   "cell_type": "code",
   "execution_count": 22,
   "metadata": {},
   "outputs": [],
   "source": [
    "process = subprocess.Popen([path_to_cellprofiler,\n",
    "                  \"--run-headless\",\n",
    "                  \"--pipeline={}\".format(path_to_cp_pipeline),\n",
    "                  \"--file-list={}\".format(os.path.join(image_directory,\"filelist.txt\")),\n",
    "                  \"--image-directory={}\".format(image_directory),\n",
    "                  \"--output-directory={}\".format(output_directory)\n",
    "                 ], stdout=subprocess.PIPE, stderr=subprocess.PIPE, shell=True)\n",
    "    \n",
    "out, err = process.communicate()"
   ]
  },
  {
   "cell_type": "code",
   "execution_count": 23,
   "metadata": {},
   "outputs": [
    {
     "name": "stdout",
     "output_type": "stream",
     "text": [
      "b''\n"
     ]
    }
   ],
   "source": [
    "print(out)"
   ]
  },
  {
   "cell_type": "code",
   "execution_count": 24,
   "metadata": {},
   "outputs": [
    {
     "name": "stdout",
     "output_type": "stream",
     "text": [
      "b'Times reported are CPU and Wall-clock times for each module\\r\\nFri Dec 15 16:54:41 2017: Image # 1, module Images # 1: CPU_time = 0.00 secs, Wall_time = 0.00 secs\\r\\nFri Dec 15 16:54:41 2017: Image # 1, module Metadata # 2: CPU_time = 0.00 secs, Wall_time = 0.00 secs\\r\\nFri Dec 15 16:54:41 2017: Image # 1, module NamesAndTypes # 3: CPU_time = 1.61 secs, Wall_time = 0.62 secs\\r\\nFri Dec 15 16:54:41 2017: Image # 1, module Groups # 4: CPU_time = 0.00 secs, Wall_time = 0.00 secs\\r\\nFri Dec 15 16:54:41 2017: Image # 1, module Opening # 5: CPU_time = 0.52 secs, Wall_time = 0.21 secs\\r\\nFri Dec 15 16:54:42 2017: Image # 1, module ImageMath # 6: CPU_time = 0.03 secs, Wall_time = 0.02 secs\\r\\nFri Dec 15 16:54:42 2017: Image # 1, module Closing # 7: CPU_time = 0.30 secs, Wall_time = 0.18 secs\\r\\nFri Dec 15 16:54:42 2017: Image # 1, module Threshold # 8: CPU_time = 0.53 secs, Wall_time = 0.54 secs\\r\\nFri Dec 15 16:54:42 2017: Image # 1, module ImageMath # 9: CPU_time = 0.03 secs, Wall_time = 0.03 secs\\r\\nFri Dec 15 16:54:42 2017: Image # 1, module Threshold # 10: CPU_time = 0.59 secs, Wall_time = 0.61 secs\\r\\nFri Dec 15 16:54:43 2017: Image # 1, module IdentifyPrimaryObjects # 11: CPU_time = 1.28 secs, Wall_time = 1.27 secs\\r\\nFri Dec 15 16:54:44 2017: Image # 1, module IdentifyPrimaryObjects # 12: CPU_time = 0.83 secs, Wall_time = 0.83 secs\\r\\nFri Dec 15 16:54:45 2017: Image # 1, module MeasureObjectSizeShape # 13: CPU_time = 7.44 secs, Wall_time = 7.45 secs\\r\\nFri Dec 15 16:54:52 2017: Image # 1, module FilterObjects # 14: CPU_time = 0.16 secs, Wall_time = 0.17 secs\\r\\nFri Dec 15 16:54:53 2017: Image # 1, module ExpandOrShrinkObjects # 15: CPU_time = 1.25 secs, Wall_time = 1.24 secs\\r\\nFri Dec 15 16:54:54 2017: Image # 1, module ExpandOrShrinkObjects # 16: CPU_time = 0.17 secs, Wall_time = 0.18 secs\\r\\nFri Dec 15 16:54:54 2017: Image # 1, module ConvertObjectsToImage # 17: CPU_time = 0.02 secs, Wall_time = 0.01 secs\\r\\nFri Dec 15 16:54:54 2017: Image # 1, module MeasureObjectSkeleton # 18: CPU_time = 0.98 secs, Wall_time = 0.99 secs\\r\\nC:\\\\Users\\\\karhohs\\\\AppData\\\\Local\\\\Temp\\\\_MEI12~1\\\\skimage\\\\util\\\\dtype.py:122: UserWarning: Possible precision loss when converting from float32 to uint8\\r\\nC:\\\\Users\\\\karhohs\\\\AppData\\\\Local\\\\Temp\\\\_MEI12~1\\\\skimage\\\\io\\\\_io.py:132: UserWarning: C:\\\\Users\\\\karhohs\\\\Documents\\\\GitHub\\\\2017_06_20_Machlus_megakarocyte_differentiation\\\\strategy_ilastik\\\\images\\\\output\\\\170109_Inhibitors2_A1_3-0002_branchpoints.png is a low contrast image\\r\\nFri Dec 15 16:54:55 2017: Image # 1, module SaveImages # 19: CPU_time = 0.19 secs, Wall_time = 0.17 secs\\r\\nFri Dec 15 16:54:55 2017: Image # 1, module OverlayOutlines # 20: CPU_time = 0.16 secs, Wall_time = 0.16 secs\\r\\nFri Dec 15 16:54:55 2017: Image # 1, module SaveImages # 21: CPU_time = 0.47 secs, Wall_time = 0.47 secs\\r\\nFri Dec 15 16:54:56 2017: Image # 1, module OverlayOutlines # 22: CPU_time = 0.09 secs, Wall_time = 0.09 secs\\r\\nC:\\\\Users\\\\karhohs\\\\AppData\\\\Local\\\\Temp\\\\_MEI12~1\\\\skimage\\\\io\\\\_io.py:132: UserWarning: C:\\\\Users\\\\karhohs\\\\Documents\\\\GitHub\\\\2017_06_20_Machlus_megakarocyte_differentiation\\\\strategy_ilastik\\\\images\\\\output\\\\170109_Inhibitors2_A1_3-0002_cell_outlines.png is a low contrast image\\r\\nFri Dec 15 16:54:56 2017: Image # 1, module SaveImages # 23: CPU_time = 0.17 secs, Wall_time = 0.17 secs\\r\\nFri Dec 15 16:54:56 2017: Image # 1, module OverlayOutlines # 24: CPU_time = 0.09 secs, Wall_time = 0.10 secs\\r\\nC:\\\\Users\\\\karhohs\\\\AppData\\\\Local\\\\Temp\\\\_MEI12~1\\\\skimage\\\\io\\\\_io.py:132: UserWarning: C:\\\\Users\\\\karhohs\\\\Documents\\\\GitHub\\\\2017_06_20_Machlus_megakarocyte_differentiation\\\\strategy_ilastik\\\\images\\\\output\\\\170109_Inhibitors2_A1_3-0002_protrusion_outlines.png is a low contrast image\\r\\nFri Dec 15 16:54:56 2017: Image # 1, module SaveImages # 25: CPU_time = 0.14 secs, Wall_time = 0.15 secs\\r\\nFri Dec 15 16:54:56 2017: Image # 1, module MeasureImageAreaOccupied # 26: CPU_time = 0.03 secs, Wall_time = 0.03 secs\\r\\nFri Dec 15 16:54:56 2017: Image # 1, module MeasureObjectSizeShape # 27: CPU_time = 3.45 secs, Wall_time = 3.47 secs\\r\\nFri Dec 15 16:55:00 2017: Image # 1, module MeasureObjectIntensity # 28: CPU_time = 0.16 secs, Wall_time = 0.15 secs\\r\\nFri Dec 15 16:55:00 2017: Image # 1, module ExportToSpreadsheet # 29: CPU_time = 0.00 secs, Wall_time = 0.00 secs\\r\\nFri Dec 15 16:55:00 2017: Image # 1, module ExportToDatabase # 30: CPU_time = 0.33 secs, Wall_time = 0.33 secs\\r\\nFri Dec 15 16:55:00 2017: Image # 1, module ExportToDatabase # 31: CPU_time = 0.34 secs, Wall_time = 0.36 secs\\r\\nFri Dec 15 16:55:01 2017: Image # 2, module Images # 1: CPU_time = 0.00 secs, Wall_time = 0.00 secs\\r\\nFri Dec 15 16:55:01 2017: Image # 2, module Metadata # 2: CPU_time = 0.00 secs, Wall_time = 0.00 secs\\r\\nFri Dec 15 16:55:01 2017: Image # 2, module NamesAndTypes # 3: CPU_time = 1.61 secs, Wall_time = 0.56 secs\\r\\nFri Dec 15 16:55:01 2017: Image # 2, module Groups # 4: CPU_time = 0.00 secs, Wall_time = 0.00 secs\\r\\nFri Dec 15 16:55:01 2017: Image # 2, module Opening # 5: CPU_time = 0.41 secs, Wall_time = 0.19 secs\\r\\nFri Dec 15 16:55:02 2017: Image # 2, module ImageMath # 6: CPU_time = 0.03 secs, Wall_time = 0.02 secs\\r\\nFri Dec 15 16:55:02 2017: Image # 2, module Closing # 7: CPU_time = 0.38 secs, Wall_time = 0.18 secs\\r\\nFri Dec 15 16:55:02 2017: Image # 2, module Threshold # 8: CPU_time = 0.97 secs, Wall_time = 0.54 secs\\r\\nFri Dec 15 16:55:02 2017: Image # 2, module ImageMath # 9: CPU_time = 0.02 secs, Wall_time = 0.01 secs\\r\\nFri Dec 15 16:55:02 2017: Image # 2, module Threshold # 10: CPU_time = 0.50 secs, Wall_time = 0.51 secs\\r\\nFri Dec 15 16:55:03 2017: Image # 2, module IdentifyPrimaryObjects # 11: CPU_time = 1.27 secs, Wall_time = 1.26 secs\\r\\nFri Dec 15 16:55:04 2017: Image # 2, module IdentifyPrimaryObjects # 12: CPU_time = 0.81 secs, Wall_time = 0.81 secs\\r\\nFri Dec 15 16:55:05 2017: Image # 2, module MeasureObjectSizeShape # 13: CPU_time = 7.64 secs, Wall_time = 7.65 secs\\r\\nFri Dec 15 16:55:13 2017: Image # 2, module FilterObjects # 14: CPU_time = 0.20 secs, Wall_time = 0.19 secs\\r\\nFri Dec 15 16:55:13 2017: Image # 2, module ExpandOrShrinkObjects # 15: CPU_time = 1.20 secs, Wall_time = 1.21 secs\\r\\nFri Dec 15 16:55:14 2017: Image # 2, module ExpandOrShrinkObjects # 16: CPU_time = 0.28 secs, Wall_time = 0.28 secs\\r\\nFri Dec 15 16:55:14 2017: Image # 2, module ConvertObjectsToImage # 17: CPU_time = 0.02 secs, Wall_time = 0.01 secs\\r\\nFri Dec 15 16:55:14 2017: Image # 2, module MeasureObjectSkeleton # 18: CPU_time = 1.02 secs, Wall_time = 1.02 secs\\r\\nC:\\\\Users\\\\karhohs\\\\AppData\\\\Local\\\\Temp\\\\_MEI12~1\\\\skimage\\\\io\\\\_io.py:132: UserWarning: C:\\\\Users\\\\karhohs\\\\Documents\\\\GitHub\\\\2017_06_20_Machlus_megakarocyte_differentiation\\\\strategy_ilastik\\\\images\\\\output\\\\170109_Inhibitors1_A1_3-0012_branchpoints.png is a low contrast image\\r\\nFri Dec 15 16:55:15 2017: Image # 2, module SaveImages # 19: CPU_time = 0.19 secs, Wall_time = 0.17 secs\\r\\nFri Dec 15 16:55:15 2017: Image # 2, module OverlayOutlines # 20: CPU_time = 0.17 secs, Wall_time = 0.18 secs\\r\\nFri Dec 15 16:55:16 2017: Image # 2, module SaveImages # 21: CPU_time = 0.53 secs, Wall_time = 0.52 secs\\r\\nFri Dec 15 16:55:16 2017: Image # 2, module OverlayOutlines # 22: CPU_time = 0.09 secs, Wall_time = 0.10 secs\\r\\nC:\\\\Users\\\\karhohs\\\\AppData\\\\Local\\\\Temp\\\\_MEI12~1\\\\skimage\\\\io\\\\_io.py:132: UserWarning: C:\\\\Users\\\\karhohs\\\\Documents\\\\GitHub\\\\2017_06_20_Machlus_megakarocyte_differentiation\\\\strategy_ilastik\\\\images\\\\output\\\\170109_Inhibitors1_A1_3-0012_cell_outlines.png is a low contrast image\\r\\nFri Dec 15 16:55:16 2017: Image # 2, module SaveImages # 23: CPU_time = 0.17 secs, Wall_time = 0.18 secs\\r\\nFri Dec 15 16:55:16 2017: Image # 2, module OverlayOutlines # 24: CPU_time = 0.11 secs, Wall_time = 0.10 secs\\r\\nFri Dec 15 16:55:17 2017: Image # 2, module SaveImages # 25: CPU_time = 0.14 secs, Wall_time = 0.16 secs\\r\\nFri Dec 15 16:55:17 2017: Image # 2, module MeasureImageAreaOccupied # 26: CPU_time = 0.05 secs, Wall_time = 0.04 secs\\r\\nFri Dec 15 16:55:17 2017: Image # 2, module MeasureObjectSizeShape # 27: CPU_time = 3.45 secs, Wall_time = 3.46 secs\\r\\nFri Dec 15 16:55:20 2017: Image # 2, module MeasureObjectIntensity # 28: CPU_time = 0.16 secs, Wall_time = 0.16 secs\\r\\nFri Dec 15 16:55:20 2017: Image # 2, module ExportToSpreadsheet # 29: CPU_time = 0.00 secs, Wall_time = 0.00 secs\\r\\nFri Dec 15 16:55:20 2017: Image # 2, module ExportToDatabase # 30: CPU_time = 0.30 secs, Wall_time = 0.33 secs\\r\\nFri Dec 15 16:55:21 2017: Image # 2, module ExportToDatabase # 31: CPU_time = 0.45 secs, Wall_time = 0.49 secs\\r\\nFri Dec 15 16:55:21 2017: Image # 3, module Images # 1: CPU_time = 0.00 secs, Wall_time = 0.00 secs\\r\\nFri Dec 15 16:55:21 2017: Image # 3, module Metadata # 2: CPU_time = 0.00 secs, Wall_time = 0.00 secs\\r\\nFri Dec 15 16:55:21 2017: Image # 3, module NamesAndTypes # 3: CPU_time = 0.98 secs, Wall_time = 0.41 secs\\r\\nFri Dec 15 16:55:22 2017: Image # 3, module Groups # 4: CPU_time = 0.00 secs, Wall_time = 0.00 secs\\r\\nFri Dec 15 16:55:22 2017: Image # 3, module Opening # 5: CPU_time = 0.41 secs, Wall_time = 0.19 secs\\r\\nFri Dec 15 16:55:22 2017: Image # 3, module ImageMath # 6: CPU_time = 0.03 secs, Wall_time = 0.02 secs\\r\\nFri Dec 15 16:55:22 2017: Image # 3, module Closing # 7: CPU_time = 0.34 secs, Wall_time = 0.16 secs\\r\\nFri Dec 15 16:55:22 2017: Image # 3, module Threshold # 8: CPU_time = 0.66 secs, Wall_time = 0.48 secs\\r\\nFri Dec 15 16:55:22 2017: Image # 3, module ImageMath # 9: CPU_time = 0.00 secs, Wall_time = 0.01 secs\\r\\nFri Dec 15 16:55:22 2017: Image # 3, module Threshold # 10: CPU_time = 0.48 secs, Wall_time = 0.48 secs\\r\\nFri Dec 15 16:55:23 2017: Image # 3, module IdentifyPrimaryObjects # 11: CPU_time = 1.20 secs, Wall_time = 1.21 secs\\r\\nFri Dec 15 16:55:24 2017: Image # 3, module IdentifyPrimaryObjects # 12: CPU_time = 0.83 secs, Wall_time = 0.82 secs\\r\\nFri Dec 15 16:55:25 2017: Image # 3, module MeasureObjectSizeShape # 13: CPU_time = 7.09 secs, Wall_time = 7.08 secs\\r\\nFri Dec 15 16:55:32 2017: Image # 3, module FilterObjects # 14: CPU_time = 0.19 secs, Wall_time = 0.19 secs\\r\\nFri Dec 15 16:55:32 2017: Image # 3, module ExpandOrShrinkObjects # 15: CPU_time = 1.22 secs, Wall_time = 1.22 secs\\r\\nFri Dec 15 16:55:33 2017: Image # 3, module ExpandOrShrinkObjects # 16: CPU_time = 0.27 secs, Wall_time = 0.27 secs\\r\\nFri Dec 15 16:55:34 2017: Image # 3, module ConvertObjectsToImage # 17: CPU_time = 0.00 secs, Wall_time = 0.01 secs\\r\\nFri Dec 15 16:55:34 2017: Image # 3, module MeasureObjectSkeleton # 18: CPU_time = 0.91 secs, Wall_time = 0.90 secs\\r\\nC:\\\\Users\\\\karhohs\\\\AppData\\\\Local\\\\Temp\\\\_MEI12~1\\\\skimage\\\\io\\\\_io.py:132: UserWarning: C:\\\\Users\\\\karhohs\\\\Documents\\\\GitHub\\\\2017_06_20_Machlus_megakarocyte_differentiation\\\\strategy_ilastik\\\\images\\\\output\\\\170109_Inhibitors1_A1_3-0015_branchpoints.png is a low contrast image\\r\\nFri Dec 15 16:55:35 2017: Image # 3, module SaveImages # 19: CPU_time = 0.16 secs, Wall_time = 0.17 secs\\r\\nFri Dec 15 16:55:35 2017: Image # 3, module OverlayOutlines # 20: CPU_time = 0.17 secs, Wall_time = 0.16 secs\\r\\nFri Dec 15 16:55:35 2017: Image # 3, module SaveImages # 21: CPU_time = 0.44 secs, Wall_time = 0.44 secs\\r\\nFri Dec 15 16:55:35 2017: Image # 3, module OverlayOutlines # 22: CPU_time = 0.09 secs, Wall_time = 0.09 secs\\r\\nC:\\\\Users\\\\karhohs\\\\AppData\\\\Local\\\\Temp\\\\_MEI12~1\\\\skimage\\\\io\\\\_io.py:132: UserWarning: C:\\\\Users\\\\karhohs\\\\Documents\\\\GitHub\\\\2017_06_20_Machlus_megakarocyte_differentiation\\\\strategy_ilastik\\\\images\\\\output\\\\170109_Inhibitors1_A1_3-0015_cell_outlines.png is a low contrast image\\r\\nFri Dec 15 16:55:36 2017: Image # 3, module SaveImages # 23: CPU_time = 0.17 secs, Wall_time = 0.17 secs\\r\\nFri Dec 15 16:55:36 2017: Image # 3, module OverlayOutlines # 24: CPU_time = 0.11 secs, Wall_time = 0.10 secs\\r\\nFri Dec 15 16:55:36 2017: Image # 3, module SaveImages # 25: CPU_time = 0.14 secs, Wall_time = 0.16 secs\\r\\nFri Dec 15 16:55:36 2017: Image # 3, module MeasureImageAreaOccupied # 26: CPU_time = 0.05 secs, Wall_time = 0.04 secs\\r\\nFri Dec 15 16:55:36 2017: Image # 3, module MeasureObjectSizeShape # 27: CPU_time = 3.39 secs, Wall_time = 3.40 secs\\r\\nFri Dec 15 16:55:39 2017: Image # 3, module MeasureObjectIntensity # 28: CPU_time = 0.17 secs, Wall_time = 0.16 secs\\r\\nFri Dec 15 16:55:40 2017: Image # 3, module ExportToSpreadsheet # 29: CPU_time = 0.00 secs, Wall_time = 0.00 secs\\r\\nFri Dec 15 16:55:40 2017: Image # 3, module ExportToDatabase # 30: CPU_time = 0.30 secs, Wall_time = 0.32 secs\\r\\nFri Dec 15 16:55:40 2017: Image # 3, module ExportToDatabase # 31: CPU_time = 0.55 secs, Wall_time = 0.54 secs\\r\\nFri Dec 15 16:55:40 2017: Image # 4, module Images # 1: CPU_time = 0.00 secs, Wall_time = 0.00 secs\\r\\nFri Dec 15 16:55:40 2017: Image # 4, module Metadata # 2: CPU_time = 0.00 secs, Wall_time = 0.00 secs\\r\\nFri Dec 15 16:55:40 2017: Image # 4, module NamesAndTypes # 3: CPU_time = 1.36 secs, Wall_time = 0.52 secs\\r\\nFri Dec 15 16:55:41 2017: Image # 4, module Groups # 4: CPU_time = 0.00 secs, Wall_time = 0.00 secs\\r\\nFri Dec 15 16:55:41 2017: Image # 4, module Opening # 5: CPU_time = 0.55 secs, Wall_time = 0.21 secs\\r\\nFri Dec 15 16:55:41 2017: Image # 4, module ImageMath # 6: CPU_time = 0.03 secs, Wall_time = 0.02 secs\\r\\nFri Dec 15 16:55:41 2017: Image # 4, module Closing # 7: CPU_time = 0.38 secs, Wall_time = 0.19 secs\\r\\nFri Dec 15 16:55:41 2017: Image # 4, module Threshold # 8: CPU_time = 0.80 secs, Wall_time = 0.52 secs\\r\\nFri Dec 15 16:55:42 2017: Image # 4, module ImageMath # 9: CPU_time = 0.02 secs, Wall_time = 0.01 secs\\r\\nFri Dec 15 16:55:42 2017: Image # 4, module Threshold # 10: CPU_time = 0.53 secs, Wall_time = 0.51 secs\\r\\nFri Dec 15 16:55:42 2017: Image # 4, module IdentifyPrimaryObjects # 11: CPU_time = 1.22 secs, Wall_time = 1.22 secs\\r\\nFri Dec 15 16:55:44 2017: Image # 4, module IdentifyPrimaryObjects # 12: CPU_time = 0.83 secs, Wall_time = 0.83 secs\\r\\nFri Dec 15 16:55:45 2017: Image # 4, module MeasureObjectSizeShape # 13: CPU_time = 7.06 secs, Wall_time = 7.06 secs\\r\\nFri Dec 15 16:55:52 2017: Image # 4, module FilterObjects # 14: CPU_time = 0.17 secs, Wall_time = 0.17 secs\\r\\nFri Dec 15 16:55:52 2017: Image # 4, module ExpandOrShrinkObjects # 15: CPU_time = 1.25 secs, Wall_time = 1.24 secs\\r\\nFri Dec 15 16:55:53 2017: Image # 4, module ExpandOrShrinkObjects # 16: CPU_time = 0.20 secs, Wall_time = 0.22 secs\\r\\nFri Dec 15 16:55:53 2017: Image # 4, module ConvertObjectsToImage # 17: CPU_time = 0.00 secs, Wall_time = 0.01 secs\\r\\nFri Dec 15 16:55:53 2017: Image # 4, module MeasureObjectSkeleton # 18: CPU_time = 0.91 secs, Wall_time = 0.90 secs\\r\\nC:\\\\Users\\\\karhohs\\\\AppData\\\\Local\\\\Temp\\\\_MEI12~1\\\\skimage\\\\io\\\\_io.py:132: UserWarning: C:\\\\Users\\\\karhohs\\\\Documents\\\\GitHub\\\\2017_06_20_Machlus_megakarocyte_differentiation\\\\strategy_ilastik\\\\images\\\\output\\\\170109_Inhibitors1_A1_4-0010_branchpoints.png is a low contrast image\\r\\nFri Dec 15 16:55:54 2017: Image # 4, module SaveImages # 19: CPU_time = 0.16 secs, Wall_time = 0.16 secs\\r\\nFri Dec 15 16:55:54 2017: Image # 4, module OverlayOutlines # 20: CPU_time = 0.17 secs, Wall_time = 0.16 secs\\r\\nFri Dec 15 16:55:54 2017: Image # 4, module SaveImages # 21: CPU_time = 0.47 secs, Wall_time = 0.47 secs\\r\\nFri Dec 15 16:55:55 2017: Image # 4, module OverlayOutlines # 22: CPU_time = 0.09 secs, Wall_time = 0.09 secs\\r\\nFri Dec 15 16:55:55 2017: Image # 4, module SaveImages # 23: CPU_time = 0.17 secs, Wall_time = 0.17 secs\\r\\nFri Dec 15 16:55:55 2017: Image # 4, module OverlayOutlines # 24: CPU_time = 0.11 secs, Wall_time = 0.10 secs\\r\\nFri Dec 15 16:55:55 2017: Image # 4, module SaveImages # 25: CPU_time = 0.14 secs, Wall_time = 0.15 secs\\r\\nFri Dec 15 16:55:55 2017: Image # 4, module MeasureImageAreaOccupied # 26: CPU_time = 0.03 secs, Wall_time = 0.05 secs\\r\\nFri Dec 15 16:55:56 2017: Image # 4, module MeasureObjectSizeShape # 27: CPU_time = 3.41 secs, Wall_time = 3.40 secs\\r\\nFri Dec 15 16:55:59 2017: Image # 4, module MeasureObjectIntensity # 28: CPU_time = 0.14 secs, Wall_time = 0.15 secs\\r\\nFri Dec 15 16:55:59 2017: Image # 4, module ExportToSpreadsheet # 29: CPU_time = 0.00 secs, Wall_time = 0.00 secs\\r\\nFri Dec 15 16:55:59 2017: Image # 4, module ExportToDatabase # 30: CPU_time = 0.33 secs, Wall_time = 0.35 secs\\r\\nFri Dec 15 16:55:59 2017: Image # 4, module ExportToDatabase # 31: CPU_time = 0.50 secs, Wall_time = 0.51 secs\\r\\nFri Dec 15 16:56:00 2017: Image # 5, module Images # 1: CPU_time = 0.00 secs, Wall_time = 0.00 secs\\r\\nFri Dec 15 16:56:00 2017: Image # 5, module Metadata # 2: CPU_time = 0.00 secs, Wall_time = 0.00 secs\\r\\nFri Dec 15 16:56:00 2017: Image # 5, module NamesAndTypes # 3: CPU_time = 0.47 secs, Wall_time = 0.36 secs\\r\\nFri Dec 15 16:56:00 2017: Image # 5, module Groups # 4: CPU_time = 0.00 secs, Wall_time = 0.00 secs\\r\\nFri Dec 15 16:56:00 2017: Image # 5, module Opening # 5: CPU_time = 0.19 secs, Wall_time = 0.17 secs\\r\\nFri Dec 15 16:56:00 2017: Image # 5, module ImageMath # 6: CPU_time = 0.02 secs, Wall_time = 0.02 secs\\r\\nFri Dec 15 16:56:00 2017: Image # 5, module Closing # 7: CPU_time = 0.16 secs, Wall_time = 0.15 secs\\r\\nFri Dec 15 16:56:01 2017: Image # 5, module Threshold # 8: CPU_time = 0.55 secs, Wall_time = 0.55 secs\\r\\nFri Dec 15 16:56:01 2017: Image # 5, module ImageMath # 9: CPU_time = 0.02 secs, Wall_time = 0.02 secs\\r\\nFri Dec 15 16:56:01 2017: Image # 5, module Threshold # 10: CPU_time = 0.48 secs, Wall_time = 0.46 secs\\r\\nFri Dec 15 16:56:02 2017: Image # 5, module IdentifyPrimaryObjects # 11: CPU_time = 1.19 secs, Wall_time = 1.18 secs\\r\\nFri Dec 15 16:56:03 2017: Image # 5, module IdentifyPrimaryObjects # 12: CPU_time = 0.78 secs, Wall_time = 0.77 secs\\r\\nFri Dec 15 16:56:04 2017: Image # 5, module MeasureObjectSizeShape # 13: CPU_time = 6.86 secs, Wall_time = 6.86 secs\\r\\nFri Dec 15 16:56:11 2017: Image # 5, module FilterObjects # 14: CPU_time = 0.17 secs, Wall_time = 0.18 secs\\r\\nFri Dec 15 16:56:11 2017: Image # 5, module ExpandOrShrinkObjects # 15: CPU_time = 1.38 secs, Wall_time = 1.37 secs\\r\\nFri Dec 15 16:56:12 2017: Image # 5, module ExpandOrShrinkObjects # 16: CPU_time = 0.22 secs, Wall_time = 0.21 secs\\r\\nFri Dec 15 16:56:12 2017: Image # 5, module ConvertObjectsToImage # 17: CPU_time = 0.00 secs, Wall_time = 0.01 secs\\r\\nFri Dec 15 16:56:12 2017: Image # 5, module MeasureObjectSkeleton # 18: CPU_time = 0.88 secs, Wall_time = 0.88 secs\\r\\nC:\\\\Users\\\\karhohs\\\\AppData\\\\Local\\\\Temp\\\\_MEI12~1\\\\skimage\\\\io\\\\_io.py:132: UserWarning: C:\\\\Users\\\\karhohs\\\\Documents\\\\GitHub\\\\2017_06_20_Machlus_megakarocyte_differentiation\\\\strategy_ilastik\\\\images\\\\output\\\\170109_Inhibitors1_A2_1-0015_branchpoints.png is a low contrast image\\r\\nFri Dec 15 16:56:13 2017: Image # 5, module SaveImages # 19: CPU_time = 0.16 secs, Wall_time = 0.16 secs\\r\\nFri Dec 15 16:56:13 2017: Image # 5, module OverlayOutlines # 20: CPU_time = 0.16 secs, Wall_time = 0.16 secs\\r\\nFri Dec 15 16:56:13 2017: Image # 5, module SaveImages # 21: CPU_time = 0.45 secs, Wall_time = 0.45 secs\\r\\nFri Dec 15 16:56:14 2017: Image # 5, module OverlayOutlines # 22: CPU_time = 0.09 secs, Wall_time = 0.10 secs\\r\\nC:\\\\Users\\\\karhohs\\\\AppData\\\\Local\\\\Temp\\\\_MEI12~1\\\\skimage\\\\io\\\\_io.py:132: UserWarning: C:\\\\Users\\\\karhohs\\\\Documents\\\\GitHub\\\\2017_06_20_Machlus_megakarocyte_differentiation\\\\strategy_ilastik\\\\images\\\\output\\\\170109_Inhibitors1_A2_1-0015_cell_outlines.png is a low contrast image\\r\\nFri Dec 15 16:56:14 2017: Image # 5, module SaveImages # 23: CPU_time = 0.17 secs, Wall_time = 0.17 secs\\r\\nFri Dec 15 16:56:14 2017: Image # 5, module OverlayOutlines # 24: CPU_time = 0.11 secs, Wall_time = 0.10 secs\\r\\nC:\\\\Users\\\\karhohs\\\\AppData\\\\Local\\\\Temp\\\\_MEI12~1\\\\skimage\\\\io\\\\_io.py:132: UserWarning: C:\\\\Users\\\\karhohs\\\\Documents\\\\GitHub\\\\2017_06_20_Machlus_megakarocyte_differentiation\\\\strategy_ilastik\\\\images\\\\output\\\\170109_Inhibitors1_A2_1-0015_protrusion_outlines.png is a low contrast image\\r\\nFri Dec 15 16:56:14 2017: Image # 5, module SaveImages # 25: CPU_time = 0.14 secs, Wall_time = 0.15 secs\\r\\nFri Dec 15 16:56:14 2017: Image # 5, module MeasureImageAreaOccupied # 26: CPU_time = 0.03 secs, Wall_time = 0.04 secs\\r\\nFri Dec 15 16:56:14 2017: Image # 5, module MeasureObjectSizeShape # 27: CPU_time = 3.44 secs, Wall_time = 3.42 secs\\r\\nFri Dec 15 16:56:18 2017: Image # 5, module MeasureObjectIntensity # 28: CPU_time = 0.14 secs, Wall_time = 0.14 secs\\r\\nFri Dec 15 16:56:18 2017: Image # 5, module ExportToSpreadsheet # 29: CPU_time = 0.00 secs, Wall_time = 0.00 secs\\r\\nFri Dec 15 16:56:18 2017: Image # 5, module ExportToDatabase # 30: CPU_time = 0.30 secs, Wall_time = 0.33 secs\\r\\nFri Dec 15 16:56:18 2017: Image # 5, module ExportToDatabase # 31: CPU_time = 0.45 secs, Wall_time = 0.47 secs\\r\\nFri Dec 15 16:56:19 2017: Image # 6, module Images # 1: CPU_time = 0.00 secs, Wall_time = 0.00 secs\\r\\nFri Dec 15 16:56:19 2017: Image # 6, module Metadata # 2: CPU_time = 0.00 secs, Wall_time = 0.00 secs\\r\\nFri Dec 15 16:56:19 2017: Image # 6, module NamesAndTypes # 3: CPU_time = 0.52 secs, Wall_time = 0.35 secs\\r\\nFri Dec 15 16:56:19 2017: Image # 6, module Groups # 4: CPU_time = 0.00 secs, Wall_time = 0.00 secs\\r\\nFri Dec 15 16:56:19 2017: Image # 6, module Opening # 5: CPU_time = 0.16 secs, Wall_time = 0.15 secs\\r\\nFri Dec 15 16:56:19 2017: Image # 6, module ImageMath # 6: CPU_time = 0.02 secs, Wall_time = 0.02 secs\\r\\nFri Dec 15 16:56:19 2017: Image # 6, module Closing # 7: CPU_time = 0.17 secs, Wall_time = 0.16 secs\\r\\nFri Dec 15 16:56:20 2017: Image # 6, module Threshold # 8: CPU_time = 0.48 secs, Wall_time = 0.49 secs\\r\\nFri Dec 15 16:56:20 2017: Image # 6, module ImageMath # 9: CPU_time = 0.02 secs, Wall_time = 0.02 secs\\r\\nFri Dec 15 16:56:20 2017: Image # 6, module Threshold # 10: CPU_time = 0.45 secs, Wall_time = 0.45 secs\\r\\nFri Dec 15 16:56:21 2017: Image # 6, module IdentifyPrimaryObjects # 11: CPU_time = 1.22 secs, Wall_time = 1.22 secs\\r\\nFri Dec 15 16:56:22 2017: Image # 6, module IdentifyPrimaryObjects # 12: CPU_time = 0.73 secs, Wall_time = 0.74 secs\\r\\nFri Dec 15 16:56:22 2017: Image # 6, module MeasureObjectSizeShape # 13: CPU_time = 6.84 secs, Wall_time = 6.84 secs\\r\\nFri Dec 15 16:56:29 2017: Image # 6, module FilterObjects # 14: CPU_time = 0.17 secs, Wall_time = 0.17 secs\\r\\nFri Dec 15 16:56:30 2017: Image # 6, module ExpandOrShrinkObjects # 15: CPU_time = 1.34 secs, Wall_time = 1.34 secs\\r\\nFri Dec 15 16:56:31 2017: Image # 6, module ExpandOrShrinkObjects # 16: CPU_time = 0.22 secs, Wall_time = 0.21 secs\\r\\nFri Dec 15 16:56:31 2017: Image # 6, module ConvertObjectsToImage # 17: CPU_time = 0.00 secs, Wall_time = 0.01 secs\\r\\nFri Dec 15 16:56:31 2017: Image # 6, module MeasureObjectSkeleton # 18: CPU_time = 0.95 secs, Wall_time = 0.96 secs\\r\\nC:\\\\Users\\\\karhohs\\\\AppData\\\\Local\\\\Temp\\\\_MEI12~1\\\\skimage\\\\io\\\\_io.py:132: UserWarning: C:\\\\Users\\\\karhohs\\\\Documents\\\\GitHub\\\\2017_06_20_Machlus_megakarocyte_differentiation\\\\strategy_ilastik\\\\images\\\\output\\\\170109_Inhibitors1_A2_3-0000_branchpoints.png is a low contrast image\\r\\nFri Dec 15 16:56:32 2017: Image # 6, module SaveImages # 19: CPU_time = 0.14 secs, Wall_time = 0.14 secs\\r\\nFri Dec 15 16:56:32 2017: Image # 6, module OverlayOutlines # 20: CPU_time = 0.16 secs, Wall_time = 0.16 secs\\r\\nFri Dec 15 16:56:32 2017: Image # 6, module SaveImages # 21: CPU_time = 0.44 secs, Wall_time = 0.44 secs\\r\\nFri Dec 15 16:56:33 2017: Image # 6, module OverlayOutlines # 22: CPU_time = 0.09 secs, Wall_time = 0.09 secs\\r\\nFri Dec 15 16:56:33 2017: Image # 6, module SaveImages # 23: CPU_time = 0.16 secs, Wall_time = 0.16 secs\\r\\nFri Dec 15 16:56:33 2017: Image # 6, module OverlayOutlines # 24: CPU_time = 0.09 secs, Wall_time = 0.11 secs\\r\\nC:\\\\Users\\\\karhohs\\\\AppData\\\\Local\\\\Temp\\\\_MEI12~1\\\\skimage\\\\io\\\\_io.py:132: UserWarning: C:\\\\Users\\\\karhohs\\\\Documents\\\\GitHub\\\\2017_06_20_Machlus_megakarocyte_differentiation\\\\strategy_ilastik\\\\images\\\\output\\\\170109_Inhibitors1_A2_3-0000_protrusion_outlines.png is a low contrast image\\r\\nFri Dec 15 16:56:33 2017: Image # 6, module SaveImages # 25: CPU_time = 0.14 secs, Wall_time = 0.14 secs\\r\\nFri Dec 15 16:56:33 2017: Image # 6, module MeasureImageAreaOccupied # 26: CPU_time = 0.03 secs, Wall_time = 0.03 secs\\r\\nFri Dec 15 16:56:33 2017: Image # 6, module MeasureObjectSizeShape # 27: CPU_time = 3.41 secs, Wall_time = 3.41 secs\\r\\nFri Dec 15 16:56:37 2017: Image # 6, module MeasureObjectIntensity # 28: CPU_time = 0.12 secs, Wall_time = 0.12 secs\\r\\nFri Dec 15 16:56:37 2017: Image # 6, module ExportToSpreadsheet # 29: CPU_time = 0.00 secs, Wall_time = 0.00 secs\\r\\nFri Dec 15 16:56:37 2017: Image # 6, module ExportToDatabase # 30: CPU_time = 0.31 secs, Wall_time = 0.32 secs\\r\\nFri Dec 15 16:56:37 2017: Image # 6, module ExportToDatabase # 31: CPU_time = 0.31 secs, Wall_time = 0.35 secs\\r\\nFri Dec 15 16:56:38 2017: Image # 7, module Images # 1: CPU_time = 0.00 secs, Wall_time = 0.00 secs\\r\\nFri Dec 15 16:56:38 2017: Image # 7, module Metadata # 2: CPU_time = 0.00 secs, Wall_time = 0.00 secs\\r\\nFri Dec 15 16:56:38 2017: Image # 7, module NamesAndTypes # 3: CPU_time = 0.52 secs, Wall_time = 0.35 secs\\r\\nFri Dec 15 16:56:38 2017: Image # 7, module Groups # 4: CPU_time = 0.00 secs, Wall_time = 0.00 secs\\r\\nFri Dec 15 16:56:38 2017: Image # 7, module Opening # 5: CPU_time = 0.14 secs, Wall_time = 0.15 secs\\r\\nFri Dec 15 16:56:38 2017: Image # 7, module ImageMath # 6: CPU_time = 0.00 secs, Wall_time = 0.01 secs\\r\\nFri Dec 15 16:56:38 2017: Image # 7, module Closing # 7: CPU_time = 0.14 secs, Wall_time = 0.15 secs\\r\\nFri Dec 15 16:56:38 2017: Image # 7, module Threshold # 8: CPU_time = 0.47 secs, Wall_time = 0.47 secs\\r\\nFri Dec 15 16:56:39 2017: Image # 7, module ImageMath # 9: CPU_time = 0.02 secs, Wall_time = 0.02 secs\\r\\nFri Dec 15 16:56:39 2017: Image # 7, module Threshold # 10: CPU_time = 0.44 secs, Wall_time = 0.45 secs\\r\\nFri Dec 15 16:56:39 2017: Image # 7, module IdentifyPrimaryObjects # 11: CPU_time = 1.17 secs, Wall_time = 1.17 secs\\r\\nFri Dec 15 16:56:40 2017: Image # 7, module IdentifyPrimaryObjects # 12: CPU_time = 0.78 secs, Wall_time = 0.78 secs\\r\\nFri Dec 15 16:56:41 2017: Image # 7, module MeasureObjectSizeShape # 13: CPU_time = 6.97 secs, Wall_time = 6.96 secs\\r\\nFri Dec 15 16:56:48 2017: Image # 7, module FilterObjects # 14: CPU_time = 0.16 secs, Wall_time = 0.17 secs\\r\\nFri Dec 15 16:56:48 2017: Image # 7, module ExpandOrShrinkObjects # 15: CPU_time = 1.20 secs, Wall_time = 1.19 secs\\r\\nFri Dec 15 16:56:49 2017: Image # 7, module ExpandOrShrinkObjects # 16: CPU_time = 0.17 secs, Wall_time = 0.17 secs\\r\\nFri Dec 15 16:56:50 2017: Image # 7, module ConvertObjectsToImage # 17: CPU_time = 0.00 secs, Wall_time = 0.01 secs\\r\\nFri Dec 15 16:56:50 2017: Image # 7, module MeasureObjectSkeleton # 18: CPU_time = 0.84 secs, Wall_time = 0.86 secs\\r\\nC:\\\\Users\\\\karhohs\\\\AppData\\\\Local\\\\Temp\\\\_MEI12~1\\\\skimage\\\\io\\\\_io.py:132: UserWarning: C:\\\\Users\\\\karhohs\\\\Documents\\\\GitHub\\\\2017_06_20_Machlus_megakarocyte_differentiation\\\\strategy_ilastik\\\\images\\\\output\\\\170109_Inhibitors1_A3_1-0005_branchpoints.png is a low contrast image\\r\\nFri Dec 15 16:56:50 2017: Image # 7, module SaveImages # 19: CPU_time = 0.17 secs, Wall_time = 0.17 secs\\r\\nFri Dec 15 16:56:51 2017: Image # 7, module OverlayOutlines # 20: CPU_time = 0.14 secs, Wall_time = 0.17 secs\\r\\nFri Dec 15 16:56:51 2017: Image # 7, module SaveImages # 21: CPU_time = 0.45 secs, Wall_time = 0.46 secs\\r\\nFri Dec 15 16:56:51 2017: Image # 7, module OverlayOutlines # 22: CPU_time = 0.09 secs, Wall_time = 0.09 secs\\r\\nC:\\\\Users\\\\karhohs\\\\AppData\\\\Local\\\\Temp\\\\_MEI12~1\\\\skimage\\\\io\\\\_io.py:132: UserWarning: C:\\\\Users\\\\karhohs\\\\Documents\\\\GitHub\\\\2017_06_20_Machlus_megakarocyte_differentiation\\\\strategy_ilastik\\\\images\\\\output\\\\170109_Inhibitors1_A3_1-0005_cell_outlines.png is a low contrast image\\r\\nFri Dec 15 16:56:51 2017: Image # 7, module SaveImages # 23: CPU_time = 0.16 secs, Wall_time = 0.16 secs\\r\\nFri Dec 15 16:56:52 2017: Image # 7, module OverlayOutlines # 24: CPU_time = 0.09 secs, Wall_time = 0.10 secs\\r\\nC:\\\\Users\\\\karhohs\\\\AppData\\\\Local\\\\Temp\\\\_MEI12~1\\\\skimage\\\\io\\\\_io.py:132: UserWarning: C:\\\\Users\\\\karhohs\\\\Documents\\\\GitHub\\\\2017_06_20_Machlus_megakarocyte_differentiation\\\\strategy_ilastik\\\\images\\\\output\\\\170109_Inhibitors1_A3_1-0005_protrusion_outlines.png is a low contrast image\\r\\nFri Dec 15 16:56:52 2017: Image # 7, module SaveImages # 25: CPU_time = 0.16 secs, Wall_time = 0.15 secs\\r\\nFri Dec 15 16:56:52 2017: Image # 7, module MeasureImageAreaOccupied # 26: CPU_time = 0.02 secs, Wall_time = 0.03 secs\\r\\nFri Dec 15 16:56:52 2017: Image # 7, module MeasureObjectSizeShape # 27: CPU_time = 3.28 secs, Wall_time = 3.27 secs\\r\\nFri Dec 15 16:56:55 2017: Image # 7, module MeasureObjectIntensity # 28: CPU_time = 0.12 secs, Wall_time = 0.12 secs\\r\\nFri Dec 15 16:56:55 2017: Image # 7, module ExportToSpreadsheet # 29: CPU_time = 0.00 secs, Wall_time = 0.00 secs\\r\\nFri Dec 15 16:56:55 2017: Image # 7, module ExportToDatabase # 30: CPU_time = 0.28 secs, Wall_time = 0.31 secs\\r\\nFri Dec 15 16:56:56 2017: Image # 7, module ExportToDatabase # 31: CPU_time = 0.39 secs, Wall_time = 0.42 secs\\r\\nFri Dec 15 16:56:56 2017: Image # 8, module Images # 1: CPU_time = 0.00 secs, Wall_time = 0.00 secs\\r\\nFri Dec 15 16:56:56 2017: Image # 8, module Metadata # 2: CPU_time = 0.00 secs, Wall_time = 0.00 secs\\r\\nFri Dec 15 16:56:56 2017: Image # 8, module NamesAndTypes # 3: CPU_time = 0.58 secs, Wall_time = 0.37 secs\\r\\nFri Dec 15 16:56:56 2017: Image # 8, module Groups # 4: CPU_time = 0.00 secs, Wall_time = 0.00 secs\\r\\nFri Dec 15 16:56:56 2017: Image # 8, module Opening # 5: CPU_time = 0.14 secs, Wall_time = 0.15 secs\\r\\nFri Dec 15 16:56:56 2017: Image # 8, module ImageMath # 6: CPU_time = 0.02 secs, Wall_time = 0.02 secs\\r\\nFri Dec 15 16:56:56 2017: Image # 8, module Closing # 7: CPU_time = 0.16 secs, Wall_time = 0.16 secs\\r\\nFri Dec 15 16:56:57 2017: Image # 8, module Threshold # 8: CPU_time = 0.50 secs, Wall_time = 0.49 secs\\r\\nFri Dec 15 16:56:57 2017: Image # 8, module ImageMath # 9: CPU_time = 0.02 secs, Wall_time = 0.01 secs\\r\\nFri Dec 15 16:56:57 2017: Image # 8, module Threshold # 10: CPU_time = 0.45 secs, Wall_time = 0.45 secs\\r\\nFri Dec 15 16:56:58 2017: Image # 8, module IdentifyPrimaryObjects # 11: CPU_time = 1.16 secs, Wall_time = 1.15 secs\\r\\nFri Dec 15 16:56:59 2017: Image # 8, module IdentifyPrimaryObjects # 12: CPU_time = 0.72 secs, Wall_time = 0.72 secs\\r\\nFri Dec 15 16:57:00 2017: Image # 8, module MeasureObjectSizeShape # 13: CPU_time = 6.86 secs, Wall_time = 6.85 secs\\r\\nFri Dec 15 16:57:06 2017: Image # 8, module FilterObjects # 14: CPU_time = 0.17 secs, Wall_time = 0.17 secs\\r\\nFri Dec 15 16:57:07 2017: Image # 8, module ExpandOrShrinkObjects # 15: CPU_time = 1.20 secs, Wall_time = 1.21 secs\\r\\nFri Dec 15 16:57:08 2017: Image # 8, module ExpandOrShrinkObjects # 16: CPU_time = 0.16 secs, Wall_time = 0.16 secs\\r\\nFri Dec 15 16:57:08 2017: Image # 8, module ConvertObjectsToImage # 17: CPU_time = 0.02 secs, Wall_time = 0.01 secs\\r\\nFri Dec 15 16:57:08 2017: Image # 8, module MeasureObjectSkeleton # 18: CPU_time = 0.86 secs, Wall_time = 0.86 secs\\r\\nC:\\\\Users\\\\karhohs\\\\AppData\\\\Local\\\\Temp\\\\_MEI12~1\\\\skimage\\\\io\\\\_io.py:132: UserWarning: C:\\\\Users\\\\karhohs\\\\Documents\\\\GitHub\\\\2017_06_20_Machlus_megakarocyte_differentiation\\\\strategy_ilastik\\\\images\\\\output\\\\170109_Inhibitors1_A3_3-0022_branchpoints.png is a low contrast image\\r\\nFri Dec 15 16:57:09 2017: Image # 8, module SaveImages # 19: CPU_time = 0.16 secs, Wall_time = 0.16 secs\\r\\nFri Dec 15 16:57:09 2017: Image # 8, module OverlayOutlines # 20: CPU_time = 0.16 secs, Wall_time = 0.15 secs\\r\\nFri Dec 15 16:57:09 2017: Image # 8, module SaveImages # 21: CPU_time = 0.42 secs, Wall_time = 0.43 secs\\r\\nFri Dec 15 16:57:10 2017: Image # 8, module OverlayOutlines # 22: CPU_time = 0.08 secs, Wall_time = 0.09 secs\\r\\nFri Dec 15 16:57:10 2017: Image # 8, module SaveImages # 23: CPU_time = 0.16 secs, Wall_time = 0.15 secs\\r\\nFri Dec 15 16:57:10 2017: Image # 8, module OverlayOutlines # 24: CPU_time = 0.09 secs, Wall_time = 0.10 secs\\r\\nC:\\\\Users\\\\karhohs\\\\AppData\\\\Local\\\\Temp\\\\_MEI12~1\\\\skimage\\\\io\\\\_io.py:132: UserWarning: C:\\\\Users\\\\karhohs\\\\Documents\\\\GitHub\\\\2017_06_20_Machlus_megakarocyte_differentiation\\\\strategy_ilastik\\\\images\\\\output\\\\170109_Inhibitors1_A3_3-0022_protrusion_outlines.png is a low contrast image\\r\\nFri Dec 15 16:57:10 2017: Image # 8, module SaveImages # 25: CPU_time = 0.16 secs, Wall_time = 0.15 secs\\r\\nFri Dec 15 16:57:10 2017: Image # 8, module MeasureImageAreaOccupied # 26: CPU_time = 0.05 secs, Wall_time = 0.04 secs\\r\\nFri Dec 15 16:57:10 2017: Image # 8, module MeasureObjectSizeShape # 27: CPU_time = 3.28 secs, Wall_time = 3.31 secs\\r\\nFri Dec 15 16:57:13 2017: Image # 8, module MeasureObjectIntensity # 28: CPU_time = 0.12 secs, Wall_time = 0.12 secs\\r\\nFri Dec 15 16:57:14 2017: Image # 8, module ExportToSpreadsheet # 29: CPU_time = 0.00 secs, Wall_time = 0.00 secs\\r\\nFri Dec 15 16:57:14 2017: Image # 8, module ExportToDatabase # 30: CPU_time = 0.36 secs, Wall_time = 0.40 secs\\r\\nFri Dec 15 16:57:14 2017: Image # 8, module ExportToDatabase # 31: CPU_time = 0.50 secs, Wall_time = 0.51 secs\\r\\nFri Dec 15 16:57:14 2017: Image # 9, module Images # 1: CPU_time = 0.00 secs, Wall_time = 0.00 secs\\r\\nFri Dec 15 16:57:14 2017: Image # 9, module Metadata # 2: CPU_time = 0.00 secs, Wall_time = 0.00 secs\\r\\nFri Dec 15 16:57:14 2017: Image # 9, module NamesAndTypes # 3: CPU_time = 0.75 secs, Wall_time = 0.42 secs\\r\\nFri Dec 15 16:57:15 2017: Image # 9, module Groups # 4: CPU_time = 0.00 secs, Wall_time = 0.00 secs\\r\\nFri Dec 15 16:57:15 2017: Image # 9, module Opening # 5: CPU_time = 0.17 secs, Wall_time = 0.16 secs\\r\\nFri Dec 15 16:57:15 2017: Image # 9, module ImageMath # 6: CPU_time = 0.02 secs, Wall_time = 0.01 secs\\r\\nFri Dec 15 16:57:15 2017: Image # 9, module Closing # 7: CPU_time = 0.16 secs, Wall_time = 0.14 secs\\r\\nFri Dec 15 16:57:15 2017: Image # 9, module Threshold # 8: CPU_time = 0.45 secs, Wall_time = 0.46 secs\\r\\nFri Dec 15 16:57:16 2017: Image # 9, module ImageMath # 9: CPU_time = 0.02 secs, Wall_time = 0.01 secs\\r\\nFri Dec 15 16:57:16 2017: Image # 9, module Threshold # 10: CPU_time = 0.45 secs, Wall_time = 0.46 secs\\r\\nFri Dec 15 16:57:16 2017: Image # 9, module IdentifyPrimaryObjects # 11: CPU_time = 1.19 secs, Wall_time = 1.19 secs\\r\\nFri Dec 15 16:57:17 2017: Image # 9, module IdentifyPrimaryObjects # 12: CPU_time = 0.78 secs, Wall_time = 0.77 secs\\r\\nFri Dec 15 16:57:18 2017: Image # 9, module MeasureObjectSizeShape # 13: CPU_time = 6.81 secs, Wall_time = 6.81 secs\\r\\nFri Dec 15 16:57:25 2017: Image # 9, module FilterObjects # 14: CPU_time = 0.19 secs, Wall_time = 0.19 secs\\r\\nFri Dec 15 16:57:25 2017: Image # 9, module ExpandOrShrinkObjects # 15: CPU_time = 1.39 secs, Wall_time = 1.38 secs\\r\\nFri Dec 15 16:57:26 2017: Image # 9, module ExpandOrShrinkObjects # 16: CPU_time = 0.20 secs, Wall_time = 0.20 secs\\r\\nFri Dec 15 16:57:27 2017: Image # 9, module ConvertObjectsToImage # 17: CPU_time = 0.02 secs, Wall_time = 0.01 secs\\r\\nFri Dec 15 16:57:27 2017: Image # 9, module MeasureObjectSkeleton # 18: CPU_time = 0.92 secs, Wall_time = 0.93 secs\\r\\nC:\\\\Users\\\\karhohs\\\\AppData\\\\Local\\\\Temp\\\\_MEI12~1\\\\skimage\\\\io\\\\_io.py:132: UserWarning: C:\\\\Users\\\\karhohs\\\\Documents\\\\GitHub\\\\2017_06_20_Machlus_megakarocyte_differentiation\\\\strategy_ilastik\\\\images\\\\output\\\\170109_Inhibitors2_C2_4-0000_branchpoints.png is a low contrast image\\r\\nFri Dec 15 16:57:28 2017: Image # 9, module SaveImages # 19: CPU_time = 0.14 secs, Wall_time = 0.14 secs\\r\\nFri Dec 15 16:57:28 2017: Image # 9, module OverlayOutlines # 20: CPU_time = 0.16 secs, Wall_time = 0.15 secs\\r\\nFri Dec 15 16:57:28 2017: Image # 9, module SaveImages # 21: CPU_time = 0.45 secs, Wall_time = 0.44 secs\\r\\nFri Dec 15 16:57:28 2017: Image # 9, module OverlayOutlines # 22: CPU_time = 0.09 secs, Wall_time = 0.09 secs\\r\\nC:\\\\Users\\\\karhohs\\\\AppData\\\\Local\\\\Temp\\\\_MEI12~1\\\\skimage\\\\io\\\\_io.py:132: UserWarning: C:\\\\Users\\\\karhohs\\\\Documents\\\\GitHub\\\\2017_06_20_Machlus_megakarocyte_differentiation\\\\strategy_ilastik\\\\images\\\\output\\\\170109_Inhibitors2_C2_4-0000_cell_outlines.png is a low contrast image\\r\\nFri Dec 15 16:57:28 2017: Image # 9, module SaveImages # 23: CPU_time = 0.14 secs, Wall_time = 0.15 secs\\r\\nFri Dec 15 16:57:29 2017: Image # 9, module OverlayOutlines # 24: CPU_time = 0.09 secs, Wall_time = 0.10 secs\\r\\nC:\\\\Users\\\\karhohs\\\\AppData\\\\Local\\\\Temp\\\\_MEI12~1\\\\skimage\\\\io\\\\_io.py:132: UserWarning: C:\\\\Users\\\\karhohs\\\\Documents\\\\GitHub\\\\2017_06_20_Machlus_megakarocyte_differentiation\\\\strategy_ilastik\\\\images\\\\output\\\\170109_Inhibitors2_C2_4-0000_protrusion_outlines.png is a low contrast image\\r\\nFri Dec 15 16:57:29 2017: Image # 9, module SaveImages # 25: CPU_time = 0.12 secs, Wall_time = 0.14 secs\\r\\nFri Dec 15 16:57:29 2017: Image # 9, module MeasureImageAreaOccupied # 26: CPU_time = 0.05 secs, Wall_time = 0.03 secs\\r\\nFri Dec 15 16:57:29 2017: Image # 9, module MeasureObjectSizeShape # 27: CPU_time = 3.42 secs, Wall_time = 3.44 secs\\r\\nFri Dec 15 16:57:32 2017: Image # 9, module MeasureObjectIntensity # 28: CPU_time = 0.12 secs, Wall_time = 0.12 secs\\r\\nFri Dec 15 16:57:32 2017: Image # 9, module ExportToSpreadsheet # 29: CPU_time = 0.00 secs, Wall_time = 0.00 secs\\r\\nFri Dec 15 16:57:32 2017: Image # 9, module ExportToDatabase # 30: CPU_time = 0.27 secs, Wall_time = 0.27 secs\\r\\nFri Dec 15 16:57:33 2017: Image # 9, module ExportToDatabase # 31: CPU_time = 0.38 secs, Wall_time = 0.39 secs\\r\\nFri Dec 15 16:57:33 2017: Image # 10, module Images # 1: CPU_time = 0.00 secs, Wall_time = 0.00 secs\\r\\nFri Dec 15 16:57:33 2017: Image # 10, module Metadata # 2: CPU_time = 0.00 secs, Wall_time = 0.00 secs\\r\\nFri Dec 15 16:57:33 2017: Image # 10, module NamesAndTypes # 3: CPU_time = 0.36 secs, Wall_time = 0.38 secs\\r\\nFri Dec 15 16:57:34 2017: Image # 10, module Groups # 4: CPU_time = 0.00 secs, Wall_time = 0.00 secs\\r\\nFri Dec 15 16:57:34 2017: Image # 10, module Opening # 5: CPU_time = 0.17 secs, Wall_time = 0.15 secs\\r\\nFri Dec 15 16:57:34 2017: Image # 10, module ImageMath # 6: CPU_time = 0.03 secs, Wall_time = 0.01 secs\\r\\nFri Dec 15 16:57:34 2017: Image # 10, module Closing # 7: CPU_time = 0.16 secs, Wall_time = 0.16 secs\\r\\nFri Dec 15 16:57:34 2017: Image # 10, module Threshold # 8: CPU_time = 0.47 secs, Wall_time = 0.47 secs\\r\\nFri Dec 15 16:57:34 2017: Image # 10, module ImageMath # 9: CPU_time = 0.02 secs, Wall_time = 0.01 secs\\r\\nFri Dec 15 16:57:34 2017: Image # 10, module Threshold # 10: CPU_time = 0.47 secs, Wall_time = 0.46 secs\\r\\nFri Dec 15 16:57:35 2017: Image # 10, module IdentifyPrimaryObjects # 11: CPU_time = 1.23 secs, Wall_time = 1.23 secs\\r\\nFri Dec 15 16:57:36 2017: Image # 10, module IdentifyPrimaryObjects # 12: CPU_time = 0.81 secs, Wall_time = 0.81 secs\\r\\nFri Dec 15 16:57:37 2017: Image # 10, module MeasureObjectSizeShape # 13: CPU_time = 7.67 secs, Wall_time = 7.69 secs\\r\\nFri Dec 15 16:57:45 2017: Image # 10, module FilterObjects # 14: CPU_time = 0.22 secs, Wall_time = 0.22 secs\\r\\nFri Dec 15 16:57:45 2017: Image # 10, module ExpandOrShrinkObjects # 15: CPU_time = 1.44 secs, Wall_time = 1.45 secs\\r\\nFri Dec 15 16:57:46 2017: Image # 10, module ExpandOrShrinkObjects # 16: CPU_time = 0.28 secs, Wall_time = 0.28 secs\\r\\nFri Dec 15 16:57:46 2017: Image # 10, module ConvertObjectsToImage # 17: CPU_time = 0.02 secs, Wall_time = 0.01 secs\\r\\nFri Dec 15 16:57:47 2017: Image # 10, module MeasureObjectSkeleton # 18: CPU_time = 1.05 secs, Wall_time = 1.04 secs\\r\\nC:\\\\Users\\\\karhohs\\\\AppData\\\\Local\\\\Temp\\\\_MEI12~1\\\\skimage\\\\io\\\\_io.py:132: UserWarning: C:\\\\Users\\\\karhohs\\\\Documents\\\\GitHub\\\\2017_06_20_Machlus_megakarocyte_differentiation\\\\strategy_ilastik\\\\images\\\\output\\\\170109_Inhibitors2_C2_4-0003_branchpoints.png is a low contrast image\\r\\nFri Dec 15 16:57:48 2017: Image # 10, module SaveImages # 19: CPU_time = 0.20 secs, Wall_time = 0.20 secs\\r\\nFri Dec 15 16:57:48 2017: Image # 10, module OverlayOutlines # 20: CPU_time = 0.16 secs, Wall_time = 0.16 secs\\r\\nFri Dec 15 16:57:48 2017: Image # 10, module SaveImages # 21: CPU_time = 0.52 secs, Wall_time = 0.51 secs\\r\\nFri Dec 15 16:57:48 2017: Image # 10, module OverlayOutlines # 22: CPU_time = 0.11 secs, Wall_time = 0.11 secs\\r\\nC:\\\\Users\\\\karhohs\\\\AppData\\\\Local\\\\Temp\\\\_MEI12~1\\\\skimage\\\\io\\\\_io.py:132: UserWarning: C:\\\\Users\\\\karhohs\\\\Documents\\\\GitHub\\\\2017_06_20_Machlus_megakarocyte_differentiation\\\\strategy_ilastik\\\\images\\\\output\\\\170109_Inhibitors2_C2_4-0003_cell_outlines.png is a low contrast image\\r\\nFri Dec 15 16:57:49 2017: Image # 10, module SaveImages # 23: CPU_time = 0.17 secs, Wall_time = 0.18 secs\\r\\nFri Dec 15 16:57:49 2017: Image # 10, module OverlayOutlines # 24: CPU_time = 0.11 secs, Wall_time = 0.11 secs\\r\\nC:\\\\Users\\\\karhohs\\\\AppData\\\\Local\\\\Temp\\\\_MEI12~1\\\\skimage\\\\io\\\\_io.py:132: UserWarning: C:\\\\Users\\\\karhohs\\\\Documents\\\\GitHub\\\\2017_06_20_Machlus_megakarocyte_differentiation\\\\strategy_ilastik\\\\images\\\\output\\\\170109_Inhibitors2_C2_4-0003_protrusion_outlines.png is a low contrast image\\r\\nFri Dec 15 16:57:49 2017: Image # 10, module SaveImages # 25: CPU_time = 0.17 secs, Wall_time = 0.18 secs\\r\\nFri Dec 15 16:57:49 2017: Image # 10, module MeasureImageAreaOccupied # 26: CPU_time = 0.03 secs, Wall_time = 0.04 secs\\r\\nFri Dec 15 16:57:49 2017: Image # 10, module MeasureObjectSizeShape # 27: CPU_time = 3.61 secs, Wall_time = 3.61 secs\\r\\nFri Dec 15 16:57:53 2017: Image # 10, module MeasureObjectIntensity # 28: CPU_time = 0.16 secs, Wall_time = 0.16 secs\\r\\nFri Dec 15 16:57:53 2017: Image # 10, module ExportToSpreadsheet # 29: CPU_time = 0.00 secs, Wall_time = 0.00 secs\\r\\nFri Dec 15 16:57:53 2017: Image # 10, module ExportToDatabase # 30: CPU_time = 0.31 secs, Wall_time = 0.34 secs\\r\\nFri Dec 15 16:57:53 2017: Image # 10, module ExportToDatabase # 31: CPU_time = 0.45 secs, Wall_time = 0.48 secs\\r\\n'"
     ]
    },
    {
     "name": "stdout",
     "output_type": "stream",
     "text": [
      "\n"
     ]
    }
   ],
   "source": [
    "print(err)"
   ]
  },
  {
   "cell_type": "code",
   "execution_count": null,
   "metadata": {},
   "outputs": [],
   "source": []
  }
 ],
 "metadata": {
  "kernelspec": {
   "display_name": "Python 3",
   "language": "python",
   "name": "python3"
  },
  "language_info": {
   "codemirror_mode": {
    "name": "ipython",
    "version": 3
   },
   "file_extension": ".py",
   "mimetype": "text/x-python",
   "name": "python",
   "nbconvert_exporter": "python",
   "pygments_lexer": "ipython3",
   "version": "3.6.3"
  }
 },
 "nbformat": 4,
 "nbformat_minor": 2
}
