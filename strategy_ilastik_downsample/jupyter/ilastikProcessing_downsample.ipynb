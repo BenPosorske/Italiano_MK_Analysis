{
 "cells": [
  {
   "cell_type": "markdown",
   "metadata": {},
   "source": [
    "# ilastikProcessing\n",
    "To effectively use ilastik some formating must be done before and after ilastik processes the images. The input is assumed to be a time-series of images stored in a multi-page TIFF."
   ]
  },
  {
   "cell_type": "code",
   "execution_count": 2,
   "metadata": {},
   "outputs": [],
   "source": [
    "%matplotlib inline\n",
    "import glob\n",
    "import h5py\n",
    "import matplotlib\n",
    "import numpy\n",
    "import os\n",
    "import os.path\n",
    "import pandas\n",
    "import re\n",
    "import skimage\n",
    "import skimage.exposure\n",
    "import skimage.io\n",
    "import skimage.transform\n",
    "import subprocess\n",
    "from tqdm._tqdm_notebook import tqdm_notebook"
   ]
  },
  {
   "cell_type": "markdown",
   "metadata": {},
   "source": [
    "# Unpack (or separate) input images into single files.\n",
    "\n",
    "## Update input image variables\n",
    "Update the variable *image_directory* with the path to a folder that contains the input images. Update the *regex_image* variable to process only the images that match the regular expression. If the *regex_image* variable is equal to `(.*)\\.tif`, then any *.tif* in the folder will be processed.\n",
    "\n",
    "If a filename matches the *regex_single* regular expression, then it is assumed that this image has already been unpacked. An unpacked single image will have timepoint appended to the end of the file following the pattern `\\-\\d{4}\\.tif`\n",
    "\n",
    "*path_to_ilastik* is a string with the path to the ilastik software for [running headless](http://ilastik.org/documentation/basics/headless.html)."
   ]
  },
  {
   "cell_type": "code",
   "execution_count": 9,
   "metadata": {},
   "outputs": [],
   "source": [
    "image_directory = r\"C:\\Users\\karhohs\\Documents\\GitHub\\2017_06_20_Machlus_megakarocyte_differentiation\\strategy_ilastik_downsample\\images\"\n",
    "path_to_ilastik = r\"C:\\Program Files\\ilastik-1.2.2rc4\\run-ilastik.bat\"\n",
    "path_to_project = r\"C:\\Users\\karhohs\\Documents\\GitHub\\2017_06_20_Machlus_megakarocyte_differentiation\\strategy_ilastik_downsample\\ilastik\\Mouse_MK_training_Dec_2017.ilp\"\n",
    "path_to_cellprofiler = r\"C:\\Program Files (x86)\\CellProfiler_3_0_0\\CellProfiler.exe\"\n",
    "path_to_cp_pipeline = r\"C:\\Users\\karhohs\\Documents\\GitHub\\2017_06_20_Machlus_megakarocyte_differentiation\\strategy_ilastik\\pipelines\\quantify_ilastik_no_model_cp3.cppipe\"\n",
    "regex_image = \"(.*)\\.tif\"\n",
    "regex_single = \".*\\-\\d{4}\\.tif\"\n",
    "re_image = re.compile(regex_image)\n",
    "re_single = re.compile(regex_single)"
   ]
  },
  {
   "cell_type": "code",
   "execution_count": 4,
   "metadata": {},
   "outputs": [],
   "source": [
    "os.makedirs(os.path.join(image_directory, \"single_images\"), exist_ok=True)\n",
    "imdir_single = os.path.join(image_directory,\"single_images\")\n",
    "os.makedirs(os.path.join(image_directory, \"ilastik\"), exist_ok=True)\n",
    "imdir_ilastik = os.path.join(image_directory,\"ilastik\")\n",
    "os.makedirs(os.path.join(image_directory, \"output\"), exist_ok=True)\n",
    "output_directory = os.path.join(image_directory,\"output\")"
   ]
  },
  {
   "cell_type": "markdown",
   "metadata": {},
   "source": [
    "## Methods to import image metadata\n",
    "* *is_my_file* will use the regular expression to filter image files to be processed.\n",
    "* *make_dict* parses a file to be processed and places metadata into a dictionary.\n",
    "\n",
    "Parse the files to be processed and then place the metadata into a Pandas dataframe."
   ]
  },
  {
   "cell_type": "code",
   "execution_count": 5,
   "metadata": {},
   "outputs": [],
   "source": [
    "def is_my_file(filename, re_image, re_single):\n",
    "    \n",
    "    mybool = False\n",
    "    \n",
    "    if (    re_image.match(filename) != None \n",
    "        and re_single.match(filename) == None\n",
    "       ):\n",
    "        \n",
    "        mybool = True\n",
    "        \n",
    "    return mybool\n",
    "\n",
    "\n",
    "def make_dict(filename, path, re_obj):\n",
    "    \n",
    "    my_dict = re_obj.match(filename).groupdict()\n",
    "    \n",
    "    my_dict[\"filename\"] = filename\n",
    "    \n",
    "    my_dict[\"path\"] = path\n",
    "    \n",
    "    return my_dict"
   ]
  },
  {
   "cell_type": "code",
   "execution_count": 6,
   "metadata": {},
   "outputs": [],
   "source": [
    "image_files_dict = [make_dict(f, image_directory, re_image) for f in os.listdir(image_directory) if is_my_file(f, re_image, re_single)]\n",
    "image_df = pandas.DataFrame(image_files_dict)"
   ]
  },
  {
   "cell_type": "markdown",
   "metadata": {},
   "source": [
    "## Unpack the multi-page TIFF images\n",
    "For every image, create a single image file for each timepoint. The input images are assumed to be RGB, which has 3 dimensions (length, width, color). The multipage TIFF of RGB images will have 4 dimensions (timepoints, length, width, color). \n",
    "\n",
    "*If the upstream workflow changes and the input image format is altered, then the conditional logic below will need to be updated, specifically the logic based on the shape of the input images.*\n",
    "\n",
    "### Are the images across experiments similar enough to treat equally\n",
    "One concern is that overfitting from training a classification model either through ilastik or CellProfiler analyst. The training set needs to be representative of the possibility space. This is accomplished by choosing a large enough image set that includes images of all states of interest including undifferentiated and fully differentiated megakaryocytes.\n",
    "\n",
    "We also want to eliminate noise from known sources of variablity that could potentially weaken the classifier. The primary sources of noise in the images will be non-uniform illumination and differences in exposure. Non-uniform illumination is difficult to correct, because the background is actually in the middle of the intensity range and the signal occupies both high and low intensities.\n",
    "\n"
   ]
  },
  {
   "cell_type": "code",
   "execution_count": 17,
   "metadata": {},
   "outputs": [],
   "source": [
    "#filelist = glob.glob(r\"C:\\Users\\karhohs\\Documents\\GitHub\\2017_06_20_Machlus_megakarocyte_differentiation\\strategy_ilastik_downsample\\images\\single_images\\*.tif\")\n",
    "\n",
    "#for f in filelist:\n",
    "    \n",
    "#    im = skimage.io.imread(f)\n",
    "    \n",
    "#    im2 = skimage.transform.rescale(im, 0.5)\n",
    "        \n",
    "#    im2 = skimage.color.rgb2gray(im2)\n",
    "        \n",
    "#    im2 = skimage.img_as_ubyte(im2)\n",
    "\n",
    "#    skimage.io.imsave(f, im2)"
   ]
  },
  {
   "cell_type": "code",
   "execution_count": 18,
   "metadata": {},
   "outputs": [],
   "source": [
    "def df_stack_image(p):\n",
    "    \n",
    "    im = skimage.io.imread(os.path.join(p[\"path\"], p[\"filename\"]))\n",
    "    \n",
    "    if len(im.shape) < 4:\n",
    "        \n",
    "        retest = re_image.match(p[\"filename\"])\n",
    "\n",
    "        retest.group(1)\n",
    "\n",
    "        fname = \"{0}-{1:04d}.tif\".format(retest.group(1), 0)\n",
    "        \n",
    "        im2 = skimage.transform.rescale(im, 0.5)\n",
    "        \n",
    "        im2 = skimage.color.rgb2gray(im2)\n",
    "        \n",
    "        im2 = skimage.img_as_ubyte(im2)\n",
    "        \n",
    "        skimage.io.imsave(os.path.join(p[\"path\"], fname), im2)\n",
    "        \n",
    "    else:\n",
    "    \n",
    "        number_of_timepoints = im.shape[0]\n",
    "\n",
    "        for i in range(number_of_timepoints):\n",
    "\n",
    "            retest = re_image.match(p[\"filename\"])\n",
    "\n",
    "            retest.group(1)\n",
    "\n",
    "            fname = \"{0}-{1:04d}.tif\".format(retest.group(1), i)\n",
    "            \n",
    "            im2 = skimage.transform.rescale(im[i,:,:,:], 0.5)\n",
    "            \n",
    "            im2 = skimage.color.rgb2gray(im2)\n",
    "        \n",
    "            im2 = skimage.img_as_ubyte(im2)\n",
    "            \n",
    "            im2 = skimage.transform.rescale(im2, 0.5)\n",
    "\n",
    "            skimage.io.imsave(os.path.join(p[\"path\"], \"single_images\", fname), im2)"
   ]
  },
  {
   "cell_type": "code",
   "execution_count": 10,
   "metadata": {
    "scrolled": true
   },
   "outputs": [
    {
     "name": "stdout",
     "output_type": "stream",
     "text": [
      "no images to unpack\n"
     ]
    }
   ],
   "source": [
    "if image_df.empty is False:\n",
    "    \n",
    "    # Note that this can fail if the input images aren't in the expected format\n",
    "    # If you receive an error, double check the format of the input images, e.g. are they RGB?\n",
    "    tqdm_notebook.pandas(desc=\"unpack\")\n",
    "    _ = image_df.progress_apply(df_stack_image, axis=1)\n",
    "\n",
    "else:\n",
    "    \n",
    "    print(\"no images to unpack\")"
   ]
  },
  {
   "cell_type": "markdown",
   "metadata": {
    "collapsed": true
   },
   "source": [
    "# Run ilastik\n",
    "\n",
    "Using the single images created earlier, process the images using ilastik. First, create another dataframe with the single image metadata. Note, this has been written for running on Windows.\n",
    "\n",
    "## Process ilastik output for CellProfiler\n",
    "ilastik will output and HDF5 file that must be parsed for use as input to CellProfiler. This workflow assumes the default export settings are being used in ilastik. We have observed performance costs when changing the exporting settings to formats beyond the standard ilastik HDF5 file. For example, exporting TIFF images changes the shape of the exported data from yxc (the default) to cyx. This rearrangement will cause downstream errors, because the code as written expects the channel to be the third dimension.\n",
    "\n",
    "### ilastik stage-2 labels\n",
    "The project file *Mouse_MK.ilp* has the following labels that are stored in the same order within the HDF5 output.\n",
    "1. background\n",
    "1. border_white\n",
    "1. cell\n",
    "1. protrusion\n",
    "1. background_border\n",
    "1. not_cell"
   ]
  },
  {
   "cell_type": "code",
   "execution_count": 13,
   "metadata": {},
   "outputs": [],
   "source": [
    "def is_my_file(filename, re_obj):\n",
    "    \n",
    "    mybool = False\n",
    "    \n",
    "    if re_obj.match(filename) != None:\n",
    "        \n",
    "        mybool = True\n",
    "        \n",
    "    return mybool\n",
    "\n",
    "\n",
    "def make_dict(filename, path, re_obj):\n",
    "    \n",
    "    my_dict = re_obj.match(filename).groupdict()\n",
    "    \n",
    "    my_dict[\"filename\"] = filename\n",
    "    \n",
    "    my_dict[\"path\"] = path\n",
    "    \n",
    "    return my_dict"
   ]
  },
  {
   "cell_type": "code",
   "execution_count": 15,
   "metadata": {},
   "outputs": [],
   "source": [
    "image_files_dict = [make_dict(f, imdir_single, re_single) for f in os.listdir(imdir_single) if is_my_file(f, re_single)]\n",
    "image_df = pandas.DataFrame(image_files_dict)"
   ]
  },
  {
   "cell_type": "code",
   "execution_count": 16,
   "metadata": {},
   "outputs": [],
   "source": [
    "def df_ilastik(p):\n",
    "    \n",
    "    filename = os.path.join(p[\"path\"], p[\"filename\"])\n",
    "    \n",
    "    filename_noext = os.path.splitext(p[\"filename\"])[0]\n",
    "    \n",
    "    filename_h5 = \"{}_Probabilities Stage 2.h5\".format(filename_noext)\n",
    "    \n",
    "    # Run ilastik using subprocess\n",
    "    \n",
    "    process = subprocess.Popen([path_to_ilastik, \n",
    "                  \"--headless\",\n",
    "                  \"--export_source=probabilities stage 2\",\n",
    "                  \"--output_format=hdf5\",\n",
    "                  r\"--project={}\".format(path_to_project),\n",
    "                  filename\n",
    "                 ], stdout=subprocess.PIPE)\n",
    "    \n",
    "    out, err = process.communicate()\n",
    "    \n",
    "    # unpack the HDF5 file\n",
    "    \n",
    "    label_list = [\"background\", \"protrusion\", \"cell_boundary\", \"cell\"]\n",
    "    \n",
    "    path_h5 = os.path.join(p[\"path\"], filename_h5)\n",
    "    \n",
    "    with h5py.File(path_h5, \"r\") as ilastik_hdf5:\n",
    "    \n",
    "        ilastik_probabilities = ilastik_hdf5[\"exported_data\"].value\n",
    "    \n",
    "        for i in range(ilastik_probabilities.shape[2]):\n",
    "            im = skimage.img_as_uint(ilastik_probabilities[:, :, i])\n",
    "        \n",
    "            filename_slice = \"{}_{}_prbstg2_{}.png\".format(filename_noext, label_list[i], i)\n",
    "        \n",
    "            skimage.io.imsave(os.path.join(p[\"path\"], \"..\", \"ilastik\", filename_slice), im)\n",
    "    \n",
    "    os.remove(path_h5)"
   ]
  },
  {
   "cell_type": "code",
   "execution_count": null,
   "metadata": {
    "scrolled": true
   },
   "outputs": [
    {
     "data": {
      "application/vnd.jupyter.widget-view+json": {
       "model_id": "72e697cc3cf44c1b9aeb2fb29fadbc66",
       "version_major": 2,
       "version_minor": 0
      },
      "text/html": [
       "<p>Failed to display Jupyter Widget of type <code>HBox</code>.</p>\n",
       "<p>\n",
       "  If you're reading this message in Jupyter Notebook or JupyterLab, it may mean\n",
       "  that the widgets JavaScript is still loading. If this message persists, it\n",
       "  likely means that the widgets JavaScript library is either not installed or\n",
       "  not enabled. See the <a href=\"https://ipywidgets.readthedocs.io/en/stable/user_install.html\">Jupyter\n",
       "  Widgets Documentation</a> for setup instructions.\n",
       "</p>\n",
       "<p>\n",
       "  If you're reading this message in another notebook frontend (for example, a static\n",
       "  rendering on GitHub or <a href=\"https://nbviewer.jupyter.org/\">NBViewer</a>),\n",
       "  it may mean that your frontend doesn't currently support widgets.\n",
       "</p>\n"
      ],
      "text/plain": [
       "HBox(children=(IntProgress(value=0, description='run ilastik', max=10), HTML(value='')))"
      ]
     },
     "metadata": {},
     "output_type": "display_data"
    },
    {
     "name": "stderr",
     "output_type": "stream",
     "text": [
      "C:\\Users\\karhohs\\AppData\\Local\\Continuum\\Miniconda3\\envs\\bioimg\\lib\\site-packages\\skimage\\util\\dtype.py:122: UserWarning: Possible precision loss when converting from float32 to uint16\n",
      "  .format(dtypeobj_in, dtypeobj_out))\n"
     ]
    }
   ],
   "source": [
    "tqdm_notebook.pandas(desc=\"run ilastik\")\n",
    "_ = image_df.progress_apply(df_ilastik, axis=1)"
   ]
  },
  {
   "cell_type": "markdown",
   "metadata": {},
   "source": [
    "# Run CellProfiler\n",
    "\n",
    "## Make a filelist\n",
    "Add the paths to each file that will be processed by CellProfiler into a text file.\n",
    "\n",
    "## Run CellProfiler\n",
    "Use subprocess again to run CellProfiler on the images to be processed.\n",
    "\n",
    "Note, that a model that filters protrusions was trained in CellProfiler Analyst outside of this workflow. The model has to be in the input folder to be found by CellProfiler."
   ]
  },
  {
   "cell_type": "code",
   "execution_count": 5,
   "metadata": {},
   "outputs": [],
   "source": [
    "single_list = glob.glob(os.path.join(imdir_single,\"*.tif\"))\n",
    "ilastik_list = glob.glob(os.path.join(imdir_ilastik,\"*.png\"))\n",
    "big_list = single_list + ilastik_list\n",
    "with open(os.path.join(image_directory,\"filelist.txt\"), 'w') as f:\n",
    "    for item in big_list:\n",
    "        f.write(\"{}\\n\".format(item))"
   ]
  },
  {
   "cell_type": "code",
   "execution_count": 16,
   "metadata": {},
   "outputs": [],
   "source": [
    "process = subprocess.Popen([path_to_cellprofiler,\n",
    "                  \"--run-headless\",\n",
    "                  \"--pipeline={}\".format(path_to_cp_pipeline),\n",
    "                  \"--file-list={}\".format(os.path.join(image_directory,\"filelist.txt\")),\n",
    "                  \"--image-directory={}\".format(image_directory),\n",
    "                  \"--output-directory={}\".format(output_directory)\n",
    "                 ], stdout=subprocess.PIPE, stderr=subprocess.PIPE, shell=True)\n",
    "    \n",
    "out, err = process.communicate()"
   ]
  },
  {
   "cell_type": "code",
   "execution_count": 17,
   "metadata": {},
   "outputs": [
    {
     "name": "stdout",
     "output_type": "stream",
     "text": [
      "b''\n"
     ]
    }
   ],
   "source": [
    "print(out)"
   ]
  },
  {
   "cell_type": "code",
   "execution_count": 18,
   "metadata": {},
   "outputs": [
    {
     "name": "stdout",
     "output_type": "stream",
     "text": [
      "b'Times reported are CPU and Wall-clock times for each module\\r\\nFri Dec  1 19:07:32 2017: Image # 1, module Images # 1: CPU_time = 0.00 secs, Wall_time = 0.00 secs\\r\\nFri Dec  1 19:07:32 2017: Image # 1, module Metadata # 2: CPU_time = 0.00 secs, Wall_time = 0.00 secs\\r\\nFri Dec  1 19:07:32 2017: Image # 1, module NamesAndTypes # 3: CPU_time = 0.52 secs, Wall_time = 0.22 secs\\r\\nFri Dec  1 19:07:32 2017: Image # 1, module Groups # 4: CPU_time = 0.00 secs, Wall_time = 0.00 secs\\r\\nFri Dec  1 19:07:32 2017: Image # 1, module MeasureImageIntensity # 5: CPU_time = 0.27 secs, Wall_time = 0.29 secs\\r\\nFri Dec  1 19:07:33 2017: Image # 2, module Images # 1: CPU_time = 0.00 secs, Wall_time = 0.00 secs\\r\\nFri Dec  1 19:07:33 2017: Image # 2, module Metadata # 2: CPU_time = 0.00 secs, Wall_time = 0.00 secs\\r\\nFri Dec  1 19:07:33 2017: Image # 2, module NamesAndTypes # 3: CPU_time = 0.34 secs, Wall_time = 0.11 secs\\r\\nFri Dec  1 19:07:33 2017: Image # 2, module Groups # 4: CPU_time = 0.00 secs, Wall_time = 0.00 secs\\r\\nFri Dec  1 19:07:33 2017: Image # 2, module MeasureImageIntensity # 5: CPU_time = 0.23 secs, Wall_time = 0.23 secs\\r\\nFri Dec  1 19:07:33 2017: Image # 3, module Images # 1: CPU_time = 0.00 secs, Wall_time = 0.00 secs\\r\\nFri Dec  1 19:07:33 2017: Image # 3, module Metadata # 2: CPU_time = 0.00 secs, Wall_time = 0.00 secs\\r\\nFri Dec  1 19:07:33 2017: Image # 3, module NamesAndTypes # 3: CPU_time = 0.30 secs, Wall_time = 0.10 secs\\r\\nFri Dec  1 19:07:33 2017: Image # 3, module Groups # 4: CPU_time = 0.00 secs, Wall_time = 0.00 secs\\r\\nFri Dec  1 19:07:33 2017: Image # 3, module MeasureImageIntensity # 5: CPU_time = 0.27 secs, Wall_time = 0.27 secs\\r\\nFri Dec  1 19:07:33 2017: Image # 4, module Images # 1: CPU_time = 0.00 secs, Wall_time = 0.00 secs\\r\\nFri Dec  1 19:07:33 2017: Image # 4, module Metadata # 2: CPU_time = 0.00 secs, Wall_time = 0.00 secs\\r\\nFri Dec  1 19:07:33 2017: Image # 4, module NamesAndTypes # 3: CPU_time = 0.38 secs, Wall_time = 0.15 secs\\r\\nFri Dec  1 19:07:33 2017: Image # 4, module Groups # 4: CPU_time = 0.00 secs, Wall_time = 0.00 secs\\r\\nFri Dec  1 19:07:33 2017: Image # 4, module MeasureImageIntensity # 5: CPU_time = 0.28 secs, Wall_time = 0.28 secs\\r\\nFri Dec  1 19:07:34 2017: Image # 5, module Images # 1: CPU_time = 0.00 secs, Wall_time = 0.00 secs\\r\\nFri Dec  1 19:07:34 2017: Image # 5, module Metadata # 2: CPU_time = 0.00 secs, Wall_time = 0.00 secs\\r\\nFri Dec  1 19:07:34 2017: Image # 5, module NamesAndTypes # 3: CPU_time = 0.28 secs, Wall_time = 0.14 secs\\r\\nFri Dec  1 19:07:34 2017: Image # 5, module Groups # 4: CPU_time = 0.00 secs, Wall_time = 0.00 secs\\r\\nFri Dec  1 19:07:34 2017: Image # 5, module MeasureImageIntensity # 5: CPU_time = 0.31 secs, Wall_time = 0.31 secs\\r\\nFri Dec  1 19:07:34 2017: Image # 6, module Images # 1: CPU_time = 0.00 secs, Wall_time = 0.00 secs\\r\\nFri Dec  1 19:07:34 2017: Image # 6, module Metadata # 2: CPU_time = 0.00 secs, Wall_time = 0.00 secs\\r\\nFri Dec  1 19:07:34 2017: Image # 6, module NamesAndTypes # 3: CPU_time = 0.17 secs, Wall_time = 0.14 secs\\r\\nFri Dec  1 19:07:34 2017: Image # 6, module Groups # 4: CPU_time = 0.00 secs, Wall_time = 0.00 secs\\r\\nFri Dec  1 19:07:34 2017: Image # 6, module MeasureImageIntensity # 5: CPU_time = 0.25 secs, Wall_time = 0.24 secs\\r\\nFri Dec  1 19:07:35 2017: Image # 7, module Images # 1: CPU_time = 0.00 secs, Wall_time = 0.00 secs\\r\\nFri Dec  1 19:07:35 2017: Image # 7, module Metadata # 2: CPU_time = 0.00 secs, Wall_time = 0.00 secs\\r\\nFri Dec  1 19:07:35 2017: Image # 7, module NamesAndTypes # 3: CPU_time = 0.09 secs, Wall_time = 0.08 secs\\r\\nFri Dec  1 19:07:35 2017: Image # 7, module Groups # 4: CPU_time = 0.00 secs, Wall_time = 0.00 secs\\r\\nFri Dec  1 19:07:35 2017: Image # 7, module MeasureImageIntensity # 5: CPU_time = 0.27 secs, Wall_time = 0.26 secs\\r\\nFri Dec  1 19:07:35 2017: Image # 8, module Images # 1: CPU_time = 0.00 secs, Wall_time = 0.00 secs\\r\\nFri Dec  1 19:07:35 2017: Image # 8, module Metadata # 2: CPU_time = 0.00 secs, Wall_time = 0.00 secs\\r\\nFri Dec  1 19:07:35 2017: Image # 8, module NamesAndTypes # 3: CPU_time = 0.20 secs, Wall_time = 0.10 secs\\r\\nFri Dec  1 19:07:35 2017: Image # 8, module Groups # 4: CPU_time = 0.00 secs, Wall_time = 0.00 secs\\r\\nFri Dec  1 19:07:35 2017: Image # 8, module MeasureImageIntensity # 5: CPU_time = 0.41 secs, Wall_time = 0.33 secs\\r\\nFri Dec  1 19:07:35 2017: Image # 9, module Images # 1: CPU_time = 0.00 secs, Wall_time = 0.00 secs\\r\\nFri Dec  1 19:07:35 2017: Image # 9, module Metadata # 2: CPU_time = 0.00 secs, Wall_time = 0.00 secs\\r\\nFri Dec  1 19:07:35 2017: Image # 9, module NamesAndTypes # 3: CPU_time = 0.25 secs, Wall_time = 0.13 secs\\r\\nFri Dec  1 19:07:35 2017: Image # 9, module Groups # 4: CPU_time = 0.00 secs, Wall_time = 0.00 secs\\r\\nFri Dec  1 19:07:35 2017: Image # 9, module MeasureImageIntensity # 5: CPU_time = 0.36 secs, Wall_time = 0.37 secs\\r\\nFri Dec  1 19:07:36 2017: Image # 10, module Images # 1: CPU_time = 0.00 secs, Wall_time = 0.00 secs\\r\\nFri Dec  1 19:07:36 2017: Image # 10, module Metadata # 2: CPU_time = 0.00 secs, Wall_time = 0.00 secs\\r\\nFri Dec  1 19:07:36 2017: Image # 10, module NamesAndTypes # 3: CPU_time = 0.16 secs, Wall_time = 0.11 secs\\r\\nFri Dec  1 19:07:36 2017: Image # 10, module Groups # 4: CPU_time = 0.00 secs, Wall_time = 0.00 secs\\r\\nFri Dec  1 19:07:36 2017: Image # 10, module MeasureImageIntensity # 5: CPU_time = 0.25 secs, Wall_time = 0.27 secs\\r\\nFri Dec  1 19:07:36 2017: Image # 11, module Images # 1: CPU_time = 0.00 secs, Wall_time = 0.00 secs\\r\\nFri Dec  1 19:07:36 2017: Image # 11, module Metadata # 2: CPU_time = 0.00 secs, Wall_time = 0.00 secs\\r\\nFri Dec  1 19:07:36 2017: Image # 11, module NamesAndTypes # 3: CPU_time = 0.09 secs, Wall_time = 0.09 secs\\r\\nFri Dec  1 19:07:36 2017: Image # 11, module Groups # 4: CPU_time = 0.00 secs, Wall_time = 0.00 secs\\r\\nFri Dec  1 19:07:36 2017: Image # 11, module MeasureImageIntensity # 5: CPU_time = 0.30 secs, Wall_time = 0.29 secs\\r\\nFri Dec  1 19:07:37 2017: Image # 12, module Images # 1: CPU_time = 0.00 secs, Wall_time = 0.00 secs\\r\\nFri Dec  1 19:07:37 2017: Image # 12, module Metadata # 2: CPU_time = 0.00 secs, Wall_time = 0.00 secs\\r\\nFri Dec  1 19:07:37 2017: Image # 12, module NamesAndTypes # 3: CPU_time = 0.23 secs, Wall_time = 0.09 secs\\r\\nFri Dec  1 19:07:37 2017: Image # 12, module Groups # 4: CPU_time = 0.00 secs, Wall_time = 0.00 secs\\r\\nFri Dec  1 19:07:37 2017: Image # 12, module MeasureImageIntensity # 5: CPU_time = 0.33 secs, Wall_time = 0.32 secs\\r\\nFri Dec  1 19:07:37 2017: Image # 13, module Images # 1: CPU_time = 0.00 secs, Wall_time = 0.00 secs\\r\\nFri Dec  1 19:07:37 2017: Image # 13, module Metadata # 2: CPU_time = 0.00 secs, Wall_time = 0.00 secs\\r\\nFri Dec  1 19:07:37 2017: Image # 13, module NamesAndTypes # 3: CPU_time = 0.19 secs, Wall_time = 0.12 secs\\r\\nFri Dec  1 19:07:37 2017: Image # 13, module Groups # 4: CPU_time = 0.00 secs, Wall_time = 0.00 secs\\r\\nFri Dec  1 19:07:37 2017: Image # 13, module MeasureImageIntensity # 5: CPU_time = 0.30 secs, Wall_time = 0.31 secs\\r\\nFri Dec  1 19:07:38 2017: Image # 14, module Images # 1: CPU_time = 0.00 secs, Wall_time = 0.00 secs\\r\\nFri Dec  1 19:07:38 2017: Image # 14, module Metadata # 2: CPU_time = 0.00 secs, Wall_time = 0.00 secs\\r\\nFri Dec  1 19:07:38 2017: Image # 14, module NamesAndTypes # 3: CPU_time = 0.09 secs, Wall_time = 0.07 secs\\r\\nFri Dec  1 19:07:38 2017: Image # 14, module Groups # 4: CPU_time = 0.00 secs, Wall_time = 0.00 secs\\r\\nFri Dec  1 19:07:38 2017: Image # 14, module MeasureImageIntensity # 5: CPU_time = 0.25 secs, Wall_time = 0.23 secs\\r\\nFri Dec  1 19:07:38 2017: Image # 15, module Images # 1: CPU_time = 0.00 secs, Wall_time = 0.00 secs\\r\\nFri Dec  1 19:07:38 2017: Image # 15, module Metadata # 2: CPU_time = 0.00 secs, Wall_time = 0.00 secs\\r\\nFri Dec  1 19:07:38 2017: Image # 15, module NamesAndTypes # 3: CPU_time = 0.11 secs, Wall_time = 0.10 secs\\r\\nFri Dec  1 19:07:38 2017: Image # 15, module Groups # 4: CPU_time = 0.00 secs, Wall_time = 0.00 secs\\r\\nFri Dec  1 19:07:38 2017: Image # 15, module MeasureImageIntensity # 5: CPU_time = 0.27 secs, Wall_time = 0.25 secs\\r\\nFri Dec  1 19:07:38 2017: Image # 16, module Images # 1: CPU_time = 0.00 secs, Wall_time = 0.00 secs\\r\\nFri Dec  1 19:07:38 2017: Image # 16, module Metadata # 2: CPU_time = 0.00 secs, Wall_time = 0.00 secs\\r\\nFri Dec  1 19:07:38 2017: Image # 16, module NamesAndTypes # 3: CPU_time = 0.27 secs, Wall_time = 0.10 secs\\r\\nFri Dec  1 19:07:38 2017: Image # 16, module Groups # 4: CPU_time = 0.00 secs, Wall_time = 0.00 secs\\r\\nFri Dec  1 19:07:38 2017: Image # 16, module MeasureImageIntensity # 5: CPU_time = 0.23 secs, Wall_time = 0.23 secs\\r\\nFri Dec  1 19:07:39 2017: Image # 17, module Images # 1: CPU_time = 0.00 secs, Wall_time = 0.00 secs\\r\\nFri Dec  1 19:07:39 2017: Image # 17, module Metadata # 2: CPU_time = 0.00 secs, Wall_time = 0.00 secs\\r\\nFri Dec  1 19:07:39 2017: Image # 17, module NamesAndTypes # 3: CPU_time = 0.11 secs, Wall_time = 0.09 secs\\r\\nFri Dec  1 19:07:39 2017: Image # 17, module Groups # 4: CPU_time = 0.00 secs, Wall_time = 0.00 secs\\r\\nFri Dec  1 19:07:39 2017: Image # 17, module MeasureImageIntensity # 5: CPU_time = 0.28 secs, Wall_time = 0.29 secs\\r\\nFri Dec  1 19:07:39 2017: Image # 18, module Images # 1: CPU_time = 0.00 secs, Wall_time = 0.00 secs\\r\\nFri Dec  1 19:07:39 2017: Image # 18, module Metadata # 2: CPU_time = 0.00 secs, Wall_time = 0.00 secs\\r\\nFri Dec  1 19:07:39 2017: Image # 18, module NamesAndTypes # 3: CPU_time = 0.11 secs, Wall_time = 0.09 secs\\r\\nFri Dec  1 19:07:39 2017: Image # 18, module Groups # 4: CPU_time = 0.00 secs, Wall_time = 0.00 secs\\r\\nFri Dec  1 19:07:39 2017: Image # 18, module MeasureImageIntensity # 5: CPU_time = 0.56 secs, Wall_time = 0.27 secs\\r\\nFri Dec  1 19:07:39 2017: Image # 19, module Images # 1: CPU_time = 0.00 secs, Wall_time = 0.00 secs\\r\\nFri Dec  1 19:07:39 2017: Image # 19, module Metadata # 2: CPU_time = 0.00 secs, Wall_time = 0.00 secs\\r\\nFri Dec  1 19:07:39 2017: Image # 19, module NamesAndTypes # 3: CPU_time = 0.14 secs, Wall_time = 0.08 secs\\r\\nFri Dec  1 19:07:39 2017: Image # 19, module Groups # 4: CPU_time = 0.00 secs, Wall_time = 0.00 secs\\r\\nFri Dec  1 19:07:39 2017: Image # 19, module MeasureImageIntensity # 5: CPU_time = 0.22 secs, Wall_time = 0.23 secs\\r\\nFri Dec  1 19:07:40 2017: Image # 20, module Images # 1: CPU_time = 0.00 secs, Wall_time = 0.00 secs\\r\\nFri Dec  1 19:07:40 2017: Image # 20, module Metadata # 2: CPU_time = 0.00 secs, Wall_time = 0.00 secs\\r\\nFri Dec  1 19:07:40 2017: Image # 20, module NamesAndTypes # 3: CPU_time = 0.22 secs, Wall_time = 0.08 secs\\r\\nFri Dec  1 19:07:40 2017: Image # 20, module Groups # 4: CPU_time = 0.00 secs, Wall_time = 0.00 secs\\r\\nFri Dec  1 19:07:40 2017: Image # 20, module MeasureImageIntensity # 5: CPU_time = 0.28 secs, Wall_time = 0.28 secs\\r\\nFri Dec  1 19:07:40 2017: Image # 21, module Images # 1: CPU_time = 0.00 secs, Wall_time = 0.00 secs\\r\\nFri Dec  1 19:07:40 2017: Image # 21, module Metadata # 2: CPU_time = 0.00 secs, Wall_time = 0.00 secs\\r\\nFri Dec  1 19:07:40 2017: Image # 21, module NamesAndTypes # 3: CPU_time = 0.44 secs, Wall_time = 0.12 secs\\r\\nFri Dec  1 19:07:40 2017: Image # 21, module Groups # 4: CPU_time = 0.00 secs, Wall_time = 0.00 secs\\r\\nFri Dec  1 19:07:40 2017: Image # 21, module MeasureImageIntensity # 5: CPU_time = 0.53 secs, Wall_time = 0.27 secs\\r\\nFri Dec  1 19:07:40 2017: Image # 22, module Images # 1: CPU_time = 0.00 secs, Wall_time = 0.00 secs\\r\\nFri Dec  1 19:07:40 2017: Image # 22, module Metadata # 2: CPU_time = 0.00 secs, Wall_time = 0.00 secs\\r\\nFri Dec  1 19:07:40 2017: Image # 22, module NamesAndTypes # 3: CPU_time = 0.17 secs, Wall_time = 0.08 secs\\r\\nFri Dec  1 19:07:41 2017: Image # 22, module Groups # 4: CPU_time = 0.00 secs, Wall_time = 0.00 secs\\r\\nFri Dec  1 19:07:41 2017: Image # 22, module MeasureImageIntensity # 5: CPU_time = 0.41 secs, Wall_time = 0.20 secs\\r\\nFri Dec  1 19:07:41 2017: Image # 23, module Images # 1: CPU_time = 0.00 secs, Wall_time = 0.00 secs\\r\\nFri Dec  1 19:07:41 2017: Image # 23, module Metadata # 2: CPU_time = 0.00 secs, Wall_time = 0.00 secs\\r\\nFri Dec  1 19:07:41 2017: Image # 23, module NamesAndTypes # 3: CPU_time = 0.19 secs, Wall_time = 0.09 secs\\r\\nFri Dec  1 19:07:41 2017: Image # 23, module Groups # 4: CPU_time = 0.00 secs, Wall_time = 0.00 secs\\r\\nFri Dec  1 19:07:41 2017: Image # 23, module MeasureImageIntensity # 5: CPU_time = 0.44 secs, Wall_time = 0.29 secs\\r\\nFri Dec  1 19:07:41 2017: Image # 24, module Images # 1: CPU_time = 0.00 secs, Wall_time = 0.00 secs\\r\\nFri Dec  1 19:07:41 2017: Image # 24, module Metadata # 2: CPU_time = 0.00 secs, Wall_time = 0.00 secs\\r\\nFri Dec  1 19:07:41 2017: Image # 24, module NamesAndTypes # 3: CPU_time = 0.12 secs, Wall_time = 0.09 secs\\r\\nFri Dec  1 19:07:41 2017: Image # 24, module Groups # 4: CPU_time = 0.00 secs, Wall_time = 0.00 secs\\r\\nFri Dec  1 19:07:41 2017: Image # 24, module MeasureImageIntensity # 5: CPU_time = 0.27 secs, Wall_time = 0.26 secs\\r\\nFri Dec  1 19:07:41 2017: Image # 25, module Images # 1: CPU_time = 0.00 secs, Wall_time = 0.00 secs\\r\\nFri Dec  1 19:07:41 2017: Image # 25, module Metadata # 2: CPU_time = 0.00 secs, Wall_time = 0.00 secs\\r\\nFri Dec  1 19:07:41 2017: Image # 25, module NamesAndTypes # 3: CPU_time = 0.16 secs, Wall_time = 0.09 secs\\r\\nFri Dec  1 19:07:42 2017: Image # 25, module Groups # 4: CPU_time = 0.00 secs, Wall_time = 0.00 secs\\r\\nFri Dec  1 19:07:42 2017: Image # 25, module MeasureImageIntensity # 5: CPU_time = 0.31 secs, Wall_time = 0.33 secs\\r\\nFri Dec  1 19:07:42 2017: Image # 26, module Images # 1: CPU_time = 0.00 secs, Wall_time = 0.00 secs\\r\\nFri Dec  1 19:07:42 2017: Image # 26, module Metadata # 2: CPU_time = 0.00 secs, Wall_time = 0.00 secs\\r\\nFri Dec  1 19:07:42 2017: Image # 26, module NamesAndTypes # 3: CPU_time = 0.14 secs, Wall_time = 0.09 secs\\r\\nFri Dec  1 19:07:42 2017: Image # 26, module Groups # 4: CPU_time = 0.00 secs, Wall_time = 0.00 secs\\r\\nFri Dec  1 19:07:42 2017: Image # 26, module MeasureImageIntensity # 5: CPU_time = 0.50 secs, Wall_time = 0.25 secs\\r\\nFri Dec  1 19:07:42 2017: Image # 27, module Images # 1: CPU_time = 0.00 secs, Wall_time = 0.00 secs\\r\\nFri Dec  1 19:07:42 2017: Image # 27, module Metadata # 2: CPU_time = 0.00 secs, Wall_time = 0.00 secs\\r\\nFri Dec  1 19:07:42 2017: Image # 27, module NamesAndTypes # 3: CPU_time = 0.16 secs, Wall_time = 0.08 secs\\r\\nFri Dec  1 19:07:42 2017: Image # 27, module Groups # 4: CPU_time = 0.00 secs, Wall_time = 0.00 secs\\r\\nFri Dec  1 19:07:42 2017: Image # 27, module MeasureImageIntensity # 5: CPU_time = 0.47 secs, Wall_time = 0.24 secs\\r\\nFri Dec  1 19:07:43 2017: Image # 28, module Images # 1: CPU_time = 0.00 secs, Wall_time = 0.00 secs\\r\\nFri Dec  1 19:07:43 2017: Image # 28, module Metadata # 2: CPU_time = 0.00 secs, Wall_time = 0.00 secs\\r\\nFri Dec  1 19:07:43 2017: Image # 28, module NamesAndTypes # 3: CPU_time = 0.25 secs, Wall_time = 0.09 secs\\r\\nFri Dec  1 19:07:43 2017: Image # 28, module Groups # 4: CPU_time = 0.00 secs, Wall_time = 0.00 secs\\r\\nFri Dec  1 19:07:43 2017: Image # 28, module MeasureImageIntensity # 5: CPU_time = 0.52 secs, Wall_time = 0.27 secs\\r\\nFri Dec  1 19:07:43 2017: Image # 29, module Images # 1: CPU_time = 0.00 secs, Wall_time = 0.00 secs\\r\\nFri Dec  1 19:07:43 2017: Image # 29, module Metadata # 2: CPU_time = 0.00 secs, Wall_time = 0.00 secs\\r\\nFri Dec  1 19:07:43 2017: Image # 29, module NamesAndTypes # 3: CPU_time = 0.27 secs, Wall_time = 0.10 secs\\r\\nFri Dec  1 19:07:43 2017: Image # 29, module Groups # 4: CPU_time = 0.00 secs, Wall_time = 0.00 secs\\r\\nFri Dec  1 19:07:43 2017: Image # 29, module MeasureImageIntensity # 5: CPU_time = 0.30 secs, Wall_time = 0.29 secs\\r\\nFri Dec  1 19:07:43 2017: Image # 30, module Images # 1: CPU_time = 0.00 secs, Wall_time = 0.00 secs\\r\\nFri Dec  1 19:07:43 2017: Image # 30, module Metadata # 2: CPU_time = 0.00 secs, Wall_time = 0.00 secs\\r\\nFri Dec  1 19:07:43 2017: Image # 30, module NamesAndTypes # 3: CPU_time = 0.12 secs, Wall_time = 0.07 secs\\r\\nFri Dec  1 19:07:43 2017: Image # 30, module Groups # 4: CPU_time = 0.00 secs, Wall_time = 0.00 secs\\r\\nFri Dec  1 19:07:43 2017: Image # 30, module MeasureImageIntensity # 5: CPU_time = 0.20 secs, Wall_time = 0.20 secs\\r\\nFri Dec  1 19:07:44 2017: Image # 31, module Images # 1: CPU_time = 0.00 secs, Wall_time = 0.00 secs\\r\\nFri Dec  1 19:07:44 2017: Image # 31, module Metadata # 2: CPU_time = 0.00 secs, Wall_time = 0.00 secs\\r\\nFri Dec  1 19:07:44 2017: Image # 31, module NamesAndTypes # 3: CPU_time = 0.22 secs, Wall_time = 0.08 secs\\r\\nFri Dec  1 19:07:44 2017: Image # 31, module Groups # 4: CPU_time = 0.00 secs, Wall_time = 0.00 secs\\r\\nFri Dec  1 19:07:44 2017: Image # 31, module MeasureImageIntensity # 5: CPU_time = 0.50 secs, Wall_time = 0.24 secs\\r\\nFri Dec  1 19:07:44 2017: Image # 32, module Images # 1: CPU_time = 0.00 secs, Wall_time = 0.00 secs\\r\\nFri Dec  1 19:07:44 2017: Image # 32, module Metadata # 2: CPU_time = 0.00 secs, Wall_time = 0.00 secs\\r\\nFri Dec  1 19:07:44 2017: Image # 32, module NamesAndTypes # 3: CPU_time = 0.20 secs, Wall_time = 0.09 secs\\r\\nFri Dec  1 19:07:44 2017: Image # 32, module Groups # 4: CPU_time = 0.00 secs, Wall_time = 0.00 secs\\r\\nFri Dec  1 19:07:44 2017: Image # 32, module MeasureImageIntensity # 5: CPU_time = 0.50 secs, Wall_time = 0.24 secs\\r\\nFri Dec  1 19:07:44 2017: Image # 33, module Images # 1: CPU_time = 0.00 secs, Wall_time = 0.00 secs\\r\\nFri Dec  1 19:07:44 2017: Image # 33, module Metadata # 2: CPU_time = 0.00 secs, Wall_time = 0.00 secs\\r\\nFri Dec  1 19:07:44 2017: Image # 33, module NamesAndTypes # 3: CPU_time = 0.19 secs, Wall_time = 0.09 secs\\r\\nFri Dec  1 19:07:44 2017: Image # 33, module Groups # 4: CPU_time = 0.00 secs, Wall_time = 0.00 secs\\r\\nFri Dec  1 19:07:44 2017: Image # 33, module MeasureImageIntensity # 5: CPU_time = 0.69 secs, Wall_time = 0.34 secs\\r\\nFri Dec  1 19:07:45 2017: Image # 34, module Images # 1: CPU_time = 0.00 secs, Wall_time = 0.00 secs\\r\\nFri Dec  1 19:07:45 2017: Image # 34, module Metadata # 2: CPU_time = 0.00 secs, Wall_time = 0.00 secs\\r\\nFri Dec  1 19:07:45 2017: Image # 34, module NamesAndTypes # 3: CPU_time = 0.11 secs, Wall_time = 0.08 secs\\r\\nFri Dec  1 19:07:45 2017: Image # 34, module Groups # 4: CPU_time = 0.00 secs, Wall_time = 0.00 secs\\r\\nFri Dec  1 19:07:45 2017: Image # 34, module MeasureImageIntensity # 5: CPU_time = 0.22 secs, Wall_time = 0.19 secs\\r\\nFri Dec  1 19:07:45 2017: Image # 35, module Images # 1: CPU_time = 0.00 secs, Wall_time = 0.00 secs\\r\\nFri Dec  1 19:07:45 2017: Image # 35, module Metadata # 2: CPU_time = 0.00 secs, Wall_time = 0.00 secs\\r\\nFri Dec  1 19:07:45 2017: Image # 35, module NamesAndTypes # 3: CPU_time = 0.11 secs, Wall_time = 0.09 secs\\r\\nFri Dec  1 19:07:45 2017: Image # 35, module Groups # 4: CPU_time = 0.00 secs, Wall_time = 0.00 secs\\r\\nFri Dec  1 19:07:45 2017: Image # 35, module MeasureImageIntensity # 5: CPU_time = 0.27 secs, Wall_time = 0.27 secs\\r\\nFri Dec  1 19:07:45 2017: Image # 36, module Images # 1: CPU_time = 0.00 secs, Wall_time = 0.00 secs\\r\\nFri Dec  1 19:07:45 2017: Image # 36, module Metadata # 2: CPU_time = 0.00 secs, Wall_time = 0.00 secs\\r\\nFri Dec  1 19:07:45 2017: Image # 36, module NamesAndTypes # 3: CPU_time = 0.23 secs, Wall_time = 0.10 secs\\r\\nFri Dec  1 19:07:46 2017: Image # 36, module Groups # 4: CPU_time = 0.00 secs, Wall_time = 0.00 secs\\r\\nFri Dec  1 19:07:46 2017: Image # 36, module MeasureImageIntensity # 5: CPU_time = 0.56 secs, Wall_time = 0.28 secs\\r\\nFri Dec  1 19:07:46 2017: Image # 37, module Images # 1: CPU_time = 0.00 secs, Wall_time = 0.00 secs\\r\\nFri Dec  1 19:07:46 2017: Image # 37, module Metadata # 2: CPU_time = 0.00 secs, Wall_time = 0.00 secs\\r\\nFri Dec  1 19:07:46 2017: Image # 37, module NamesAndTypes # 3: CPU_time = 0.16 secs, Wall_time = 0.09 secs\\r\\nFri Dec  1 19:07:46 2017: Image # 37, module Groups # 4: CPU_time = 0.00 secs, Wall_time = 0.00 secs\\r\\nFri Dec  1 19:07:46 2017: Image # 37, module MeasureImageIntensity # 5: CPU_time = 0.58 secs, Wall_time = 0.36 secs\\r\\nFri Dec  1 19:07:46 2017: Image # 38, module Images # 1: CPU_time = 0.00 secs, Wall_time = 0.00 secs\\r\\nFri Dec  1 19:07:46 2017: Image # 38, module Metadata # 2: CPU_time = 0.00 secs, Wall_time = 0.00 secs\\r\\nFri Dec  1 19:07:46 2017: Image # 38, module NamesAndTypes # 3: CPU_time = 0.11 secs, Wall_time = 0.08 secs\\r\\nFri Dec  1 19:07:46 2017: Image # 38, module Groups # 4: CPU_time = 0.00 secs, Wall_time = 0.00 secs\\r\\nFri Dec  1 19:07:46 2017: Image # 38, module MeasureImageIntensity # 5: CPU_time = 0.22 secs, Wall_time = 0.22 secs\\r\\nFri Dec  1 19:07:47 2017: Image # 39, module Images # 1: CPU_time = 0.00 secs, Wall_time = 0.00 secs\\r\\nFri Dec  1 19:07:47 2017: Image # 39, module Metadata # 2: CPU_time = 0.00 secs, Wall_time = 0.00 secs\\r\\nFri Dec  1 19:07:47 2017: Image # 39, module NamesAndTypes # 3: CPU_time = 0.14 secs, Wall_time = 0.08 secs\\r\\nFri Dec  1 19:07:47 2017: Image # 39, module Groups # 4: CPU_time = 0.00 secs, Wall_time = 0.00 secs\\r\\nFri Dec  1 19:07:47 2017: Image # 39, module MeasureImageIntensity # 5: CPU_time = 0.30 secs, Wall_time = 0.29 secs\\r\\nFri Dec  1 19:07:47 2017: Image # 40, module Images # 1: CPU_time = 0.00 secs, Wall_time = 0.00 secs\\r\\nFri Dec  1 19:07:47 2017: Image # 40, module Metadata # 2: CPU_time = 0.00 secs, Wall_time = 0.00 secs\\r\\nFri Dec  1 19:07:47 2017: Image # 40, module NamesAndTypes # 3: CPU_time = 0.11 secs, Wall_time = 0.09 secs\\r\\nFri Dec  1 19:07:47 2017: Image # 40, module Groups # 4: CPU_time = 0.00 secs, Wall_time = 0.00 secs\\r\\nFri Dec  1 19:07:47 2017: Image # 40, module MeasureImageIntensity # 5: CPU_time = 0.28 secs, Wall_time = 0.29 secs\\r\\nFri Dec  1 19:07:47 2017: Image # 41, module Images # 1: CPU_time = 0.00 secs, Wall_time = 0.00 secs\\r\\nFri Dec  1 19:07:47 2017: Image # 41, module Metadata # 2: CPU_time = 0.00 secs, Wall_time = 0.00 secs\\r\\nFri Dec  1 19:07:47 2017: Image # 41, module NamesAndTypes # 3: CPU_time = 0.31 secs, Wall_time = 0.15 secs\\r\\nFri Dec  1 19:07:48 2017: Image # 41, module Groups # 4: CPU_time = 0.00 secs, Wall_time = 0.00 secs\\r\\nFri Dec  1 19:07:48 2017: Image # 41, module MeasureImageIntensity # 5: CPU_time = 0.41 secs, Wall_time = 0.40 secs\\r\\nFri Dec  1 19:07:48 2017: Image # 42, module Images # 1: CPU_time = 0.00 secs, Wall_time = 0.00 secs\\r\\nFri Dec  1 19:07:48 2017: Image # 42, module Metadata # 2: CPU_time = 0.00 secs, Wall_time = 0.00 secs\\r\\nFri Dec  1 19:07:48 2017: Image # 42, module NamesAndTypes # 3: CPU_time = 0.44 secs, Wall_time = 0.16 secs\\r\\nFri Dec  1 19:07:48 2017: Image # 42, module Groups # 4: CPU_time = 0.00 secs, Wall_time = 0.00 secs\\r\\nFri Dec  1 19:07:48 2017: Image # 42, module MeasureImageIntensity # 5: CPU_time = 0.97 secs, Wall_time = 0.49 secs\\r\\nFri Dec  1 19:07:49 2017: Image # 43, module Images # 1: CPU_time = 0.00 secs, Wall_time = 0.00 secs\\r\\nFri Dec  1 19:07:49 2017: Image # 43, module Metadata # 2: CPU_time = 0.00 secs, Wall_time = 0.00 secs\\r\\nFri Dec  1 19:07:49 2017: Image # 43, module NamesAndTypes # 3: CPU_time = 0.12 secs, Wall_time = 0.07 secs\\r\\nFri Dec  1 19:07:49 2017: Image # 43, module Groups # 4: CPU_time = 0.00 secs, Wall_time = 0.00 secs\\r\\nFri Dec  1 19:07:49 2017: Image # 43, module MeasureImageIntensity # 5: CPU_time = 0.48 secs, Wall_time = 0.45 secs\\r\\nFri Dec  1 19:07:49 2017: Image # 44, module Images # 1: CPU_time = 0.00 secs, Wall_time = 0.00 secs\\r\\nFri Dec  1 19:07:49 2017: Image # 44, module Metadata # 2: CPU_time = 0.00 secs, Wall_time = 0.00 secs\\r\\nFri Dec  1 19:07:49 2017: Image # 44, module NamesAndTypes # 3: CPU_time = 0.08 secs, Wall_time = 0.09 secs\\r\\nFri Dec  1 19:07:49 2017: Image # 44, module Groups # 4: CPU_time = 0.00 secs, Wall_time = 0.00 secs\\r\\nFri Dec  1 19:07:49 2017: Image # 44, module MeasureImageIntensity # 5: CPU_time = 0.42 secs, Wall_time = 0.41 secs\\r\\nFri Dec  1 19:07:50 2017: Image # 45, module Images # 1: CPU_time = 0.00 secs, Wall_time = 0.00 secs\\r\\nFri Dec  1 19:07:50 2017: Image # 45, module Metadata # 2: CPU_time = 0.00 secs, Wall_time = 0.00 secs\\r\\nFri Dec  1 19:07:50 2017: Image # 45, module NamesAndTypes # 3: CPU_time = 0.20 secs, Wall_time = 0.07 secs\\r\\nFri Dec  1 19:07:50 2017: Image # 45, module Groups # 4: CPU_time = 0.00 secs, Wall_time = 0.00 secs\\r\\nFri Dec  1 19:07:50 2017: Image # 45, module MeasureImageIntensity # 5: CPU_time = 0.42 secs, Wall_time = 0.41 secs\\r\\nFri Dec  1 19:07:50 2017: Image # 46, module Images # 1: CPU_time = 0.00 secs, Wall_time = 0.00 secs\\r\\nFri Dec  1 19:07:50 2017: Image # 46, module Metadata # 2: CPU_time = 0.00 secs, Wall_time = 0.00 secs\\r\\nFri Dec  1 19:07:50 2017: Image # 46, module NamesAndTypes # 3: CPU_time = 0.19 secs, Wall_time = 0.08 secs\\r\\nFri Dec  1 19:07:50 2017: Image # 46, module Groups # 4: CPU_time = 0.00 secs, Wall_time = 0.00 secs\\r\\nFri Dec  1 19:07:50 2017: Image # 46, module MeasureImageIntensity # 5: CPU_time = 0.47 secs, Wall_time = 0.44 secs\\r\\nFri Dec  1 19:07:51 2017: Image # 47, module Images # 1: CPU_time = 0.00 secs, Wall_time = 0.00 secs\\r\\nFri Dec  1 19:07:51 2017: Image # 47, module Metadata # 2: CPU_time = 0.00 secs, Wall_time = 0.00 secs\\r\\nFri Dec  1 19:07:51 2017: Image # 47, module NamesAndTypes # 3: CPU_time = 0.06 secs, Wall_time = 0.07 secs\\r\\nFri Dec  1 19:07:51 2017: Image # 47, module Groups # 4: CPU_time = 0.00 secs, Wall_time = 0.00 secs\\r\\nFri Dec  1 19:07:51 2017: Image # 47, module MeasureImageIntensity # 5: CPU_time = 0.42 secs, Wall_time = 0.42 secs\\r\\nFri Dec  1 19:07:51 2017: Image # 48, module Images # 1: CPU_time = 0.00 secs, Wall_time = 0.00 secs\\r\\nFri Dec  1 19:07:51 2017: Image # 48, module Metadata # 2: CPU_time = 0.00 secs, Wall_time = 0.00 secs\\r\\nFri Dec  1 19:07:51 2017: Image # 48, module NamesAndTypes # 3: CPU_time = 0.06 secs, Wall_time = 0.07 secs\\r\\nFri Dec  1 19:07:51 2017: Image # 48, module Groups # 4: CPU_time = 0.00 secs, Wall_time = 0.00 secs\\r\\nFri Dec  1 19:07:51 2017: Image # 48, module MeasureImageIntensity # 5: CPU_time = 0.36 secs, Wall_time = 0.37 secs\\r\\nFri Dec  1 19:07:52 2017: Image # 49, module Images # 1: CPU_time = 0.00 secs, Wall_time = 0.00 secs\\r\\nFri Dec  1 19:07:52 2017: Image # 49, module Metadata # 2: CPU_time = 0.00 secs, Wall_time = 0.00 secs\\r\\nFri Dec  1 19:07:52 2017: Image # 49, module NamesAndTypes # 3: CPU_time = 0.09 secs, Wall_time = 0.07 secs\\r\\nFri Dec  1 19:07:52 2017: Image # 49, module Groups # 4: CPU_time = 0.00 secs, Wall_time = 0.00 secs\\r\\nFri Dec  1 19:07:52 2017: Image # 49, module MeasureImageIntensity # 5: CPU_time = 0.38 secs, Wall_time = 0.38 secs\\r\\nFri Dec  1 19:07:52 2017: Image # 50, module Images # 1: CPU_time = 0.00 secs, Wall_time = 0.00 secs\\r\\nFri Dec  1 19:07:52 2017: Image # 50, module Metadata # 2: CPU_time = 0.00 secs, Wall_time = 0.00 secs\\r\\nFri Dec  1 19:07:52 2017: Image # 50, module NamesAndTypes # 3: CPU_time = 0.22 secs, Wall_time = 0.07 secs\\r\\nFri Dec  1 19:07:52 2017: Image # 50, module Groups # 4: CPU_time = 0.00 secs, Wall_time = 0.00 secs\\r\\nFri Dec  1 19:07:52 2017: Image # 50, module MeasureImageIntensity # 5: CPU_time = 0.39 secs, Wall_time = 0.39 secs\\r\\n'"
     ]
    },
    {
     "name": "stdout",
     "output_type": "stream",
     "text": [
      "\n"
     ]
    }
   ],
   "source": [
    "print(err)"
   ]
  },
  {
   "cell_type": "code",
   "execution_count": null,
   "metadata": {},
   "outputs": [],
   "source": []
  }
 ],
 "metadata": {
  "kernelspec": {
   "display_name": "Python 3",
   "language": "python",
   "name": "python3"
  },
  "language_info": {
   "codemirror_mode": {
    "name": "ipython",
    "version": 3
   },
   "file_extension": ".py",
   "mimetype": "text/x-python",
   "name": "python",
   "nbconvert_exporter": "python",
   "pygments_lexer": "ipython3",
   "version": "3.6.3"
  }
 },
 "nbformat": 4,
 "nbformat_minor": 2
}
