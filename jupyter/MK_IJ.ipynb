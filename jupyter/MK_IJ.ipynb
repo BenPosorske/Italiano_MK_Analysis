{
 "cells": [
  {
   "cell_type": "code",
   "execution_count": 1,
   "metadata": {},
   "outputs": [],
   "source": [
    "import os, re, sys\n",
    "\n",
    "import pandas as pd\n",
    "import numpy as np\n",
    "# from tkinter.filedialog import askdirectory"
   ]
  },
  {
   "cell_type": "code",
   "execution_count": 2,
   "metadata": {},
   "outputs": [],
   "source": [
    "def alphanumeric_sort(l):\n",
    "    convert = lambda text: int(text) if text.isdigit() else text\n",
    "    alphanum_key = lambda key: [convert(c) for c in re.split('([0-9]+)', key)]\n",
    "    return sorted(l, key = alphanum_key)\n",
    "\n",
    "def format_results(dataframe, files, timepoints, results_dir, csv_name):\n",
    "    dataframe.columns = files\n",
    "    dataframe['Timepoint'] = range(1,(timepoints + 1))\n",
    "    dataframe = dataframe.set_index('Timepoint')\n",
    "    dataframe.to_csv(os.path.join(results_dir, csv_name))\n",
    "\n",
    "def analyze(df,timepoints,pct_list,mk_list,pplt_list):\n",
    "    n = 1\n",
    "    while n <= timepoints: \n",
    "        df2 = df.loc[n].reset_index()\n",
    "        df2 = df2.loc[df2['Area'] > 100]\n",
    "        \n",
    "        # Circ. for FLMK\n",
    "        mk = df2.loc[df2[\"Round\"] > 0.4, 'Area']\n",
    "        mk_area = mk.sum()\n",
    "        \n",
    "        # Circ. for FLMK\n",
    "        pplt = df2.loc[df2[\"Round\"] < 0.4, 'Area']\n",
    "        pplt_area = pplt.sum()\n",
    "        \n",
    "        try:\n",
    "            pct = len(pplt)/len(mk) * 100\n",
    "        except ZeroDivisionError:\n",
    "            pct = 0.00\n",
    "        \n",
    "        pct_list.append(pct)      \n",
    "        mk_list.append(mk_area)\n",
    "        pplt_list.append(pplt_area)\n",
    "\n",
    "        n += 1      \n",
    "        if n > timepoints:\n",
    "            df3 = pd.DataFrame(\n",
    "                {'Pct': pct_list,\n",
    "                 'MK_Area': mk_list,\n",
    "                 'Pplt_Area': pplt_list})\n",
    "        \n",
    "    return df3"
   ]
  },
  {
   "cell_type": "code",
   "execution_count": 3,
   "metadata": {},
   "outputs": [],
   "source": [
    "DIR = 'C:\\\\Users\\\\Tech\\\\Desktop\\\\flMK_IJ'\n",
    "# os.chdir(DIR)\n",
    "files = alphanumeric_sort(os.listdir(DIR))"
   ]
  },
  {
   "cell_type": "code",
   "execution_count": 4,
   "metadata": {},
   "outputs": [],
   "source": [
    "timepoints = 25"
   ]
  },
  {
   "cell_type": "code",
   "execution_count": 5,
   "metadata": {
    "scrolled": true
   },
   "outputs": [
    {
     "name": "stdout",
     "output_type": "stream",
     "text": [
      "Done!\n"
     ]
    }
   ],
   "source": [
    "final_df = pd.DataFrame()\n",
    "\n",
    "for file in files:\n",
    "    \n",
    "    df = pd.read_csv(DIR + os.sep + file, usecols = [\"Area\", \"Round\", \"Slice\"], index_col = [\"Slice\"])\n",
    "    \n",
    "    pct_list = []\n",
    "    mk_list = []\n",
    "    pplt_list = []\n",
    "    \n",
    "    frame = analyze(df,timepoints,pct_list,mk_list,pplt_list) \n",
    "    final_df = pd.concat([final_df,frame],axis=1)\n",
    "\n",
    "format_output_csv(final_df.iloc[:,::3], files, timepoints, DIR, \"Pct_Pplt_Prod.csv\")\n",
    "format_output_csv(final_df.iloc[:,1::3], files, timepoints, DIR, \"Area_MK.csv\")\n",
    "format_output_csv(final_df.iloc[:,2::3], files, timepoints, DIR, \"Area_Pplt.csv\")\n",
    "\n",
    "print(\"Done!\")"
   ]
  },
  {
   "cell_type": "code",
   "execution_count": null,
   "metadata": {},
   "outputs": [],
   "source": []
  }
 ],
 "metadata": {
  "kernelspec": {
   "display_name": "Python 3",
   "language": "python",
   "name": "python3"
  },
  "language_info": {
   "codemirror_mode": {
    "name": "ipython",
    "version": 3
   },
   "file_extension": ".py",
   "mimetype": "text/x-python",
   "name": "python",
   "nbconvert_exporter": "python",
   "pygments_lexer": "ipython3",
   "version": "3.6.6"
  }
 },
 "nbformat": 4,
 "nbformat_minor": 2
}
