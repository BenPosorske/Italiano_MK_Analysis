{
 "cells": [
  {
   "cell_type": "code",
   "execution_count": 1,
   "metadata": {},
   "outputs": [],
   "source": [
    "FOLDER = 'C:\\\\Users\\\\Prakrith\\\\Desktop\\\\example'"
   ]
  },
  {
   "cell_type": "markdown",
   "metadata": {},
   "source": [
    "# 1. Project Modules"
   ]
  },
  {
   "cell_type": "code",
   "execution_count": 2,
   "metadata": {},
   "outputs": [],
   "source": [
    "import os, re, sys"
   ]
  },
  {
   "cell_type": "code",
   "execution_count": 3,
   "metadata": {},
   "outputs": [],
   "source": [
    "MK_PATH = os.path.split(os.getcwd())[0] + os.sep + 'mk'\n",
    "sys.path.append(MK_PATH)"
   ]
  },
  {
   "cell_type": "code",
   "execution_count": 4,
   "metadata": {},
   "outputs": [],
   "source": [
    "from utils import tools\n",
    "from utils.folder import Folder, Stack, Ilastik\n",
    "from utils.il import RunIL\n",
    "from utils.cp import RunCP\n",
    "from utils.results import ResultsImage, ResultsObject, heatmap"
   ]
  },
  {
   "cell_type": "markdown",
   "metadata": {},
   "source": [
    "# 2. User Variables"
   ]
  },
  {
   "cell_type": "code",
   "execution_count": 5,
   "metadata": {},
   "outputs": [],
   "source": [
    "RE_TIF = re.compile(\"(.*)\\.tif\")\n",
    "RE_PNG = re.compile(\"(.*)\\.png\")"
   ]
  },
  {
   "cell_type": "code",
   "execution_count": 6,
   "metadata": {},
   "outputs": [],
   "source": [
    "PRBSTG_DICT = {0:'_background_prbstg2_0.png', 1:'_cell_boundary_prbstg2_1.png', 2:'_mk_prbstg2_2.png', 3:'_pplt_prbstg2_3.png'}"
   ]
  },
  {
   "cell_type": "code",
   "execution_count": 7,
   "metadata": {},
   "outputs": [],
   "source": [
    "PIPELINE = tools.read_config('mk')\n",
    "RULES = tools.read_config('rules')"
   ]
  },
  {
   "cell_type": "markdown",
   "metadata": {},
   "source": [
    "# 3. Initialize"
   ]
  },
  {
   "cell_type": "code",
   "execution_count": 8,
   "metadata": {},
   "outputs": [
    {
     "data": {
      "text/html": [
       "<div>\n",
       "<style scoped>\n",
       "    .dataframe tbody tr th:only-of-type {\n",
       "        vertical-align: middle;\n",
       "    }\n",
       "\n",
       "    .dataframe tbody tr th {\n",
       "        vertical-align: top;\n",
       "    }\n",
       "\n",
       "    .dataframe thead th {\n",
       "        text-align: right;\n",
       "    }\n",
       "</style>\n",
       "<table border=\"1\" class=\"dataframe\">\n",
       "  <thead>\n",
       "    <tr style=\"text-align: right;\">\n",
       "      <th></th>\n",
       "      <th>filename</th>\n",
       "      <th>path</th>\n",
       "    </tr>\n",
       "  </thead>\n",
       "  <tbody>\n",
       "    <tr>\n",
       "      <th>0</th>\n",
       "      <td>180417_ARW_A6_1.tif</td>\n",
       "      <td>C:\\Users\\Prakrith\\Desktop\\example</td>\n",
       "    </tr>\n",
       "  </tbody>\n",
       "</table>\n",
       "</div>"
      ],
      "text/plain": [
       "              filename                               path\n",
       "0  180417_ARW_A6_1.tif  C:\\Users\\Prakrith\\Desktop\\example"
      ]
     },
     "execution_count": 8,
     "metadata": {},
     "output_type": "execute_result"
    }
   ],
   "source": [
    "stack = Stack(FOLDER, RE_TIF)\n",
    "stack.df"
   ]
  },
  {
   "cell_type": "code",
   "execution_count": null,
   "metadata": {},
   "outputs": [
    {
     "name": "stdout",
     "output_type": "stream",
     "text": [
      "22\n"
     ]
    }
   ],
   "source": [
    "time = stack.slices"
   ]
  },
  {
   "cell_type": "markdown",
   "metadata": {},
   "source": [
    "# 4. Setup "
   ]
  },
  {
   "cell_type": "code",
   "execution_count": null,
   "metadata": {},
   "outputs": [
    {
     "data": {
      "text/html": [
       "<div>\n",
       "<style scoped>\n",
       "    .dataframe tbody tr th:only-of-type {\n",
       "        vertical-align: middle;\n",
       "    }\n",
       "\n",
       "    .dataframe tbody tr th {\n",
       "        vertical-align: top;\n",
       "    }\n",
       "\n",
       "    .dataframe thead th {\n",
       "        text-align: right;\n",
       "    }\n",
       "</style>\n",
       "<table border=\"1\" class=\"dataframe\">\n",
       "  <thead>\n",
       "    <tr style=\"text-align: right;\">\n",
       "      <th></th>\n",
       "    </tr>\n",
       "  </thead>\n",
       "  <tbody>\n",
       "  </tbody>\n",
       "</table>\n",
       "</div>"
      ],
      "text/plain": [
       "Empty DataFrame\n",
       "Columns: []\n",
       "Index: []"
      ]
     },
     "execution_count": 10,
     "metadata": {},
     "output_type": "execute_result"
    }
   ],
   "source": [
    "single = Folder(stack.folder('single_images'), RE_TIF)\n",
    "single.df"
   ]
  },
  {
   "cell_type": "code",
   "execution_count": null,
   "metadata": {},
   "outputs": [
    {
     "data": {
      "text/plain": [
       "False"
      ]
     },
     "execution_count": 11,
     "metadata": {},
     "output_type": "execute_result"
    }
   ],
   "source": [
    "stack.count\n",
    "stack.check(single.count)\n",
    "stack.done"
   ]
  },
  {
   "cell_type": "code",
   "execution_count": null,
   "metadata": {},
   "outputs": [
    {
     "name": "stderr",
     "output_type": "stream",
     "text": [
      "C:\\Users\\Prakrith\\AppData\\Local\\conda\\conda\\envs\\bioimg\\lib\\site-packages\\skimage\\util\\dtype.py:141: UserWarning: Possible precision loss when converting from float64 to uint8\n",
      "  .format(dtypeobj_in, dtypeobj_out))\n",
      "C:\\Users\\Prakrith\\AppData\\Local\\conda\\conda\\envs\\bioimg\\lib\\site-packages\\skimage\\util\\dtype.py:141: UserWarning: Possible precision loss when converting from float64 to uint8\n",
      "  .format(dtypeobj_in, dtypeobj_out))\n",
      "C:\\Users\\Prakrith\\AppData\\Local\\conda\\conda\\envs\\bioimg\\lib\\site-packages\\skimage\\util\\dtype.py:141: UserWarning: Possible precision loss when converting from float64 to uint8\n",
      "  .format(dtypeobj_in, dtypeobj_out))\n",
      "C:\\Users\\Prakrith\\AppData\\Local\\conda\\conda\\envs\\bioimg\\lib\\site-packages\\skimage\\util\\dtype.py:141: UserWarning: Possible precision loss when converting from float64 to uint8\n",
      "  .format(dtypeobj_in, dtypeobj_out))\n",
      "C:\\Users\\Prakrith\\AppData\\Local\\conda\\conda\\envs\\bioimg\\lib\\site-packages\\skimage\\util\\dtype.py:141: UserWarning: Possible precision loss when converting from float64 to uint8\n",
      "  .format(dtypeobj_in, dtypeobj_out))\n",
      "C:\\Users\\Prakrith\\AppData\\Local\\conda\\conda\\envs\\bioimg\\lib\\site-packages\\skimage\\util\\dtype.py:141: UserWarning: Possible precision loss when converting from float64 to uint8\n",
      "  .format(dtypeobj_in, dtypeobj_out))\n",
      "C:\\Users\\Prakrith\\AppData\\Local\\conda\\conda\\envs\\bioimg\\lib\\site-packages\\skimage\\util\\dtype.py:141: UserWarning: Possible precision loss when converting from float64 to uint8\n",
      "  .format(dtypeobj_in, dtypeobj_out))\n",
      "C:\\Users\\Prakrith\\AppData\\Local\\conda\\conda\\envs\\bioimg\\lib\\site-packages\\skimage\\util\\dtype.py:141: UserWarning: Possible precision loss when converting from float64 to uint8\n",
      "  .format(dtypeobj_in, dtypeobj_out))\n",
      "C:\\Users\\Prakrith\\AppData\\Local\\conda\\conda\\envs\\bioimg\\lib\\site-packages\\skimage\\util\\dtype.py:141: UserWarning: Possible precision loss when converting from float64 to uint8\n",
      "  .format(dtypeobj_in, dtypeobj_out))\n",
      "C:\\Users\\Prakrith\\AppData\\Local\\conda\\conda\\envs\\bioimg\\lib\\site-packages\\skimage\\util\\dtype.py:141: UserWarning: Possible precision loss when converting from float64 to uint8\n",
      "  .format(dtypeobj_in, dtypeobj_out))\n",
      "C:\\Users\\Prakrith\\AppData\\Local\\conda\\conda\\envs\\bioimg\\lib\\site-packages\\skimage\\util\\dtype.py:141: UserWarning: Possible precision loss when converting from float64 to uint8\n",
      "  .format(dtypeobj_in, dtypeobj_out))\n",
      "C:\\Users\\Prakrith\\AppData\\Local\\conda\\conda\\envs\\bioimg\\lib\\site-packages\\skimage\\util\\dtype.py:141: UserWarning: Possible precision loss when converting from float64 to uint8\n",
      "  .format(dtypeobj_in, dtypeobj_out))\n",
      "C:\\Users\\Prakrith\\AppData\\Local\\conda\\conda\\envs\\bioimg\\lib\\site-packages\\skimage\\util\\dtype.py:141: UserWarning: Possible precision loss when converting from float64 to uint8\n",
      "  .format(dtypeobj_in, dtypeobj_out))\n",
      "C:\\Users\\Prakrith\\AppData\\Local\\conda\\conda\\envs\\bioimg\\lib\\site-packages\\skimage\\util\\dtype.py:141: UserWarning: Possible precision loss when converting from float64 to uint8\n",
      "  .format(dtypeobj_in, dtypeobj_out))\n",
      "C:\\Users\\Prakrith\\AppData\\Local\\conda\\conda\\envs\\bioimg\\lib\\site-packages\\skimage\\util\\dtype.py:141: UserWarning: Possible precision loss when converting from float64 to uint8\n",
      "  .format(dtypeobj_in, dtypeobj_out))\n",
      "C:\\Users\\Prakrith\\AppData\\Local\\conda\\conda\\envs\\bioimg\\lib\\site-packages\\skimage\\util\\dtype.py:141: UserWarning: Possible precision loss when converting from float64 to uint8\n",
      "  .format(dtypeobj_in, dtypeobj_out))\n",
      "C:\\Users\\Prakrith\\AppData\\Local\\conda\\conda\\envs\\bioimg\\lib\\site-packages\\skimage\\util\\dtype.py:141: UserWarning: Possible precision loss when converting from float64 to uint8\n",
      "  .format(dtypeobj_in, dtypeobj_out))\n",
      "C:\\Users\\Prakrith\\AppData\\Local\\conda\\conda\\envs\\bioimg\\lib\\site-packages\\skimage\\util\\dtype.py:141: UserWarning: Possible precision loss when converting from float64 to uint8\n",
      "  .format(dtypeobj_in, dtypeobj_out))\n",
      "C:\\Users\\Prakrith\\AppData\\Local\\conda\\conda\\envs\\bioimg\\lib\\site-packages\\skimage\\util\\dtype.py:141: UserWarning: Possible precision loss when converting from float64 to uint8\n",
      "  .format(dtypeobj_in, dtypeobj_out))\n",
      "C:\\Users\\Prakrith\\AppData\\Local\\conda\\conda\\envs\\bioimg\\lib\\site-packages\\skimage\\util\\dtype.py:141: UserWarning: Possible precision loss when converting from float64 to uint8\n",
      "  .format(dtypeobj_in, dtypeobj_out))\n",
      "C:\\Users\\Prakrith\\AppData\\Local\\conda\\conda\\envs\\bioimg\\lib\\site-packages\\skimage\\util\\dtype.py:141: UserWarning: Possible precision loss when converting from float64 to uint8\n",
      "  .format(dtypeobj_in, dtypeobj_out))\n",
      "C:\\Users\\Prakrith\\AppData\\Local\\conda\\conda\\envs\\bioimg\\lib\\site-packages\\skimage\\util\\dtype.py:141: UserWarning: Possible precision loss when converting from float64 to uint8\n",
      "  .format(dtypeobj_in, dtypeobj_out))\n"
     ]
    },
    {
     "data": {
      "text/html": [
       "<div>\n",
       "<style scoped>\n",
       "    .dataframe tbody tr th:only-of-type {\n",
       "        vertical-align: middle;\n",
       "    }\n",
       "\n",
       "    .dataframe tbody tr th {\n",
       "        vertical-align: top;\n",
       "    }\n",
       "\n",
       "    .dataframe thead th {\n",
       "        text-align: right;\n",
       "    }\n",
       "</style>\n",
       "<table border=\"1\" class=\"dataframe\">\n",
       "  <thead>\n",
       "    <tr style=\"text-align: right;\">\n",
       "      <th></th>\n",
       "      <th>filename</th>\n",
       "      <th>path</th>\n",
       "    </tr>\n",
       "  </thead>\n",
       "  <tbody>\n",
       "    <tr>\n",
       "      <th>0</th>\n",
       "      <td>180417_ARW_A6_1-0000.tif</td>\n",
       "      <td>C:\\Users\\Prakrith\\Desktop\\example\\single_images</td>\n",
       "    </tr>\n",
       "    <tr>\n",
       "      <th>1</th>\n",
       "      <td>180417_ARW_A6_1-0001.tif</td>\n",
       "      <td>C:\\Users\\Prakrith\\Desktop\\example\\single_images</td>\n",
       "    </tr>\n",
       "    <tr>\n",
       "      <th>2</th>\n",
       "      <td>180417_ARW_A6_1-0002.tif</td>\n",
       "      <td>C:\\Users\\Prakrith\\Desktop\\example\\single_images</td>\n",
       "    </tr>\n",
       "    <tr>\n",
       "      <th>3</th>\n",
       "      <td>180417_ARW_A6_1-0003.tif</td>\n",
       "      <td>C:\\Users\\Prakrith\\Desktop\\example\\single_images</td>\n",
       "    </tr>\n",
       "    <tr>\n",
       "      <th>4</th>\n",
       "      <td>180417_ARW_A6_1-0004.tif</td>\n",
       "      <td>C:\\Users\\Prakrith\\Desktop\\example\\single_images</td>\n",
       "    </tr>\n",
       "    <tr>\n",
       "      <th>5</th>\n",
       "      <td>180417_ARW_A6_1-0005.tif</td>\n",
       "      <td>C:\\Users\\Prakrith\\Desktop\\example\\single_images</td>\n",
       "    </tr>\n",
       "    <tr>\n",
       "      <th>6</th>\n",
       "      <td>180417_ARW_A6_1-0006.tif</td>\n",
       "      <td>C:\\Users\\Prakrith\\Desktop\\example\\single_images</td>\n",
       "    </tr>\n",
       "    <tr>\n",
       "      <th>7</th>\n",
       "      <td>180417_ARW_A6_1-0007.tif</td>\n",
       "      <td>C:\\Users\\Prakrith\\Desktop\\example\\single_images</td>\n",
       "    </tr>\n",
       "    <tr>\n",
       "      <th>8</th>\n",
       "      <td>180417_ARW_A6_1-0008.tif</td>\n",
       "      <td>C:\\Users\\Prakrith\\Desktop\\example\\single_images</td>\n",
       "    </tr>\n",
       "    <tr>\n",
       "      <th>9</th>\n",
       "      <td>180417_ARW_A6_1-0009.tif</td>\n",
       "      <td>C:\\Users\\Prakrith\\Desktop\\example\\single_images</td>\n",
       "    </tr>\n",
       "    <tr>\n",
       "      <th>10</th>\n",
       "      <td>180417_ARW_A6_1-0010.tif</td>\n",
       "      <td>C:\\Users\\Prakrith\\Desktop\\example\\single_images</td>\n",
       "    </tr>\n",
       "    <tr>\n",
       "      <th>11</th>\n",
       "      <td>180417_ARW_A6_1-0011.tif</td>\n",
       "      <td>C:\\Users\\Prakrith\\Desktop\\example\\single_images</td>\n",
       "    </tr>\n",
       "    <tr>\n",
       "      <th>12</th>\n",
       "      <td>180417_ARW_A6_1-0012.tif</td>\n",
       "      <td>C:\\Users\\Prakrith\\Desktop\\example\\single_images</td>\n",
       "    </tr>\n",
       "    <tr>\n",
       "      <th>13</th>\n",
       "      <td>180417_ARW_A6_1-0013.tif</td>\n",
       "      <td>C:\\Users\\Prakrith\\Desktop\\example\\single_images</td>\n",
       "    </tr>\n",
       "    <tr>\n",
       "      <th>14</th>\n",
       "      <td>180417_ARW_A6_1-0014.tif</td>\n",
       "      <td>C:\\Users\\Prakrith\\Desktop\\example\\single_images</td>\n",
       "    </tr>\n",
       "    <tr>\n",
       "      <th>15</th>\n",
       "      <td>180417_ARW_A6_1-0015.tif</td>\n",
       "      <td>C:\\Users\\Prakrith\\Desktop\\example\\single_images</td>\n",
       "    </tr>\n",
       "    <tr>\n",
       "      <th>16</th>\n",
       "      <td>180417_ARW_A6_1-0016.tif</td>\n",
       "      <td>C:\\Users\\Prakrith\\Desktop\\example\\single_images</td>\n",
       "    </tr>\n",
       "    <tr>\n",
       "      <th>17</th>\n",
       "      <td>180417_ARW_A6_1-0017.tif</td>\n",
       "      <td>C:\\Users\\Prakrith\\Desktop\\example\\single_images</td>\n",
       "    </tr>\n",
       "    <tr>\n",
       "      <th>18</th>\n",
       "      <td>180417_ARW_A6_1-0018.tif</td>\n",
       "      <td>C:\\Users\\Prakrith\\Desktop\\example\\single_images</td>\n",
       "    </tr>\n",
       "    <tr>\n",
       "      <th>19</th>\n",
       "      <td>180417_ARW_A6_1-0019.tif</td>\n",
       "      <td>C:\\Users\\Prakrith\\Desktop\\example\\single_images</td>\n",
       "    </tr>\n",
       "    <tr>\n",
       "      <th>20</th>\n",
       "      <td>180417_ARW_A6_1-0020.tif</td>\n",
       "      <td>C:\\Users\\Prakrith\\Desktop\\example\\single_images</td>\n",
       "    </tr>\n",
       "    <tr>\n",
       "      <th>21</th>\n",
       "      <td>180417_ARW_A6_1-0021.tif</td>\n",
       "      <td>C:\\Users\\Prakrith\\Desktop\\example\\single_images</td>\n",
       "    </tr>\n",
       "  </tbody>\n",
       "</table>\n",
       "</div>"
      ],
      "text/plain": [
       "                    filename                                             path\n",
       "0   180417_ARW_A6_1-0000.tif  C:\\Users\\Prakrith\\Desktop\\example\\single_images\n",
       "1   180417_ARW_A6_1-0001.tif  C:\\Users\\Prakrith\\Desktop\\example\\single_images\n",
       "2   180417_ARW_A6_1-0002.tif  C:\\Users\\Prakrith\\Desktop\\example\\single_images\n",
       "3   180417_ARW_A6_1-0003.tif  C:\\Users\\Prakrith\\Desktop\\example\\single_images\n",
       "4   180417_ARW_A6_1-0004.tif  C:\\Users\\Prakrith\\Desktop\\example\\single_images\n",
       "5   180417_ARW_A6_1-0005.tif  C:\\Users\\Prakrith\\Desktop\\example\\single_images\n",
       "6   180417_ARW_A6_1-0006.tif  C:\\Users\\Prakrith\\Desktop\\example\\single_images\n",
       "7   180417_ARW_A6_1-0007.tif  C:\\Users\\Prakrith\\Desktop\\example\\single_images\n",
       "8   180417_ARW_A6_1-0008.tif  C:\\Users\\Prakrith\\Desktop\\example\\single_images\n",
       "9   180417_ARW_A6_1-0009.tif  C:\\Users\\Prakrith\\Desktop\\example\\single_images\n",
       "10  180417_ARW_A6_1-0010.tif  C:\\Users\\Prakrith\\Desktop\\example\\single_images\n",
       "11  180417_ARW_A6_1-0011.tif  C:\\Users\\Prakrith\\Desktop\\example\\single_images\n",
       "12  180417_ARW_A6_1-0012.tif  C:\\Users\\Prakrith\\Desktop\\example\\single_images\n",
       "13  180417_ARW_A6_1-0013.tif  C:\\Users\\Prakrith\\Desktop\\example\\single_images\n",
       "14  180417_ARW_A6_1-0014.tif  C:\\Users\\Prakrith\\Desktop\\example\\single_images\n",
       "15  180417_ARW_A6_1-0015.tif  C:\\Users\\Prakrith\\Desktop\\example\\single_images\n",
       "16  180417_ARW_A6_1-0016.tif  C:\\Users\\Prakrith\\Desktop\\example\\single_images\n",
       "17  180417_ARW_A6_1-0017.tif  C:\\Users\\Prakrith\\Desktop\\example\\single_images\n",
       "18  180417_ARW_A6_1-0018.tif  C:\\Users\\Prakrith\\Desktop\\example\\single_images\n",
       "19  180417_ARW_A6_1-0019.tif  C:\\Users\\Prakrith\\Desktop\\example\\single_images\n",
       "20  180417_ARW_A6_1-0020.tif  C:\\Users\\Prakrith\\Desktop\\example\\single_images\n",
       "21  180417_ARW_A6_1-0021.tif  C:\\Users\\Prakrith\\Desktop\\example\\single_images"
      ]
     },
     "execution_count": 12,
     "metadata": {},
     "output_type": "execute_result"
    }
   ],
   "source": [
    "stack.unpack(single.path, 8)\n",
    "single.df"
   ]
  },
  {
   "cell_type": "markdown",
   "metadata": {},
   "source": [
    "# 5. ilastik"
   ]
  },
  {
   "cell_type": "markdown",
   "metadata": {},
   "source": [
    "## a) Setup"
   ]
  },
  {
   "cell_type": "code",
   "execution_count": null,
   "metadata": {},
   "outputs": [
    {
     "data": {
      "text/html": [
       "<div>\n",
       "<style scoped>\n",
       "    .dataframe tbody tr th:only-of-type {\n",
       "        vertical-align: middle;\n",
       "    }\n",
       "\n",
       "    .dataframe tbody tr th {\n",
       "        vertical-align: top;\n",
       "    }\n",
       "\n",
       "    .dataframe thead th {\n",
       "        text-align: right;\n",
       "    }\n",
       "</style>\n",
       "<table border=\"1\" class=\"dataframe\">\n",
       "  <thead>\n",
       "    <tr style=\"text-align: right;\">\n",
       "      <th></th>\n",
       "    </tr>\n",
       "  </thead>\n",
       "  <tbody>\n",
       "  </tbody>\n",
       "</table>\n",
       "</div>"
      ],
      "text/plain": [
       "Empty DataFrame\n",
       "Columns: []\n",
       "Index: []"
      ]
     },
     "execution_count": 13,
     "metadata": {},
     "output_type": "execute_result"
    }
   ],
   "source": [
    "ilastik = Ilastik(stack.folder('ilastik'), RE_PNG)\n",
    "ilastik.df"
   ]
  },
  {
   "cell_type": "code",
   "execution_count": null,
   "metadata": {},
   "outputs": [
    {
     "name": "stdout",
     "output_type": "stream",
     "text": [
      "No probability maps found.\n"
     ]
    },
    {
     "data": {
      "text/html": [
       "<div>\n",
       "<style scoped>\n",
       "    .dataframe tbody tr th:only-of-type {\n",
       "        vertical-align: middle;\n",
       "    }\n",
       "\n",
       "    .dataframe tbody tr th {\n",
       "        vertical-align: top;\n",
       "    }\n",
       "\n",
       "    .dataframe thead th {\n",
       "        text-align: right;\n",
       "    }\n",
       "</style>\n",
       "<table border=\"1\" class=\"dataframe\">\n",
       "  <thead>\n",
       "    <tr style=\"text-align: right;\">\n",
       "      <th></th>\n",
       "      <th>filename</th>\n",
       "      <th>path</th>\n",
       "    </tr>\n",
       "  </thead>\n",
       "  <tbody>\n",
       "    <tr>\n",
       "      <th>0</th>\n",
       "      <td>180417_ARW_A6_1-0000.tif</td>\n",
       "      <td>C:\\Users\\Prakrith\\Desktop\\example\\single_images</td>\n",
       "    </tr>\n",
       "    <tr>\n",
       "      <th>1</th>\n",
       "      <td>180417_ARW_A6_1-0001.tif</td>\n",
       "      <td>C:\\Users\\Prakrith\\Desktop\\example\\single_images</td>\n",
       "    </tr>\n",
       "    <tr>\n",
       "      <th>2</th>\n",
       "      <td>180417_ARW_A6_1-0002.tif</td>\n",
       "      <td>C:\\Users\\Prakrith\\Desktop\\example\\single_images</td>\n",
       "    </tr>\n",
       "    <tr>\n",
       "      <th>3</th>\n",
       "      <td>180417_ARW_A6_1-0003.tif</td>\n",
       "      <td>C:\\Users\\Prakrith\\Desktop\\example\\single_images</td>\n",
       "    </tr>\n",
       "    <tr>\n",
       "      <th>4</th>\n",
       "      <td>180417_ARW_A6_1-0004.tif</td>\n",
       "      <td>C:\\Users\\Prakrith\\Desktop\\example\\single_images</td>\n",
       "    </tr>\n",
       "    <tr>\n",
       "      <th>5</th>\n",
       "      <td>180417_ARW_A6_1-0005.tif</td>\n",
       "      <td>C:\\Users\\Prakrith\\Desktop\\example\\single_images</td>\n",
       "    </tr>\n",
       "    <tr>\n",
       "      <th>6</th>\n",
       "      <td>180417_ARW_A6_1-0006.tif</td>\n",
       "      <td>C:\\Users\\Prakrith\\Desktop\\example\\single_images</td>\n",
       "    </tr>\n",
       "    <tr>\n",
       "      <th>7</th>\n",
       "      <td>180417_ARW_A6_1-0007.tif</td>\n",
       "      <td>C:\\Users\\Prakrith\\Desktop\\example\\single_images</td>\n",
       "    </tr>\n",
       "    <tr>\n",
       "      <th>8</th>\n",
       "      <td>180417_ARW_A6_1-0008.tif</td>\n",
       "      <td>C:\\Users\\Prakrith\\Desktop\\example\\single_images</td>\n",
       "    </tr>\n",
       "    <tr>\n",
       "      <th>9</th>\n",
       "      <td>180417_ARW_A6_1-0009.tif</td>\n",
       "      <td>C:\\Users\\Prakrith\\Desktop\\example\\single_images</td>\n",
       "    </tr>\n",
       "    <tr>\n",
       "      <th>10</th>\n",
       "      <td>180417_ARW_A6_1-0010.tif</td>\n",
       "      <td>C:\\Users\\Prakrith\\Desktop\\example\\single_images</td>\n",
       "    </tr>\n",
       "    <tr>\n",
       "      <th>11</th>\n",
       "      <td>180417_ARW_A6_1-0011.tif</td>\n",
       "      <td>C:\\Users\\Prakrith\\Desktop\\example\\single_images</td>\n",
       "    </tr>\n",
       "    <tr>\n",
       "      <th>12</th>\n",
       "      <td>180417_ARW_A6_1-0012.tif</td>\n",
       "      <td>C:\\Users\\Prakrith\\Desktop\\example\\single_images</td>\n",
       "    </tr>\n",
       "    <tr>\n",
       "      <th>13</th>\n",
       "      <td>180417_ARW_A6_1-0013.tif</td>\n",
       "      <td>C:\\Users\\Prakrith\\Desktop\\example\\single_images</td>\n",
       "    </tr>\n",
       "    <tr>\n",
       "      <th>14</th>\n",
       "      <td>180417_ARW_A6_1-0014.tif</td>\n",
       "      <td>C:\\Users\\Prakrith\\Desktop\\example\\single_images</td>\n",
       "    </tr>\n",
       "    <tr>\n",
       "      <th>15</th>\n",
       "      <td>180417_ARW_A6_1-0015.tif</td>\n",
       "      <td>C:\\Users\\Prakrith\\Desktop\\example\\single_images</td>\n",
       "    </tr>\n",
       "    <tr>\n",
       "      <th>16</th>\n",
       "      <td>180417_ARW_A6_1-0016.tif</td>\n",
       "      <td>C:\\Users\\Prakrith\\Desktop\\example\\single_images</td>\n",
       "    </tr>\n",
       "    <tr>\n",
       "      <th>17</th>\n",
       "      <td>180417_ARW_A6_1-0017.tif</td>\n",
       "      <td>C:\\Users\\Prakrith\\Desktop\\example\\single_images</td>\n",
       "    </tr>\n",
       "    <tr>\n",
       "      <th>18</th>\n",
       "      <td>180417_ARW_A6_1-0018.tif</td>\n",
       "      <td>C:\\Users\\Prakrith\\Desktop\\example\\single_images</td>\n",
       "    </tr>\n",
       "    <tr>\n",
       "      <th>19</th>\n",
       "      <td>180417_ARW_A6_1-0019.tif</td>\n",
       "      <td>C:\\Users\\Prakrith\\Desktop\\example\\single_images</td>\n",
       "    </tr>\n",
       "    <tr>\n",
       "      <th>20</th>\n",
       "      <td>180417_ARW_A6_1-0020.tif</td>\n",
       "      <td>C:\\Users\\Prakrith\\Desktop\\example\\single_images</td>\n",
       "    </tr>\n",
       "    <tr>\n",
       "      <th>21</th>\n",
       "      <td>180417_ARW_A6_1-0021.tif</td>\n",
       "      <td>C:\\Users\\Prakrith\\Desktop\\example\\single_images</td>\n",
       "    </tr>\n",
       "  </tbody>\n",
       "</table>\n",
       "</div>"
      ],
      "text/plain": [
       "                    filename                                             path\n",
       "0   180417_ARW_A6_1-0000.tif  C:\\Users\\Prakrith\\Desktop\\example\\single_images\n",
       "1   180417_ARW_A6_1-0001.tif  C:\\Users\\Prakrith\\Desktop\\example\\single_images\n",
       "2   180417_ARW_A6_1-0002.tif  C:\\Users\\Prakrith\\Desktop\\example\\single_images\n",
       "3   180417_ARW_A6_1-0003.tif  C:\\Users\\Prakrith\\Desktop\\example\\single_images\n",
       "4   180417_ARW_A6_1-0004.tif  C:\\Users\\Prakrith\\Desktop\\example\\single_images\n",
       "5   180417_ARW_A6_1-0005.tif  C:\\Users\\Prakrith\\Desktop\\example\\single_images\n",
       "6   180417_ARW_A6_1-0006.tif  C:\\Users\\Prakrith\\Desktop\\example\\single_images\n",
       "7   180417_ARW_A6_1-0007.tif  C:\\Users\\Prakrith\\Desktop\\example\\single_images\n",
       "8   180417_ARW_A6_1-0008.tif  C:\\Users\\Prakrith\\Desktop\\example\\single_images\n",
       "9   180417_ARW_A6_1-0009.tif  C:\\Users\\Prakrith\\Desktop\\example\\single_images\n",
       "10  180417_ARW_A6_1-0010.tif  C:\\Users\\Prakrith\\Desktop\\example\\single_images\n",
       "11  180417_ARW_A6_1-0011.tif  C:\\Users\\Prakrith\\Desktop\\example\\single_images\n",
       "12  180417_ARW_A6_1-0012.tif  C:\\Users\\Prakrith\\Desktop\\example\\single_images\n",
       "13  180417_ARW_A6_1-0013.tif  C:\\Users\\Prakrith\\Desktop\\example\\single_images\n",
       "14  180417_ARW_A6_1-0014.tif  C:\\Users\\Prakrith\\Desktop\\example\\single_images\n",
       "15  180417_ARW_A6_1-0015.tif  C:\\Users\\Prakrith\\Desktop\\example\\single_images\n",
       "16  180417_ARW_A6_1-0016.tif  C:\\Users\\Prakrith\\Desktop\\example\\single_images\n",
       "17  180417_ARW_A6_1-0017.tif  C:\\Users\\Prakrith\\Desktop\\example\\single_images\n",
       "18  180417_ARW_A6_1-0018.tif  C:\\Users\\Prakrith\\Desktop\\example\\single_images\n",
       "19  180417_ARW_A6_1-0019.tif  C:\\Users\\Prakrith\\Desktop\\example\\single_images\n",
       "20  180417_ARW_A6_1-0020.tif  C:\\Users\\Prakrith\\Desktop\\example\\single_images\n",
       "21  180417_ARW_A6_1-0021.tif  C:\\Users\\Prakrith\\Desktop\\example\\single_images"
      ]
     },
     "execution_count": 14,
     "metadata": {},
     "output_type": "execute_result"
    }
   ],
   "source": [
    "ilastik.count\n",
    "ilastik.check(PRBSTG_DICT, single.df)\n",
    "ilastik.incomplete"
   ]
  },
  {
   "cell_type": "markdown",
   "metadata": {},
   "source": [
    "## b) Processing"
   ]
  },
  {
   "cell_type": "code",
   "execution_count": null,
   "metadata": {},
   "outputs": [
    {
     "data": {
      "application/vnd.jupyter.widget-view+json": {
       "model_id": "b777b9f852ea4bf2a1b70eeb48023822",
       "version_major": 2,
       "version_minor": 0
      },
      "text/plain": [
       "HBox(children=(IntProgress(value=0, description='run ilastik', max=22, style=ProgressStyle(description_width='…"
      ]
     },
     "metadata": {},
     "output_type": "display_data"
    },
    {
     "name": "stderr",
     "output_type": "stream",
     "text": [
      "C:\\Users\\Prakrith\\AppData\\Local\\conda\\conda\\envs\\bioimg\\lib\\site-packages\\h5py\\_hl\\dataset.py:313: H5pyDeprecationWarning: dataset.value has been deprecated. Use dataset[()] instead.\n",
      "  \"Use dataset[()] instead.\", H5pyDeprecationWarning)\n",
      "C:\\Users\\Prakrith\\AppData\\Local\\conda\\conda\\envs\\bioimg\\lib\\site-packages\\skimage\\util\\dtype.py:141: UserWarning: Possible precision loss when converting from float32 to uint16\n",
      "  .format(dtypeobj_in, dtypeobj_out))\n",
      "C:\\Users\\Prakrith\\AppData\\Local\\conda\\conda\\envs\\bioimg\\lib\\site-packages\\skimage\\util\\dtype.py:141: UserWarning: Possible precision loss when converting from float32 to uint16\n",
      "  .format(dtypeobj_in, dtypeobj_out))\n",
      "C:\\Users\\Prakrith\\AppData\\Local\\conda\\conda\\envs\\bioimg\\lib\\site-packages\\skimage\\util\\dtype.py:141: UserWarning: Possible precision loss when converting from float32 to uint16\n",
      "  .format(dtypeobj_in, dtypeobj_out))\n",
      "C:\\Users\\Prakrith\\AppData\\Local\\conda\\conda\\envs\\bioimg\\lib\\site-packages\\skimage\\util\\dtype.py:141: UserWarning: Possible precision loss when converting from float32 to uint16\n",
      "  .format(dtypeobj_in, dtypeobj_out))\n",
      "C:\\Users\\Prakrith\\AppData\\Local\\conda\\conda\\envs\\bioimg\\lib\\site-packages\\h5py\\_hl\\dataset.py:313: H5pyDeprecationWarning: dataset.value has been deprecated. Use dataset[()] instead.\n",
      "  \"Use dataset[()] instead.\", H5pyDeprecationWarning)\n",
      "C:\\Users\\Prakrith\\AppData\\Local\\conda\\conda\\envs\\bioimg\\lib\\site-packages\\skimage\\util\\dtype.py:141: UserWarning: Possible precision loss when converting from float32 to uint16\n",
      "  .format(dtypeobj_in, dtypeobj_out))\n",
      "C:\\Users\\Prakrith\\AppData\\Local\\conda\\conda\\envs\\bioimg\\lib\\site-packages\\skimage\\util\\dtype.py:141: UserWarning: Possible precision loss when converting from float32 to uint16\n",
      "  .format(dtypeobj_in, dtypeobj_out))\n",
      "C:\\Users\\Prakrith\\AppData\\Local\\conda\\conda\\envs\\bioimg\\lib\\site-packages\\skimage\\util\\dtype.py:141: UserWarning: Possible precision loss when converting from float32 to uint16\n",
      "  .format(dtypeobj_in, dtypeobj_out))\n",
      "C:\\Users\\Prakrith\\AppData\\Local\\conda\\conda\\envs\\bioimg\\lib\\site-packages\\skimage\\util\\dtype.py:141: UserWarning: Possible precision loss when converting from float32 to uint16\n",
      "  .format(dtypeobj_in, dtypeobj_out))\n"
     ]
    }
   ],
   "source": [
    "RunIL(ilastik.incomplete)\n",
    "ilastik.df"
   ]
  },
  {
   "cell_type": "markdown",
   "metadata": {},
   "source": [
    "# 6. Cellprofiler"
   ]
  },
  {
   "cell_type": "markdown",
   "metadata": {},
   "source": [
    "## MK"
   ]
  },
  {
   "cell_type": "code",
   "execution_count": null,
   "metadata": {},
   "outputs": [],
   "source": [
    "out = stack.folder('output')"
   ]
  },
  {
   "cell_type": "code",
   "execution_count": null,
   "metadata": {},
   "outputs": [],
   "source": [
    "RunCP(PIPELINE, stack.path, 'mk.txt', single.list + ilastik.list, out, rules=RULES)"
   ]
  },
  {
   "cell_type": "markdown",
   "metadata": {},
   "source": [
    "# 7. Results"
   ]
  },
  {
   "cell_type": "markdown",
   "metadata": {},
   "source": [
    "## results_Image.csv"
   ]
  },
  {
   "cell_type": "code",
   "execution_count": null,
   "metadata": {},
   "outputs": [],
   "source": [
    "res = ResultsImage(out, 'results_Image.csv', time)"
   ]
  },
  {
   "cell_type": "code",
   "execution_count": null,
   "metadata": {
    "scrolled": true
   },
   "outputs": [],
   "source": [
    "res.df"
   ]
  },
  {
   "cell_type": "code",
   "execution_count": null,
   "metadata": {},
   "outputs": [],
   "source": [
    "x = res.analyze()"
   ]
  },
  {
   "cell_type": "markdown",
   "metadata": {},
   "source": [
    "## results_mk_filter.csv"
   ]
  },
  {
   "cell_type": "code",
   "execution_count": null,
   "metadata": {},
   "outputs": [],
   "source": [
    "res2 = ResultsObject(out, 'results_mk_filter.csv', time, 'MK')"
   ]
  },
  {
   "cell_type": "code",
   "execution_count": null,
   "metadata": {
    "scrolled": true
   },
   "outputs": [],
   "source": [
    "res2.df"
   ]
  },
  {
   "cell_type": "code",
   "execution_count": null,
   "metadata": {},
   "outputs": [],
   "source": [
    "y = res2.analyze()"
   ]
  },
  {
   "cell_type": "markdown",
   "metadata": {},
   "source": [
    "## results_pplt_filter.csv"
   ]
  },
  {
   "cell_type": "code",
   "execution_count": null,
   "metadata": {},
   "outputs": [],
   "source": [
    "res3 = ResultsObject(out, 'results_pplt_filter.csv', time, 'PPLT')"
   ]
  },
  {
   "cell_type": "code",
   "execution_count": null,
   "metadata": {
    "scrolled": true
   },
   "outputs": [],
   "source": [
    "res3.df"
   ]
  },
  {
   "cell_type": "code",
   "execution_count": null,
   "metadata": {},
   "outputs": [],
   "source": [
    "z = res3.analyze()"
   ]
  },
  {
   "cell_type": "markdown",
   "metadata": {},
   "source": []
  },
  {
   "cell_type": "code",
   "execution_count": null,
   "metadata": {},
   "outputs": [],
   "source": [
    "heatmap(x,y,z,out)"
   ]
  },
  {
   "cell_type": "code",
   "execution_count": null,
   "metadata": {},
   "outputs": [],
   "source": [
    "tools.move_results(out)"
   ]
  }
 ],
 "metadata": {
  "kernelspec": {
   "display_name": "Python 3",
   "language": "python",
   "name": "python3"
  },
  "language_info": {
   "codemirror_mode": {
    "name": "ipython",
    "version": 3
   },
   "file_extension": ".py",
   "mimetype": "text/x-python",
   "name": "python",
   "nbconvert_exporter": "python",
   "pygments_lexer": "ipython3",
   "version": "3.7.1"
  }
 },
 "nbformat": 4,
 "nbformat_minor": 2
}
