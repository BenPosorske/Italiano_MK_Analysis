{
 "cells": [
  {
   "cell_type": "markdown",
   "metadata": {},
   "source": [
    "# MK_Analysis\n",
    "This jupyter notebook is designed to analyze proplatelet production of Megakaryocytes from tiff time-lapses taken by the Incucyte Zoom (10X, 1392x1040px -- 1700 x 1270 um).\n",
    "\n",
    "This analysis occurs in 3 steps:\n",
    "\n",
    "1 ilastikProcessing - Unpacks tiff stacks & generates probability masks from phase images through the ilastik project (.ilp) file.\n",
    "\n",
    "\n",
    "2 Quantification Pipeline - Primary pipeline for proplatelet production analysis. Important output files are listed as follows:\n",
    "    \n",
    "    a. 'results_Image.csv' -> raw results\n",
    "    \n",
    "    b. 'results_cell/pplt.properties' -> use in CPA to train classifiers\n",
    "    \n",
    "    c. 'labels' folder, containing 16-bt labels of proplatelet objects used for the Skeleton pipeline\n",
    "    \n",
    "    d. 'overlay' of phase images, labeling megs as red & pplts as green\n",
    "    \n",
    "    e. 'Raw.csv','Area.csv','Pplt_Pct.csv' -> Calculated & Formatted Results\n",
    "    \n",
    "3 Skeletonization Pipeline - Secondary pipeline for proplatelet structure analysis. Important output files are listed as follows:"
   ]
  },
  {
   "cell_type": "code",
   "execution_count": 1,
   "metadata": {},
   "outputs": [
    {
     "name": "stderr",
     "output_type": "stream",
     "text": [
      "C:\\Users\\Prakrith\\AppData\\Local\\conda\\conda\\envs\\bioimg\\lib\\site-packages\\h5py\\__init__.py:36: FutureWarning: Conversion of the second argument of issubdtype from `float` to `np.floating` is deprecated. In future, it will be treated as `np.float64 == np.dtype(float).type`.\n",
      "  from ._conv import register_converters as _register_converters\n"
     ]
    }
   ],
   "source": [
    "%matplotlib inline\n",
    "import glob\n",
    "import h5py\n",
    "import matplotlib\n",
    "import matplotlib.pyplot as plt\n",
    "import networkx as nx\n",
    "import numpy\n",
    "import os\n",
    "import os.path\n",
    "import pandas\n",
    "import re\n",
    "from shutil import copy2\n",
    "import skimage\n",
    "import skimage.exposure\n",
    "import skimage.io\n",
    "import subprocess\n",
    "# from tkinter.filedialog import askdirectory\n",
    "from tqdm._tqdm_notebook import tqdm_notebook"
   ]
  },
  {
   "cell_type": "markdown",
   "metadata": {},
   "source": [
    "# ilastikProcessing\n",
    "To effectively use ilastik some formating must be done before and after ilastik processes the images. The input is assumed to be a time-series of images stored in a multi-page TIFF."
   ]
  },
  {
   "cell_type": "markdown",
   "metadata": {},
   "source": [
    "# Unpack (or separate) input images into single files.\n",
    "\n",
    "## Update input image variables\n",
    "Update the variable *image_directory* with the path to a folder that contains the input images. Update the *regex_image* variable to process only the images that match the regular expression. If the *regex_image* variable is equal to `(.*)\\.tif`, then any *.tif* in the folder will be processed.\n",
    "\n",
    "If a filename matches the *regex_single* regular expression, then it is assumed that this image has already been unpacked. An unpacked single image will have timepoint appended to the end of the file following the pattern `\\-\\d{4}\\.tif`\n",
    "\n",
    "*path_to_ilastik* is a string with the path to the ilastik software for [running headless](http://ilastik.org/documentation/basics/headless.html)."
   ]
  },
  {
   "cell_type": "code",
   "execution_count": 2,
   "metadata": {},
   "outputs": [],
   "source": [
    "# image_directory = r\"/home/prakrith/Github/2017_06_20_Machlus_megakarocyte_differentiation/test/\"\n",
    "# path_to_ilastik = r\"/home/prakrith/Applications/ilastik-1.3.0-Linux/run_ilastik.sh\"\n",
    "# path_to_project = r\"/home/prakrith/Github/2017_06_20_Machlus_megakarocyte_differentiation/ilps/180331_MK_384.ilp\"\n",
    "# # path_to_cellprofiler = r\"C:\\Program Files (x86)\\CellProfiler\\CellProfiler.exe\"\n",
    "# # path_to_cp_pipeline = r\"C:\\Users\\Prakrith\\Documents\\GitHub\\Test\\pipelines\\180325_MP.cppipe\"\n",
    "# regex_image = \"(.*)\\.tif\" #stack\n",
    "# regex_single = \".*\\-\\d{4}\\.tif\" #slice\n",
    "# re_image = re.compile(regex_image)\n",
    "# re_single = re.compile(regex_single)"
   ]
  },
  {
   "cell_type": "code",
   "execution_count": 2,
   "metadata": {},
   "outputs": [],
   "source": [
    "image_directory = r\"C:\\Users\\Prakrith\\Desktop\\test\"\n",
    "path_to_ilastik = r\"C:\\Program Files\\ilastik-1.3.0b4\\run-ilastik.bat\"\n",
    "path_to_project = r\"C:\\Users\\Prakrith\\Documents\\GitHub\\Test\\ilps\\180517_Zoom.ilp\"\n",
    "path_to_cellprofiler = r\"C:\\Program Files (x86)\\CellProfiler\\CellProfiler.exe\"\n",
    "path_to_cp_pipeline = r\"C:\\Users\\Prakrith\\Documents\\GitHub\\Test\\pipelines\\180512_MP.cppipe\"\n",
    "regex_image = \"(.*)\\.tif\" #stack\n",
    "regex_single = \".*\\-\\d{4}\\.tif\" #slice\n",
    "re_image = re.compile(regex_image)\n",
    "re_single = re.compile(regex_single)"
   ]
  },
  {
   "cell_type": "code",
   "execution_count": 3,
   "metadata": {
    "scrolled": true
   },
   "outputs": [],
   "source": [
    "os.makedirs(os.path.join(image_directory, \"single_images\"), exist_ok=True)\n",
    "imdir_single = os.path.join(image_directory,\"single_images\")\n",
    "os.makedirs(os.path.join(image_directory, \"ilastik\"), exist_ok=True)\n",
    "imdir_ilastik = os.path.join(image_directory,\"ilastik\")\n",
    "os.makedirs(os.path.join(image_directory, \"output\"), exist_ok=True)\n",
    "output_directory = os.path.join(image_directory,\"output\")"
   ]
  },
  {
   "cell_type": "code",
   "execution_count": 5,
   "metadata": {},
   "outputs": [],
   "source": [
    "# image_directory = r\"C:\\Users\\Prakrith\\Desktop\\test\"\n",
    "# imdir_single = r\"C:\\Users\\Prakrith\\Desktop\\test\\single_images\"\n",
    "# imdir_ilastik = r\"C:\\Users\\Prakrith\\Desktop\\test\\ilastik\"\n",
    "# output_directory = r\"C:\\Users\\Prakrith\\Desktop\\test\\output\""
   ]
  },
  {
   "cell_type": "markdown",
   "metadata": {},
   "source": [
    "## Methods to import image metadata\n",
    "* *is_my_file* will use the regular expression to filter image files to be processed.\n",
    "* *make_dict* parses a file to be processed and places metadata into a dictionary.\n",
    "\n",
    "Parse the files to be processed and then place the metadata into a Pandas dataframe."
   ]
  },
  {
   "cell_type": "code",
   "execution_count": null,
   "metadata": {},
   "outputs": [],
   "source": [
    "def is_my_file(filename, re_image, re_single):\n",
    "    \n",
    "    mybool = False\n",
    "    \n",
    "    if (    re_image.match(filename) != None \n",
    "        and re_single.match(filename) == None\n",
    "       ):\n",
    "        \n",
    "        mybool = True\n",
    "        \n",
    "    return mybool\n",
    "\n",
    "\n",
    "def make_dict(filename, path, re_obj):\n",
    "    \n",
    "    my_dict = re_obj.match(filename).groupdict()\n",
    "    \n",
    "    my_dict[\"filename\"] = filename\n",
    "    \n",
    "    my_dict[\"path\"] = path\n",
    "    \n",
    "    return my_dict"
   ]
  },
  {
   "cell_type": "code",
   "execution_count": null,
   "metadata": {},
   "outputs": [],
   "source": [
    "image_files_dict = [make_dict(f, image_directory, re_image) for f in os.listdir(image_directory) if is_my_file(f, re_image, re_single)]\n",
    "image_df = pandas.DataFrame(image_files_dict)"
   ]
  },
  {
   "cell_type": "markdown",
   "metadata": {},
   "source": [
    "## Unpack the multi-page TIFF images\n",
    "For every image, create a single image file for each timepoint. The input images are assumed to be RGB, which has 3 dimensions (length, width, color). The multipage TIFF of RGB images will have 4 dimensions (timepoints, length, width, color). \n",
    "\n",
    "*If the upstream workflow changes and the input image format is altered, then the conditional logic below will need to be updated, specifically the logic based on the shape of the input images.*\n",
    "\n",
    "### Are the images across experiments similar enough to treat equally\n",
    "One concern is that overfitting from training a classification model either through ilastik or CellProfiler analyst. The training set needs to be representative of the possibility space. This is accomplished by choosing a large enough image set that includes images of all states of interest including undifferentiated and fully differentiated megakaryocytes.\n",
    "\n",
    "We also want to eliminate noise from known sources of variablity that could potentially weaken the classifier. The primary sources of noise in the images will be non-uniform illumination and differences in exposure. Non-uniform illumination is difficult to correct, because the background is actually in the middle of the intensity range and the signal occupies both high and low intensities.\n",
    "\n"
   ]
  },
  {
   "cell_type": "code",
   "execution_count": null,
   "metadata": {},
   "outputs": [],
   "source": [
    "#filelist = glob.glob(\"D:\\Prakrith\\MK_Differentiation_Kyle\\images\\single_images\\*.tif\")\n",
    "\n",
    "#for f in filelist:\n",
    "    \n",
    "#    im = skimage.io.imread(f)\n",
    "    \n",
    "#    im2 = skimage.color.rgb2gray(im)\n",
    "        \n",
    "#    im2 = skimage.img_as_ubyte(im2)\n",
    "\n",
    "#    skimage.io.imsave(f, im2)"
   ]
  },
  {
   "cell_type": "code",
   "execution_count": null,
   "metadata": {},
   "outputs": [],
   "source": [
    "# ****DOWNSAMPLE\n",
    "\n",
    "# def df_stack_image(p):\n",
    "    \n",
    "#     im = skimage.io.imread(os.path.join(p[\"path\"], p[\"filename\"]))\n",
    "    \n",
    "#     if len(im.shape) < 4:\n",
    "        \n",
    "#         retest = re_image.match(p[\"filename\"])\n",
    "\n",
    "#         retest.group(1)\n",
    "\n",
    "#         fname = \"{0}-{1:04d}.tif\".format(retest.group(1), 0)\n",
    "        \n",
    "#         im2 = skimage.transform.rescale(im, 0.5)\n",
    "        \n",
    "#         im2 = skimage.color.rgb2gray(im2)\n",
    "        \n",
    "#         im2 = skimage.img_as_ubyte(im2)\n",
    "        \n",
    "#         skimage.io.imsave(os.path.join(p[\"path\"], fname), im2)\n",
    "        \n",
    "#     else:\n",
    "    \n",
    "#         number_of_timepoints = im.shape[0]\n",
    "\n",
    "#         for i in range(number_of_timepoints):\n",
    "\n",
    "#             retest = re_image.match(p[\"filename\"])\n",
    "\n",
    "#             retest.group(1)\n",
    "\n",
    "#             fname = \"{0}-{1:04d}.tif\".format(retest.group(1), i)\n",
    "            \n",
    "#             im2 = skimage.transform.rescale(im[i,:,:,:], 0.5)\n",
    "            \n",
    "#             im2 = skimage.color.rgb2gray(im2)\n",
    "        \n",
    "#             im2 = skimage.img_as_ubyte(im2)\n",
    "            \n",
    "#             skimage.io.imsave(os.path.join(p[\"path\"], \"single_images\", fname), im2)"
   ]
  },
  {
   "cell_type": "code",
   "execution_count": null,
   "metadata": {},
   "outputs": [],
   "source": [
    "def df_stack_image(p):\n",
    "    \n",
    "    im = skimage.io.imread(os.path.join(p[\"path\"], p[\"filename\"]))\n",
    "    \n",
    "    if len(im.shape) < 4:\n",
    "        \n",
    "        retest = re_image.match(p[\"filename\"])\n",
    "\n",
    "        retest.group(1)\n",
    "\n",
    "        fname = \"{0}-{1:04d}.tif\".format(retest.group(1), 0)\n",
    "        \n",
    "        im2 = skimage.color.rgb2gray(im)\n",
    "        \n",
    "        im2 = skimage.img_as_ubyte(im2)\n",
    "\n",
    "        skimage.io.imsave(os.path.join(p[\"path\"], fname), im2)\n",
    "        \n",
    "    else:\n",
    "    \n",
    "        number_of_timepoints = im.shape[0]\n",
    "\n",
    "        for i in range(number_of_timepoints):\n",
    "\n",
    "            retest = re_image.match(p[\"filename\"])\n",
    "\n",
    "            retest.group(1)\n",
    "\n",
    "            fname = \"{0}-{1:04d}.tif\".format(retest.group(1), i)\n",
    "            \n",
    "            im2 = skimage.color.rgb2gray(im[i,:,:,:])\n",
    "        \n",
    "            im2 = skimage.img_as_ubyte(im2)\n",
    "\n",
    "            skimage.io.imsave(os.path.join(p[\"path\"], \"single_images\", fname), im2)"
   ]
  },
  {
   "cell_type": "code",
   "execution_count": null,
   "metadata": {
    "scrolled": true
   },
   "outputs": [],
   "source": [
    "if image_df.empty is False:\n",
    "    \n",
    "    # Note that this can fail if the input images aren't in the expected format\n",
    "    # If you receive an error, double check the format of the input images, e.g. are they RGB?\n",
    "    tqdm_notebook.pandas(desc=\"unpack\")\n",
    "    _ = image_df.progress_apply(df_stack_image, axis=1)\n",
    "\n",
    "else:\n",
    "    \n",
    "    print(\"no images to unpack\")"
   ]
  },
  {
   "cell_type": "markdown",
   "metadata": {
    "collapsed": true
   },
   "source": [
    "# Run ilastik\n",
    "\n",
    "Using the single images created earlier, process the images using ilastik. First, create another dataframe with the single image metadata. Note, this has been written for running on Windows.\n",
    "\n",
    "## Process ilastik output for CellProfiler\n",
    "ilastik will output and HDF5 file that must be parsed for use as input to CellProfiler. This workflow assumes the default export settings are being used in ilastik. We have observed performance costs when changing the exporting settings to formats beyond the standard ilastik HDF5 file. For example, exporting TIFF images changes the shape of the exported data from yxc (the default) to cyx. This rearrangement will cause downstream errors, because the code as written expects the channel to be the third dimension.\n",
    "\n",
    "### ilastik stage-2 labels\n",
    "The project file *Mouse_MK.ilp* has the following labels that are stored in the same order within the HDF5 output.\n",
    "1. background\n",
    "1. border_white\n",
    "1. cell\n",
    "1. protrusion\n",
    "1. background_border\n",
    "1. not_cell"
   ]
  },
  {
   "cell_type": "code",
   "execution_count": null,
   "metadata": {},
   "outputs": [],
   "source": [
    "def is_my_file(filename, re_obj):\n",
    "    \n",
    "    mybool = False\n",
    "    \n",
    "    if re_obj.match(filename) != None:\n",
    "        \n",
    "        mybool = True\n",
    "        \n",
    "    return mybool\n",
    "\n",
    "\n",
    "def make_dict(filename, path, re_obj):\n",
    "    \n",
    "    my_dict = re_obj.match(filename).groupdict()\n",
    "    \n",
    "    my_dict[\"filename\"] = filename\n",
    "    \n",
    "    my_dict[\"path\"] = path\n",
    "    \n",
    "    return my_dict"
   ]
  },
  {
   "cell_type": "code",
   "execution_count": null,
   "metadata": {},
   "outputs": [],
   "source": [
    "image_files_dict = [make_dict(f, imdir_single, re_single) for f in os.listdir(imdir_single) if is_my_file(f, re_single)]\n",
    "image_df = pandas.DataFrame(image_files_dict)"
   ]
  },
  {
   "cell_type": "code",
   "execution_count": null,
   "metadata": {},
   "outputs": [],
   "source": [
    "def df_ilastik(p):\n",
    "    \n",
    "    filename = os.path.join(p[\"path\"], p[\"filename\"])\n",
    "    \n",
    "    filename_noext = os.path.splitext(p[\"filename\"])[0]\n",
    "    \n",
    "    filename_h5 = \"{}_Probabilities Stage 2.h5\".format(filename_noext)\n",
    "    \n",
    "    # Run ilastik using subprocess\n",
    "    \n",
    "    process = subprocess.Popen([path_to_ilastik, \n",
    "                  \"--headless\",\n",
    "                  \"--export_source=probabilities stage 2\",\n",
    "                  \"--output_format=hdf5\",\n",
    "                  r\"--project={}\".format(path_to_project),\n",
    "                  filename\n",
    "                 ], stdout=subprocess.PIPE)\n",
    "    \n",
    "    out, err = process.communicate()\n",
    "    \n",
    "    # unpack the HDF5 file\n",
    "    \n",
    "    label_list = [\"background\", \"protrusion\", \"cell_boundary\", \"cell\"]\n",
    "    \n",
    "    path_h5 = os.path.join(p[\"path\"], filename_h5)\n",
    "    \n",
    "    with h5py.File(path_h5, \"r\") as ilastik_hdf5:\n",
    "    \n",
    "        ilastik_probabilities = ilastik_hdf5[\"exported_data\"].value\n",
    "    \n",
    "        for i in range(ilastik_probabilities.shape[2]):\n",
    "            im = skimage.img_as_uint(ilastik_probabilities[:, :, i])\n",
    "        \n",
    "            filename_slice = \"{}_{}_prbstg2_{}.png\".format(filename_noext, label_list[i], i)\n",
    "        \n",
    "            skimage.io.imsave(os.path.join(p[\"path\"], \"..\", \"ilastik\", filename_slice), im)\n",
    "    \n",
    "    os.remove(path_h5)"
   ]
  },
  {
   "cell_type": "code",
   "execution_count": null,
   "metadata": {
    "scrolled": true
   },
   "outputs": [],
   "source": [
    "tqdm_notebook.pandas(desc=\"run ilastik\")\n",
    "_ = image_df.progress_apply(df_ilastik, axis=1)"
   ]
  },
  {
   "cell_type": "markdown",
   "metadata": {},
   "source": [
    "# Run CellProfiler - Step 1\n",
    "\n",
    "## Make a filelist\n",
    "Add the paths to each file that will be processed by CellProfiler into a text file."
   ]
  },
  {
   "cell_type": "code",
   "execution_count": 4,
   "metadata": {},
   "outputs": [
    {
     "data": {
      "text/plain": [
       "'C:\\\\Users\\\\Prakrith\\\\Desktop\\\\test\\\\fgb_rules_pplt.txt'"
      ]
     },
     "execution_count": 4,
     "metadata": {},
     "output_type": "execute_result"
    }
   ],
   "source": [
    "CPA_Rules = r'C:\\Users\\Prakrith\\Desktop\\CPTemp_in\\fgb_rules_pplt.txt' #directory with location of CellProfiler Analyst Rules\n",
    "copy2(CPA_Rules, image_directory)"
   ]
  },
  {
   "cell_type": "code",
   "execution_count": 5,
   "metadata": {},
   "outputs": [],
   "source": [
    "def sorted_nicely(l): #alphanumeric sorter\n",
    "    convert = lambda text: int(text) if text.isdigit() else text\n",
    "    alphanum_key = lambda key: [convert(c) for c in re.split('([0-9]+)', key)]\n",
    "    return sorted(l, key = alphanum_key)"
   ]
  },
  {
   "cell_type": "code",
   "execution_count": 6,
   "metadata": {},
   "outputs": [],
   "source": [
    "single_list = sorted_nicely(glob.glob(os.path.join(imdir_single,\"*.tif\")))\n",
    "ilastik_list = sorted_nicely(glob.glob(os.path.join(imdir_ilastik,\"*.png\")))\n",
    "big_list = single_list + ilastik_list\n",
    "with open(os.path.join(image_directory,\"filelist.txt\"), 'w') as f:\n",
    "    for item in big_list:\n",
    "        f.write(\"{}\\n\".format(item))"
   ]
  },
  {
   "cell_type": "markdown",
   "metadata": {},
   "source": [
    "## Proplatelet Production Pipeline\n",
    "Use subprocess to run CellProfiler on the images to be processed.\n",
    "\n",
    "Note, that a model that filters protrusions was trained in CellProfiler Analyst outside of this workflow. The model has to be in the input folder to be found by CellProfiler."
   ]
  },
  {
   "cell_type": "code",
   "execution_count": 7,
   "metadata": {},
   "outputs": [],
   "source": [
    "process = subprocess.Popen([path_to_cellprofiler,\n",
    "                  \"--run-headless\",\n",
    "                  \"--pipeline={}\".format(path_to_cp_pipeline),\n",
    "                  \"--file-list={}\".format(os.path.join(image_directory,\"filelist.txt\")),\n",
    "                  \"--image-directory={}\".format(image_directory),\n",
    "                  \"--output-directory={}\".format(output_directory)\n",
    "                 ], stdout=subprocess.PIPE, stderr=subprocess.PIPE, shell=True)\n",
    "    \n",
    "out, err = process.communicate()"
   ]
  },
  {
   "cell_type": "markdown",
   "metadata": {},
   "source": [
    "## Quantify Proplatelet Production\n",
    "From the csvs generated by CellProfiler, the file 'results_Image' is parsed, & proplatelet production is quantified."
   ]
  },
  {
   "cell_type": "code",
   "execution_count": 8,
   "metadata": {
    "scrolled": true
   },
   "outputs": [],
   "source": [
    "result = open(os.path.join(output_directory,r'results_Image.csv')); \n",
    "header = [\"URL_phase\",\"AreaOccupied_AreaOccupied_proplatelets\",\"Count_proplatelets\",\"Count_megs\",\"ImageNumber\"]; #\"AreaOccupied_AreaOccupied_megs\" \n",
    "df = pandas.read_csv(result, usecols = header, index_col = False);\n",
    "df = df.set_index(\"URL_phase\"); #won't allow setting URL_phase as index in read_csv\n",
    "df = df.reindex(index=sorted_nicely(df.index));"
   ]
  },
  {
   "cell_type": "code",
   "execution_count": 9,
   "metadata": {},
   "outputs": [],
   "source": [
    "def f(x):\n",
    "    try:\n",
    "        return (((x[2])/(x[1]))*100) #(count_proplatelet/count_meg)*100\n",
    "    except ZeroDivisionError:\n",
    "        pass;\n",
    "    \n",
    "def g(x):\n",
    "    return ((x[0] * 2159000) / 1447680); #[(area * total_area_um)/total_area_px]\n",
    "\n",
    "x = df.apply(f,axis=1);\n",
    "df['Pct'] = x;\n",
    "x = df.apply(g,axis=1);\n",
    "df['Area_um'] = x;\n",
    "df.to_csv(os.path.join(output_directory,'Raw.csv'));\n",
    "df.drop(df.columns[[0,1,2]], axis=1, inplace=True);\n",
    "df = df.set_index(\"ImageNumber\");\n",
    "df2 = pandas.DataFrame();"
   ]
  },
  {
   "cell_type": "code",
   "execution_count": 10,
   "metadata": {},
   "outputs": [],
   "source": [
    "stack_list = sorted_nicely(glob.glob(os.path.join(image_directory,\"*.tif\")));\n",
    "t = int(len(single_list)); #total num images\n",
    "n = int((len(single_list) / len(stack_list))); # slices per stack\n",
    "\n",
    "for i in range(0,t,n):\n",
    "    slc = df.iloc[i:i+n];\n",
    "    slc = slc.reset_index(drop=True);\n",
    "    df2 = pandas.concat([df2,slc],axis=1,ignore_index=True); #iter df by stack length (n), and concat "
   ]
  },
  {
   "cell_type": "code",
   "execution_count": 11,
   "metadata": {},
   "outputs": [],
   "source": [
    "def res(df,sl,n,name): #dataframe,stack_list,num_timepoints,csv output name\n",
    "    df.columns = sl;\n",
    "    df['Timepoint'] = list(range(1,n+1));\n",
    "    df = df.set_index(\"Timepoint\");\n",
    "    df.to_csv(os.path.join(output_directory,name)); #function adds headers to columns, fixes index, and creates final csv\n",
    "    \n",
    "a = df2.loc[:,1::2];\n",
    "res(a,stack_list,n,r'Area.csv');\n",
    "p = df2.loc[:,::2];\n",
    "res(p,stack_list,n,r'PPlt_Pct.csv');"
   ]
  },
  {
   "cell_type": "markdown",
   "metadata": {},
   "source": [
    "# Run CellProfiler - Step 2\n",
    "\n",
    "## Make Skeleton filelist\n",
    "Include the paths to each label file that will also be processed by CellProfiler into a text file."
   ]
  },
  {
   "cell_type": "code",
   "execution_count": 12,
   "metadata": {},
   "outputs": [],
   "source": [
    "path_to_sk_pipeline = r\"C:\\Users\\Prakrith\\Documents\\GitHub\\Test\\pipelines\\Kyle_Skel.cppipe\" #second pipeline"
   ]
  },
  {
   "cell_type": "code",
   "execution_count": 13,
   "metadata": {},
   "outputs": [],
   "source": [
    "os.makedirs(os.path.join(image_directory, \"skeleton\"), exist_ok=True)\n",
    "skeleton_directory = os.path.join(image_directory,\"skeleton\");"
   ]
  },
  {
   "cell_type": "code",
   "execution_count": 14,
   "metadata": {},
   "outputs": [],
   "source": [
    "imdir_label = os.path.join(output_directory,\"labels\");\n",
    "label_list = sorted_nicely(glob.glob(os.path.join(imdir_label,\"*.tiff\")));\n",
    "skel_list = single_list + label_list\n",
    "with open(os.path.join(image_directory,\"filelist2.txt\"), 'w') as f:\n",
    "    for item in skel_list:\n",
    "        f.write(\"{}\\n\".format(item))"
   ]
  },
  {
   "cell_type": "markdown",
   "metadata": {},
   "source": [
    "## Skeleton Pipeline\n",
    "Use subprocess to run CellProfiler on the images/labels to be processed."
   ]
  },
  {
   "cell_type": "code",
   "execution_count": 15,
   "metadata": {},
   "outputs": [],
   "source": [
    "process = subprocess.Popen([path_to_cellprofiler,\n",
    "                  \"--run-headless\",\n",
    "                  \"--pipeline={}\".format(path_to_sk_pipeline),\n",
    "                  \"--file-list={}\".format(os.path.join(image_directory,\"filelist2.txt\")),\n",
    "                  \"--image-directory={}\".format(image_directory),\n",
    "                  \"--output-directory={}\".format(skeleton_directory)\n",
    "                 ], stdout=subprocess.PIPE, stderr=subprocess.PIPE, shell=True)\n",
    "\n",
    "out, err = process.communicate()"
   ]
  },
  {
   "cell_type": "markdown",
   "metadata": {},
   "source": [
    "## Measure Proplatelet Phenotypes\n",
    "Proplatelet structures are measured from the following csvs generated by the Skeleton pipeline.\n",
    "\n",
    "    1 results_MaskedProtrusions\n",
    "    2 results_prot_seed (pplt seed points)\n",
    "    3 results_ppltobj"
   ]
  },
  {
   "cell_type": "code",
   "execution_count": 16,
   "metadata": {},
   "outputs": [],
   "source": [
    "def skcsv(sk_dir,csv,header,columns):\n",
    "    csv = open(os.path.join(sk_dir,csv));\n",
    "    df = pandas.read_csv(csv, usecols = header, index_col = False);\n",
    "    df.columns = columns;\n",
    "    return df;"
   ]
  },
  {
   "cell_type": "code",
   "execution_count": 17,
   "metadata": {},
   "outputs": [],
   "source": [
    "mp_head = [\"Location_Center_X\",\"Location_Center_Y\",\"Parent_ppltobj\"]; #MaskedProtrusions; \"Parent_protrusions\"\n",
    "mp_columns = [\"Masked_Protrusion_X\",\"Masked_Protrusion_Y\",\"Parent_ppltobj\"];\n",
    "mp_df = skcsv(skeleton_directory,'results_MaskedProtrusions.csv',mp_head,mp_columns);"
   ]
  },
  {
   "cell_type": "code",
   "execution_count": 18,
   "metadata": {},
   "outputs": [],
   "source": [
    "ps_head = ['ImageNumber', 'ObjectNumber', 'Metadata_time', 'Location_Center_X', #protrusion_seeds\n",
    "       'Location_Center_Y',\n",
    "       'ObjectSkeleton_NumberBranchEnds_MaskedProtrusionsImage',\n",
    "       'ObjectSkeleton_NumberNonTrunkBranches_MaskedProtrusionsImage',\n",
    "       'ObjectSkeleton_NumberTrunks_MaskedProtrusionsImage',\n",
    "       'ObjectSkeleton_TotalObjectSkeletonLength_MaskedProtrusionsImage'];\n",
    "\n",
    "ps_columns = ['ImageNumber', 'ObjectNumber', 'Timepoint',\n",
    "              'ProtrusionSeed_X', 'ProtrusionSeed_Y',\n",
    "              'NumEndpointsBlue', 'NumBranchGreen', 'NumTrunksRed',\n",
    "              'TotalObjLength'];\n",
    "\n",
    "ps_df = skcsv(skeleton_directory,'results_prot_seed.csv',ps_head,ps_columns);\n",
    "\n",
    "def i(x):\n",
    "    return (x[5] + x[6] + x[7]);\n",
    "\n",
    "x = ps_df.apply(i,axis=1);\n",
    "ps_df['TotalNodes'] = x;\n",
    "ps_df = ps_df.add(mp_df,axis='columns',fill_value=0);\n",
    "ps_df.to_csv(os.path.join(skeleton_directory,'Raw_Skel.csv'));"
   ]
  },
  {
   "cell_type": "code",
   "execution_count": 19,
   "metadata": {},
   "outputs": [],
   "source": [
    "po_head = ['ImageNumber', 'ObjectNumber', 'Metadata_time',     #ppltobj\n",
    "       'Children_MaskedProtrusions_Count', 'Location_Center_X',\n",
    "       'Location_Center_Y', 'Mean_MaskedProtrusions_Location_Center_X',\n",
    "       'Mean_MaskedProtrusions_Location_Center_Y',\n",
    "       'Mean_MaskedProtrusions_Number_Object_Number'];\n",
    "\n",
    "po_columns = ['ImageNumber', 'ObjectNumber', 'Timepoint', \n",
    "              'MaskedProtrusionCount', 'PpltObj_X', 'PpltObj_Y', \n",
    "              'MeanPpltObj_X', 'MeanPpltObj_Y', \n",
    "              'MeanMaskedProtrusionsNumber'];\n",
    "\n",
    "po_df = skcsv(skeleton_directory,'results_ppltobj.csv',po_head,po_columns);\n",
    "po_df.to_csv(os.path.join(skeleton_directory,'PpltObj.csv'));"
   ]
  },
  {
   "cell_type": "code",
   "execution_count": 130,
   "metadata": {},
   "outputs": [
    {
     "data": {
      "text/plain": [
       "{1: [1276.9390892962745, 739.5499704316973],\n",
       " 2: [881.8183520599251, 914.1376404494383]}"
      ]
     },
     "execution_count": 130,
     "metadata": {},
     "output_type": "execute_result"
    }
   ],
   "source": [
    "# po_csv = open(os.path.join(skeleton_directory,r'PpltObj.csv'));\n",
    "# header = [\"ImageNumber\",'ObjectNumber', \"PpltObj_X\", \"PpltObj_Y\"];\n",
    "# po_df = pandas.read_csv(po_csv, usecols = header, index_col = False);\n",
    "\n",
    "# def centroid(po,i): #ppltobj csv,image #\n",
    "#     x = po[po[\"ImageNumber\"] == i]; #slice ppltobj.csv by ImageNumber\n",
    "#     del x[\"ImageNumber\"];\n",
    "#     x = x.set_index('ObjectNumber').T.to_dict('list')\n",
    "#     return x;\n",
    "\n",
    "# centroid(po_df,6) #x[1] x[1][0] ->dict slicing"
   ]
  },
  {
   "cell_type": "markdown",
   "metadata": {},
   "source": [
    "# NetworkX\n",
    "\n",
    "This python program is used to construct graphs to model proplatelet structures from the edges & vertices csvs."
   ]
  },
  {
   "cell_type": "markdown",
   "metadata": {},
   "source": [
    "- The edge list is a simple data structure that you'll use to create the graph. Each row represents a single edge of the graph with some edge attributes."
   ]
  },
  {
   "cell_type": "code",
   "execution_count": 20,
   "metadata": {},
   "outputs": [],
   "source": [
    "edges_csv = open(os.path.join(skeleton_directory,r'edges.csv'));\n",
    "header = ['image_number', 'v1', 'v2', 'length'];\n",
    "e_df = pandas.read_csv(edges_csv, usecols = header, index_col = False);\n",
    "e_df.columns = ['ImageNumber', 'Node_1', 'Node_2', 'Distance']; #\n",
    "e_df = e_df[['Node_1','Node_2','Distance','ImageNumber']];\n",
    "e_df.to_csv(os.path.join(skeleton_directory,'Edge.csv')); #edgelist"
   ]
  },
  {
   "cell_type": "code",
   "execution_count": 21,
   "metadata": {},
   "outputs": [],
   "source": [
    "vertices_csv = open(os.path.join(skeleton_directory,r'vertices.csv'));\n",
    "v_df = pandas.read_csv(vertices_csv);\n",
    "v_df.columns = ['image_number', 'vertex_number','y','x','labels','kind'];#rename i,j to y,x\n",
    "v_df = v_df[['vertex_number', 'x','y','labels', 'kind','image_number']];#swap y,x to x,y in vertices_csv\n",
    "v_df.columns = ['Node','x','y','Labels','Kind','ImageNumber'];#rename i,j to y,x\n",
    "v_df.to_csv(os.path.join(skeleton_directory,'Vert.csv')); #nodelist (optional w/ edgelist, adds more hashable attributes)"
   ]
  },
  {
   "cell_type": "code",
   "execution_count": 22,
   "metadata": {},
   "outputs": [],
   "source": [
    "def imslc(df,im): #edgelist,imagenum; slice edgelist by imagenumber\n",
    "    df = df[df[\"ImageNumber\"]==im]\n",
    "#     del df['ImageNumber']\n",
    "    return df;"
   ]
  },
  {
   "cell_type": "code",
   "execution_count": 219,
   "metadata": {},
   "outputs": [],
   "source": [
    "edgelist = imslc(e_df,6)\n",
    "nodelist = imslc(v_df,6)"
   ]
  },
  {
   "cell_type": "code",
   "execution_count": 235,
   "metadata": {},
   "outputs": [],
   "source": [
    "def nxplot(edge,node,str(n)):\n",
    "    g = nx.Graph();\n",
    "    \n",
    "    # Add edges and edge attributes\n",
    "    for i, elrow in edge.iterrows():\n",
    "        g.add_edge(elrow[0], elrow[1], attr_dict=elrow[2:].to_dict())\n",
    "    \n",
    "    # Add node attributes\n",
    "    for i, nlrow in nodelist.iterrows():\n",
    "        try:\n",
    "            g.node[nlrow['Node']].update(nlrow[1:].to_dict())\n",
    "        except KeyError:\n",
    "            pass\n",
    "        \n",
    "    # Define node positions data structure (dict) for plotting    \n",
    "    node_positions = {node[0]: (node[1]['x'], -node[1]['y']) for node in g.nodes(data=True)}\n",
    "    \n",
    "    plt.figure(figsize=(8, 6))\n",
    "    nx.draw(g, pos=node_positions,node_size=10, node_color='black')\n",
    "    plt.title('Hour '+ n, size=15)\n",
    "    plt.show()\n",
    "    \n",
    "    return g;"
   ]
  },
  {
   "cell_type": "code",
   "execution_count": 236,
   "metadata": {},
   "outputs": [
    {
     "data": {
      "image/png": "[encoded data removed]",
      "text/plain": [
       "<Figure size 576x432 with 1 Axes>"
      ]
     },
     "metadata": {},
     "output_type": "display_data"
    }
   ],
   "source": [
    "g = nxplot(edgelist,nodelist,5)"
   ]
  },
  {
   "cell_type": "code",
   "execution_count": 179,
   "metadata": {},
   "outputs": [
    {
     "name": "stdout",
     "output_type": "stream",
     "text": [
      "# of edges: 235\n",
      "# of nodes: 239\n"
     ]
    }
   ],
   "source": [
    "# print('# of edges: {}'.format(g.number_of_edges()))\n",
    "# print('# of nodes: {}'.format(g.number_of_nodes()))"
   ]
  },
  {
   "cell_type": "raw",
   "metadata": {},
   "source": [
    "# List unique values in a DataFrame column\n",
    "# h/t @makmanalp for the updated syntax!\n",
    "df['Column Name'].unique()\n",
    "\n",
    "# Convert Series datatype to numeric (will error if column has non-numeric values)\n",
    "# h/t @makmanalp\n",
    "pd.to_numeric(df['Column Name'])\n",
    "\n",
    "# Convert Series datatype to numeric, changing non-numeric values to NaN\n",
    "# h/t @makmanalp for the updated syntax!\n",
    "pd.to_numeric(df['Column Name'], errors='coerce')\n",
    "\n",
    "# Grab DataFrame rows where column = a specific value\n",
    "df = df.loc[df.column == 'somevalue']\n",
    "\n",
    "# Grab DataFrame rows where column value is present in a list\n",
    "valuelist = ['value1', 'value2', 'value3']\n",
    "df = df[df.column.isin(valuelist)]\n",
    "\n",
    "# Grab DataFrame rows where column value is not present in a list\n",
    "valuelist = ['value1', 'value2', 'value3']\n",
    "df = df[~df.column.isin(value_list)]\n",
    "\n",
    "# Delete column from DataFrame\n",
    "del df['column']\n",
    "\n",
    "# Select from DataFrame using criteria from multiple columns\n",
    "# (use `|` instead of `&` to do an OR)\n",
    "newdf = df[(df['column_one']>2004) & (df['column_two']==9)]\n",
    "\n",
    "# Rename several DataFrame columns\n",
    "df = df.rename(columns = {\n",
    "    'col1 old name':'col1 new name',\n",
    "    'col2 old name':'col2 new name',\n",
    "    'col3 old name':'col3 new name',\n",
    "})\n",
    "\n",
    "# Lower-case all DataFrame column names\n",
    "df.columns = map(str.lower, df.columns)\n",
    "\n",
    "# Even more fancy DataFrame column re-naming\n",
    "# lower-case all DataFrame column names (for example)\n",
    "df.rename(columns=lambda x: x.split('.')[-1], inplace=True)\n",
    "\n",
    "# Loop through rows in a DataFrame\n",
    "# (if you must)\n",
    "for index, row in df.iterrows():\n",
    "    print index, row['some column']\n",
    "\n",
    "# Much faster way to loop through DataFrame rows\n",
    "# if you can work with tuples\n",
    "# (h/t hughamacmullaniv)\n",
    "for row in df.itertuples():\n",
    "    print(row)\n",
    "\n",
    "# Next few examples show how to work with text data in Pandas.\n",
    "# Full list of .str functions: http://pandas.pydata.org/pandas-docs/stable/text.html\n",
    "\n",
    "# Slice values in a DataFrame column (aka Series)\n",
    "df.column.str[0:2]\n",
    "\n",
    "# Lower-case everything in a DataFrame column\n",
    "df.column_name = df.column_name.str.lower()\n",
    "\n",
    "# Get length of data in a DataFrame column\n",
    "df.column_name.str.len()\n",
    "\n",
    "# Sort dataframe by multiple columns\n",
    "df = df.sort_values(['col1','col2','col3'],ascending=[1,1,0])\n",
    "\n",
    "# Get top n for each group of columns in a sorted dataframe\n",
    "# (make sure dataframe is sorted first)\n",
    "top5 = df.groupby(['groupingcol1', 'groupingcol2']).head(5)\n",
    "\n",
    "# Grab DataFrame rows where specific column is null/notnull\n",
    "newdf = df[df['column'].isnull()]\n",
    "\n",
    "# Select from DataFrame using multiple keys of a hierarchical index\n",
    "df.xs(('index level 1 value','index level 2 value'), level=('level 1','level 2'))\n",
    "\n",
    "# Change all NaNs to None (useful before\n",
    "# loading to a db)\n",
    "df = df.where((pd.notnull(df)), None)\n",
    "\n",
    "# More pre-db insert cleanup...make a pass through the dataframe, stripping whitespace\n",
    "# from strings and changing any empty values to None\n",
    "# (not especially recommended but including here b/c I had to do this in real life one time)\n",
    "df = df.applymap(lambda x: str(x).strip() if len(str(x).strip()) else None)\n",
    "\n",
    "# Get quick count of rows in a DataFrame\n",
    "len(df.index)\n",
    "\n",
    "# Pivot data (with flexibility about what what\n",
    "# becomes a column and what stays a row).\n",
    "# Syntax works on Pandas >= .14\n",
    "pd.pivot_table(\n",
    "  df,values='cell_value',\n",
    "  index=['col1', 'col2', 'col3'], #these stay as columns; will fail silently if any of these cols have null values\n",
    "  columns=['col4']) #data values in this column become their own column\n",
    "\n",
    "# Change data type of DataFrame column\n",
    "df.column_name = df.column_name.astype(np.int64)\n",
    "\n",
    "# Get rid of non-numeric values throughout a DataFrame:\n",
    "for col in refunds.columns.values:\n",
    "  refunds[col] = refunds[col].replace('[^0-9]+.-', '', regex=True)\n",
    "\n",
    "# Set DataFrame column values based on other column values (h/t: @mlevkov)\n",
    "df.loc[(df['column1'] == some_value) & (df['column2'] == some_other_value), ['column_to_change']] = new_value\n",
    "\n",
    "# Clean up missing values in multiple DataFrame columns\n",
    "df = df.fillna({\n",
    "    'col1': 'missing',\n",
    "    'col2': '99.999',\n",
    "    'col3': '999',\n",
    "    'col4': 'missing',\n",
    "    'col5': 'missing',\n",
    "    'col6': '99'\n",
    "})\n",
    "\n",
    "# Concatenate two DataFrame columns into a new, single column\n",
    "# (useful when dealing with composite keys, for example)\n",
    "# (h/t @makmanalp for improving this one!)\n",
    "df['newcol'] = df['col1'].astype(str) + df['col2'].astype(str)\n",
    "\n",
    "# Doing calculations with DataFrame columns that have missing values\n",
    "# In example below, swap in 0 for df['col1'] cells that contain null\n",
    "df['new_col'] = np.where(pd.isnull(df['col1']),0,df['col1']) + df['col2']\n",
    "\n",
    "# Split delimited values in a DataFrame column into two new columns\n",
    "df['new_col1'], df['new_col2'] = zip(*df['original_col'].apply(lambda x: x.split(': ', 1)))\n",
    "\n",
    "# Collapse hierarchical column indexes\n",
    "df.columns = df.columns.get_level_values(0)\n",
    "\n",
    "# Convert Django queryset to DataFrame\n",
    "qs = DjangoModelName.objects.all()\n",
    "q = qs.values()\n",
    "df = pd.DataFrame.from_records(q)\n",
    "\n",
    "# Create a DataFrame from a Python dictionary\n",
    "df = pd.DataFrame(list(a_dictionary.items()), columns = ['column1', 'column2'])\n",
    "\n",
    "# Get a report of all duplicate records in a dataframe, based on specific columns\n",
    "dupes = df[df.duplicated(['col1', 'col2', 'col3'], keep=False)]\n",
    "\n",
    "# Set up formatting so larger numbers aren't displayed in scientific notation (h/t @thecapacity)\n",
    "pd.set_option('display.float_format', lambda x: '%.3f' % x)\n",
    "# To display with commas and no decimals\n",
    "pd.options.display.float_format = '{:,.0f}'.format"
   ]
  }
 ],
 "metadata": {
  "kernelspec": {
   "display_name": "Python 3",
   "language": "python",
   "name": "python3"
  },
  "language_info": {
   "codemirror_mode": {
    "name": "ipython",
    "version": 3
   },
   "file_extension": ".py",
   "mimetype": "text/x-python",
   "name": "python",
   "nbconvert_exporter": "python",
   "pygments_lexer": "ipython3",
   "version": "3.6.5"
  }
 },
 "nbformat": 4,
 "nbformat_minor": 2
}
