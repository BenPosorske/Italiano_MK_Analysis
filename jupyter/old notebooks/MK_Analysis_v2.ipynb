{
 "cells": [
  {
   "cell_type": "markdown",
   "metadata": {},
   "source": [
    "# MK_Analysis\n",
    "This jupyter notebook is designed to analyze proplatelet production of Megakaryocytes from tiff time-lapses taken by the Incucyte Zoom (10X, 1392x1040px -- 1700 x 1270 um).\n",
    "\n",
    "This analysis occurs in 3 steps:\n",
    "\n",
    "1 ilastikProcessing - Unpacks tiff stacks & generates probability masks from phase images through the ilastik project (.ilp) file.\n",
    "\n",
    "\n",
    "2 Quantification Pipeline - Primary pipeline for proplatelet production analysis. Important output files are listed as follows:\n",
    "    \n",
    "    a. 'results_Image.csv' -> raw results\n",
    "    \n",
    "    b. 'results_cell/pplt.properties' -> use in CPA to train classifiers\n",
    "    \n",
    "    c. 'labels' folder, containing 16-bt labels of proplatelet objects used for the Skeleton pipeline\n",
    "    \n",
    "    d. 'overlay' of phase images, labeling megs as red & pplts as green\n",
    "    \n",
    "    e. 'Raw.csv','Area.csv','Pplt_Pct.csv' -> Calculated & Formatted Results\n",
    "    \n",
    "3 Skeletonization Pipeline - Secondary pipeline for proplatelet structure analysis. Important output files are listed as follows:"
   ]
  },
  {
   "cell_type": "code",
   "execution_count": null,
   "metadata": {},
   "outputs": [],
   "source": [
    "%matplotlib inline\n",
    "import glob\n",
    "import h5py\n",
    "import itertools\n",
    "import matplotlib\n",
    "import matplotlib.pyplot as plt\n",
    "import networkx as nx\n",
    "import numpy\n",
    "import os\n",
    "import os.path\n",
    "import pandas\n",
    "import re\n",
    "from shutil import copy2\n",
    "import skimage\n",
    "import skimage.exposure\n",
    "import skimage.io\n",
    "import subprocess\n",
    "# from tkinter.filedialog import askdirectory\n",
    "from tqdm._tqdm_notebook import tqdm_notebook"
   ]
  },
  {
   "cell_type": "markdown",
   "metadata": {},
   "source": [
    "# ilastikProcessing\n",
    "To effectively use ilastik some formating must be done before and after ilastik processes the images. The input is assumed to be a time-series of images stored in a multi-page TIFF."
   ]
  },
  {
   "cell_type": "markdown",
   "metadata": {},
   "source": [
    "# Unpack (or separate) input images into single files.\n",
    "\n",
    "## Update input image variables\n",
    "Update the variable *image_directory* with the path to a folder that contains the input images. Update the *regex_image* variable to process only the images that match the regular expression. If the *regex_image* variable is equal to `(.*)\\.tif`, then any *.tif* in the folder will be processed.\n",
    "\n",
    "If a filename matches the *regex_single* regular expression, then it is assumed that this image has already been unpacked. An unpacked single image will have timepoint appended to the end of the file following the pattern `\\-\\d{4}\\.tif`\n",
    "\n",
    "*path_to_ilastik* is a string with the path to the ilastik software for [running headless](http://ilastik.org/documentation/basics/headless.html)."
   ]
  },
  {
   "cell_type": "code",
   "execution_count": null,
   "metadata": {},
   "outputs": [],
   "source": [
    "image_directory = r\"/home/prakrith/Github/2017_06_20_Machlus_megakarocyte_differentiation/test/\"\n",
    "path_to_ilastik = r\"/home/prakrith/Applications/ilastik-1.3.0-Linux/run_ilastik.sh\"\n",
    "path_to_project = r\"/home/prakrith/Github/2017_06_20_Machlus_megakarocyte_differentiation/ilps/180331_MK_384.ilp\"\n",
    "# path_to_cellprofiler = r\"C:\\Program Files (x86)\\CellProfiler\\CellProfiler.exe\"\n",
    "# path_to_cp_pipeline = r\"C:\\Users\\Prakrith\\Documents\\GitHub\\Test\\pipelines\\180325_MP.cppipe\"\n",
    "regex_image = \"(.*)\\.tif\" #stack\n",
    "regex_single = \".*\\-\\d{4}\\.tif\" #slice\n",
    "re_image = re.compile(regex_image)\n",
    "re_single = re.compile(regex_single)"
   ]
  },
  {
   "cell_type": "code",
   "execution_count": null,
   "metadata": {},
   "outputs": [],
   "source": [
    "# image_directory = r\"C:\\Users\\Prakrith\\Desktop\\test\"\n",
    "# path_to_ilastik = r\"C:\\Program Files\\ilastik-1.3.0b4\\run-ilastik.bat\"\n",
    "# path_to_project = r\"C:\\Users\\Prakrith\\Documents\\GitHub\\Test\\ilps\\180517_Zoom.ilp\"\n",
    "# path_to_cellprofiler = r\"C:\\Program Files (x86)\\CellProfiler\\CellProfiler.exe\"\n",
    "# path_to_cp_pipeline = r\"C:\\Users\\Prakrith\\Documents\\GitHub\\Test\\pipelines\\180512_MP.cppipe\"\n",
    "# regex_image = \"(.*)\\.tif\" #stack\n",
    "# regex_single = \".*\\-\\d{4}\\.tif\" #slice\n",
    "# re_image = re.compile(regex_image)\n",
    "# re_single = re.compile(regex_single)"
   ]
  },
  {
   "cell_type": "code",
   "execution_count": null,
   "metadata": {
    "scrolled": true
   },
   "outputs": [],
   "source": [
    "os.makedirs(os.path.join(image_directory, \"single_images\"), exist_ok=True)\n",
    "imdir_single = os.path.join(image_directory,\"single_images\")\n",
    "os.makedirs(os.path.join(image_directory, \"ilastik\"), exist_ok=True)\n",
    "imdir_ilastik = os.path.join(image_directory,\"ilastik\")\n",
    "os.makedirs(os.path.join(image_directory, \"output\"), exist_ok=True)\n",
    "output_directory = os.path.join(image_directory,\"output\")"
   ]
  },
  {
   "cell_type": "code",
   "execution_count": null,
   "metadata": {},
   "outputs": [],
   "source": [
    "# image_directory = r\"C:\\Users\\Prakrith\\Desktop\\test\"\n",
    "# imdir_single = r\"C:\\Users\\Prakrith\\Desktop\\test\\single_images\"\n",
    "# imdir_ilastik = r\"C:\\Users\\Prakrith\\Desktop\\test\\ilastik\"\n",
    "# output_directory = r\"C:\\Users\\Prakrith\\Desktop\\test\\output\""
   ]
  },
  {
   "cell_type": "markdown",
   "metadata": {},
   "source": [
    "## Methods to import image metadata\n",
    "* *is_my_file* will use the regular expression to filter image files to be processed.\n",
    "* *make_dict* parses a file to be processed and places metadata into a dictionary.\n",
    "\n",
    "Parse the files to be processed and then place the metadata into a Pandas dataframe."
   ]
  },
  {
   "cell_type": "code",
   "execution_count": null,
   "metadata": {},
   "outputs": [],
   "source": [
    "def is_my_file(filename, re_image, re_single):\n",
    "    \n",
    "    mybool = False\n",
    "    \n",
    "    if (    re_image.match(filename) != None \n",
    "        and re_single.match(filename) == None\n",
    "       ):\n",
    "        \n",
    "        mybool = True\n",
    "        \n",
    "    return mybool\n",
    "\n",
    "\n",
    "def make_dict(filename, path, re_obj):\n",
    "    \n",
    "    my_dict = re_obj.match(filename).groupdict()\n",
    "    \n",
    "    my_dict[\"filename\"] = filename\n",
    "    \n",
    "    my_dict[\"path\"] = path\n",
    "    \n",
    "    return my_dict"
   ]
  },
  {
   "cell_type": "code",
   "execution_count": null,
   "metadata": {},
   "outputs": [],
   "source": [
    "image_files_dict = [make_dict(f, image_directory, re_image) for f in os.listdir(image_directory) if is_my_file(f, re_image, re_single)]\n",
    "image_df = pandas.DataFrame(image_files_dict)"
   ]
  },
  {
   "cell_type": "markdown",
   "metadata": {},
   "source": [
    "## Unpack the multi-page TIFF images\n",
    "For every image, create a single image file for each timepoint. The input images are assumed to be RGB, which has 3 dimensions (length, width, color). The multipage TIFF of RGB images will have 4 dimensions (timepoints, length, width, color). \n",
    "\n",
    "*If the upstream workflow changes and the input image format is altered, then the conditional logic below will need to be updated, specifically the logic based on the shape of the input images.*\n",
    "\n",
    "### Are the images across experiments similar enough to treat equally\n",
    "One concern is that overfitting from training a classification model either through ilastik or CellProfiler analyst. The training set needs to be representative of the possibility space. This is accomplished by choosing a large enough image set that includes images of all states of interest including undifferentiated and fully differentiated megakaryocytes.\n",
    "\n",
    "We also want to eliminate noise from known sources of variablity that could potentially weaken the classifier. The primary sources of noise in the images will be non-uniform illumination and differences in exposure. Non-uniform illumination is difficult to correct, because the background is actually in the middle of the intensity range and the signal occupies both high and low intensities.\n",
    "\n"
   ]
  },
  {
   "cell_type": "code",
   "execution_count": null,
   "metadata": {},
   "outputs": [],
   "source": [
    "#filelist = glob.glob(\"D:\\Prakrith\\MK_Differentiation_Kyle\\images\\single_images\\*.tif\")\n",
    "\n",
    "#for f in filelist:\n",
    "    \n",
    "#    im = skimage.io.imread(f)\n",
    "    \n",
    "#    im2 = skimage.color.rgb2gray(im)\n",
    "        \n",
    "#    im2 = skimage.img_as_ubyte(im2)\n",
    "\n",
    "#    skimage.io.imsave(f, im2)"
   ]
  },
  {
   "cell_type": "code",
   "execution_count": null,
   "metadata": {},
   "outputs": [],
   "source": [
    "# ****DOWNSAMPLE\n",
    "\n",
    "# def df_stack_image(p):\n",
    "    \n",
    "#     im = skimage.io.imread(os.path.join(p[\"path\"], p[\"filename\"]))\n",
    "    \n",
    "#     if len(im.shape) < 4:\n",
    "        \n",
    "#         retest = re_image.match(p[\"filename\"])\n",
    "\n",
    "#         retest.group(1)\n",
    "\n",
    "#         fname = \"{0}-{1:04d}.tif\".format(retest.group(1), 0)\n",
    "        \n",
    "#         im2 = skimage.transform.rescale(im, 0.5)\n",
    "        \n",
    "#         im2 = skimage.color.rgb2gray(im2)\n",
    "        \n",
    "#         im2 = skimage.img_as_ubyte(im2)\n",
    "        \n",
    "#         skimage.io.imsave(os.path.join(p[\"path\"], fname), im2)\n",
    "        \n",
    "#     else:\n",
    "    \n",
    "#         number_of_timepoints = im.shape[0]\n",
    "\n",
    "#         for i in range(number_of_timepoints):\n",
    "\n",
    "#             retest = re_image.match(p[\"filename\"])\n",
    "\n",
    "#             retest.group(1)\n",
    "\n",
    "#             fname = \"{0}-{1:04d}.tif\".format(retest.group(1), i)\n",
    "            \n",
    "#             im2 = skimage.transform.rescale(im[i,:,:,:], 0.5)\n",
    "            \n",
    "#             im2 = skimage.color.rgb2gray(im2)\n",
    "        \n",
    "#             im2 = skimage.img_as_ubyte(im2)\n",
    "            \n",
    "#             skimage.io.imsave(os.path.join(p[\"path\"], \"single_images\", fname), im2)"
   ]
  },
  {
   "cell_type": "code",
   "execution_count": null,
   "metadata": {},
   "outputs": [],
   "source": [
    "def df_stack_image(p):\n",
    "    \n",
    "    im = skimage.io.imread(os.path.join(p[\"path\"], p[\"filename\"]))\n",
    "    \n",
    "    if len(im.shape) < 4:\n",
    "        \n",
    "        retest = re_image.match(p[\"filename\"])\n",
    "\n",
    "        retest.group(1)\n",
    "\n",
    "        fname = \"{0}-{1:04d}.tif\".format(retest.group(1), 0)\n",
    "        \n",
    "        im2 = skimage.color.rgb2gray(im)\n",
    "        \n",
    "        im2 = skimage.img_as_ubyte(im2)\n",
    "\n",
    "        skimage.io.imsave(os.path.join(p[\"path\"], fname), im2)\n",
    "        \n",
    "    else:\n",
    "    \n",
    "        number_of_timepoints = im.shape[0]\n",
    "\n",
    "        for i in range(number_of_timepoints):\n",
    "\n",
    "            retest = re_image.match(p[\"filename\"])\n",
    "\n",
    "            retest.group(1)\n",
    "\n",
    "            fname = \"{0}-{1:04d}.tif\".format(retest.group(1), i)\n",
    "            \n",
    "            im2 = skimage.color.rgb2gray(im[i,:,:,:])\n",
    "        \n",
    "            im2 = skimage.img_as_ubyte(im2)\n",
    "\n",
    "            skimage.io.imsave(os.path.join(p[\"path\"], \"single_images\", fname), im2)"
   ]
  },
  {
   "cell_type": "code",
   "execution_count": null,
   "metadata": {
    "scrolled": true
   },
   "outputs": [],
   "source": [
    "if image_df.empty is False:\n",
    "    \n",
    "    # Note that this can fail if the input images aren't in the expected format\n",
    "    # If you receive an error, double check the format of the input images, e.g. are they RGB?\n",
    "    tqdm_notebook.pandas(desc=\"unpack\")\n",
    "    _ = image_df.progress_apply(df_stack_image, axis=1)\n",
    "\n",
    "else:\n",
    "    \n",
    "    print(\"no images to unpack\")"
   ]
  },
  {
   "cell_type": "markdown",
   "metadata": {
    "collapsed": true
   },
   "source": [
    "# Run ilastik\n",
    "\n",
    "Using the single images created earlier, process the images using ilastik. First, create another dataframe with the single image metadata. Note, this has been written for running on Windows.\n",
    "\n",
    "## Process ilastik output for CellProfiler\n",
    "ilastik will output and HDF5 file that must be parsed for use as input to CellProfiler. This workflow assumes the default export settings are being used in ilastik. We have observed performance costs when changing the exporting settings to formats beyond the standard ilastik HDF5 file. For example, exporting TIFF images changes the shape of the exported data from yxc (the default) to cyx. This rearrangement will cause downstream errors, because the code as written expects the channel to be the third dimension.\n",
    "\n",
    "### ilastik stage-2 labels\n",
    "The project file *Mouse_MK.ilp* has the following labels that are stored in the same order within the HDF5 output.\n",
    "1. background\n",
    "1. border_white\n",
    "1. cell\n",
    "1. protrusion\n",
    "1. background_border\n",
    "1. not_cell"
   ]
  },
  {
   "cell_type": "code",
   "execution_count": null,
   "metadata": {},
   "outputs": [],
   "source": [
    "def is_my_file(filename, re_obj):\n",
    "    \n",
    "    mybool = False\n",
    "    \n",
    "    if re_obj.match(filename) != None:\n",
    "        \n",
    "        mybool = True\n",
    "        \n",
    "    return mybool\n",
    "\n",
    "\n",
    "def make_dict(filename, path, re_obj):\n",
    "    \n",
    "    my_dict = re_obj.match(filename).groupdict()\n",
    "    \n",
    "    my_dict[\"filename\"] = filename\n",
    "    \n",
    "    my_dict[\"path\"] = path\n",
    "    \n",
    "    return my_dict"
   ]
  },
  {
   "cell_type": "code",
   "execution_count": null,
   "metadata": {},
   "outputs": [],
   "source": [
    "image_files_dict = [make_dict(f, imdir_single, re_single) for f in os.listdir(imdir_single) if is_my_file(f, re_single)]\n",
    "image_df = pandas.DataFrame(image_files_dict)"
   ]
  },
  {
   "cell_type": "code",
   "execution_count": null,
   "metadata": {},
   "outputs": [],
   "source": [
    "def df_ilastik(p):\n",
    "    \n",
    "    filename = os.path.join(p[\"path\"], p[\"filename\"])\n",
    "    \n",
    "    filename_noext = os.path.splitext(p[\"filename\"])[0]\n",
    "    \n",
    "    filename_h5 = \"{}_Probabilities Stage 2.h5\".format(filename_noext)\n",
    "    \n",
    "    # Run ilastik using subprocess\n",
    "    \n",
    "    process = subprocess.Popen([path_to_ilastik, \n",
    "                  \"--headless\",\n",
    "                  \"--export_source=probabilities stage 2\",\n",
    "                  \"--output_format=hdf5\",\n",
    "                  r\"--project={}\".format(path_to_project),\n",
    "                  filename\n",
    "                 ], stdout=subprocess.PIPE)\n",
    "    \n",
    "    out, err = process.communicate()\n",
    "    \n",
    "    # unpack the HDF5 file\n",
    "    \n",
    "    label_list = [\"background\", \"protrusion\", \"cell_boundary\", \"cell\"]\n",
    "    \n",
    "    path_h5 = os.path.join(p[\"path\"], filename_h5)\n",
    "    \n",
    "    with h5py.File(path_h5, \"r\") as ilastik_hdf5:\n",
    "    \n",
    "        ilastik_probabilities = ilastik_hdf5[\"exported_data\"].value\n",
    "    \n",
    "        for i in range(ilastik_probabilities.shape[2]):\n",
    "            im = skimage.img_as_uint(ilastik_probabilities[:, :, i])\n",
    "        \n",
    "            filename_slice = \"{}_{}_prbstg2_{}.png\".format(filename_noext, label_list[i], i)\n",
    "        \n",
    "            skimage.io.imsave(os.path.join(p[\"path\"], \"..\", \"ilastik\", filename_slice), im)\n",
    "    \n",
    "    os.remove(path_h5)"
   ]
  },
  {
   "cell_type": "code",
   "execution_count": null,
   "metadata": {
    "scrolled": true
   },
   "outputs": [],
   "source": [
    "tqdm_notebook.pandas(desc=\"run ilastik\")\n",
    "_ = image_df.progress_apply(df_ilastik, axis=1)"
   ]
  },
  {
   "cell_type": "markdown",
   "metadata": {},
   "source": [
    "# Run CellProfiler - Step 1\n",
    "\n",
    "## Make a filelist\n",
    "Add the paths to each file that will be processed by CellProfiler into a text file."
   ]
  },
  {
   "cell_type": "code",
   "execution_count": null,
   "metadata": {},
   "outputs": [],
   "source": [
    "CPA_Rules = r'C:\\Users\\Prakrith\\Desktop\\CPTemp_in\\fgb_rules_pplt.txt' #directory with location of CellProfiler Analyst Rules\n",
    "copy2(CPA_Rules, image_directory)"
   ]
  },
  {
   "cell_type": "code",
   "execution_count": null,
   "metadata": {},
   "outputs": [],
   "source": [
    "def sorted_nicely(l): #alphanumeric sorter\n",
    "    convert = lambda text: int(text) if text.isdigit() else text\n",
    "    alphanum_key = lambda key: [convert(c) for c in re.split('([0-9]+)', key)]\n",
    "    return sorted(l, key = alphanum_key)"
   ]
  },
  {
   "cell_type": "code",
   "execution_count": null,
   "metadata": {},
   "outputs": [],
   "source": [
    "single_list = sorted_nicely(glob.glob(os.path.join(imdir_single,\"*.tif\")))\n",
    "ilastik_list = sorted_nicely(glob.glob(os.path.join(imdir_ilastik,\"*.png\")))\n",
    "big_list = single_list + ilastik_list\n",
    "with open(os.path.join(image_directory,\"filelist.txt\"), 'w') as f:\n",
    "    for item in big_list:\n",
    "        f.write(\"{}\\n\".format(item))"
   ]
  },
  {
   "cell_type": "markdown",
   "metadata": {},
   "source": [
    "## Proplatelet Production Pipeline\n",
    "Use subprocess to run CellProfiler on the images to be processed.\n",
    "\n",
    "Note, that a model that filters protrusions was trained in CellProfiler Analyst outside of this workflow. The model has to be in the input folder to be found by CellProfiler."
   ]
  },
  {
   "cell_type": "code",
   "execution_count": null,
   "metadata": {},
   "outputs": [],
   "source": [
    "process = subprocess.Popen([path_to_cellprofiler,\n",
    "                  \"--run-headless\",\n",
    "                  \"--pipeline={}\".format(path_to_cp_pipeline),\n",
    "                  \"--file-list={}\".format(os.path.join(image_directory,\"filelist.txt\")),\n",
    "                  \"--image-directory={}\".format(image_directory),\n",
    "                  \"--output-directory={}\".format(output_directory)\n",
    "                 ], stdout=subprocess.PIPE, stderr=subprocess.PIPE, shell=True)\n",
    "    \n",
    "out, err = process.communicate()"
   ]
  },
  {
   "cell_type": "markdown",
   "metadata": {},
   "source": [
    "## Quantify Proplatelet Production\n",
    "From the csvs generated by CellProfiler, the file 'results_Image' is parsed, & proplatelet production is quantified."
   ]
  },
  {
   "cell_type": "code",
   "execution_count": null,
   "metadata": {
    "scrolled": true
   },
   "outputs": [],
   "source": [
    "result = open(os.path.join(output_directory,r'results_Image.csv')); \n",
    "header = [\"URL_phase\",\"AreaOccupied_AreaOccupied_proplatelets\",\"Count_proplatelets\",\"Count_megs\",\"ImageNumber\"]; #\"AreaOccupied_AreaOccupied_megs\" \n",
    "df = pandas.read_csv(result, usecols = header, index_col = False);\n",
    "df = df.set_index(\"URL_phase\"); #won't allow setting URL_phase as index in read_csv\n",
    "df = df.reindex(index=sorted_nicely(df.index));"
   ]
  },
  {
   "cell_type": "code",
   "execution_count": null,
   "metadata": {},
   "outputs": [],
   "source": [
    "def f(x):\n",
    "    try:\n",
    "        return (((x[2])/(x[1]))*100) #(count_proplatelet/count_meg)*100\n",
    "    except ZeroDivisionError:\n",
    "        pass;\n",
    "    \n",
    "def g(x):\n",
    "    return ((x[0] * 2159000) / 1447680); #[(area * total_area_um)/total_area_px]\n",
    "\n",
    "x = df.apply(f,axis=1);\n",
    "df['Pct'] = x;\n",
    "x = df.apply(g,axis=1);\n",
    "df['Area_um'] = x;\n",
    "df.to_csv(os.path.join(output_directory,'Raw.csv'));\n",
    "df.drop(df.columns[[0,1,2]], axis=1, inplace=True);\n",
    "df = df.set_index(\"ImageNumber\");\n",
    "df2 = pandas.DataFrame();"
   ]
  },
  {
   "cell_type": "code",
   "execution_count": null,
   "metadata": {},
   "outputs": [],
   "source": [
    "stack_list = sorted_nicely(glob.glob(os.path.join(image_directory,\"*.tif\")));\n",
    "t = int(len(single_list)); #total num images\n",
    "n = int((len(single_list) / len(stack_list))); # slices per stack\n",
    "\n",
    "for i in range(0,t,n):\n",
    "    slc = df.iloc[i:i+n];\n",
    "    slc = slc.reset_index(drop=True);\n",
    "    df2 = pandas.concat([df2,slc],axis=1,ignore_index=True); #iter df by stack length (n), and concat "
   ]
  },
  {
   "cell_type": "code",
   "execution_count": null,
   "metadata": {},
   "outputs": [],
   "source": [
    "def res(df,sl,n,name): #dataframe,stack_list,num_timepoints,csv output name\n",
    "    df.columns = sl;\n",
    "    df['Timepoint'] = list(range(1,n+1));\n",
    "    df = df.set_index(\"Timepoint\");\n",
    "    df.to_csv(os.path.join(output_directory,name)); #function adds headers to columns, fixes index, and creates final csv\n",
    "    \n",
    "a = df2.loc[:,1::2];\n",
    "res(a,stack_list,n,r'Area.csv');\n",
    "p = df2.loc[:,::2];\n",
    "res(p,stack_list,n,r'PPlt_Pct.csv');"
   ]
  },
  {
   "cell_type": "markdown",
   "metadata": {},
   "source": [
    "# Run CellProfiler - Step 2\n",
    "\n",
    "## Make Skeleton filelist\n",
    "Include the paths to each label file that will also be processed by CellProfiler into a text file."
   ]
  },
  {
   "cell_type": "code",
   "execution_count": null,
   "metadata": {},
   "outputs": [],
   "source": [
    "path_to_sk_pipeline = r\"C:\\Users\\Prakrith\\Documents\\GitHub\\Test\\pipelines\\Kyle_Skel.cppipe\" #second pipeline"
   ]
  },
  {
   "cell_type": "code",
   "execution_count": 521,
   "metadata": {},
   "outputs": [],
   "source": [
    "os.makedirs(os.path.join(image_directory, \"skeleton\"), exist_ok=True)\n",
    "skeleton_directory = os.path.join(image_directory,\"skeleton\");"
   ]
  },
  {
   "cell_type": "code",
   "execution_count": 433,
   "metadata": {},
   "outputs": [],
   "source": [
    "os.makedirs(os.path.join(image_directory, \"skeleton2\"), exist_ok=True)\n",
    "skeleton_directory = os.path.join(image_directory,\"skeleton2\");"
   ]
  },
  {
   "cell_type": "code",
   "execution_count": 522,
   "metadata": {},
   "outputs": [],
   "source": [
    "imdir_label = os.path.join(output_directory,\"labels\");\n",
    "label_list = sorted_nicely(glob.glob(os.path.join(imdir_label,\"*.tiff\")));\n",
    "skel_list = single_list + label_list\n",
    "with open(os.path.join(image_directory,\"filelist2.txt\"), 'w') as f:\n",
    "    for item in skel_list:\n",
    "        f.write(\"{}\\n\".format(item))"
   ]
  },
  {
   "cell_type": "markdown",
   "metadata": {},
   "source": [
    "## Skeleton Pipeline\n",
    "Use subprocess to run CellProfiler on the images/labels to be processed."
   ]
  },
  {
   "cell_type": "code",
   "execution_count": null,
   "metadata": {},
   "outputs": [],
   "source": [
    "process = subprocess.Popen([path_to_cellprofiler,\n",
    "                  \"--run-headless\",\n",
    "                  \"--pipeline={}\".format(path_to_sk_pipeline),\n",
    "                  \"--file-list={}\".format(os.path.join(image_directory,\"filelist2.txt\")),\n",
    "                  \"--image-directory={}\".format(image_directory),\n",
    "                  \"--output-directory={}\".format(skeleton_directory)\n",
    "                 ], stdout=subprocess.PIPE, stderr=subprocess.PIPE, shell=True)\n",
    "\n",
    "out, err = process.communicate()"
   ]
  },
  {
   "cell_type": "markdown",
   "metadata": {},
   "source": [
    "## Measure Proplatelet Phenotypes\n",
    "Proplatelet structures are measured from the following csvs generated by the Skeleton pipeline.\n",
    "\n",
    "    1 results_MaskedProtrusions\n",
    "    2 results_prot_seed (pplt seed points)\n",
    "    3 results_ppltobj"
   ]
  },
  {
   "cell_type": "code",
   "execution_count": 523,
   "metadata": {},
   "outputs": [],
   "source": [
    "def skcsv(sk_dir,csv,header,columns):\n",
    "    csv = open(os.path.join(sk_dir,csv));\n",
    "    df = pandas.read_csv(csv, usecols = header, index_col = False);\n",
    "    df.columns = columns;\n",
    "    return df;"
   ]
  },
  {
   "cell_type": "code",
   "execution_count": 524,
   "metadata": {},
   "outputs": [],
   "source": [
    "mp_head = [\"Location_Center_X\",\"Location_Center_Y\",\"Parent_ppltobj\"]; #MaskedProtrusions; \"Parent_protrusions\"\n",
    "mp_columns = [\"Masked_Protrusion_X\",\"Masked_Protrusion_Y\",\"Parent_ppltobj\"];\n",
    "mp_df = skcsv(skeleton_directory,'results_MaskedProtrusions.csv',mp_head,mp_columns);"
   ]
  },
  {
   "cell_type": "code",
   "execution_count": 525,
   "metadata": {},
   "outputs": [],
   "source": [
    "ps_head = ['ImageNumber', 'ObjectNumber', 'Metadata_time', 'Location_Center_X', #protrusion_seeds\n",
    "       'Location_Center_Y',\n",
    "       'ObjectSkeleton_NumberBranchEnds_MaskedProtrusionsImage',\n",
    "       'ObjectSkeleton_NumberNonTrunkBranches_MaskedProtrusionsImage',\n",
    "       'ObjectSkeleton_NumberTrunks_MaskedProtrusionsImage',\n",
    "       'ObjectSkeleton_TotalObjectSkeletonLength_MaskedProtrusionsImage'];\n",
    "\n",
    "ps_columns = ['ImageNumber', 'ObjectNumber', 'Timepoint',\n",
    "              'ProtrusionSeed_X', 'ProtrusionSeed_Y',\n",
    "              'NumEndpointsBlue', 'NumBranchGreen', 'NumTrunksRed',\n",
    "              'TotalObjLength'];\n",
    "\n",
    "ps_df = skcsv(skeleton_directory,'results_prot_seed.csv',ps_head,ps_columns);\n",
    "\n",
    "def i(x):\n",
    "    return (x[5] + x[6] + x[7]);\n",
    "\n",
    "x = ps_df.apply(i,axis=1);\n",
    "ps_df['TotalNodes'] = x;\n",
    "ps_df = ps_df.add(mp_df,axis='columns',fill_value=0);\n",
    "ps_df.to_csv(os.path.join(skeleton_directory,'Raw_Skel.csv'));"
   ]
  },
  {
   "cell_type": "code",
   "execution_count": 526,
   "metadata": {},
   "outputs": [],
   "source": [
    "po_head = ['ImageNumber', 'ObjectNumber', 'Metadata_time',     #ppltobj\n",
    "       'Children_MaskedProtrusions_Count', 'Location_Center_X',\n",
    "       'Location_Center_Y', 'Mean_MaskedProtrusions_Location_Center_X',\n",
    "       'Mean_MaskedProtrusions_Location_Center_Y',\n",
    "       'Mean_MaskedProtrusions_Number_Object_Number'];\n",
    "\n",
    "po_columns = ['ImageNumber', 'ObjectNumber', 'Timepoint', \n",
    "              'MaskedProtrusionCount', 'PpltObj_X', 'PpltObj_Y', \n",
    "              'MeanPpltObj_X', 'MeanPpltObj_Y', \n",
    "              'MeanMaskedProtrusionsNumber'];\n",
    "\n",
    "po_df = skcsv(skeleton_directory,'results_ppltobj.csv',po_head,po_columns);\n",
    "po_df.to_csv(os.path.join(skeleton_directory,'PpltObj.csv'));"
   ]
  },
  {
   "cell_type": "markdown",
   "metadata": {},
   "source": [
    "# NetworkX\n",
    "\n",
    "This python program is used to construct graphs to model proplatelet structures from the edges & vertices csvs."
   ]
  },
  {
   "cell_type": "markdown",
   "metadata": {},
   "source": [
    "- The edge list is a simple data structure that you'll use to create the graph. Each row represents a single edge of the graph with some edge attributes.\n",
    "- Node lists are usually optional in networkx and other graph libraries when edge lists are provided because the node names are provided in the edge list's first two columns. However, in this case, there are some node attributes that we'd like to add."
   ]
  },
  {
   "cell_type": "code",
   "execution_count": 689,
   "metadata": {},
   "outputs": [],
   "source": [
    "vertices_csv = open(os.path.join(skeleton_directory,r'vertices.csv'));\n",
    "v_df = pandas.read_csv(vertices_csv);\n",
    "v_df.columns = ['image_number', 'vertex_number','y','x','labels','kind'];#rename i,j to y,x\n",
    "v_df = v_df[['vertex_number', 'x','y','labels', 'kind','image_number']];#swap y,x to x,y in vertices_csv\n",
    "v_df.columns = ['Node','x','y','Labels','Kind','ImageNumber'];#rename i,j to y,x\n",
    "v_df.to_csv(os.path.join(skeleton_directory,'Vert.csv')); #nodelist (optional w/ edgelist, adds more hashable attributes)"
   ]
  },
  {
   "cell_type": "code",
   "execution_count": 690,
   "metadata": {},
   "outputs": [],
   "source": [
    "edges_csv = open(os.path.join(skeleton_directory,r'edges.csv'));\n",
    "header = ['image_number', 'v1', 'v2', 'length'];\n",
    "e_df = pandas.read_csv(edges_csv, usecols = header, index_col = False);\n",
    "e_df.columns = ['ImageNumber', 'Node_1', 'Node_2', 'Distance']; #\n",
    "e_df = e_df[['Node_1','Node_2','Distance','ImageNumber']];\n",
    "e_df.to_csv(os.path.join(skeleton_directory,'Edge.csv')); #edgelist"
   ]
  },
  {
   "cell_type": "code",
   "execution_count": 691,
   "metadata": {},
   "outputs": [],
   "source": [
    "im=6\n",
    "obj=1"
   ]
  },
  {
   "cell_type": "code",
   "execution_count": 692,
   "metadata": {},
   "outputs": [],
   "source": [
    "def imslc(df,im): #edgelist/nodelist df,imagenum; slice edgelist by imagenumber\n",
    "    df = df[df[\"ImageNumber\"]==im]\n",
    "#     del df['ImageNumber']\n",
    "    return df;\n",
    "\n",
    "edgelist = imslc(e_df,im)\n",
    "nodelist = imslc(v_df,im) #Use these lists for all ppltobjs in image"
   ]
  },
  {
   "cell_type": "code",
   "execution_count": 693,
   "metadata": {},
   "outputs": [],
   "source": [
    "def labelList(df,im,obj): #df=ps_df,imnum,objnum\n",
    "    df = df[df[\"ImageNumber\"]==im]\n",
    "    df = df[df['Parent_ppltobj']==obj]\n",
    "    return list(df[\"ObjectNumber\"].unique());\n",
    "\n",
    "l = labelList(ps_df,im,obj);\n",
    "a = [int(i) for i in l];\n",
    "a[:] = [x - 1 for x in a];\n",
    "nodelist = nodelist[nodelist.Labels.isin(a)];\n",
    "b = list(nodelist[\"Node\"]);\n",
    "# b[:] = [x - 1 for x in b]\n",
    "edgelist = edgelist[edgelist.Node_2.isin(b)]; #Slice the edgelist further by label -> 1 ppltobj per graph"
   ]
  },
  {
   "cell_type": "code",
   "execution_count": 694,
   "metadata": {},
   "outputs": [],
   "source": [
    "def skelPlot(edge,node): #edgelist,nodelist\n",
    "#     g = nx.DiGraph();\n",
    "    g = nx.Graph();\n",
    "    \n",
    "    # Add edges and attributes\n",
    "    for i, elrow in edge.iterrows():\n",
    "        g.add_edge(elrow[0], elrow[1], attr_dict=elrow[2:].to_dict())\n",
    "    \n",
    "    # Add node attributes\n",
    "    for i, nlrow in nodelist.iterrows():\n",
    "        try:\n",
    "            g.node[nlrow['Node']].update(nlrow[1:].to_dict())\n",
    "        except KeyError:\n",
    "            pass\n",
    "        \n",
    "    # Define node positions dict for plotting    \n",
    "    node_positions = {node[0]: (node[1]['x'], -node[1]['y']) for node in g.nodes(data=True)}\n",
    "    \n",
    "    color_map = []\n",
    "    for node in g:\n",
    "        if g.node[node]['Kind'] == 'E': #Endpoints changed from blue to red\n",
    "            color_map.append('red')\n",
    "#         elif g.node[node]['Kind'] == 'B': \n",
    "#             color_map.append('green')\n",
    "        else:\n",
    "            color_map.append('black') #Make all nodes except endpoints black\n",
    "                \n",
    "    plt.figure(figsize=(8, 12))\n",
    "    nx.draw(g, pos=node_positions,node_size=7, node_color = color_map)#,with_labels = True)\n",
    "    plt.title(\"Test\", size=15)\n",
    "    plt.show()\n",
    "    return g;"
   ]
  },
  {
   "cell_type": "code",
   "execution_count": 695,
   "metadata": {
    "scrolled": true
   },
   "outputs": [
    {
     "data": {
      "image/png": "[encoded data removed]",
      "text/plain": [
       "<Figure size 576x864 with 1 Axes>"
      ]
     },
     "metadata": {},
     "output_type": "display_data"
    }
   ],
   "source": [
    "g = skelPlot(edgelist,nodelist); #Are trunk connection distances=3?"
   ]
  },
  {
   "cell_type": "code",
   "execution_count": 697,
   "metadata": {},
   "outputs": [
    {
     "name": "stdout",
     "output_type": "stream",
     "text": [
      "{1: 0, 2: 1, 3: 2, 4: 2, 9: 3, 17: 3, 7: 4, 30: 4, 29: 4, 5: 5, 10: 5, 40: 5, 22: 5, 42: 5}\n",
      "{2: 0, 1: 1, 3: 1, 4: 1, 9: 2, 17: 2, 7: 3, 30: 3, 29: 3, 5: 4, 10: 4, 40: 4, 22: 4, 42: 4}\n",
      "{3: 0, 2: 1, 1: 2, 4: 2, 9: 3, 17: 3, 7: 4, 30: 4, 29: 4, 5: 5, 10: 5, 40: 5, 22: 5, 42: 5}\n",
      "{4: 0, 2: 1, 9: 1, 17: 1, 1: 2, 3: 2, 7: 2, 30: 2, 29: 2, 5: 3, 10: 3, 40: 3, 22: 3, 42: 3}\n",
      "{5: 0, 7: 1, 9: 2, 10: 2, 4: 3, 30: 3, 2: 4, 17: 4, 40: 4, 1: 5, 3: 5, 29: 5, 22: 6, 42: 6}\n",
      "{7: 0, 5: 1, 9: 1, 10: 1, 4: 2, 30: 2, 2: 3, 17: 3, 40: 3, 1: 4, 3: 4, 29: 4, 22: 5, 42: 5}\n",
      "{9: 0, 4: 1, 7: 1, 30: 1, 2: 2, 17: 2, 5: 2, 10: 2, 40: 2, 1: 3, 3: 3, 29: 3, 22: 4, 42: 4}\n",
      "{10: 0, 7: 1, 5: 2, 9: 2, 4: 3, 30: 3, 2: 4, 17: 4, 40: 4, 1: 5, 3: 5, 29: 5, 22: 6, 42: 6}\n",
      "{8: 0, 11: 1, 18: 2, 24: 2, 14: 3, 25: 3, 43: 3, 31: 4, 26: 5, 36: 5, 33: 6, 37: 6, 39: 7}\n",
      "{11: 0, 8: 1, 18: 1, 24: 1, 14: 2, 25: 2, 43: 2, 31: 3, 26: 4, 36: 4, 33: 5, 37: 5, 39: 6}\n",
      "{6: 0, 12: 1, 15: 2, 19: 2, 20: 3, 27: 3}\n",
      "{12: 0, 6: 1, 15: 1, 19: 1, 20: 2, 27: 2}\n",
      "{13: 0}\n",
      "{15: 0, 12: 1, 20: 1, 27: 1, 6: 2, 19: 2}\n",
      "{17: 0, 4: 1, 29: 1, 30: 1, 2: 2, 9: 2, 22: 2, 42: 2, 40: 2, 1: 3, 3: 3, 7: 3, 5: 4, 10: 4}\n",
      "{18: 0, 11: 1, 14: 1, 8: 2, 24: 2, 25: 3, 43: 3, 31: 4, 26: 5, 36: 5, 33: 6, 37: 6, 39: 7}\n",
      "{14: 0, 18: 1, 11: 2, 8: 3, 24: 3, 25: 4, 43: 4, 31: 5, 26: 6, 36: 6, 33: 7, 37: 7, 39: 8}\n",
      "{19: 0, 12: 1, 20: 1, 6: 2, 15: 2, 27: 3}\n",
      "{20: 0, 15: 1, 19: 1, 12: 2, 27: 2, 6: 3}\n",
      "{16: 0, 21: 1, 28: 2}\n",
      "{21: 0, 16: 1, 28: 1}\n",
      "{24: 0, 11: 1, 25: 1, 43: 1, 8: 2, 18: 2, 31: 2, 14: 3, 26: 3, 36: 3, 33: 4, 37: 4, 39: 5}\n",
      "{25: 0, 24: 1, 31: 1, 43: 1, 11: 2, 26: 2, 36: 2, 8: 3, 18: 3, 33: 3, 37: 3, 14: 4, 39: 4}\n",
      "{27: 0, 15: 1, 12: 2, 20: 2, 6: 3, 19: 3}\n",
      "{28: 0, 21: 1, 16: 2}\n",
      "{29: 0, 17: 1, 22: 1, 42: 1, 4: 2, 30: 2, 2: 3, 9: 3, 40: 3, 1: 4, 3: 4, 7: 4, 5: 5, 10: 5}\n",
      "{22: 0, 29: 1, 17: 2, 42: 2, 4: 3, 30: 3, 2: 4, 9: 4, 40: 4, 1: 5, 3: 5, 7: 5, 5: 6, 10: 6}\n",
      "{30: 0, 9: 1, 17: 1, 40: 1, 4: 2, 7: 2, 29: 2, 2: 3, 5: 3, 10: 3, 22: 3, 42: 3, 1: 4, 3: 4}\n",
      "{31: 0, 25: 1, 26: 1, 36: 1, 24: 2, 43: 2, 33: 2, 37: 2, 11: 3, 39: 3, 8: 4, 18: 4, 14: 5}\n",
      "{26: 0, 31: 1, 33: 1, 25: 2, 36: 2, 37: 2, 24: 3, 43: 3, 39: 3, 11: 4, 8: 5, 18: 5, 14: 6}\n",
      "{23: 0, 32: 1}\n",
      "{32: 0, 23: 1}\n",
      "{33: 0, 26: 1, 37: 1, 31: 2, 36: 2, 39: 2, 25: 3, 24: 4, 43: 4, 11: 5, 8: 6, 18: 6, 14: 7}\n",
      "{35: 0}\n",
      "{36: 0, 31: 1, 37: 1, 25: 2, 26: 2, 33: 2, 39: 2, 24: 3, 43: 3, 11: 4, 8: 5, 18: 5, 14: 6}\n",
      "{37: 0, 33: 1, 36: 1, 39: 1, 26: 2, 31: 2, 25: 3, 24: 4, 43: 4, 11: 5, 8: 6, 18: 6, 14: 7}\n",
      "{34: 0, 38: 1}\n",
      "{38: 0, 34: 1}\n",
      "{39: 0, 37: 1, 33: 2, 36: 2, 26: 3, 31: 3, 25: 4, 24: 5, 43: 5, 11: 6, 8: 7, 18: 7, 14: 8}\n",
      "{40: 0, 30: 1, 9: 2, 17: 2, 4: 3, 7: 3, 29: 3, 2: 4, 5: 4, 10: 4, 22: 4, 42: 4, 1: 5, 3: 5}\n",
      "{42: 0, 29: 1, 17: 2, 22: 2, 4: 3, 30: 3, 2: 4, 9: 4, 40: 4, 1: 5, 3: 5, 7: 5, 5: 6, 10: 6}\n",
      "{43: 0, 24: 1, 25: 1, 11: 2, 31: 2, 8: 3, 18: 3, 26: 3, 36: 3, 14: 4, 33: 4, 37: 4, 39: 5}\n",
      "{41: 0, 45: 1, 49: 2, 51: 2, 48: 3, 59: 3, 58: 4, 63: 4, 57: 5, 62: 5, 52: 6, 71: 6, 67: 7, 75: 7, 94: 7}\n",
      "{45: 0, 41: 1, 49: 1, 51: 1, 48: 2, 59: 2, 58: 3, 63: 3, 57: 4, 62: 4, 52: 5, 71: 5, 67: 6, 75: 6, 94: 6}\n",
      "{44: 0, 47: 1, 50: 1, 46: 2, 56: 2, 60: 2, 61: 3, 68: 3, 70: 4, 90: 4}\n",
      "{47: 0, 44: 1, 46: 1, 50: 1, 56: 2, 60: 2, 61: 3, 68: 3, 70: 4, 90: 4}\n",
      "{46: 0, 47: 1, 44: 2, 50: 2, 56: 3, 60: 3, 61: 4, 68: 4, 70: 5, 90: 5}\n",
      "{49: 0, 45: 1, 41: 2, 51: 2, 48: 3, 59: 3, 58: 4, 63: 4, 57: 5, 62: 5, 52: 6, 71: 6, 67: 7, 75: 7, 94: 7}\n",
      "{50: 0, 44: 1, 47: 1, 56: 1, 60: 1, 46: 2, 61: 2, 68: 2, 70: 3, 90: 3}\n",
      "{51: 0, 45: 1, 48: 1, 59: 1, 41: 2, 49: 2, 58: 2, 63: 2, 57: 3, 62: 3, 52: 4, 71: 4, 67: 5, 75: 5, 94: 5}\n",
      "{48: 0, 51: 1, 45: 2, 59: 2, 41: 3, 49: 3, 58: 3, 63: 3, 57: 4, 62: 4, 52: 5, 71: 5, 67: 6, 75: 6, 94: 6}\n",
      "{53: 0, 55: 1, 54: 2, 66: 2, 73: 3, 76: 4, 74: 5, 79: 5, 84: 6, 89: 6}\n",
      "{55: 0, 53: 1, 54: 1, 66: 1, 73: 2, 76: 3, 74: 4, 79: 4, 84: 5, 89: 5}\n",
      "{54: 0, 55: 1, 53: 2, 66: 2, 73: 3, 76: 4, 74: 5, 79: 5, 84: 6, 89: 6}\n",
      "{56: 0, 50: 1, 60: 1, 61: 1, 44: 2, 47: 2, 68: 2, 46: 3, 70: 3, 90: 3}\n",
      "{52: 0, 57: 1, 58: 2, 62: 2, 59: 3, 71: 3, 51: 4, 63: 4, 67: 4, 75: 4, 94: 4, 45: 5, 48: 5, 41: 6, 49: 6}\n",
      "{57: 0, 52: 1, 58: 1, 62: 1, 59: 2, 71: 2, 51: 3, 63: 3, 67: 3, 75: 3, 94: 3, 45: 4, 48: 4, 41: 5, 49: 5}\n",
      "{58: 0, 57: 1, 59: 1, 62: 1, 52: 2, 51: 2, 63: 2, 71: 2, 45: 3, 48: 3, 67: 3, 75: 3, 94: 3, 41: 4, 49: 4}\n",
      "{59: 0, 51: 1, 58: 1, 63: 1, 45: 2, 48: 2, 57: 2, 62: 2, 41: 3, 49: 3, 52: 3, 71: 3, 67: 4, 75: 4, 94: 4}\n",
      "{60: 0, 50: 1, 56: 1, 68: 1, 44: 2, 47: 2, 61: 2, 70: 2, 90: 2, 46: 3}\n",
      "{61: 0, 56: 1, 50: 2, 60: 2, 44: 3, 47: 3, 68: 3, 46: 4, 70: 4, 90: 4}\n",
      "{62: 0, 57: 1, 58: 1, 71: 1, 52: 2, 59: 2, 67: 2, 75: 2, 94: 2, 51: 3, 63: 3, 45: 4, 48: 4, 41: 5, 49: 5}\n",
      "{63: 0, 59: 1, 51: 2, 58: 2, 45: 3, 48: 3, 57: 3, 62: 3, 41: 4, 49: 4, 52: 4, 71: 4, 67: 5, 75: 5, 94: 5}\n",
      "{64: 0, 65: 1, 69: 2, 72: 3}\n",
      "{65: 0, 64: 1, 69: 1, 72: 2}\n",
      "{66: 0, 55: 1, 73: 1, 53: 2, 54: 2, 76: 2, 74: 3, 79: 3, 84: 4, 89: 4}\n",
      "{68: 0, 60: 1, 70: 1, 90: 1, 50: 2, 56: 2, 44: 3, 47: 3, 61: 3, 46: 4}\n",
      "{69: 0, 65: 1, 72: 1, 64: 2}\n",
      "{70: 0, 68: 1, 60: 2, 90: 2, 50: 3, 56: 3, 44: 4, 47: 4, 61: 4, 46: 5}\n",
      "{71: 0, 62: 1, 67: 1, 75: 1, 94: 1, 57: 2, 58: 2, 52: 3, 59: 3, 51: 4, 63: 4, 45: 5, 48: 5, 41: 6, 49: 6}\n",
      "{67: 0, 71: 1, 62: 2, 75: 2, 94: 2, 57: 3, 58: 3, 52: 4, 59: 4, 51: 5, 63: 5, 45: 6, 48: 6, 41: 7, 49: 7}\n",
      "{72: 0, 69: 1, 65: 2, 64: 3}\n",
      "{73: 0, 66: 1, 76: 1, 55: 2, 74: 2, 79: 2, 53: 3, 54: 3, 84: 3, 89: 3}\n",
      "{75: 0, 71: 1, 62: 2, 67: 2, 94: 2, 57: 3, 58: 3, 52: 4, 59: 4, 51: 5, 63: 5, 45: 6, 48: 6, 41: 7, 49: 7}\n",
      "{76: 0, 73: 1, 74: 1, 79: 1, 66: 2, 84: 2, 89: 2, 55: 3, 53: 4, 54: 4}\n",
      "{74: 0, 76: 1, 73: 2, 79: 2, 66: 3, 84: 3, 89: 3, 55: 4, 53: 5, 54: 5}\n",
      "{79: 0, 76: 1, 84: 1, 89: 1, 73: 2, 74: 2, 66: 3, 55: 4, 53: 5, 54: 5}\n",
      "{77: 0, 80: 1, 81: 2, 82: 3}\n",
      "{80: 0, 77: 1, 81: 1, 82: 2}\n",
      "{81: 0, 80: 1, 82: 1, 77: 2}\n",
      "{82: 0, 81: 1, 80: 2, 77: 3}\n",
      "{78: 0, 83: 1, 85: 2, 86: 2, 91: 3, 93: 3, 92: 4, 96: 4, 95: 5, 99: 5}\n",
      "{83: 0, 78: 1, 85: 1, 86: 1, 91: 2, 93: 2, 92: 3, 96: 3, 95: 4, 99: 4}\n",
      "{84: 0, 79: 1, 76: 2, 89: 2, 73: 3, 74: 3, 66: 4, 55: 5, 53: 6, 54: 6}\n",
      "{85: 0, 83: 1, 91: 1, 93: 1, 78: 2, 86: 2, 92: 2, 96: 2, 95: 3, 99: 3}\n",
      "{86: 0, 83: 1, 78: 2, 85: 2, 91: 3, 93: 3, 92: 4, 96: 4, 95: 5, 99: 5}\n",
      "{87: 0, 88: 1}\n",
      "{88: 0, 87: 1}\n",
      "{89: 0, 79: 1, 76: 2, 84: 2, 73: 3, 74: 3, 66: 4, 55: 5, 53: 6, 54: 6}\n",
      "{90: 0, 68: 1, 60: 2, 70: 2, 50: 3, 56: 3, 44: 4, 47: 4, 61: 4, 46: 5}\n",
      "{91: 0, 85: 1, 92: 1, 93: 1, 83: 2, 96: 2, 78: 3, 86: 3, 95: 3, 99: 3}\n",
      "{92: 0, 91: 1, 85: 2, 93: 2, 83: 3, 96: 3, 78: 4, 86: 4, 95: 4, 99: 4}\n",
      "{93: 0, 85: 1, 91: 1, 96: 1, 83: 2, 92: 2, 95: 2, 99: 2, 78: 3, 86: 3}\n",
      "{94: 0, 71: 1, 62: 2, 67: 2, 75: 2, 57: 3, 58: 3, 52: 4, 59: 4, 51: 5, 63: 5, 45: 6, 48: 6, 41: 7, 49: 7}\n",
      "{96: 0, 93: 1, 95: 1, 99: 1, 85: 2, 91: 2, 83: 3, 92: 3, 78: 4, 86: 4}\n",
      "{95: 0, 96: 1, 93: 2, 99: 2, 85: 3, 91: 3, 83: 4, 92: 4, 78: 5, 86: 5}\n",
      "{99: 0, 96: 1, 93: 2, 95: 2, 85: 3, 91: 3, 83: 4, 92: 4, 78: 5, 86: 5}\n",
      "{100: 0, 101: 1, 102: 2, 106: 2, 97: 3, 110: 3, 109: 4, 111: 4}\n",
      "{101: 0, 100: 1, 102: 1, 106: 1, 97: 2, 110: 2, 109: 3, 111: 3}\n",
      "{97: 0, 102: 1, 101: 2, 106: 2, 100: 3, 110: 3, 109: 4, 111: 4}\n",
      "{102: 0, 97: 1, 101: 1, 106: 1, 100: 2, 110: 2, 109: 3, 111: 3}\n",
      "{98: 0, 103: 1, 104: 2, 108: 3}\n",
      "{103: 0, 98: 1, 104: 1, 108: 2}\n",
      "{104: 0, 103: 1, 108: 1, 98: 2}\n",
      "{105: 0, 107: 1}\n",
      "{106: 0, 101: 1, 102: 1, 110: 1, 100: 2, 97: 2, 109: 2, 111: 2}\n",
      "{107: 0, 105: 1}\n",
      "{108: 0, 104: 1, 103: 2, 98: 3}\n",
      "{110: 0, 106: 1, 109: 1, 111: 1, 101: 2, 102: 2, 100: 3, 97: 3}\n",
      "{109: 0, 110: 1, 106: 2, 111: 2, 101: 3, 102: 3, 100: 4, 97: 4}\n",
      "{111: 0, 110: 1, 106: 2, 109: 2, 101: 3, 102: 3, 100: 4, 97: 4}\n",
      "{112: 0, 113: 1, 114: 1, 123: 2, 125: 3, 126: 3}\n",
      "{113: 0, 112: 1, 114: 2, 123: 3, 125: 4, 126: 4}\n",
      "{114: 0, 112: 1, 123: 1, 113: 2, 125: 2, 126: 2}\n",
      "{115: 0, 117: 1, 118: 1, 119: 2}\n",
      "{117: 0, 115: 1, 119: 1, 118: 2}\n",
      "{118: 0, 115: 1, 117: 2, 119: 3}\n",
      "{119: 0, 117: 1, 115: 2, 118: 3}\n",
      "{120: 0, 122: 1}\n",
      "{116: 0, 121: 1, 124: 2, 138: 2, 139: 3, 141: 3, 140: 4, 142: 4, 143: 5, 144: 5, 145: 6, 146: 6, 148: 7, 149: 7, 147: 8, 136: 8, 130: 9, 134: 9, 127: 10, 131: 10}\n",
      "{121: 0, 116: 1, 124: 1, 138: 1, 139: 2, 141: 2, 140: 3, 142: 3, 143: 4, 144: 4, 145: 5, 146: 5, 148: 6, 149: 6, 147: 7, 136: 7, 130: 8, 134: 8, 127: 9, 131: 9}\n",
      "{122: 0, 120: 1}\n",
      "{123: 0, 114: 1, 125: 1, 126: 1, 112: 2, 113: 3}\n",
      "{124: 0, 121: 1, 116: 2, 138: 2, 139: 3, 141: 3, 140: 4, 142: 4, 143: 5, 144: 5, 145: 6, 146: 6, 148: 7, 149: 7, 147: 8, 136: 8, 130: 9, 134: 9, 127: 10, 131: 10}\n",
      "{125: 0, 123: 1, 114: 2, 126: 2, 112: 3, 113: 4}\n",
      "{126: 0, 123: 1, 114: 2, 125: 2, 112: 3, 113: 4}\n",
      "{127: 0, 130: 1, 131: 2, 136: 2, 134: 3, 149: 3, 146: 4, 148: 4, 144: 5, 145: 5, 147: 5, 142: 6, 141: 7, 143: 7, 138: 8, 140: 8, 121: 9, 139: 9, 116: 10, 124: 10}\n",
      "{130: 0, 127: 1, 131: 1, 136: 1, 134: 2, 149: 2, 146: 3, 148: 3, 144: 4, 145: 4, 147: 4, 142: 5, 141: 6, 143: 6, 138: 7, 140: 7, 121: 8, 139: 8, 116: 9, 124: 9}\n",
      "{131: 0, 130: 1, 127: 2, 136: 2, 134: 3, 149: 3, 146: 4, 148: 4, 144: 5, 145: 5, 147: 5, 142: 6, 141: 7, 143: 7, 138: 8, 140: 8, 121: 9, 139: 9, 116: 10, 124: 10}\n",
      "{128: 0, 132: 1, 133: 2, 129: 3}\n",
      "{132: 0, 128: 1, 133: 1, 129: 2}\n",
      "{129: 0, 133: 1, 132: 2, 128: 3}\n",
      "{133: 0, 129: 1, 132: 1, 128: 2}\n",
      "{135: 0, 137: 1}\n",
      "{136: 0, 130: 1, 134: 1, 149: 1, 127: 2, 131: 2, 146: 2, 148: 2, 144: 3, 145: 3, 147: 3, 142: 4, 141: 5, 143: 5, 138: 6, 140: 6, 121: 7, 139: 7, 116: 8, 124: 8}\n",
      "{134: 0, 136: 1, 130: 2, 149: 2, 127: 3, 131: 3, 146: 3, 148: 3, 144: 4, 145: 4, 147: 4, 142: 5, 141: 6, 143: 6, 138: 7, 140: 7, 121: 8, 139: 8, 116: 9, 124: 9}\n",
      "{137: 0, 135: 1}\n",
      "{138: 0, 121: 1, 139: 1, 141: 1, 116: 2, 124: 2, 140: 2, 142: 2, 143: 3, 144: 3, 145: 4, 146: 4, 148: 5, 149: 5, 147: 6, 136: 6, 130: 7, 134: 7, 127: 8, 131: 8}\n",
      "{139: 0, 138: 1, 121: 2, 141: 2, 116: 3, 124: 3, 140: 3, 142: 3, 143: 4, 144: 4, 145: 5, 146: 5, 148: 6, 149: 6, 147: 7, 136: 7, 130: 8, 134: 8, 127: 9, 131: 9}\n",
      "{141: 0, 138: 1, 140: 1, 142: 1, 121: 2, 139: 2, 143: 2, 144: 2, 116: 3, 124: 3, 145: 3, 146: 3, 148: 4, 149: 4, 147: 5, 136: 5, 130: 6, 134: 6, 127: 7, 131: 7}\n",
      "{140: 0, 141: 1, 138: 2, 142: 2, 121: 3, 139: 3, 143: 3, 144: 3, 116: 4, 124: 4, 145: 4, 146: 4, 148: 5, 149: 5, 147: 6, 136: 6, 130: 7, 134: 7, 127: 8, 131: 8}\n",
      "{142: 0, 141: 1, 143: 1, 144: 1, 138: 2, 140: 2, 145: 2, 146: 2, 121: 3, 139: 3, 148: 3, 149: 3, 116: 4, 124: 4, 147: 4, 136: 4, 130: 5, 134: 5, 127: 6, 131: 6}\n",
      "{143: 0, 142: 1, 141: 2, 144: 2, 138: 3, 140: 3, 145: 3, 146: 3, 121: 4, 139: 4, 148: 4, 149: 4, 116: 5, 124: 5, 147: 5, 136: 5, 130: 6, 134: 6, 127: 7, 131: 7}\n",
      "{144: 0, 142: 1, 145: 1, 146: 1, 141: 2, 143: 2, 148: 2, 149: 2, 138: 3, 140: 3, 147: 3, 136: 3, 121: 4, 139: 4, 130: 4, 134: 4, 116: 5, 124: 5, 127: 5, 131: 5}\n",
      "{145: 0, 144: 1, 146: 1, 148: 1, 142: 2, 149: 2, 147: 2, 141: 3, 143: 3, 136: 3, 138: 4, 140: 4, 130: 4, 134: 4, 121: 5, 139: 5, 127: 5, 131: 5, 116: 6, 124: 6}\n",
      "{146: 0, 144: 1, 145: 1, 149: 1, 142: 2, 148: 2, 136: 2, 141: 3, 143: 3, 147: 3, 130: 3, 134: 3, 138: 4, 140: 4, 127: 4, 131: 4, 121: 5, 139: 5, 116: 6, 124: 6}\n",
      "{148: 0, 145: 1, 147: 1, 149: 1, 144: 2, 146: 2, 136: 2, 142: 3, 130: 3, 134: 3, 141: 4, 143: 4, 127: 4, 131: 4, 138: 5, 140: 5, 121: 6, 139: 6, 116: 7, 124: 7}\n",
      "{147: 0, 148: 1, 145: 2, 149: 2, 144: 3, 146: 3, 136: 3, 142: 4, 130: 4, 134: 4, 141: 5, 143: 5, 127: 5, 131: 5, 138: 6, 140: 6, 121: 7, 139: 7, 116: 8, 124: 8}\n",
      "{149: 0, 136: 1, 146: 1, 148: 1, 130: 2, 134: 2, 144: 2, 145: 2, 147: 2, 127: 3, 131: 3, 142: 3, 141: 4, 143: 4, 138: 5, 140: 5, 121: 6, 139: 6, 116: 7, 124: 7}\n"
     ]
    }
   ],
   "source": [
    "sp=nx.all_pairs_dijkstra_path_length(g) \n",
    "for n in sp:\n",
    "     print(n[1]) "
   ]
  },
  {
   "cell_type": "code",
   "execution_count": null,
   "metadata": {},
   "outputs": [],
   "source": [
    "paths = sorted(nx.all_shortest_paths(g, x, y))\n",
    "\n",
    "for path in paths:\n",
    "    total_length = 0\n",
    "    for i in range(len(path)-1):\n",
    "        source, target = path[i], path[i+1]\n",
    "        edge = g[source][target]\n",
    "        length = edge['length']\n",
    "        total_length += length\n",
    "    print('{}: {}'.format(path, total_length))"
   ]
  },
  {
   "cell_type": "code",
   "execution_count": null,
   "metadata": {},
   "outputs": [],
   "source": [
    "spl=nx.all_pairs_dijkstra_path_length(g)\n",
    "for n in spl:\n",
    "     print(n[1]) "
   ]
  },
  {
   "cell_type": "code",
   "execution_count": null,
   "metadata": {},
   "outputs": [],
   "source": [
    "po_csv = open(os.path.join(skeleton_directory,r'PpltObj.csv'));\n",
    "header = [\"ImageNumber\",'ObjectNumber', \"PpltObj_X\", \"PpltObj_Y\"];\n",
    "po_df = pandas.read_csv(po_csv, usecols = header, index_col = False);\n",
    "\n",
    "def centroid(po,i): #ppltobj csv,image #\n",
    "    x = po[po[\"ImageNumber\"] == i]; #slice ppltobj.csv by ImageNumber\n",
    "    del x[\"ImageNumber\"];\n",
    "    x = x.set_index('ObjectNumber').T.to_dict('list')\n",
    "    return x;\n",
    "\n",
    "centroid(po_df,6) #x[1] x[1][0] ->dict slicing"
   ]
  },
  {
   "cell_type": "code",
   "execution_count": null,
   "metadata": {},
   "outputs": [],
   "source": [
    "def get_shortest_paths_distances(graph, pairs, edge_weight_name):\n",
    "    \"\"\"Compute shortest distance between each pair of nodes in a graph.  Return a dictionary keyed on node pairs (tuples).\"\"\"\n",
    "    distances = {}\n",
    "    for pair in pairs:\n",
    "        distances[pair] = nx.dijkstra_path_length(graph, pair[0], pair[1], weight=edge_weight_name)\n",
    "    return distances"
   ]
  },
  {
   "cell_type": "code",
   "execution_count": null,
   "metadata": {},
   "outputs": [],
   "source": []
  },
  {
   "cell_type": "raw",
   "metadata": {},
   "source": [
    "DATAFRAME REF\n",
    "\n",
    "# List unique values in a DataFrame column\n",
    "# h/t @makmanalp for the updated syntax!\n",
    "df['Column Name'].unique()\n",
    "\n",
    "# Convert Series datatype to numeric (will error if column has non-numeric values)\n",
    "# h/t @makmanalp\n",
    "pd.to_numeric(df['Column Name'])\n",
    "\n",
    "# Convert Series datatype to numeric, changing non-numeric values to NaN\n",
    "# h/t @makmanalp for the updated syntax!\n",
    "pd.to_numeric(df['Column Name'], errors='coerce')\n",
    "\n",
    "# Grab DataFrame rows where column = a specific value\n",
    "df = df.loc[df.column == 'somevalue']\n",
    "\n",
    "# Grab DataFrame rows where column value is present in a list\n",
    "valuelist = ['value1', 'value2', 'value3']\n",
    "df = df[df.column.isin(valuelist)]\n",
    "\n",
    "# Grab DataFrame rows where column value is not present in a list\n",
    "valuelist = ['value1', 'value2', 'value3']\n",
    "df = df[~df.column.isin(value_list)]\n",
    "\n",
    "# Delete column from DataFrame\n",
    "del df['column']\n",
    "\n",
    "# Select from DataFrame using criteria from multiple columns\n",
    "# (use `|` instead of `&` to do an OR)\n",
    "newdf = df[(df['column_one']>2004) & (df['column_two']==9)]\n",
    "\n",
    "# Rename several DataFrame columns\n",
    "df = df.rename(columns = {\n",
    "    'col1 old name':'col1 new name',\n",
    "    'col2 old name':'col2 new name',\n",
    "    'col3 old name':'col3 new name',\n",
    "})\n",
    "\n",
    "# Lower-case all DataFrame column names\n",
    "df.columns = map(str.lower, df.columns)\n",
    "\n",
    "# Even more fancy DataFrame column re-naming\n",
    "# lower-case all DataFrame column names (for example)\n",
    "df.rename(columns=lambda x: x.split('.')[-1], inplace=True)\n",
    "\n",
    "# Loop through rows in a DataFrame\n",
    "# (if you must)\n",
    "for index, row in df.iterrows():\n",
    "    print index, row['some column']\n",
    "\n",
    "# Much faster way to loop through DataFrame rows\n",
    "# if you can work with tuples\n",
    "# (h/t hughamacmullaniv)\n",
    "for row in df.itertuples():\n",
    "    print(row)\n",
    "\n",
    "# Next few examples show how to work with text data in Pandas.\n",
    "# Full list of .str functions: http://pandas.pydata.org/pandas-docs/stable/text.html\n",
    "\n",
    "# Slice values in a DataFrame column (aka Series)\n",
    "df.column.str[0:2]\n",
    "\n",
    "# Lower-case everything in a DataFrame column\n",
    "df.column_name = df.column_name.str.lower()\n",
    "\n",
    "# Get length of data in a DataFrame column\n",
    "df.column_name.str.len()\n",
    "\n",
    "# Sort dataframe by multiple columns\n",
    "df = df.sort_values(['col1','col2','col3'],ascending=[1,1,0])\n",
    "\n",
    "# Get top n for each group of columns in a sorted dataframe\n",
    "# (make sure dataframe is sorted first)\n",
    "top5 = df.groupby(['groupingcol1', 'groupingcol2']).head(5)\n",
    "\n",
    "# Grab DataFrame rows where specific column is null/notnull\n",
    "newdf = df[df['column'].isnull()]\n",
    "\n",
    "# Select from DataFrame using multiple keys of a hierarchical index\n",
    "df.xs(('index level 1 value','index level 2 value'), level=('level 1','level 2'))\n",
    "\n",
    "# Change all NaNs to None (useful before\n",
    "# loading to a db)\n",
    "df = df.where((pd.notnull(df)), None)\n",
    "\n",
    "# More pre-db insert cleanup...make a pass through the dataframe, stripping whitespace\n",
    "# from strings and changing any empty values to None\n",
    "# (not especially recommended but including here b/c I had to do this in real life one time)\n",
    "df = df.applymap(lambda x: str(x).strip() if len(str(x).strip()) else None)\n",
    "\n",
    "# Get quick count of rows in a DataFrame\n",
    "len(df.index)\n",
    "\n",
    "# Pivot data (with flexibility about what what\n",
    "# becomes a column and what stays a row).\n",
    "# Syntax works on Pandas >= .14\n",
    "pd.pivot_table(\n",
    "  df,values='cell_value',\n",
    "  index=['col1', 'col2', 'col3'], #these stay as columns; will fail silently if any of these cols have null values\n",
    "  columns=['col4']) #data values in this column become their own column\n",
    "\n",
    "# Change data type of DataFrame column\n",
    "df.column_name = df.column_name.astype(np.int64)\n",
    "\n",
    "# Get rid of non-numeric values throughout a DataFrame:\n",
    "for col in refunds.columns.values:\n",
    "  refunds[col] = refunds[col].replace('[^0-9]+.-', '', regex=True)\n",
    "\n",
    "# Set DataFrame column values based on other column values (h/t: @mlevkov)\n",
    "df.loc[(df['column1'] == some_value) & (df['column2'] == some_other_value), ['column_to_change']] = new_value\n",
    "\n",
    "# Clean up missing values in multiple DataFrame columns\n",
    "df = df.fillna({\n",
    "    'col1': 'missing',\n",
    "    'col2': '99.999',\n",
    "    'col3': '999',\n",
    "    'col4': 'missing',\n",
    "    'col5': 'missing',\n",
    "    'col6': '99'\n",
    "})\n",
    "\n",
    "# Concatenate two DataFrame columns into a new, single column\n",
    "# (useful when dealing with composite keys, for example)\n",
    "# (h/t @makmanalp for improving this one!)\n",
    "df['newcol'] = df['col1'].astype(str) + df['col2'].astype(str)\n",
    "\n",
    "# Doing calculations with DataFrame columns that have missing values\n",
    "# In example below, swap in 0 for df['col1'] cells that contain null\n",
    "df['new_col'] = np.where(pd.isnull(df['col1']),0,df['col1']) + df['col2']\n",
    "\n",
    "# Split delimited values in a DataFrame column into two new columns\n",
    "df['new_col1'], df['new_col2'] = zip(*df['original_col'].apply(lambda x: x.split(': ', 1)))\n",
    "\n",
    "# Collapse hierarchical column indexes\n",
    "df.columns = df.columns.get_level_values(0)\n",
    "\n",
    "# Convert Django queryset to DataFrame\n",
    "qs = DjangoModelName.objects.all()\n",
    "q = qs.values()\n",
    "df = pd.DataFrame.from_records(q)\n",
    "\n",
    "# Create a DataFrame from a Python dictionary\n",
    "df = pd.DataFrame(list(a_dictionary.items()), columns = ['column1', 'column2'])\n",
    "\n",
    "# Get a report of all duplicate records in a dataframe, based on specific columns\n",
    "dupes = df[df.duplicated(['col1', 'col2', 'col3'], keep=False)]\n",
    "\n",
    "# Set up formatting so larger numbers aren't displayed in scientific notation (h/t @thecapacity)\n",
    "pd.set_option('display.float_format', lambda x: '%.3f' % x)\n",
    "# To display with commas and no decimals\n",
    "pd.options.display.float_format = '{:,.0f}'.format"
   ]
  }
 ],
 "metadata": {
  "kernelspec": {
   "display_name": "Python 3",
   "language": "python",
   "name": "python3"
  },
  "language_info": {
   "codemirror_mode": {
    "name": "ipython",
    "version": 3
   },
   "file_extension": ".py",
   "mimetype": "text/x-python",
   "name": "python",
   "nbconvert_exporter": "python",
   "pygments_lexer": "ipython3",
   "version": "3.6.5"
  }
 },
 "nbformat": 4,
 "nbformat_minor": 2
}
