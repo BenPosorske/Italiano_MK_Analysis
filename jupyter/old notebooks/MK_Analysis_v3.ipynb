{
 "cells": [
  {
   "cell_type": "markdown",
   "metadata": {},
   "source": [
    "# MK_Analysis_v3"
   ]
  },
  {
   "cell_type": "code",
   "execution_count": 1,
   "metadata": {},
   "outputs": [
    {
     "name": "stderr",
     "output_type": "stream",
     "text": [
      "C:\\Users\\Prakrith\\AppData\\Local\\conda\\conda\\envs\\bioimg\\lib\\site-packages\\h5py\\__init__.py:36: FutureWarning: Conversion of the second argument of issubdtype from `float` to `np.floating` is deprecated. In future, it will be treated as `np.float64 == np.dtype(float).type`.\n",
      "  from ._conv import register_converters as _register_converters\n"
     ]
    }
   ],
   "source": [
    "%matplotlib inline\n",
    "import glob\n",
    "import h5py\n",
    "import itertools\n",
    "import matplotlib\n",
    "import matplotlib.pyplot as plt\n",
    "import networkx as nx\n",
    "import numpy\n",
    "import os\n",
    "import os.path\n",
    "import pandas\n",
    "import re\n",
    "from shutil import copy2\n",
    "import skimage\n",
    "import skimage.exposure\n",
    "import skimage.io\n",
    "import subprocess\n",
    "from tqdm._tqdm_notebook import tqdm_notebook"
   ]
  },
  {
   "cell_type": "code",
   "execution_count": 2,
   "metadata": {
    "collapsed": true
   },
   "outputs": [],
   "source": [
    "image_directory = r\"C:\\Users\\Prakrith\\Dropbox (Partners HealthCare)\\WORK\\SHARED\\ANDREA\\180625_AS1\""
   ]
  },
  {
   "cell_type": "code",
   "execution_count": 4,
   "metadata": {
    "collapsed": true
   },
   "outputs": [],
   "source": [
    "path_to_ilastik = r\"C:\\Program Files\\ilastik-1.3.0b4\\run-ilastik.bat\"\n",
    "path_to_cellprofiler = r\"C:\\Program Files (x86)\\CellProfiler\\CellProfiler.exe\""
   ]
  },
  {
   "cell_type": "code",
   "execution_count": null,
   "metadata": {
    "collapsed": true
   },
   "outputs": [],
   "source": [
    "# image_directory = r\"/home/prakrith/Applications/test2/\"\n",
    "# path_to_ilastik = r\"/home/prakrith/Applications/ilastik-1.3.0-Linux/run_ilastik.sh\"\n",
    "# path_to_project = r\"/home/prakrith/Applications/ilastik-1.3.0-Linux/180517_Zoom.ilp\""
   ]
  },
  {
   "cell_type": "markdown",
   "metadata": {},
   "source": [
    "# ilastikProcessing\n",
    "To effectively use ilastik some formating must be done before and after ilastik processes the images. The input is assumed to be a time-series of images stored in a multi-page TIFF."
   ]
  },
  {
   "cell_type": "markdown",
   "metadata": {},
   "source": [
    "# Unpack (or separate) input images into single files.\n",
    "\n",
    "## Update input image variables\n",
    "Update the variable *image_directory* with the path to a folder that contains the input images. Update the *regex_image* variable to process only the images that match the regular expression. If the *regex_image* variable is equal to `(.*)\\.tif`, then any *.tif* in the folder will be processed.\n",
    "\n",
    "If a filename matches the *regex_single* regular expression, then it is assumed that this image has already been unpacked. An unpacked single image will have timepoint appended to the end of the file following the pattern `\\-\\d{4}\\.tif`\n",
    "\n",
    "*path_to_ilastik* is a string with the path to the ilastik software for [running headless](http://ilastik.org/documentation/basics/headless.html)."
   ]
  },
  {
   "cell_type": "code",
   "execution_count": 5,
   "metadata": {
    "collapsed": true
   },
   "outputs": [],
   "source": [
    "regex_image = \"(.*)\\.tif\" #stack\n",
    "regex_single = \".*\\-\\d{4}\\.tif\" #slice\n",
    "re_image = re.compile(regex_image)\n",
    "re_single = re.compile(regex_single)"
   ]
  },
  {
   "cell_type": "code",
   "execution_count": 6,
   "metadata": {
    "collapsed": true,
    "scrolled": true
   },
   "outputs": [],
   "source": [
    "os.makedirs(os.path.join(image_directory, \"single_images\"), exist_ok=True)\n",
    "imdir_single = os.path.join(image_directory,\"single_images\")\n",
    "os.makedirs(os.path.join(image_directory, \"output\"), exist_ok=True)\n",
    "output_directory = os.path.join(image_directory,\"output\")"
   ]
  },
  {
   "cell_type": "markdown",
   "metadata": {},
   "source": [
    "- Ubuntu"
   ]
  },
  {
   "cell_type": "code",
   "execution_count": 7,
   "metadata": {
    "collapsed": true
   },
   "outputs": [],
   "source": [
    "# image_directory = r\"C:\\Users\\Prakrith\\Desktop\\test\"\n",
    "# imdir_single = r\"C:\\Users\\Prakrith\\Desktop\\test\\single_images\"\n",
    "# imdir_ilastik = r\"C:\\Users\\Prakrith\\Desktop\\test\\ilastik\"\n",
    "# output_directory = r\"C:\\Users\\Prakrith\\Desktop\\test\\output\""
   ]
  },
  {
   "cell_type": "markdown",
   "metadata": {},
   "source": [
    "# Methods to import image metadata\n",
    "* *is_my_file* will use the regular expression to filter image files to be processed.\n",
    "* *make_dict* parses a file to be processed and places metadata into a dictionary.\n",
    "\n",
    "Parse the files to be processed and then place the metadata into a Pandas dataframe."
   ]
  },
  {
   "cell_type": "code",
   "execution_count": 8,
   "metadata": {
    "collapsed": true
   },
   "outputs": [],
   "source": [
    "def is_my_file(filename, re_image, re_single):\n",
    "    \n",
    "    mybool = False\n",
    "    \n",
    "    if (    re_image.match(filename) != None \n",
    "        and re_single.match(filename) == None\n",
    "       ):\n",
    "        \n",
    "        mybool = True\n",
    "        \n",
    "    return mybool\n",
    "\n",
    "\n",
    "def make_dict(filename, path, re_obj):\n",
    "    \n",
    "    my_dict = re_obj.match(filename).groupdict()\n",
    "    \n",
    "    my_dict[\"filename\"] = filename\n",
    "    \n",
    "    my_dict[\"path\"] = path\n",
    "    \n",
    "    return my_dict"
   ]
  },
  {
   "cell_type": "markdown",
   "metadata": {},
   "source": [
    "# Fluorescence Check\n",
    "\n",
    "Check to see if fluorescence images exist - if yes Proplatelet Production pipeline will generate MK label images along with the usual proplatelet labels. If no fluo images are detected, only proplatelet labels will be created, reduce processing time & project size."
   ]
  },
  {
   "cell_type": "code",
   "execution_count": 9,
   "metadata": {
    "collapsed": true
   },
   "outputs": [],
   "source": [
    "if os.path.isdir(image_directory + '\\\\rfp') == True:\n",
    "    rfp = os.path.join(image_directory,\"rfp\")\n",
    "    os.makedirs(os.path.join(rfp, \"single_images\"), exist_ok=True)\n",
    "    rfp_single = os.path.join(rfp, \"single_images\")\n",
    "    rfp_files_dict = [make_dict(f, rfp, re_image) for f in os.listdir(rfp) if is_my_file(f, re_image, re_single)]\n",
    "    rfp_df = pandas.DataFrame(rfp_files_dict)\n",
    "else:\n",
    "    rfp = None;\n",
    "\n",
    "if os.path.isdir(image_directory + '\\\\gfp') == True:\n",
    "    gfp = os.path.join(image_directory,\"gfp\")\n",
    "    os.makedirs(os.path.join(gfp, \"single_images\"), exist_ok=True)\n",
    "    gfp_single = os.path.join(gfp, \"single_images\")\n",
    "    gfp_files_dict = [make_dict(f, gfp, re_image) for f in os.listdir(gfp) if is_my_file(f, re_image, re_single)]\n",
    "    gfp_df = pandas.DataFrame(gfp_files_dict)\n",
    "else:\n",
    "    gfp = None;\n",
    "    \n",
    "if rfp and gfp is not None:\n",
    "    fluo = True\n",
    "else:\n",
    "    fluo = False"
   ]
  },
  {
   "cell_type": "code",
   "execution_count": 10,
   "metadata": {},
   "outputs": [
    {
     "name": "stdout",
     "output_type": "stream",
     "text": [
      "[1]HumanMK or [2]MouseMK ?1\n"
     ]
    }
   ],
   "source": [
    "ans1 = ['1','Human','HumanMK','human','humanmk']\n",
    "ans2 = ['2','Mouse','MouseMK','mouse','mousemk']\n",
    "\n",
    "celltype = str(input(\"[1]HumanMK or [2]MouseMK ?\"))\n",
    "\n",
    "if celltype in ans1:\n",
    "    \n",
    "    #directory with location of human MK CellProfiler Analyst Rules\n",
    "    CPA_Rules = r'C:\\Users\\Prakrith\\Desktop\\CPTemp_in\\fgb_rules_human.txt' \n",
    "    copy2(CPA_Rules, image_directory)\n",
    "    path_to_project = r\"C:\\Users\\Prakrith\\Documents\\GitHub\\Test\\ilps\\180527_HumanMK.ilp\"\n",
    "    path_to_cp_pipeline = r\"C:\\Users\\Prakrith\\Documents\\GitHub\\Test\\pipelines\\180527_HP.cppipe\"\n",
    "    \n",
    "elif celltype in ans2:\n",
    "    \n",
    "    #directory with location of flMK CellProfiler Analyst Rules\n",
    "    CPA_Rules = r'C:\\Users\\Prakrith\\Desktop\\CPTemp_in\\fgb_rules_pplt.txt'\n",
    "    copy2(CPA_Rules, image_directory)\n",
    "    path_to_project = r\"C:\\Users\\Prakrith\\Documents\\GitHub\\Test\\ilps\\180713_FLMK.ilp\"\n",
    "    \n",
    "    if fluo is True:\n",
    "        path_to_cp_pipeline = r\"C:\\Users\\Prakrith\\Documents\\GitHub\\Test\\pipelines\\180512_MPFluo.cppipe\"\n",
    "    else:\n",
    "        path_to_cp_pipeline = r\"C:\\Users\\Prakrith\\Documents\\GitHub\\Test\\pipelines\\180512_MP.cppipe\"\n",
    "    \n",
    "else:\n",
    "    print(\"Invalid input\")"
   ]
  },
  {
   "cell_type": "markdown",
   "metadata": {},
   "source": [
    "## Unpack the multi-page phase TIFF images\n",
    "For every image, create a single image file for each timepoint. The input images are assumed to be RGB, which has 3 dimensions (length, width, color). The multipage TIFF of RGB images will have 4 dimensions (timepoints, length, width, color). \n",
    "\n",
    "*If the upstream workflow changes and the input image format is altered, then the conditional logic below will need to be updated, specifically the logic based on the shape of the input images.*\n",
    "\n",
    "### Are the images across experiments similar enough to treat equally\n",
    "One concern is that overfitting from training a classification model either through ilastik or CellProfiler analyst. The training set needs to be representative of the possibility space. This is accomplished by choosing a large enough image set that includes images of all states of interest including undifferentiated and fully differentiated megakaryocytes.\n",
    "\n",
    "We also want to eliminate noise from known sources of variablity that could potentially weaken the classifier. The primary sources of noise in the images will be non-uniform illumination and differences in exposure. Non-uniform illumination is difficult to correct, because the background is actually in the middle of the intensity range and the signal occupies both high and low intensities.\n",
    "\n"
   ]
  },
  {
   "cell_type": "code",
   "execution_count": 10,
   "metadata": {
    "collapsed": true
   },
   "outputs": [],
   "source": [
    "image_files_dict = [make_dict(f, image_directory, re_image) for f in os.listdir(image_directory) if is_my_file(f, re_image, re_single)]\n",
    "image_df = pandas.DataFrame(image_files_dict)"
   ]
  },
  {
   "cell_type": "code",
   "execution_count": 35,
   "metadata": {
    "collapsed": true
   },
   "outputs": [],
   "source": [
    "def df_stack_image(p):\n",
    "    \n",
    "    im = skimage.io.imread(os.path.join(p[\"path\"], p[\"filename\"]))\n",
    "    \n",
    "    if len(im.shape) < 4:\n",
    "        \n",
    "        retest = re_image.match(p[\"filename\"])\n",
    "\n",
    "        retest.group(1)\n",
    "\n",
    "        fname = \"{0}-{1:04d}.tif\".format(retest.group(1), 0)\n",
    "        \n",
    "        im2 = skimage.color.rgb2gray(im)\n",
    "        \n",
    "        im2 = skimage.img_as_ubyte(im2)\n",
    "\n",
    "        skimage.io.imsave(os.path.join(p[\"path\"], fname), im2)\n",
    "        \n",
    "    else:\n",
    "    \n",
    "        number_of_timepoints = im.shape[0]\n",
    "\n",
    "        for i in range(number_of_timepoints):\n",
    "\n",
    "            retest = re_image.match(p[\"filename\"])\n",
    "\n",
    "            retest.group(1)\n",
    "\n",
    "            fname = \"{0}-{1:04d}.tif\".format(retest.group(1), i)\n",
    "            \n",
    "            im2 = skimage.color.rgb2gray(im[i,:,:,:])\n",
    "        \n",
    "            im2 = skimage.img_as_ubyte(im2)\n",
    "\n",
    "            skimage.io.imsave(os.path.join(p[\"path\"], \"single_images\", fname), im2)"
   ]
  },
  {
   "cell_type": "code",
   "execution_count": 12,
   "metadata": {
    "scrolled": true
   },
   "outputs": [
    {
     "data": {
      "application/vnd.jupyter.widget-view+json": {
       "model_id": "318da7ea08d9478ba4171a36c4ea5c1c",
       "version_major": 2,
       "version_minor": 0
      },
      "text/html": [
       "<p>Failed to display Jupyter Widget of type <code>HBox</code>.</p>\n",
       "<p>\n",
       "  If you're reading this message in the Jupyter Notebook or JupyterLab Notebook, it may mean\n",
       "  that the widgets JavaScript is still loading. If this message persists, it\n",
       "  likely means that the widgets JavaScript library is either not installed or\n",
       "  not enabled. See the <a href=\"https://ipywidgets.readthedocs.io/en/stable/user_install.html\">Jupyter\n",
       "  Widgets Documentation</a> for setup instructions.\n",
       "</p>\n",
       "<p>\n",
       "  If you're reading this message in another frontend (for example, a static\n",
       "  rendering on GitHub or <a href=\"https://nbviewer.jupyter.org/\">NBViewer</a>),\n",
       "  it may mean that your frontend doesn't currently support widgets.\n",
       "</p>\n"
      ],
      "text/plain": [
       "HBox(children=(IntProgress(value=0, description='unpack', max=1), HTML(value='')))"
      ]
     },
     "metadata": {},
     "output_type": "display_data"
    },
    {
     "name": "stderr",
     "output_type": "stream",
     "text": [
      "C:\\Users\\Prakrith\\AppData\\Local\\conda\\conda\\envs\\bioimg\\lib\\site-packages\\skimage\\util\\dtype.py:122: UserWarning: Possible precision loss when converting from float64 to uint8\n",
      "  .format(dtypeobj_in, dtypeobj_out))\n"
     ]
    },
    {
     "name": "stdout",
     "output_type": "stream",
     "text": [
      "\n"
     ]
    }
   ],
   "source": [
    "if image_df.empty is False:\n",
    "    \n",
    "    # Note that this can fail if the input images aren't in the expected format\n",
    "    # If you receive an error, double check the format of the input images, e.g. are they RGB?\n",
    "    tqdm_notebook.pandas(desc=\"unpack\")\n",
    "    _ = image_df.progress_apply(df_stack_image, axis=1)\n",
    "\n",
    "else:\n",
    "    \n",
    "    print(\"no images to unpack\")"
   ]
  },
  {
   "cell_type": "markdown",
   "metadata": {
    "collapsed": true
   },
   "source": [
    "# Run ilastik\n",
    "\n",
    "Using the single images created earlier, process the images using ilastik. First, create another dataframe with the single image metadata. Note, this has been written for running on Windows.\n",
    "\n",
    "## Process ilastik output for CellProfiler\n",
    "ilastik will output and HDF5 file that must be parsed for use as input to CellProfiler. This workflow assumes the default export settings are being used in ilastik. We have observed performance costs when changing the exporting settings to formats beyond the standard ilastik HDF5 file. For example, exporting TIFF images changes the shape of the exported data from yxc (the default) to cyx. This rearrangement will cause downstream errors, because the code as written expects the channel to be the third dimension.\n",
    "\n",
    "### ilastik stage-2 labels\n",
    "The project file *Mouse_MK.ilp* has the following labels that are stored in the same order within the HDF5 output.\n",
    "1. background\n",
    "1. border_white\n",
    "1. cell\n",
    "1. protrusion\n",
    "1. background_border\n",
    "1. not_cell"
   ]
  },
  {
   "cell_type": "code",
   "execution_count": 13,
   "metadata": {
    "collapsed": true
   },
   "outputs": [],
   "source": [
    "os.makedirs(os.path.join(image_directory, \"ilastik\"), exist_ok=True)\n",
    "imdir_ilastik = os.path.join(image_directory,\"ilastik\")"
   ]
  },
  {
   "cell_type": "code",
   "execution_count": 14,
   "metadata": {
    "collapsed": true
   },
   "outputs": [],
   "source": [
    "def is_my_file2(filename, re_obj):\n",
    "    \n",
    "    mybool = False\n",
    "    \n",
    "    if re_obj.match(filename) != None:\n",
    "        \n",
    "        mybool = True\n",
    "        \n",
    "    return mybool"
   ]
  },
  {
   "cell_type": "code",
   "execution_count": 15,
   "metadata": {
    "collapsed": true
   },
   "outputs": [],
   "source": [
    "image_files_dict = [make_dict(f, imdir_single, re_single) for f in os.listdir(imdir_single) if is_my_file2(f, re_single)]\n",
    "image_df = pandas.DataFrame(image_files_dict)"
   ]
  },
  {
   "cell_type": "code",
   "execution_count": null,
   "metadata": {
    "collapsed": true
   },
   "outputs": [],
   "source": [
    "# Follow this structure to run subprocess in linux\n",
    "\n",
    "#     # Run ilastik using subprocess\n",
    "    \n",
    "#     command = (path_to_ilastik,\"--headless\",\"--export_source=probabilities stage 2\",\"--output_format=hdf5\",\n",
    "#                r\"--project={}\".format(path_to_project),filename)\n",
    "    \n",
    "#     process = subprocess.Popen(command, stdout=subprocess.PIPE)\n",
    "    \n",
    "#     out, err = process.communicate()"
   ]
  },
  {
   "cell_type": "code",
   "execution_count": 16,
   "metadata": {
    "collapsed": true
   },
   "outputs": [],
   "source": [
    "def df_ilastik(p):\n",
    "    \n",
    "    filename = os.path.join(p[\"path\"], p[\"filename\"])\n",
    "    \n",
    "    filename_noext = os.path.splitext(p[\"filename\"])[0]\n",
    "    \n",
    "    filename_h5 = \"{}_Probabilities Stage 2.h5\".format(filename_noext)\n",
    "    \n",
    "    # Run ilastik using subprocess\n",
    "    \n",
    "    process = subprocess.Popen([path_to_ilastik, \n",
    "                  \"--headless\",\n",
    "                  \"--export_source=probabilities stage 2\",\n",
    "                  \"--output_format=hdf5\",\n",
    "                  r\"--project={}\".format(path_to_project),\n",
    "                  filename\n",
    "                 ], stdout=subprocess.PIPE)\n",
    "    \n",
    "    out, err = process.communicate()\n",
    "    \n",
    "    # unpack the HDF5 file\n",
    "    \n",
    "    label_list = [\"background\", \"protrusion\", \"cell_boundary\", \"cell\"]\n",
    "    \n",
    "    path_h5 = os.path.join(p[\"path\"], filename_h5)\n",
    "    \n",
    "    with h5py.File(path_h5, \"r\") as ilastik_hdf5:\n",
    "    \n",
    "        ilastik_probabilities = ilastik_hdf5[\"exported_data\"].value\n",
    "    \n",
    "        for i in range(ilastik_probabilities.shape[2]):\n",
    "            im = skimage.img_as_uint(ilastik_probabilities[:, :, i])\n",
    "        \n",
    "            filename_slice = \"{}_{}_prbstg2_{}.png\".format(filename_noext, label_list[i], i)\n",
    "        \n",
    "            skimage.io.imsave(os.path.join(p[\"path\"], \"..\", \"ilastik\", filename_slice), im)\n",
    "    \n",
    "    os.remove(path_h5)"
   ]
  },
  {
   "cell_type": "code",
   "execution_count": 17,
   "metadata": {
    "scrolled": true
   },
   "outputs": [
    {
     "data": {
      "application/vnd.jupyter.widget-view+json": {
       "model_id": "6c86bf4dc91f4ac5a4da5f8ba40fe94f",
       "version_major": 2,
       "version_minor": 0
      },
      "text/html": [
       "<p>Failed to display Jupyter Widget of type <code>HBox</code>.</p>\n",
       "<p>\n",
       "  If you're reading this message in the Jupyter Notebook or JupyterLab Notebook, it may mean\n",
       "  that the widgets JavaScript is still loading. If this message persists, it\n",
       "  likely means that the widgets JavaScript library is either not installed or\n",
       "  not enabled. See the <a href=\"https://ipywidgets.readthedocs.io/en/stable/user_install.html\">Jupyter\n",
       "  Widgets Documentation</a> for setup instructions.\n",
       "</p>\n",
       "<p>\n",
       "  If you're reading this message in another frontend (for example, a static\n",
       "  rendering on GitHub or <a href=\"https://nbviewer.jupyter.org/\">NBViewer</a>),\n",
       "  it may mean that your frontend doesn't currently support widgets.\n",
       "</p>\n"
      ],
      "text/plain": [
       "HBox(children=(IntProgress(value=0, description='run ilastik', max=37), HTML(value='')))"
      ]
     },
     "metadata": {},
     "output_type": "display_data"
    },
    {
     "name": "stderr",
     "output_type": "stream",
     "text": [
      "C:\\Users\\Prakrith\\AppData\\Local\\conda\\conda\\envs\\bioimg\\lib\\site-packages\\skimage\\util\\dtype.py:122: UserWarning: Possible precision loss when converting from float32 to uint16\n",
      "  .format(dtypeobj_in, dtypeobj_out))\n"
     ]
    },
    {
     "name": "stdout",
     "output_type": "stream",
     "text": [
      "\n"
     ]
    }
   ],
   "source": [
    "tqdm_notebook.pandas(desc=\"run ilastik\")\n",
    "_ = image_df.progress_apply(df_ilastik, axis=1)"
   ]
  },
  {
   "cell_type": "markdown",
   "metadata": {},
   "source": [
    "#### After ilastikProcessing on HMS O2, issues have been noticed where probability maps are uncapitalized when exported; CP won't process these timepoints."
   ]
  },
  {
   "cell_type": "code",
   "execution_count": null,
   "metadata": {
    "collapsed": true
   },
   "outputs": [],
   "source": [
    "# for file in os.listdir(imdir_ilastik):\n",
    "#     first = file.split('-', 1)[0].replace('.', '').upper()\n",
    "#     last = file.split('-', 1)[1]\n",
    "#     newName = str(first + '-' + last)\n",
    "#     os.rename(os.path.join(imdir_ilastik, file), os.path.join(imdir_ilastik, newName))"
   ]
  },
  {
   "cell_type": "markdown",
   "metadata": {},
   "source": [
    "# ppltProcessing\n",
    "\n",
    "## Make a filelist\n",
    "Add the paths to each file that will be processed by CellProfiler into a text file."
   ]
  },
  {
   "cell_type": "code",
   "execution_count": 11,
   "metadata": {
    "collapsed": true
   },
   "outputs": [],
   "source": [
    "#alphanumeric sorter\n",
    "def sorted_nicely(l):\n",
    "    convert = lambda text: int(text) if text.isdigit() else text\n",
    "    alphanum_key = lambda key: [convert(c) for c in re.split('([0-9]+)', key)]\n",
    "    return sorted(l, key = alphanum_key)"
   ]
  },
  {
   "cell_type": "code",
   "execution_count": 14,
   "metadata": {},
   "outputs": [],
   "source": [
    "single_list = sorted_nicely(glob.glob(os.path.join(imdir_single,\"*.tif\")))\n",
    "ilastik_list = sorted_nicely(glob.glob(os.path.join(imdir_ilastik,\"*.png\")))\n",
    "big_list = single_list + ilastik_list\n",
    "with open(os.path.join(image_directory,\"pplt_list.txt\"), 'w') as f:\n",
    "    for item in big_list:\n",
    "        f.write(\"{}\\n\".format(item))"
   ]
  },
  {
   "cell_type": "markdown",
   "metadata": {},
   "source": [
    "## (1) Proplatelet Production Pipeline\n",
    "Use subprocess to run CellProfiler on the images to be processed.\n",
    "\n",
    "Note, that a model that filters protrusions was trained in CellProfiler Analyst outside of this workflow. The model has to be in the input folder to be found by CellProfiler."
   ]
  },
  {
   "cell_type": "code",
   "execution_count": null,
   "metadata": {
    "collapsed": true
   },
   "outputs": [],
   "source": [
    "# command = (path_to_cellprofiler,\"--run-headless\",\"--pipeline={}\".format(path_to_cp_pipeline),\n",
    "#            \"--file-list={}\".format(os.path.join(image_directory,\"pplt_list.txt\")),\n",
    "#            \"--image-directory={}\".format(image_directory),\"--output-directory={}\".format(output_directory))\n",
    "\n",
    "# process = subprocess.Popen(command, stdout=subprocess.PIPE, stderr=subprocess.PIPE, shell=True)\n",
    "    \n",
    "# out, err = process.communicate()"
   ]
  },
  {
   "cell_type": "code",
   "execution_count": null,
   "metadata": {
    "collapsed": true
   },
   "outputs": [],
   "source": [
    "process = subprocess.Popen([path_to_cellprofiler,\n",
    "                  \"--run-headless\",\n",
    "                  \"--pipeline={}\".format(path_to_cp_pipeline),\n",
    "                  \"--file-list={}\".format(os.path.join(image_directory,\"pplt_list.txt\")),\n",
    "                  \"--image-directory={}\".format(image_directory),\n",
    "                  \"--output-directory={}\".format(output_directory)\n",
    "                 ], stdout=subprocess.PIPE, stderr=subprocess.PIPE, shell=True)\n",
    "    \n",
    "out, err = process.communicate()"
   ]
  },
  {
   "cell_type": "markdown",
   "metadata": {},
   "source": [
    "## Quantify Proplatelet Production\n",
    "From the csvs generated by CellProfiler, the file 'results_Image' is parsed, & proplatelet production is quantified."
   ]
  },
  {
   "cell_type": "code",
   "execution_count": null,
   "metadata": {
    "collapsed": true,
    "scrolled": true
   },
   "outputs": [],
   "source": [
    "result = open(os.path.join(output_directory,r'results_Image.csv')); \n",
    "header = [\"URL_phase\",\"AreaOccupied_AreaOccupied_proplatelets\",\"Count_proplatelets\",\"Count_megs\",\"ImageNumber\"]; #\"AreaOccupied_AreaOccupied_megs\" \n",
    "df = pandas.read_csv(result, usecols = header, index_col = False);\n",
    "df = df.set_index(\"URL_phase\"); #won't allow setting URL_phase as index in read_csv\n",
    "df = df.reindex(index=sorted_nicely(df.index));"
   ]
  },
  {
   "cell_type": "code",
   "execution_count": null,
   "metadata": {
    "collapsed": true
   },
   "outputs": [],
   "source": [
    "def f(x):\n",
    "    try:\n",
    "        return (((x[2])/((x[1])+(x[2])))*100) #(count_proplatelet/(count_meg+count_proplatelet)*100)\n",
    "    except ZeroDivisionError:\n",
    "        pass;\n",
    "    \n",
    "def g(x):\n",
    "    return ((x[0] * 2159000) / 1447680); #[(area * total_area_um)/total_area_px]\n",
    "\n",
    "x = df.apply(f,axis=1);\n",
    "df['Pct'] = x;\n",
    "x = df.apply(g,axis=1);\n",
    "df['Area_um'] = x;\n",
    "df.to_csv(os.path.join(output_directory,'Raw.csv'));\n",
    "df.drop(df.columns[[0,1,2]], axis=1, inplace=True);\n",
    "df = df.set_index(\"ImageNumber\");\n",
    "df2 = pandas.DataFrame();"
   ]
  },
  {
   "cell_type": "code",
   "execution_count": null,
   "metadata": {
    "collapsed": true
   },
   "outputs": [],
   "source": [
    "stack_list = sorted_nicely(glob.glob(os.path.join(image_directory,\"*.tif\")));\n",
    "t = int(len(single_list)); #total num images\n",
    "n = int((len(single_list) / len(stack_list))); # slices per stack\n",
    "\n",
    "for i in range(0,t,n):\n",
    "    slc = df.iloc[i:i+n];\n",
    "    slc = slc.reset_index(drop=True);\n",
    "    df2 = pandas.concat([df2,slc],axis=1,ignore_index=True); #iter df by stack length (n), and concat "
   ]
  },
  {
   "cell_type": "code",
   "execution_count": null,
   "metadata": {
    "collapsed": true
   },
   "outputs": [],
   "source": [
    "def res(df,sl,n,name): #dataframe,stack_list,num_timepoints,csv output name\n",
    "    df.columns = sl;\n",
    "    df['Timepoint'] = list(range(1,n+1));\n",
    "    df = df.set_index(\"Timepoint\");\n",
    "    df.to_csv(os.path.join(output_directory,name)); #function adds headers to columns, fixes index, and creates final csv\n",
    "    \n",
    "a = df2.loc[:,1::2];\n",
    "res(a,stack_list,n,r'Area.csv');\n",
    "p = df2.loc[:,::2];\n",
    "res(p,stack_list,n,r'PPlt_Pct.csv');"
   ]
  },
  {
   "cell_type": "markdown",
   "metadata": {},
   "source": [
    "# fluoProcessing\n",
    "- Currently one pipeline exists \"quantifying\" ARWs transduced MKs\n",
    "- **In Progress** - Fully capable of analyzing fluo from the incucyte, but the pipeline is not fleshed out. Also are 16-bit single fluo imgs correct or should it be 8-bit? "
   ]
  },
  {
   "cell_type": "markdown",
   "metadata": {},
   "source": [
    "### Unpack Fluorescence TIFF images\n",
    "For every image, create a single image file for each timepoint. The input images are assumed to be RGB, which has 3 dimensions (length, width, color). The multipage TIFF of RGB images will have 4 dimensions (timepoints, length, width, color). \n",
    "\n",
    "By checking the existence of the respective fluo folders, the correct pipeline is chosen for analysis. A corresponding filelist is created as well for CP processing.\n",
    "\n",
    "### Make Fluorescence filelist\n",
    "Include the paths to the mk & pplt label files that will be processed by CellProfiler into a text file. \n",
    "\n",
    "## (2) Fluorescence Pipeline\n",
    "Use subprocess to run CellProfiler on the phase & 16-bit fluo images to be processed. 3 pipes have been created to measure gfp, rfp, & co-stained MKs. Fluo pipes have been placed in if/else statements for instances where fluo is not present -> will proceed to phase skeleton pipe."
   ]
  },
  {
   "cell_type": "code",
   "execution_count": 89,
   "metadata": {
    "collapsed": true
   },
   "outputs": [],
   "source": [
    "if fluo is True:\n",
    "    imdir_mk_label = os.path.join(output_directory,\"mk_labels\");\n",
    "    mk_list = sorted_nicely(glob.glob(os.path.join(imdir_mk_label,\"*.tiff\")));\n",
    "    imdir_pplt_label = os.path.join(output_directory,\"proplatelet_labels\");\n",
    "    pplt_list = sorted_nicely(glob.glob(os.path.join(imdir_pplt_label,\"*.tiff\")));\n",
    "    label_list = mk_list + pplt_list\n",
    "else:\n",
    "    pass;"
   ]
  },
  {
   "cell_type": "code",
   "execution_count": 90,
   "metadata": {},
   "outputs": [
    {
     "data": {
      "application/vnd.jupyter.widget-view+json": {
       "model_id": "6e9ece7c49ea49e0b5442ac9882677c5",
       "version_major": 2,
       "version_minor": 0
      },
      "text/html": [
       "<p>Failed to display Jupyter Widget of type <code>HBox</code>.</p>\n",
       "<p>\n",
       "  If you're reading this message in the Jupyter Notebook or JupyterLab Notebook, it may mean\n",
       "  that the widgets JavaScript is still loading. If this message persists, it\n",
       "  likely means that the widgets JavaScript library is either not installed or\n",
       "  not enabled. See the <a href=\"https://ipywidgets.readthedocs.io/en/stable/user_install.html\">Jupyter\n",
       "  Widgets Documentation</a> for setup instructions.\n",
       "</p>\n",
       "<p>\n",
       "  If you're reading this message in another frontend (for example, a static\n",
       "  rendering on GitHub or <a href=\"https://nbviewer.jupyter.org/\">NBViewer</a>),\n",
       "  it may mean that your frontend doesn't currently support widgets.\n",
       "</p>\n"
      ],
      "text/plain": [
       "HBox(children=(IntProgress(value=0, description='unpack rfp', max=1), HTML(value='')))"
      ]
     },
     "metadata": {},
     "output_type": "display_data"
    },
    {
     "name": "stderr",
     "output_type": "stream",
     "text": [
      "C:\\Users\\Prakrith\\AppData\\Local\\conda\\conda\\envs\\bioimg\\lib\\site-packages\\skimage\\util\\dtype.py:122: UserWarning: Possible precision loss when converting from float64 to uint8\n",
      "  .format(dtypeobj_in, dtypeobj_out))\n"
     ]
    },
    {
     "data": {
      "application/vnd.jupyter.widget-view+json": {
       "model_id": "0bf2d715e364487c8a67449aff244836",
       "version_major": 2,
       "version_minor": 0
      },
      "text/html": [
       "<p>Failed to display Jupyter Widget of type <code>HBox</code>.</p>\n",
       "<p>\n",
       "  If you're reading this message in the Jupyter Notebook or JupyterLab Notebook, it may mean\n",
       "  that the widgets JavaScript is still loading. If this message persists, it\n",
       "  likely means that the widgets JavaScript library is either not installed or\n",
       "  not enabled. See the <a href=\"https://ipywidgets.readthedocs.io/en/stable/user_install.html\">Jupyter\n",
       "  Widgets Documentation</a> for setup instructions.\n",
       "</p>\n",
       "<p>\n",
       "  If you're reading this message in another frontend (for example, a static\n",
       "  rendering on GitHub or <a href=\"https://nbviewer.jupyter.org/\">NBViewer</a>),\n",
       "  it may mean that your frontend doesn't currently support widgets.\n",
       "</p>\n"
      ],
      "text/plain": [
       "HBox(children=(IntProgress(value=0, description='unpack gfp', max=1), HTML(value='')))"
      ]
     },
     "metadata": {},
     "output_type": "display_data"
    },
    {
     "name": "stderr",
     "output_type": "stream",
     "text": [
      "C:\\Users\\Prakrith\\AppData\\Local\\conda\\conda\\envs\\bioimg\\lib\\site-packages\\skimage\\external\\tifffile\\tifffile.py:2611: RuntimeWarning: py_decodelzw encountered unexpected end of stream\n",
      "  strip = decompress(strip)\n"
     ]
    }
   ],
   "source": [
    "if rfp and gfp is not None:\n",
    "    # leave if/else statements in to avoid unpacking images when testing\n",
    "    if rfp_df.empty is False and gfp_df.empty is False:\n",
    "        \n",
    "    #RFP Unpack    \n",
    "        tqdm_notebook.pandas(desc=\"unpack rfp\")    \n",
    "        _ = rfp_df.progress_apply(df_stack_image, axis=1)\n",
    "        \n",
    "    # rename the folders so that \"single_images\" doesn't conflict w \n",
    "    # phase single_images\n",
    "        rfp_string = rfp_single.replace('single_images','rfp_single')\n",
    "        os.rename(rfp_single,rfp_string)\n",
    "        rfp_single = rfp_string\n",
    "        rfp_list = sorted_nicely(glob.glob(os.path.join(rfp_single,\"*.tif\")))\n",
    "    \n",
    "    # GFP Unpack\n",
    "        tqdm_notebook.pandas(desc=\"unpack gfp\")\n",
    "        _ = gfp_df.progress_apply(df_stack_image, axis=1)    \n",
    "        \n",
    "        gfp_string = gfp_single.replace('single_images','gfp_single')\n",
    "        os.rename(gfp_single,gfp_string)\n",
    "        gfp_single = gfp_string\n",
    "        gfp_list = sorted_nicely(glob.glob(os.path.join(gfp_single,\"*.tif\")))\n",
    "\n",
    "    else:\n",
    "        print(\"No fluo images to unpack.\")\n",
    "    \n",
    "    fluo_list = single_list + rfp_list + gfp_list + label_list\n",
    "    \n",
    "    with open(os.path.join(image_directory,\"fluo_list.txt\"), 'w') as f:\n",
    "        for item in fluo_list:\n",
    "            f.write(\"{}\\n\".format(item))\n",
    "            \n",
    "    path_to_fluo_pipeline =  r'C:\\Users\\Prakrith\\Documents\\GitHub\\Test\\pipelines\\180712_TMK.cppipe'\n",
    "\n",
    "elif rfp is not None and gfp is None:\n",
    "    \n",
    "    if rfp_df.empty is False:\n",
    "        \n",
    "        tqdm_notebook.pandas(desc=\"unpack rfp\")\n",
    "        _ = rfp_df.progress_apply(df_stack_image, axis=1)\n",
    "        \n",
    "        rfp_string = rfp_single.replace('single_images','rfp_single')\n",
    "        os.rename(rfp_single,rfp_string)\n",
    "        rfp_single = rfp_string\n",
    "        rfp_list = sorted_nicely(glob.glob(os.path.join(rfp_single,\"*.tif\")))\n",
    "                                 \n",
    "    else:\n",
    "        print(\"No rfp images to unpack.\")\n",
    "\n",
    "    fluo_list = single_list + rfp_list + label_list\n",
    "    \n",
    "    with open(os.path.join(image_directory,\"fluo_list.txt\"), 'w') as f:\n",
    "        for item in fluo_list:\n",
    "            f.write(\"{}\\n\".format(item))\n",
    "            \n",
    "    path_to_fluo_pipeline = r'C:\\Users\\Prakrith\\Documents\\GitHub\\Test\\pipelines\\180712_TransducedMKs.cppipe' #RFP\n",
    "    \n",
    "elif gfp is not None and rfp is None:\n",
    "    \n",
    "    if gfp_df.empty is False:\n",
    "        tqdm_notebook.pandas(desc=\"unpack gfp\")\n",
    "        _ = gfp_df.progress_apply(df_stack_image, axis=1) \n",
    "        \n",
    "        gfp_string = gfp_single.replace('single_images','gfp_single')\n",
    "        os.rename(gfp_single,gfp_string)\n",
    "        gfp_single = gfp_string\n",
    "        gfp_list = sorted_nicely(glob.glob(os.path.join(gfp_single,\"*.tif\")))\n",
    "    else:\n",
    "        print(\"No gfp images to unpack.\")\n",
    "\n",
    "    fluo_list = single_list + gfp_list + label_list\n",
    "    \n",
    "    with open(os.path.join(image_directory,\"fluo_list.txt\"), 'w') as f:\n",
    "        for item in fluo_list:\n",
    "            f.write(\"{}\\n\".format(item))\n",
    "            \n",
    "    path_to_fluo_pipeline = r'C:\\Users\\Prakrith\\Documents\\GitHub\\Test\\pipelines\\180712_TransducedMKs.cppipe' #GFP\n",
    "    \n",
    "else:\n",
    "    print(\"Processing phase skeleton pipeline...\")"
   ]
  },
  {
   "cell_type": "code",
   "execution_count": 92,
   "metadata": {
    "collapsed": true
   },
   "outputs": [],
   "source": [
    "if fluo is True:\n",
    "    \n",
    "    os.makedirs(os.path.join(image_directory, \"fluo\"), exist_ok=True)\n",
    "    fluo_directory = os.path.join(image_directory,\"fluo\");\n",
    "    \n",
    "    process = subprocess.Popen([path_to_cellprofiler,\n",
    "                  \"--run-headless\",\n",
    "                  \"--pipeline={}\".format(path_to_fluo_pipeline),\n",
    "                  \"--file-list={}\".format(os.path.join(image_directory,\"fluo_list.txt\")),\n",
    "                  \"--image-directory={}\".format(image_directory),\n",
    "                  \"--output-directory={}\".format(fluo_directory)\n",
    "                 ], stdout=subprocess.PIPE, stderr=subprocess.PIPE, shell=True)\n",
    "\n",
    "    out, err = process.communicate()\n",
    "else:\n",
    "    pass;"
   ]
  },
  {
   "cell_type": "markdown",
   "metadata": {},
   "source": [
    "# skelProcessing\n",
    "\n",
    "## Make Skeleton filelist\n",
    "Include the paths to each label file that will also be processed by CellProfiler into a text file. If no fluorescent images were detected in the image directory, the phase_skeleton pipeline will be run."
   ]
  },
  {
   "cell_type": "code",
   "execution_count": 93,
   "metadata": {
    "collapsed": true
   },
   "outputs": [],
   "source": [
    "path_to_sk_pipeline = r\"C:\\Users\\Prakrith\\Documents\\GitHub\\Test\\pipelines\\Kyle_Skel.cppipe\""
   ]
  },
  {
   "cell_type": "code",
   "execution_count": 94,
   "metadata": {
    "collapsed": true
   },
   "outputs": [],
   "source": [
    "os.makedirs(os.path.join(image_directory, \"skeleton\"), exist_ok=True)\n",
    "skeleton_directory = os.path.join(image_directory,\"skeleton\");"
   ]
  },
  {
   "cell_type": "code",
   "execution_count": 95,
   "metadata": {
    "collapsed": true
   },
   "outputs": [],
   "source": [
    "imdir_pplt_label = os.path.join(output_directory,\"proplatelet_labels\");\n",
    "pplt_list = sorted_nicely(glob.glob(os.path.join(imdir_pplt_label,\"*.tiff\")));\n",
    "skel_list = single_list + pplt_list\n",
    "with open(os.path.join(image_directory,\"skel_list.txt\"), 'w') as f:\n",
    "    for item in skel_list:\n",
    "        f.write(\"{}\\n\".format(item))"
   ]
  },
  {
   "cell_type": "markdown",
   "metadata": {},
   "source": [
    "## (3) Skeleton Pipeline\n",
    "Use subprocess to run CellProfiler on the images/labels to be processed."
   ]
  },
  {
   "cell_type": "code",
   "execution_count": 96,
   "metadata": {
    "collapsed": true
   },
   "outputs": [],
   "source": [
    "process = subprocess.Popen([path_to_cellprofiler,\n",
    "                  \"--run-headless\",\n",
    "                  \"--pipeline={}\".format(path_to_sk_pipeline),\n",
    "                  \"--file-list={}\".format(os.path.join(image_directory,\"skel_list.txt\")),\n",
    "                  \"--image-directory={}\".format(image_directory),\n",
    "                  \"--output-directory={}\".format(skeleton_directory)\n",
    "                 ], stdout=subprocess.PIPE, stderr=subprocess.PIPE, shell=True)\n",
    "\n",
    "out, err = process.communicate()"
   ]
  },
  {
   "cell_type": "markdown",
   "metadata": {},
   "source": [
    "## Parse csvs for network analysis \n",
    "Proplatelet structures are measured from the following csvs generated by the Skeleton pipeline.\n",
    "\n",
    "    1 results_MaskedProtrusions\n",
    "    2 results_prot_seed (pplt seed points)\n",
    "    3 results_ppltobj"
   ]
  },
  {
   "cell_type": "code",
   "execution_count": 162,
   "metadata": {
    "collapsed": true
   },
   "outputs": [],
   "source": [
    "def skcsv(sk_dir,csv,header,columns):\n",
    "    csv = open(os.path.join(sk_dir,csv));\n",
    "    df = pandas.read_csv(csv, usecols = header, index_col = False);\n",
    "    df.columns = columns;\n",
    "    return df;"
   ]
  },
  {
   "cell_type": "code",
   "execution_count": 163,
   "metadata": {
    "collapsed": true
   },
   "outputs": [],
   "source": [
    "mp_head = [\"Location_Center_X\",\"Location_Center_Y\",\"Parent_ppltobj\"]; #MaskedProtrusions; \"Parent_protrusions\"\n",
    "mp_columns = [\"Masked_Protrusion_X\",\"Masked_Protrusion_Y\",\"Parent_ppltobj\"];\n",
    "mp_df = skcsv(skeleton_directory,'results_MaskedProtrusions.csv',mp_head,mp_columns);"
   ]
  },
  {
   "cell_type": "code",
   "execution_count": 164,
   "metadata": {
    "collapsed": true
   },
   "outputs": [],
   "source": [
    "ps_head = ['ImageNumber', 'ObjectNumber', 'Metadata_time', 'Location_Center_X', #protrusion_seeds\n",
    "       'Location_Center_Y',\n",
    "       'ObjectSkeleton_NumberBranchEnds_MaskedProtrusionsImage',\n",
    "       'ObjectSkeleton_NumberNonTrunkBranches_MaskedProtrusionsImage',\n",
    "       'ObjectSkeleton_NumberTrunks_MaskedProtrusionsImage',\n",
    "       'ObjectSkeleton_TotalObjectSkeletonLength_MaskedProtrusionsImage'];\n",
    "\n",
    "ps_columns = ['ImageNumber', 'ObjectNumber', 'Timepoint',\n",
    "              'ProtrusionSeed_X', 'ProtrusionSeed_Y',\n",
    "              'NumEndpointsBlue', 'NumBranchGreen', 'NumTrunksRed',\n",
    "              'TotalObjLength'];\n",
    "\n",
    "ps_df = skcsv(skeleton_directory,'results_prot_seed.csv',ps_head,ps_columns);\n",
    "\n",
    "def i(x):\n",
    "    return (x[5] + x[6] + x[7]);\n",
    "\n",
    "x = ps_df.apply(i,axis=1);\n",
    "ps_df['TotalNodes'] = x;\n",
    "ps_df = ps_df.add(mp_df,axis='columns',fill_value=0);\n",
    "ps_df.to_csv(os.path.join(skeleton_directory,'Raw_Skel.csv'));"
   ]
  },
  {
   "cell_type": "code",
   "execution_count": 165,
   "metadata": {
    "collapsed": true
   },
   "outputs": [],
   "source": [
    "po_head = ['ImageNumber', 'ObjectNumber', 'Metadata_time',     #ppltobj\n",
    "       'Children_MaskedProtrusions_Count', 'Location_Center_X',\n",
    "       'Location_Center_Y', 'Mean_MaskedProtrusions_Location_Center_X',\n",
    "       'Mean_MaskedProtrusions_Location_Center_Y',\n",
    "       'Mean_MaskedProtrusions_Number_Object_Number'];\n",
    "\n",
    "po_columns = ['ImageNumber', 'ObjectNumber', 'Timepoint', \n",
    "              'MaskedProtrusionCount', 'PpltObj_X', 'PpltObj_Y', \n",
    "              'MeanPpltObj_X', 'MeanPpltObj_Y', \n",
    "              'MeanMaskedProtrusionsNumber'];\n",
    "\n",
    "po_df = skcsv(skeleton_directory,'results_ppltobj.csv',po_head,po_columns);\n",
    "po_df.to_csv(os.path.join(skeleton_directory,'PpltObj.csv'));"
   ]
  },
  {
   "cell_type": "markdown",
   "metadata": {},
   "source": [
    "# NetworkX\n",
    "\n",
    "This python program is used to construct graphs to model proplatelet structures from the edges & vertices csvs."
   ]
  },
  {
   "cell_type": "markdown",
   "metadata": {},
   "source": [
    "- The edge list is a simple data structure that you'll use to create the graph. Each row represents a single edge of the graph with some edge attributes.\n",
    "- Node lists are usually optional in networkx and other graph libraries when edge lists are provided because the node names are provided in the edge list's first two columns. However, in this case, there are some node attributes that we'd like to add."
   ]
  },
  {
   "cell_type": "code",
   "execution_count": 262,
   "metadata": {
    "collapsed": true
   },
   "outputs": [],
   "source": [
    "vertices_csv = open(os.path.join(skeleton_directory,r'vertices.csv'));\n",
    "v_df = pandas.read_csv(vertices_csv);\n",
    "v_df.columns = ['image_number', 'vertex_number','y','x','labels','kind'];#rename i,j to y,x\n",
    "v_df = v_df[['vertex_number', 'x','y','labels', 'kind','image_number']];#swap y,x to x,y in vertices_csv\n",
    "v_df.columns = ['Node','x','y','Labels','Kind','ImageNumber'];#rename i,j to y,x\n",
    "v_df.to_csv(os.path.join(skeleton_directory,'Vert.csv')); #nodelist (optional w/ edgelist, adds more hashable attributes)"
   ]
  },
  {
   "cell_type": "code",
   "execution_count": 263,
   "metadata": {
    "collapsed": true
   },
   "outputs": [],
   "source": [
    "edges_csv = open(os.path.join(skeleton_directory,r'edges.csv'));\n",
    "header = ['image_number', 'v1', 'v2', 'length'];\n",
    "e_df = pandas.read_csv(edges_csv, usecols = header, index_col = False);\n",
    "e_df.columns = ['ImageNumber', 'Node_1', 'Node_2', 'Distance'];\n",
    "e_df = e_df[['Node_1','Node_2','Distance','ImageNumber']];\n",
    "e_df.to_csv(os.path.join(skeleton_directory,'Edge.csv')); #edgelist"
   ]
  },
  {
   "cell_type": "code",
   "execution_count": 289,
   "metadata": {
    "collapsed": true
   },
   "outputs": [],
   "source": [
    "im=1\n",
    "obj=1"
   ]
  },
  {
   "cell_type": "code",
   "execution_count": 290,
   "metadata": {
    "collapsed": true
   },
   "outputs": [],
   "source": [
    "def imslc(df,im): #edgelist/nodelist df,imagenum; slice edgelist by imagenumber\n",
    "    df = df[df[\"ImageNumber\"]==im]\n",
    "#     del df['ImageNumber']\n",
    "    return df;\n",
    "\n",
    "edgelist = imslc(e_df,im)\n",
    "nodelist = imslc(v_df,im) #Use these lists for all ppltobjs in image"
   ]
  },
  {
   "cell_type": "code",
   "execution_count": 279,
   "metadata": {
    "collapsed": true
   },
   "outputs": [],
   "source": [
    "def labelList(df,im,obj): #df=ps_df,imnum,objnum\n",
    "    df1 = df[df[\"ImageNumber\"]==im]\n",
    "    df2 = df1[df1['Parent_ppltobj']==obj]\n",
    "    return list(df2[\"ObjectNumber\"].unique());\n",
    "\n",
    "l = labelList(ps_df,im,obj);\n",
    "a = [int(i) for i in l];\n",
    "a[:] = [x - 1 for x in a];\n",
    "nodelist = nodelist[nodelist.Labels.isin(a)];\n",
    "b = list(nodelist[\"Node\"]);\n",
    "# b[:] = [x - 1 for x in b]\n",
    "edgelist = edgelist[edgelist.Node_2.isin(b)]; #Slice the edgelist further by label -> 1 ppltobj per graph"
   ]
  },
  {
   "cell_type": "code",
   "execution_count": 293,
   "metadata": {
    "collapsed": true
   },
   "outputs": [],
   "source": [
    "def skelPlot(edge,node): #edgelist,nodelist\n",
    "#     g = nx.DiGraph();\n",
    "    g = nx.Graph();\n",
    "    \n",
    "    # Add edges and attributes\n",
    "    for i, elrow in edge.iterrows():\n",
    "        g.add_edge(elrow[0], elrow[1], attr_dict=elrow[2:].to_dict())\n",
    "    \n",
    "    # Add node attributes\n",
    "    for i, nlrow in nodelist.iterrows():\n",
    "        try:\n",
    "            g.node[nlrow['Node']].update(nlrow[1:].to_dict())\n",
    "        except KeyError:\n",
    "            pass\n",
    "        \n",
    "    # Define node positions dict for plotting    \n",
    "    node_positions = {node[0]: (node[1]['x'], -node[1]['y']) for node in g.nodes(data=True)}\n",
    "    \n",
    "    color_map = []\n",
    "    for node in g:\n",
    "        if g.node[node]['Kind'] == 'E': #Endpoints changed from blue to red\n",
    "            color_map.append('red')\n",
    "#         elif g.node[node]['Kind'] == 'B': \n",
    "#             color_map.append('green')\n",
    "        else:\n",
    "            color_map.append('black') #Make all nodes except endpoints black\n",
    "                \n",
    "    plt.figure(figsize=(8, 12))\n",
    "    nx.draw(g, pos=node_positions,node_size=7, node_color = color_map)#,with_labels = True)\n",
    "    plt.title(\"Test\", size=15)\n",
    "    plt.show()\n",
    "    return g;"
   ]
  },
  {
   "cell_type": "code",
   "execution_count": 294,
   "metadata": {
    "scrolled": false
   },
   "outputs": [
    {
     "data": {
      "image/png": "[encoded data removed]",
      "text/plain": [
       "<Figure size 576x864 with 1 Axes>"
      ]
     },
     "metadata": {},
     "output_type": "display_data"
    }
   ],
   "source": [
    "g = skelPlot(edgelist,nodelist); #Are trunk connection distances=3?"
   ]
  },
  {
   "cell_type": "code",
   "execution_count": null,
   "metadata": {
    "collapsed": true
   },
   "outputs": [],
   "source": [
    "spl=nx.all_pairs_dijkstra_path_length(g) \n",
    "for n in spl:\n",
    "     print(n[1]) "
   ]
  },
  {
   "cell_type": "code",
   "execution_count": null,
   "metadata": {
    "collapsed": true
   },
   "outputs": [],
   "source": [
    "sp=networkx.all_pairs_dijkstra_path(g) \n",
    "for n in sp:\n",
    "     print(n[1]) "
   ]
  },
  {
   "cell_type": "code",
   "execution_count": null,
   "metadata": {
    "collapsed": true
   },
   "outputs": [],
   "source": [
    "x = input('First Node: ')\n",
    "y = input('Second Node: ')"
   ]
  },
  {
   "cell_type": "code",
   "execution_count": null,
   "metadata": {
    "collapsed": true
   },
   "outputs": [],
   "source": [
    "paths = nx.all_shortest_paths(g, x, y)\n",
    "\n",
    "for path in paths:\n",
    "    total_length = 0\n",
    "    for i in range(len(path)-1):\n",
    "        source, target = path[i], path[i+1]\n",
    "        edge = g[source][target]\n",
    "        length = edge['length']\n",
    "        total_length += length\n",
    "    print('{}: {}'.format(path, total_length))"
   ]
  },
  {
   "cell_type": "code",
   "execution_count": null,
   "metadata": {
    "collapsed": true
   },
   "outputs": [],
   "source": [
    "spl=nx.all_pairs_dijkstra_path_length(g)\n",
    "for n in spl:\n",
    "     print(n[1]) "
   ]
  },
  {
   "cell_type": "code",
   "execution_count": null,
   "metadata": {
    "collapsed": true
   },
   "outputs": [],
   "source": [
    "po_csv = open(os.path.join(skeleton_directory,r'PpltObj.csv'));\n",
    "header = [\"ImageNumber\",'ObjectNumber', \"PpltObj_X\", \"PpltObj_Y\"];\n",
    "po_df = pandas.read_csv(po_csv, usecols = header, index_col = False);\n",
    "\n",
    "def centroid(po,i): #ppltobj csv,image #\n",
    "    x = po[po[\"ImageNumber\"] == i]; #slice ppltobj.csv by ImageNumber\n",
    "    del x[\"ImageNumber\"];\n",
    "    x = x.set_index('ObjectNumber').T.to_dict('list')\n",
    "    return x;\n",
    "\n",
    "centroid(po_df,6) #x[1] x[1][0] ->dict slicing"
   ]
  }
 ],
 "metadata": {
  "kernelspec": {
   "display_name": "Python [conda env:bioimg]",
   "language": "python",
   "name": "conda-env-bioimg-py"
  },
  "language_info": {
   "codemirror_mode": {
    "name": "ipython",
    "version": 3
   },
   "file_extension": ".py",
   "mimetype": "text/x-python",
   "name": "python",
   "nbconvert_exporter": "python",
   "pygments_lexer": "ipython3",
   "version": "3.6.5"
  }
 },
 "nbformat": 4,
 "nbformat_minor": 2
}
