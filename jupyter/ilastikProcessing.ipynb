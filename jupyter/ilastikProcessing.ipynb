{
 "cells": [
  {
   "cell_type": "code",
   "execution_count": 1,
   "metadata": {
    "collapsed": true
   },
   "outputs": [],
   "source": [
    "%matplotlib inline\n",
    "import numpy\n",
    "import os\n",
    "import os.path\n",
    "import pandas\n",
    "import re\n",
    "import skimage\n",
    "import skimage.io"
   ]
  },
  {
   "cell_type": "code",
   "execution_count": 2,
   "metadata": {},
   "outputs": [],
   "source": [
    "image_directory =r\"C:\\Users\\karhohs\\Downloads\\wetransfer-54e119\"\n",
    "regex_image = \"(.*)\\.tif\""
   ]
  },
  {
   "cell_type": "code",
   "execution_count": 3,
   "metadata": {
    "collapsed": true
   },
   "outputs": [],
   "source": [
    "re_image = re.compile(regex_image)"
   ]
  },
  {
   "cell_type": "code",
   "execution_count": 4,
   "metadata": {
    "collapsed": true
   },
   "outputs": [],
   "source": [
    "def is_my_file(filename, re_obj):\n",
    "    \n",
    "    mybool = False\n",
    "    \n",
    "    if re_obj.match(filename) is not None:\n",
    "        \n",
    "        mybool = True\n",
    "        \n",
    "    return mybool\n",
    "def make_dict(filename, path, re_obj):\n",
    "    \n",
    "    my_dict = re_obj.match(filename).groupdict()\n",
    "    \n",
    "    my_dict[\"filename\"] = filename\n",
    "    \n",
    "    my_dict[\"path\"] = path\n",
    "    \n",
    "    return my_dict"
   ]
  },
  {
   "cell_type": "code",
   "execution_count": 5,
   "metadata": {
    "collapsed": true
   },
   "outputs": [],
   "source": [
    "image_files_dict = [make_dict(f, image_directory, re_image) for f in os.listdir(image_directory) if is_my_file(f, re_image)]"
   ]
  },
  {
   "cell_type": "code",
   "execution_count": 6,
   "metadata": {},
   "outputs": [
    {
     "data": {
      "text/plain": [
       "[{'filename': '161212_Inhibitors_C1_1-0000.tif',\n",
       "  'path': 'C:\\\\Users\\\\karhohs\\\\Downloads\\\\wetransfer-54e119'},\n",
       " {'filename': '161212_Inhibitors_C1_1-0001.tif',\n",
       "  'path': 'C:\\\\Users\\\\karhohs\\\\Downloads\\\\wetransfer-54e119'},\n",
       " {'filename': '161212_Inhibitors_C1_1-0002.tif',\n",
       "  'path': 'C:\\\\Users\\\\karhohs\\\\Downloads\\\\wetransfer-54e119'},\n",
       " {'filename': '161212_Inhibitors_C1_1-0003.tif',\n",
       "  'path': 'C:\\\\Users\\\\karhohs\\\\Downloads\\\\wetransfer-54e119'},\n",
       " {'filename': '161212_Inhibitors_C1_1-0004.tif',\n",
       "  'path': 'C:\\\\Users\\\\karhohs\\\\Downloads\\\\wetransfer-54e119'},\n",
       " {'filename': '161212_Inhibitors_C1_1-0005.tif',\n",
       "  'path': 'C:\\\\Users\\\\karhohs\\\\Downloads\\\\wetransfer-54e119'},\n",
       " {'filename': '161212_Inhibitors_C1_1-0006.tif',\n",
       "  'path': 'C:\\\\Users\\\\karhohs\\\\Downloads\\\\wetransfer-54e119'},\n",
       " {'filename': '161212_Inhibitors_C1_1-0007.tif',\n",
       "  'path': 'C:\\\\Users\\\\karhohs\\\\Downloads\\\\wetransfer-54e119'},\n",
       " {'filename': '161212_Inhibitors_C1_1-0008.tif',\n",
       "  'path': 'C:\\\\Users\\\\karhohs\\\\Downloads\\\\wetransfer-54e119'},\n",
       " {'filename': '161212_Inhibitors_C1_1-0009.tif',\n",
       "  'path': 'C:\\\\Users\\\\karhohs\\\\Downloads\\\\wetransfer-54e119'},\n",
       " {'filename': '161212_Inhibitors_C1_1-0010.tif',\n",
       "  'path': 'C:\\\\Users\\\\karhohs\\\\Downloads\\\\wetransfer-54e119'},\n",
       " {'filename': '161212_Inhibitors_C1_1-0011.tif',\n",
       "  'path': 'C:\\\\Users\\\\karhohs\\\\Downloads\\\\wetransfer-54e119'},\n",
       " {'filename': '161212_Inhibitors_C1_1-0012.tif',\n",
       "  'path': 'C:\\\\Users\\\\karhohs\\\\Downloads\\\\wetransfer-54e119'},\n",
       " {'filename': '161212_Inhibitors_C1_1-0013.tif',\n",
       "  'path': 'C:\\\\Users\\\\karhohs\\\\Downloads\\\\wetransfer-54e119'},\n",
       " {'filename': '161212_Inhibitors_C1_1-0014.tif',\n",
       "  'path': 'C:\\\\Users\\\\karhohs\\\\Downloads\\\\wetransfer-54e119'},\n",
       " {'filename': '161212_Inhibitors_C1_1-0015.tif',\n",
       "  'path': 'C:\\\\Users\\\\karhohs\\\\Downloads\\\\wetransfer-54e119'},\n",
       " {'filename': '161212_Inhibitors_C1_1-0016.tif',\n",
       "  'path': 'C:\\\\Users\\\\karhohs\\\\Downloads\\\\wetransfer-54e119'},\n",
       " {'filename': '161212_Inhibitors_C1_1-0017.tif',\n",
       "  'path': 'C:\\\\Users\\\\karhohs\\\\Downloads\\\\wetransfer-54e119'},\n",
       " {'filename': '161212_Inhibitors_C1_1-0018.tif',\n",
       "  'path': 'C:\\\\Users\\\\karhohs\\\\Downloads\\\\wetransfer-54e119'},\n",
       " {'filename': '161212_Inhibitors_C1_1-0019.tif',\n",
       "  'path': 'C:\\\\Users\\\\karhohs\\\\Downloads\\\\wetransfer-54e119'},\n",
       " {'filename': '161212_Inhibitors_C1_1-0020.tif',\n",
       "  'path': 'C:\\\\Users\\\\karhohs\\\\Downloads\\\\wetransfer-54e119'},\n",
       " {'filename': '161212_Inhibitors_C1_1-0021.tif',\n",
       "  'path': 'C:\\\\Users\\\\karhohs\\\\Downloads\\\\wetransfer-54e119'},\n",
       " {'filename': '161212_Inhibitors_C1_1-0022.tif',\n",
       "  'path': 'C:\\\\Users\\\\karhohs\\\\Downloads\\\\wetransfer-54e119'},\n",
       " {'filename': '161212_Inhibitors_C1_1-0023.tif',\n",
       "  'path': 'C:\\\\Users\\\\karhohs\\\\Downloads\\\\wetransfer-54e119'},\n",
       " {'filename': '161212_Inhibitors_C1_1-0024.tif',\n",
       "  'path': 'C:\\\\Users\\\\karhohs\\\\Downloads\\\\wetransfer-54e119'},\n",
       " {'filename': '161212_Inhibitors_C1_1-0025.tif',\n",
       "  'path': 'C:\\\\Users\\\\karhohs\\\\Downloads\\\\wetransfer-54e119'},\n",
       " {'filename': '161212_Inhibitors_C1_1.tif',\n",
       "  'path': 'C:\\\\Users\\\\karhohs\\\\Downloads\\\\wetransfer-54e119'},\n",
       " {'filename': '161212_Inhibitors_C1_2.tif',\n",
       "  'path': 'C:\\\\Users\\\\karhohs\\\\Downloads\\\\wetransfer-54e119'},\n",
       " {'filename': '161212_Inhibitors_C1_3.tif',\n",
       "  'path': 'C:\\\\Users\\\\karhohs\\\\Downloads\\\\wetransfer-54e119'},\n",
       " {'filename': '161212_Inhibitors_C1_4.tif',\n",
       "  'path': 'C:\\\\Users\\\\karhohs\\\\Downloads\\\\wetransfer-54e119'},\n",
       " {'filename': '161212_Inhibitors_C2_1.tif',\n",
       "  'path': 'C:\\\\Users\\\\karhohs\\\\Downloads\\\\wetransfer-54e119'},\n",
       " {'filename': '161212_Inhibitors_C2_2.tif',\n",
       "  'path': 'C:\\\\Users\\\\karhohs\\\\Downloads\\\\wetransfer-54e119'},\n",
       " {'filename': '161212_Inhibitors_C2_3.tif',\n",
       "  'path': 'C:\\\\Users\\\\karhohs\\\\Downloads\\\\wetransfer-54e119'},\n",
       " {'filename': '161212_Inhibitors_C2_4.tif',\n",
       "  'path': 'C:\\\\Users\\\\karhohs\\\\Downloads\\\\wetransfer-54e119'},\n",
       " {'filename': '161212_Inhibitors_C3_1.tif',\n",
       "  'path': 'C:\\\\Users\\\\karhohs\\\\Downloads\\\\wetransfer-54e119'},\n",
       " {'filename': '161212_Inhibitors_C3_2.tif',\n",
       "  'path': 'C:\\\\Users\\\\karhohs\\\\Downloads\\\\wetransfer-54e119'},\n",
       " {'filename': '161212_Inhibitors_C3_3.tif',\n",
       "  'path': 'C:\\\\Users\\\\karhohs\\\\Downloads\\\\wetransfer-54e119'},\n",
       " {'filename': '161212_Inhibitors_C3_4.tif',\n",
       "  'path': 'C:\\\\Users\\\\karhohs\\\\Downloads\\\\wetransfer-54e119'},\n",
       " {'filename': '161212_Inhibitors_C4_1.tif',\n",
       "  'path': 'C:\\\\Users\\\\karhohs\\\\Downloads\\\\wetransfer-54e119'},\n",
       " {'filename': '161212_Inhibitors_C4_2.tif',\n",
       "  'path': 'C:\\\\Users\\\\karhohs\\\\Downloads\\\\wetransfer-54e119'},\n",
       " {'filename': '161212_Inhibitors_C4_3.tif',\n",
       "  'path': 'C:\\\\Users\\\\karhohs\\\\Downloads\\\\wetransfer-54e119'},\n",
       " {'filename': '161212_Inhibitors_C4_4.tif',\n",
       "  'path': 'C:\\\\Users\\\\karhohs\\\\Downloads\\\\wetransfer-54e119'}]"
      ]
     },
     "execution_count": 6,
     "metadata": {},
     "output_type": "execute_result"
    }
   ],
   "source": [
    "image_files_dict"
   ]
  },
  {
   "cell_type": "code",
   "execution_count": 7,
   "metadata": {
    "collapsed": true
   },
   "outputs": [],
   "source": [
    "image_df = pandas.DataFrame(image_files_dict)"
   ]
  },
  {
   "cell_type": "code",
   "execution_count": 8,
   "metadata": {
    "collapsed": true
   },
   "outputs": [],
   "source": [
    "def df_stack_image(p):\n",
    "    \n",
    "    im = skimage.io.imread(os.path.join(p[\"path\"], p[\"filename\"]))\n",
    "    \n",
    "    number_of_timepoints = im.shape[0]\n",
    "    \n",
    "    for i in range(number_of_timepoints):\n",
    "        \n",
    "        retest = re_image.match(p[\"filename\"])\n",
    "\n",
    "        retest.group(1)\n",
    "        \n",
    "        fname = \"{0}-{1:04d}.tif\".format(retest.group(1), i)\n",
    "        \n",
    "        skimage.io.imsave(os.path.join(p[\"path\"], fname), im[i,:,:,:])"
   ]
  },
  {
   "cell_type": "code",
   "execution_count": 9,
   "metadata": {
    "scrolled": true
   },
   "outputs": [
    {
     "ename": "IndexError",
     "evalue": "('too many indices for array', 'occurred at index 0')",
     "output_type": "error",
     "traceback": [
      "\u001b[1;31m---------------------------------------------------------------------------\u001b[0m",
      "\u001b[1;31mIndexError\u001b[0m                                Traceback (most recent call last)",
      "\u001b[1;32m<ipython-input-9-a73bccbc2c73>\u001b[0m in \u001b[0;36m<module>\u001b[1;34m()\u001b[0m\n\u001b[1;32m----> 1\u001b[1;33m \u001b[0m_\u001b[0m \u001b[1;33m=\u001b[0m \u001b[0mimage_df\u001b[0m\u001b[1;33m.\u001b[0m\u001b[0mapply\u001b[0m\u001b[1;33m(\u001b[0m\u001b[0mdf_stack_image\u001b[0m\u001b[1;33m,\u001b[0m \u001b[0maxis\u001b[0m\u001b[1;33m=\u001b[0m\u001b[1;36m1\u001b[0m\u001b[1;33m)\u001b[0m\u001b[1;33m\u001b[0m\u001b[0m\n\u001b[0m",
      "\u001b[1;32mC:\\Users\\karhohs\\AppData\\Local\\Continuum\\Miniconda3\\envs\\bioimg\\lib\\site-packages\\pandas\\core\\frame.py\u001b[0m in \u001b[0;36mapply\u001b[1;34m(self, func, axis, broadcast, raw, reduce, args, **kwds)\u001b[0m\n\u001b[0;32m   4260\u001b[0m                         \u001b[0mf\u001b[0m\u001b[1;33m,\u001b[0m \u001b[0maxis\u001b[0m\u001b[1;33m,\u001b[0m\u001b[1;33m\u001b[0m\u001b[0m\n\u001b[0;32m   4261\u001b[0m                         \u001b[0mreduce\u001b[0m\u001b[1;33m=\u001b[0m\u001b[0mreduce\u001b[0m\u001b[1;33m,\u001b[0m\u001b[1;33m\u001b[0m\u001b[0m\n\u001b[1;32m-> 4262\u001b[1;33m                         ignore_failures=ignore_failures)\n\u001b[0m\u001b[0;32m   4263\u001b[0m             \u001b[1;32melse\u001b[0m\u001b[1;33m:\u001b[0m\u001b[1;33m\u001b[0m\u001b[0m\n\u001b[0;32m   4264\u001b[0m                 \u001b[1;32mreturn\u001b[0m \u001b[0mself\u001b[0m\u001b[1;33m.\u001b[0m\u001b[0m_apply_broadcast\u001b[0m\u001b[1;33m(\u001b[0m\u001b[0mf\u001b[0m\u001b[1;33m,\u001b[0m \u001b[0maxis\u001b[0m\u001b[1;33m)\u001b[0m\u001b[1;33m\u001b[0m\u001b[0m\n",
      "\u001b[1;32mC:\\Users\\karhohs\\AppData\\Local\\Continuum\\Miniconda3\\envs\\bioimg\\lib\\site-packages\\pandas\\core\\frame.py\u001b[0m in \u001b[0;36m_apply_standard\u001b[1;34m(self, func, axis, ignore_failures, reduce)\u001b[0m\n\u001b[0;32m   4356\u001b[0m             \u001b[1;32mtry\u001b[0m\u001b[1;33m:\u001b[0m\u001b[1;33m\u001b[0m\u001b[0m\n\u001b[0;32m   4357\u001b[0m                 \u001b[1;32mfor\u001b[0m \u001b[0mi\u001b[0m\u001b[1;33m,\u001b[0m \u001b[0mv\u001b[0m \u001b[1;32min\u001b[0m \u001b[0menumerate\u001b[0m\u001b[1;33m(\u001b[0m\u001b[0mseries_gen\u001b[0m\u001b[1;33m)\u001b[0m\u001b[1;33m:\u001b[0m\u001b[1;33m\u001b[0m\u001b[0m\n\u001b[1;32m-> 4358\u001b[1;33m                     \u001b[0mresults\u001b[0m\u001b[1;33m[\u001b[0m\u001b[0mi\u001b[0m\u001b[1;33m]\u001b[0m \u001b[1;33m=\u001b[0m \u001b[0mfunc\u001b[0m\u001b[1;33m(\u001b[0m\u001b[0mv\u001b[0m\u001b[1;33m)\u001b[0m\u001b[1;33m\u001b[0m\u001b[0m\n\u001b[0m\u001b[0;32m   4359\u001b[0m                     \u001b[0mkeys\u001b[0m\u001b[1;33m.\u001b[0m\u001b[0mappend\u001b[0m\u001b[1;33m(\u001b[0m\u001b[0mv\u001b[0m\u001b[1;33m.\u001b[0m\u001b[0mname\u001b[0m\u001b[1;33m)\u001b[0m\u001b[1;33m\u001b[0m\u001b[0m\n\u001b[0;32m   4360\u001b[0m             \u001b[1;32mexcept\u001b[0m \u001b[0mException\u001b[0m \u001b[1;32mas\u001b[0m \u001b[0me\u001b[0m\u001b[1;33m:\u001b[0m\u001b[1;33m\u001b[0m\u001b[0m\n",
      "\u001b[1;32m<ipython-input-8-5767a3b5ad72>\u001b[0m in \u001b[0;36mdf_stack_image\u001b[1;34m(p)\u001b[0m\n\u001b[0;32m     13\u001b[0m         \u001b[0mfname\u001b[0m \u001b[1;33m=\u001b[0m \u001b[1;34m\"{0}-{1:04d}.tif\"\u001b[0m\u001b[1;33m.\u001b[0m\u001b[0mformat\u001b[0m\u001b[1;33m(\u001b[0m\u001b[0mretest\u001b[0m\u001b[1;33m.\u001b[0m\u001b[0mgroup\u001b[0m\u001b[1;33m(\u001b[0m\u001b[1;36m1\u001b[0m\u001b[1;33m)\u001b[0m\u001b[1;33m,\u001b[0m \u001b[0mi\u001b[0m\u001b[1;33m)\u001b[0m\u001b[1;33m\u001b[0m\u001b[0m\n\u001b[0;32m     14\u001b[0m \u001b[1;33m\u001b[0m\u001b[0m\n\u001b[1;32m---> 15\u001b[1;33m         \u001b[0mskimage\u001b[0m\u001b[1;33m.\u001b[0m\u001b[0mio\u001b[0m\u001b[1;33m.\u001b[0m\u001b[0mimsave\u001b[0m\u001b[1;33m(\u001b[0m\u001b[0mos\u001b[0m\u001b[1;33m.\u001b[0m\u001b[0mpath\u001b[0m\u001b[1;33m.\u001b[0m\u001b[0mjoin\u001b[0m\u001b[1;33m(\u001b[0m\u001b[0mp\u001b[0m\u001b[1;33m[\u001b[0m\u001b[1;34m\"path\"\u001b[0m\u001b[1;33m]\u001b[0m\u001b[1;33m,\u001b[0m \u001b[0mfname\u001b[0m\u001b[1;33m)\u001b[0m\u001b[1;33m,\u001b[0m \u001b[0mim\u001b[0m\u001b[1;33m[\u001b[0m\u001b[0mi\u001b[0m\u001b[1;33m,\u001b[0m\u001b[1;33m:\u001b[0m\u001b[1;33m,\u001b[0m\u001b[1;33m:\u001b[0m\u001b[1;33m,\u001b[0m\u001b[1;33m:\u001b[0m\u001b[1;33m]\u001b[0m\u001b[1;33m)\u001b[0m\u001b[1;33m\u001b[0m\u001b[0m\n\u001b[0m",
      "\u001b[1;31mIndexError\u001b[0m: ('too many indices for array', 'occurred at index 0')"
     ]
    }
   ],
   "source": [
    "_ = image_df.apply(df_stack_image, axis=1)"
   ]
  },
  {
   "cell_type": "code",
   "execution_count": null,
   "metadata": {
    "collapsed": true
   },
   "outputs": [],
   "source": []
  }
 ],
 "metadata": {
  "kernelspec": {
   "display_name": "Python 3",
   "language": "python",
   "name": "python3"
  },
  "language_info": {
   "codemirror_mode": {
    "name": "ipython",
    "version": 3
   },
   "file_extension": ".py",
   "mimetype": "text/x-python",
   "name": "python",
   "nbconvert_exporter": "python",
   "pygments_lexer": "ipython3",
   "version": "3.6.2"
  }
 },
 "nbformat": 4,
 "nbformat_minor": 2
}
